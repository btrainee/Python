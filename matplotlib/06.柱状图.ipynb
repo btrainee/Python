{
 "cells": [
  {
   "cell_type": "code",
   "execution_count": 1,
   "metadata": {
    "collapsed": true
   },
   "outputs": [],
   "source": [
    "import matplotlib.pyplot as plt\n",
    "import numpy as np"
   ]
  },
  {
   "cell_type": "code",
   "execution_count": 9,
   "metadata": {
    "collapsed": true
   },
   "outputs": [],
   "source": [
    "man = 8763\n",
    "woman = 7987\n",
    "man_perc = man/(man+woman)\n",
    "woman_perc = woman/(man+woman)\n",
    "labels = [\"男\",\"女\"]"
   ]
  },
  {
   "cell_type": "code",
   "execution_count": 19,
   "metadata": {
    "collapsed": false
   },
   "outputs": [
    {
     "data": {
      "image/png": "[encoded data removed]",
      "text/plain": [
       "<matplotlib.figure.Figure at 0x18ad91a93c8>"
      ]
     },
     "metadata": {},
     "output_type": "display_data"
    }
   ],
   "source": [
    "paches,texts,autotexts=plt.pie([man_perc,woman_perc],labels=labels,colors=[\"green\",\"yellow\"],explode=(0,0.05),autopct='%0.1f%%')\n",
    "plt.rcParams['font.sans-serif']=['SimHei'] # matplotlib默认不支持中文，添加此行用来正常显示中文标签\n",
    "\n",
    "#设置饼状图中的字体颜色\n",
    "for text in autotexts:\n",
    "    text.set_color('white')\n",
    "#设置字体大小\n",
    "for text in texts+autotexts:\n",
    "    text.set_fontsize(20)\n",
    "plt.show()"
   ]
  },
  {
   "cell_type": "code",
   "execution_count": 20,
   "metadata": {
    "collapsed": false
   },
   "outputs": [
    {
     "name": "stdout",
     "output_type": "stream",
     "text": [
      "2\n",
      "3\n",
      "4\n",
      "5\n",
      "6\n",
      "a\n",
      "b\n",
      "c\n",
      "d\n",
      "e\n"
     ]
    }
   ],
   "source": [
    "list1 = [2,3,4,5,6]\n",
    "list2 = [\"a\",\"b\",\"c\",\"d\",\"e\"]\n",
    "for i in list1+list2:\n",
    "    print (i)"
   ]
  },
  {
   "cell_type": "code",
   "execution_count": null,
   "metadata": {
    "collapsed": true
   },
   "outputs": [],
   "source": []
  }
 ],
 "metadata": {
  "kernelspec": {
   "display_name": "Python 3",
   "language": "python",
   "name": "python3"
  },
  "language_info": {
   "codemirror_mode": {
    "name": "ipython",
    "version": 3
   },
   "file_extension": ".py",
   "mimetype": "text/x-python",
   "name": "python",
   "nbconvert_exporter": "python",
   "pygments_lexer": "ipython3",
   "version": "3.6.0"
  }
 },
 "nbformat": 4,
 "nbformat_minor": 2
}
