{
 "cells": [
  {
   "cell_type": "code",
   "execution_count": 34,
   "metadata": {
    "execution": {
     "iopub.execute_input": "2021-10-24T04:58:50.229312Z",
     "iopub.status.busy": "2021-10-24T04:58:50.228313Z",
     "iopub.status.idle": "2021-10-24T04:58:50.729869Z",
     "shell.execute_reply": "2021-10-24T04:58:50.727712Z",
     "shell.execute_reply.started": "2021-10-24T04:58:50.229312Z"
    },
    "tags": []
   },
   "outputs": [],
   "source": [
    "import matplotlib.pyplot as plt\n",
    "import numpy as np\n",
    "import pandas as pd"
   ]
  },
  {
   "cell_type": "markdown",
   "metadata": {},
   "source": [
    "plt.hist(x, bins=None, range=None, density=None, weights=None, cumulative=False, bottom=None, histtype='bar', align='mid', orientation='vertical', rwidth=None, log=False, color=None, label=None, stacked=False, normed=None)\n",
    "\n",
    "- x：指定要绘制直方图的数据；输入值，这需要一个数组或者一个序列，不需要长度相同的数组。\n",
    "- bins：指定直方图条形的个数；\n",
    "- range：指定直方图数据的上下界，默认包含绘图数据的最大值和最小值；\n",
    "- density：布尔,可选。如果\"True\"，返回元组的第一个元素将会将计数标准化以形成一个概率密度，也就是说，直方图下的面积（或积分）总和为1。这是通过将计数除以数字的数量来实现的观察乘以箱子的宽度而不是除以总数数量的观察。如果叠加也是“真实”的，那么柱状图被规范化为1。(替代normed)\n",
    "- weights：该参数可为每一个数据点设置权重；\n",
    "- cumulative：是否需要计算累计频数或频率；\n",
    "- bottom：可以为直方图的每个条形添加基准线，默认为0；\n",
    "- histtype：指定直方图的类型，默认为bar，除此还有’barstacked’, ‘step’, ‘stepfilled’；\n",
    "- align：设置条形边界值的对其方式，默认为mid，除此还有’left’和’right’；\n",
    "- orientation：设置直方图的摆放方向，默认为垂直方向；\n",
    "- rwidth：设置直方图条形宽度的百分比；\n",
    "- log：是否需要对绘图数据进行log变换；\n",
    "- color：设置直方图的填充色；\n",
    "- label：设置直方图的标签，可通过legend展示其图例；\n",
    "- stacked：当有多个数据时，是否需要将直方图呈堆叠摆放，默认水平摆放；\n",
    "- normed：是否将直方图的频数转换成频率；(弃用，被density替代)\n",
    "- alpha：透明度，浮点数。"
   ]
  },
  {
   "cell_type": "code",
   "execution_count": 2,
   "metadata": {
    "execution": {
     "iopub.execute_input": "2021-10-24T04:27:03.573023Z",
     "iopub.status.busy": "2021-10-24T04:27:03.573023Z",
     "iopub.status.idle": "2021-10-24T04:27:03.588992Z",
     "shell.execute_reply": "2021-10-24T04:27:03.586984Z",
     "shell.execute_reply.started": "2021-10-24T04:27:03.573023Z"
    },
    "tags": []
   },
   "outputs": [],
   "source": [
    "x=np.random.randn(1000) #1000个正态分布随机数"
   ]
  },
  {
   "cell_type": "code",
   "execution_count": 4,
   "metadata": {
    "collapsed": false,
    "execution": {
     "iopub.execute_input": "2021-10-24T04:27:47.395936Z",
     "iopub.status.busy": "2021-10-24T04:27:47.395936Z",
     "iopub.status.idle": "2021-10-24T04:27:47.925852Z",
     "shell.execute_reply": "2021-10-24T04:27:47.924858Z",
     "shell.execute_reply.started": "2021-10-24T04:27:47.395936Z"
    },
    "jupyter": {
     "outputs_hidden": false
    },
    "tags": []
   },
   "outputs": [
    {
     "data": {
      "image/png": "[encoded data removed]",
      "text/plain": [
       "<Figure size 432x288 with 1 Axes>"
      ]
     },
     "metadata": {
      "needs_background": "light"
     },
     "output_type": "display_data"
    }
   ],
   "source": [
    "plt.hist(x,bins=100, color='red', edgecolor='black') ##bins=100表示10个值一个bin，bin即柱子个数\n",
    "plt.show()"
   ]
  },
  {
   "cell_type": "code",
   "execution_count": 5,
   "metadata": {
    "execution": {
     "iopub.execute_input": "2021-10-24T04:27:48.517992Z",
     "iopub.status.busy": "2021-10-24T04:27:48.517992Z",
     "iopub.status.idle": "2021-10-24T04:27:48.842125Z",
     "shell.execute_reply": "2021-10-24T04:27:48.841166Z",
     "shell.execute_reply.started": "2021-10-24T04:27:48.517992Z"
    },
    "tags": []
   },
   "outputs": [
    {
     "data": {
      "image/png": "[encoded data removed]",
      "text/plain": [
       "<Figure size 432x288 with 1 Axes>"
      ]
     },
     "metadata": {
      "needs_background": "light"
     },
     "output_type": "display_data"
    }
   ],
   "source": [
    "plt.hist(x,bins=100, color='red', edgecolor='black', density=True)\n",
    "plt.show()"
   ]
  },
  {
   "cell_type": "code",
   "execution_count": 6,
   "metadata": {
    "collapsed": false,
    "execution": {
     "iopub.execute_input": "2021-10-24T04:27:49.267397Z",
     "iopub.status.busy": "2021-10-24T04:27:49.266398Z",
     "iopub.status.idle": "2021-10-24T04:27:49.902721Z",
     "shell.execute_reply": "2021-10-24T04:27:49.901984Z",
     "shell.execute_reply.started": "2021-10-24T04:27:49.267397Z"
    },
    "jupyter": {
     "outputs_hidden": false
    },
    "tags": []
   },
   "outputs": [
    {
     "data": {
      "image/png": "[encoded data removed]",
      "text/plain": [
       "<Figure size 432x288 with 1 Axes>"
      ]
     },
     "metadata": {
      "needs_background": "light"
     },
     "output_type": "display_data"
    }
   ],
   "source": [
    "# 使用np.random.normal()指定期望和均值的正态分布\n",
    "x=np.random.normal(0,0.8,1000)\n",
    "y=np.random.normal(-2,1.8,1000)\n",
    "z=np.random.normal(3,2,1000)\n",
    "plt.hist(x,bins=100)\n",
    "plt.hist(y,bins=100)\n",
    "plt.hist(z,bins=100)\n",
    "plt.show()"
   ]
  },
  {
   "cell_type": "code",
   "execution_count": 7,
   "metadata": {
    "collapsed": false,
    "execution": {
     "iopub.execute_input": "2021-10-24T04:27:50.321941Z",
     "iopub.status.busy": "2021-10-24T04:27:50.320941Z",
     "iopub.status.idle": "2021-10-24T04:27:50.924681Z",
     "shell.execute_reply": "2021-10-24T04:27:50.923709Z",
     "shell.execute_reply.started": "2021-10-24T04:27:50.321941Z"
    },
    "jupyter": {
     "outputs_hidden": false
    },
    "tags": []
   },
   "outputs": [
    {
     "data": {
      "image/png": "[encoded data removed]",
      "text/plain": [
       "<Figure size 432x288 with 1 Axes>"
      ]
     },
     "metadata": {
      "needs_background": "light"
     },
     "output_type": "display_data"
    }
   ],
   "source": [
    "# 使用np.random.normal()指定期望和均值的正态分布\n",
    "x=np.random.normal(0,0.8,1000)\n",
    "y=np.random.normal(-2,1.8,1000)\n",
    "z=np.random.normal(3,2,1000)\n",
    "kwargs=dict(bins=100,alpha=0.5)\n",
    "plt.hist(x,**kwargs)\n",
    "plt.hist(y,**kwargs)\n",
    "plt.hist(z,**kwargs)\n",
    "plt.show()"
   ]
  },
  {
   "cell_type": "code",
   "execution_count": 8,
   "metadata": {
    "execution": {
     "iopub.execute_input": "2021-10-24T04:30:42.586574Z",
     "iopub.status.busy": "2021-10-24T04:30:42.586574Z",
     "iopub.status.idle": "2021-10-24T04:30:42.609512Z",
     "shell.execute_reply": "2021-10-24T04:30:42.608529Z",
     "shell.execute_reply.started": "2021-10-24T04:30:42.586574Z"
    },
    "tags": []
   },
   "outputs": [],
   "source": [
    "def normfun(x, mu, sigma):\n",
    "    pdf = np.exp(-((x-mu)**2)/(2*sigma*2))/(sigma*np.sqrt(2*np.pi))\n",
    "    return pdf"
   ]
  },
  {
   "cell_type": "code",
   "execution_count": 9,
   "metadata": {
    "execution": {
     "iopub.execute_input": "2021-10-24T04:31:13.043122Z",
     "iopub.status.busy": "2021-10-24T04:31:13.042127Z",
     "iopub.status.idle": "2021-10-24T04:31:13.062072Z",
     "shell.execute_reply": "2021-10-24T04:31:13.060077Z",
     "shell.execute_reply.started": "2021-10-24T04:31:13.043122Z"
    }
   },
   "outputs": [],
   "source": [
    "x=np.random.randn(1000)"
   ]
  },
  {
   "cell_type": "code",
   "execution_count": 12,
   "metadata": {
    "execution": {
     "iopub.execute_input": "2021-10-24T04:31:42.781382Z",
     "iopub.status.busy": "2021-10-24T04:31:42.781382Z",
     "iopub.status.idle": "2021-10-24T04:31:42.789324Z",
     "shell.execute_reply": "2021-10-24T04:31:42.788325Z",
     "shell.execute_reply.started": "2021-10-24T04:31:42.781382Z"
    },
    "tags": []
   },
   "outputs": [],
   "source": [
    "mean_x = x.mean()\n",
    "std_x = x.std()"
   ]
  },
  {
   "cell_type": "code",
   "execution_count": 37,
   "metadata": {
    "execution": {
     "iopub.execute_input": "2021-10-24T05:00:45.480816Z",
     "iopub.status.busy": "2021-10-24T05:00:45.480816Z",
     "iopub.status.idle": "2021-10-24T05:00:45.496771Z",
     "shell.execute_reply": "2021-10-24T05:00:45.495812Z",
     "shell.execute_reply.started": "2021-10-24T05:00:45.480816Z"
    },
    "tags": []
   },
   "outputs": [],
   "source": [
    "x_data = np.arange(x.min(), x.max()+10, 1)"
   ]
  },
  {
   "cell_type": "code",
   "execution_count": 38,
   "metadata": {
    "execution": {
     "iopub.execute_input": "2021-10-24T05:00:45.844355Z",
     "iopub.status.busy": "2021-10-24T05:00:45.844355Z",
     "iopub.status.idle": "2021-10-24T05:00:45.857318Z",
     "shell.execute_reply": "2021-10-24T05:00:45.856320Z",
     "shell.execute_reply.started": "2021-10-24T05:00:45.844355Z"
    },
    "tags": []
   },
   "outputs": [
    {
     "data": {
      "text/plain": [
       "array([2.55260069e-02, 1.07727811e-01, 2.70764851e-01, 4.05299653e-01,\n",
       "       3.61309744e-01, 1.91823853e-01, 6.06519886e-02, 1.14210747e-02,\n",
       "       1.28082088e-03, 8.55439538e-05, 3.40259090e-06, 8.06027109e-08,\n",
       "       1.13712722e-09, 9.55405993e-12, 4.78064353e-14, 1.42463712e-16,\n",
       "       2.52837594e-19])"
      ]
     },
     "execution_count": 38,
     "metadata": {},
     "output_type": "execute_result"
    }
   ],
   "source": [
    "y = normfun(x_data, mean_x, std_x)\n",
    "y"
   ]
  },
  {
   "cell_type": "code",
   "execution_count": 39,
   "metadata": {
    "execution": {
     "iopub.execute_input": "2021-10-24T05:00:46.295027Z",
     "iopub.status.busy": "2021-10-24T05:00:46.295027Z",
     "iopub.status.idle": "2021-10-24T05:00:46.774415Z",
     "shell.execute_reply": "2021-10-24T05:00:46.772757Z",
     "shell.execute_reply.started": "2021-10-24T05:00:46.295027Z"
    },
    "tags": []
   },
   "outputs": [
    {
     "data": {
      "image/png": "[encoded data removed]",
      "text/plain": [
       "<Figure size 432x288 with 1 Axes>"
      ]
     },
     "metadata": {
      "needs_background": "light"
     },
     "output_type": "display_data"
    },
    {
     "data": {
      "image/png": "[encoded data removed]",
      "text/plain": [
       "<Figure size 432x288 with 1 Axes>"
      ]
     },
     "metadata": {
      "needs_background": "light"
     },
     "output_type": "display_data"
    }
   ],
   "source": [
    "plt.hist(x,bins=50, color='red', edgecolor='black', density=True) ##bins=100表示10个值一个bin，bin即柱子个数\n",
    "plt.plot(x_data, y, color='yellow', linewidth=3, label='正态分布图')\n",
    "pd.DataFrame(x_data).plot(kind='kde',color='green',xlim=[-4,4], label='核密度图')\n",
    "plt.legend(loc='best')\n",
    "plt.show()"
   ]
  },
  {
   "cell_type": "code",
   "execution_count": null,
   "metadata": {},
   "outputs": [],
   "source": []
  },
  {
   "cell_type": "code",
   "execution_count": null,
   "metadata": {},
   "outputs": [],
   "source": []
  }
 ],
 "metadata": {
  "kernelspec": {
   "display_name": "Python 3",
   "language": "python",
   "name": "python3"
  },
  "language_info": {
   "codemirror_mode": {
    "name": "ipython",
    "version": 3
   },
   "file_extension": ".py",
   "mimetype": "text/x-python",
   "name": "python",
   "nbconvert_exporter": "python",
   "pygments_lexer": "ipython3",
   "version": "3.8.8"
  }
 },
 "nbformat": 4,
 "nbformat_minor": 4
}
