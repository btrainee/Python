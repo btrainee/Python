{
 "cells": [
  {
   "cell_type": "code",
   "execution_count": 1,
   "metadata": {
    "execution": {
     "iopub.execute_input": "2021-10-23T05:28:11.526706Z",
     "iopub.status.busy": "2021-10-23T05:28:11.526706Z",
     "iopub.status.idle": "2021-10-23T05:28:11.984963Z",
     "shell.execute_reply": "2021-10-23T05:28:11.984963Z",
     "shell.execute_reply.started": "2021-10-23T05:28:11.526706Z"
    },
    "tags": []
   },
   "outputs": [],
   "source": [
    "import matplotlib.pyplot as plt\n",
    "import numpy as np"
   ]
  },
  {
   "cell_type": "code",
   "execution_count": 2,
   "metadata": {
    "execution": {
     "iopub.execute_input": "2021-10-23T05:28:11.984963Z",
     "iopub.status.busy": "2021-10-23T05:28:11.984963Z",
     "iopub.status.idle": "2021-10-23T05:28:12.002172Z",
     "shell.execute_reply": "2021-10-23T05:28:12.000175Z",
     "shell.execute_reply.started": "2021-10-23T05:28:11.984963Z"
    },
    "tags": []
   },
   "outputs": [],
   "source": [
    "man = 8763\n",
    "woman = 7987\n",
    "man_perc = man/(man+woman)\n",
    "woman_perc = woman/(man+woman)\n",
    "labels = [\"男\",\"女\"]"
   ]
  },
  {
   "cell_type": "code",
   "execution_count": 16,
   "metadata": {
    "collapsed": false,
    "execution": {
     "iopub.execute_input": "2021-10-23T05:33:18.045621Z",
     "iopub.status.busy": "2021-10-23T05:33:18.045621Z",
     "iopub.status.idle": "2021-10-23T05:33:18.182595Z",
     "shell.execute_reply": "2021-10-23T05:33:18.181593Z",
     "shell.execute_reply.started": "2021-10-23T05:33:18.045621Z"
    },
    "jupyter": {
     "outputs_hidden": false
    },
    "tags": []
   },
   "outputs": [
    {
     "data": {
      "image/png": "[encoded data removed]",
      "text/plain": [
       "<Figure size 432x288 with 1 Axes>"
      ]
     },
     "metadata": {},
     "output_type": "display_data"
    }
   ],
   "source": [
    "paches, texts, autotexts = plt.pie([man_perc, woman_perc],\\\n",
    "                                 labels = labels, colors = [\"green\",\"yellow\"], \\\n",
    "                                 radius = 1.5, counterclock = False,\\\n",
    "                                  explode = (0, 0.05), autopct = '%0.1f%%',\\\n",
    "                                  wedgeprops = {'linewidth':1.5, 'edgecolor':'red'},\\\n",
    "                                  textprops = {'fontsize':20, 'color':'blue'})\n",
    "plt.title('男女比例分布',pad =50)\n",
    "plt.rcParams['font.sans-serif']=['SimHei'] # matplotlib默认不支持中文，添加此行用来正常显示中文标签\n",
    "\n",
    "#设置饼状图中的字体颜色\n",
    "for text in autotexts:\n",
    "    text.set_color('white')\n",
    "#设置字体大小\n",
    "for text in texts+autotexts:\n",
    "    text.set_fontsize(20)\n",
    "plt.show()"
   ]
  },
  {
   "cell_type": "code",
   "execution_count": 20,
   "metadata": {
    "collapsed": false,
    "jupyter": {
     "outputs_hidden": false
    }
   },
   "outputs": [
    {
     "name": "stdout",
     "output_type": "stream",
     "text": [
      "2\n",
      "3\n",
      "4\n",
      "5\n",
      "6\n",
      "a\n",
      "b\n",
      "c\n",
      "d\n",
      "e\n"
     ]
    }
   ],
   "source": [
    "list1 = [2,3,4,5,6]\n",
    "list2 = [\"a\",\"b\",\"c\",\"d\",\"e\"]\n",
    "for i in list1+list2:\n",
    "    print (i)"
   ]
  },
  {
   "cell_type": "code",
   "execution_count": null,
   "metadata": {
    "collapsed": true,
    "jupyter": {
     "outputs_hidden": true
    }
   },
   "outputs": [],
   "source": []
  }
 ],
 "metadata": {
  "kernelspec": {
   "display_name": "Python 3",
   "language": "python",
   "name": "python3"
  },
  "language_info": {
   "codemirror_mode": {
    "name": "ipython",
    "version": 3
   },
   "file_extension": ".py",
   "mimetype": "text/x-python",
   "name": "python",
   "nbconvert_exporter": "python",
   "pygments_lexer": "ipython3",
   "version": "3.8.8"
  }
 },
 "nbformat": 4,
 "nbformat_minor": 4
}
