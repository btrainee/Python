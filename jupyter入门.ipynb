{
 "cells": [
  {
   "cell_type": "markdown",
   "metadata": {
    "slideshow": {
     "slide_type": "skip"
    },
    "tags": [
     "test"
    ]
   },
   "source": [
    "### 基础介绍\n",
    "0. 一个款以网页为基础的交互计算环境,可以创建Jupyter的文档,支持python\\R\\java等多种编程语言及markdown、letex等写作语言及公式输入\n",
    "1. python内核：ipython\n",
    "2. 集编程与写作与一身——文学编程，非常适用于笔记、演示及教学\n",
    "3. 以代码单元格为单元运行，实时显示中间过程及变量\n",
    "4. 拥有魔法函数\n",
    "5. [代码补全](https://www.cnblogs.com/qiuxirufeng/p/9609031.html)\n",
    "6. 下一代产品jupyter-lab"
   ]
  },
  {
   "cell_type": "markdown",
   "metadata": {},
   "source": [
    "### jupyter-lab——[官方文档](https://jupyterlab.readthedocs.io/en/stable/index.html)\n",
    "- Jupyter Notebook的升级版本，包含了Jupyter Notebook所有功能\n",
    "- 模块化界面：可以在同一个窗口同时打开好几个notebook或文件（HTML, TXT, Markdown等等），都以标签的形式展示，更像是一个IDE\n",
    "- Jupyter Lab支持打开pandas、numpy、matplotlib、scipy、python、ipython、scipy、markdown、notebook等官方文档。步骤：help->选择相应文档\n",
    "- 一个文档在多个窗口显示，可以更方便的编辑调试代码或文本\n",
    "- 可以清除输出结果，右键-Clear Outputs\n",
    "- 可以拖拽cell\n",
    "- 输出结果单独窗口显示，选中cell右键-create new view for output，即可将结果显示在新的窗口中\n",
    "- 插件更丰富"
   ]
  },
  {
   "cell_type": "markdown",
   "metadata": {},
   "source": [
    "### jupyter-lab插件安装\n",
    "1. 代码补全插件安装  \n",
    "安装完成后需要严格按照[python代码规范](https://www.cnblogs.com/baolin2200/p/6265206.html)书写，否则会各种提示\n",
    "    1. 左侧插件菜单（Extension manager）安装\n",
    "        - 搜索jupyterlab-lsp，搜到后（@krassowski/jupyterlab-lsp）点击install。安装完之后按照提示点击save and reload重新载入\n",
    "        - jupyter server extension enable --user --py jupyter_lsp\n",
    "    2. 在终端使用pip或conda进行安装\n",
    "        - pip install jupyterlab-lsp\n",
    "        - conda install -c conda-forge jupyterlab-lsp\n",
    "    "
   ]
  },
  {
   "cell_type": "code",
   "execution_count": 7,
   "metadata": {},
   "outputs": [],
   "source": [
    "# import pandas as pd\n",
    "import matplotlib.pyplot as plt\n",
    "%matplotlib inline"
   ]
  },
  {
   "cell_type": "markdown",
   "metadata": {},
   "source": [
    "### 魔法函数\n",
    "所谓魔法函数，实际上是IPython预先定义好的具备特定功能的函数被放到Jupyter中使用。  \n",
    "这是IPython特有的函数，并非Python的内置函数，因此脱离IPython的使用环境（如使用Pycharm或Python自带的IDLE开发环境等），这些函数是无法被解析运行的。"
   ]
  },
  {
   "cell_type": "code",
   "execution_count": null,
   "metadata": {},
   "outputs": [],
   "source": [
    "%lsmagic #Ismagic函数可以列出所有魔法函数"
   ]
  },
  {
   "cell_type": "code",
   "execution_count": null,
   "metadata": {},
   "outputs": [],
   "source": [
    "%pwd # 显示当前工作目录"
   ]
  },
  {
   "cell_type": "code",
   "execution_count": null,
   "metadata": {},
   "outputs": [],
   "source": [
    "%time　　#计算当前代码行的运行时长\n",
    "%timeit　　#计算当前代码行的平均运行时长（即在执行一个语句100000次(默认情况下)后，再给出运行最快3次的平均值\n",
    "%%timeit　　计算当前cell的代码运行时长。"
   ]
  },
  {
   "cell_type": "code",
   "execution_count": null,
   "metadata": {},
   "outputs": [],
   "source": [
    "%load　　#加载本地Python文件或者网络中的Python文件\n",
    "# %load pandas测试.ipynb\n",
    "%run 运行本地或网络中的Python文件"
   ]
  },
  {
   "cell_type": "code",
   "execution_count": null,
   "metadata": {},
   "outputs": [],
   "source": [
    "%matplotlib #用于显示绘图结果的风格，默认为%matplotlib inline，是直接将图片显示在浏览器中，如果希望图片单独生成，可以使用%matplotlib"
   ]
  },
  {
   "cell_type": "code",
   "execution_count": null,
   "metadata": {},
   "outputs": [],
   "source": [
    "%hist　　#显示当前Jupyter中，所有运行过的历史代码。\n",
    "%who　　#显示当前Jupyter环境中的所有变量或名称。\n",
    "%reset  #删除当前Jupyter环境中的所有变量或名称。"
   ]
  },
  {
   "cell_type": "markdown",
   "metadata": {},
   "source": [
    "###  快捷键：命令模式（蓝色）和编辑模式（绿色）  \n",
    "1. m键切换到markdown模式，y键切换到代码单元格\n",
    "2. esc键和回车键切换命令模式和编辑模式\n",
    "3. h键可查看所有的快捷键\n",
    "4. b键在下方创建单元格，a键在上方创建单元格，dd键删除——below、above、delete\n",
    "5. ctrl+enter 运行代码块\n",
    "6. alt+enter 运行代码块并新建新单元格\n",
    "6. c键复制，x键剪切，v粘贴到当前代码块,shift+v粘贴到单元格之前，z键撤销\n",
    "7. L给代码标行数"
   ]
  },
  {
   "cell_type": "code",
   "execution_count": 5,
   "metadata": {},
   "outputs": [],
   "source": [
    "import os\n",
    "import sys\n",
    "import pandas as pd\n",
    "import matplotlib.pyplot as plt"
   ]
  },
  {
   "cell_type": "code",
   "execution_count": 6,
   "metadata": {},
   "outputs": [
    {
     "data": {
      "text/plain": [
       "'C:\\\\Users\\\\lenovo\\\\Desktop\\\\jupyter-test'"
      ]
     },
     "execution_count": 6,
     "metadata": {},
     "output_type": "execute_result"
    }
   ],
   "source": [
    "%pwd  # 当前路径"
   ]
  },
  {
   "cell_type": "code",
   "execution_count": null,
   "metadata": {},
   "outputs": [],
   "source": [
    "x = [2, 4, 5, 6]\n",
    "y = [i*2 for i in x]"
   ]
  },
  {
   "cell_type": "code",
   "execution_count": null,
   "metadata": {},
   "outputs": [],
   "source": [
    "x = [2, 4, 5, 6]\n",
    "y = [i*2 for i in x]"
   ]
  },
  {
   "cell_type": "code",
   "execution_count": null,
   "metadata": {
    "scrolled": true
   },
   "outputs": [],
   "source": [
    "plt.plot(x, y)\n",
    "plt.show()"
   ]
  }
 ],
 "metadata": {
  "kernelspec": {
   "display_name": "Python 3",
   "language": "python",
   "name": "python3"
  },
  "language_info": {
   "codemirror_mode": {
    "name": "ipython",
    "version": 3
   },
   "file_extension": ".py",
   "mimetype": "text/x-python",
   "name": "python",
   "nbconvert_exporter": "python",
   "pygments_lexer": "ipython3",
   "version": "3.8.8"
  }
 },
 "nbformat": 4,
 "nbformat_minor": 4
}
