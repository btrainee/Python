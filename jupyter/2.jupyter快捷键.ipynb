{
 "cells": [
  {
   "cell_type": "markdown",
   "id": "4de01826-17eb-46f8-9da6-aa95a4b5d025",
   "metadata": {},
   "source": [
    "jupyter-lab有两种模式，命令模式和编辑模式。Esc键可以切换到命令模式，Enter键可以切换到编辑模式，两种模式分别有不同的快捷键。如果想要高效的使用jupyter-lab，那么很有必要知道并掌握这些快捷键的用法。"
   ]
  },
  {
   "cell_type": "markdown",
   "id": "dc323c51-982c-4335-8904-e3609814b1d0",
   "metadata": {},
   "source": [
    "## 命令模式"
   ]
  },
  {
   "cell_type": "markdown",
   "id": "a03bf901-f192-42b1-a1cc-bf268b72e0be",
   "metadata": {},
   "source": [
    "命令模式和编辑模式的区分比较简单，当单元格为灰色时即切换到了命令模式，当单元格边框为绿色时即切换到了编辑模式，这个时候也可以看到闪烁的光标。"
   ]
  },
  {
   "cell_type": "markdown",
   "id": "a787239b-7588-49cf-a018-ecf9ea2ed5e5",
   "metadata": {},
   "source": [
    "* 命令模式下，可以对单元格进行复制、粘贴、移动、删除等快捷操作，有以下快捷键："
   ]
  },
  {
   "cell_type": "markdown",
   "id": "46a4b1a8-3ed8-4f62-880a-fd1c8002c839",
   "metadata": {},
   "source": [
    "|      快捷键       |            功能            |\n",
    "| :---------------: | :------------------------: |\n",
    "|       **C**       |     **复制选中的单元**     |\n",
    "|       **X**       |     **剪切选中的单元**     |\n",
    "|    **Shift+V**    |     **粘贴到上方单元**     |\n",
    "|       **V**       |     **粘贴到下方单元**     |\n",
    "|      **D,D**      |     **删除选中的单元**     |\n",
    "|       **Z**       | **恢复删除的最后一个单元** |\n",
    "|      Shift-M      |        合并选中的单        |\n",
    "| 上下方向键或K/J键 |       上下单元格移动       |\n",
    "|      Shift-K      |      连续选择上方单元      |\n",
    "|      Shift-J      |      连续选择下方单元      |\n",
    "|         A         |      在上方插入新单元      |\n",
    "|         B         |      在下方插入新单元      |\n",
    "|    Shift-Space    |          向上滚动          |\n",
    "|       Space       |          向下滚动          |\n",
    "|     S/Ctrl-S      |     保存当前 NoteBook      |"
   ]
  },
  {
   "cell_type": "markdown",
   "id": "050cc429-51c6-4802-95a8-c19fa2893bb9",
   "metadata": {},
   "source": [
    "* 命令模式下，也可以快捷的切换单元格模式，代码模式切换到markdown模式，markdown模式切换到代码模式等，有以下快捷键："
   ]
  },
  {
   "cell_type": "markdown",
   "id": "fc04bd81-6ba0-4940-8088-dbc13c481b47",
   "metadata": {},
   "source": [
    "| 快捷键 |            功能             |\n",
    "| :----: | :-------------------------: |\n",
    "| **R**  |    **单元转入 raw 状态**    |\n",
    "| **Y**  |    **单元转入代码状态**     |\n",
    "| **M**  | **单元转入 markdown 状态**  |\n",
    "|   1    | markdown模式下设定 1 级标题 |\n",
    "|   2    | markdown模式下设定 2 级标题 |\n",
    "|   3    | markdown模式下设定 3 级标题 |\n",
    "|   4    | markdown模式下设定 4 级标题 |\n",
    "|   5    | markdown模式下设定 5 级标题 |\n",
    "|   6    | markdown模式下设定 6 级标题 |"
   ]
  },
  {
   "cell_type": "markdown",
   "id": "410cbdf3-9d65-4d4e-8538-717696ada958",
   "metadata": {},
   "source": [
    "## 编辑模式"
   ]
  },
  {
   "cell_type": "markdown",
   "id": "1564e8e9-0fa5-4164-9b1c-14d2dcb3059b",
   "metadata": {},
   "source": [
    "* 编辑模式下可以快捷的进行跳转、删除字符、撤销、缩进、重做等操作，主要有如下快捷键："
   ]
  },
  {
   "cell_type": "markdown",
   "id": "f3e1bfad-4e99-400b-8983-b3fe83a08ec1",
   "metadata": {},
   "source": [
    "|     快捷键     |         功能          |\n",
    "| :------------: | :-------------------: |\n",
    "|     Ctrl-A     |         全选          |\n",
    "|   **Ctrl-Z**   |       **撤销**        |\n",
    "|  Ctrl-Shift-Z  |         重做          |\n",
    "|   **Ctrl-Y**   |       **重做**        |\n",
    "|   Ctrl-Home    |     跳到单元开头      |\n",
    "|    Ctrl-Up     |     跳到单元开头      |\n",
    "|    Ctrl-End    |     跳到单元末尾      |\n",
    "|   Ctrl-Down    |     跳到单元末尾      |\n",
    "|   Ctrl-Left    |   跳到左边一个字首    |\n",
    "|   Ctrl-Right   |   跳到右边一个字首    |\n",
    "| Ctrl-Backspace |    删除前面一个字     |\n",
    "|  Ctrl-Delete   |    删除后面一个字     |\n",
    "|   **Ctrl-]**   |   **缩进 向右缩进**   |\n",
    "|   **Ctrl-[**   | **解除缩进 向左缩进** |"
   ]
  },
  {
   "cell_type": "markdown",
   "id": "652e6130-fbfc-429d-929c-321442aaf691",
   "metadata": {},
   "source": [
    "* 编辑模式下，也可以进行代码补全、代码提示、运行命令、切割单元格等操作"
   ]
  },
  {
   "cell_type": "markdown",
   "id": "a6427573-c1d9-4741-9463-3fbad8531ab9",
   "metadata": {},
   "source": [
    "|      快捷键      |                 功能                  |\n",
    "| :--------------: | :-----------------------------------: |\n",
    "|     **Tab**      |          **代码补全或缩进**           |\n",
    "|  **Shift-Tab**   |               **提示**                |\n",
    "| **Shift-Enter**  |     **运行本单元，选中下一单元**      |\n",
    "|  **Ctrl-Enter**  |            **运行本单元**             |\n",
    "|  **Alt-Enter**   |   **运行本单元，在下面插入一单元**    |\n",
    "| **Ctrl-Shift–-** |   **分割单元 按光标所在行进行分割**   |\n",
    "|      Ctrl-S      |           保存当前 NoteBook           |\n",
    "|    **Ctrl-/**    | **注释整行/撤销注释，仅代码状态有效** |\n",
    "|       Esc        |            切换到命令模式             |"
   ]
  }
 ],
 "metadata": {
  "kernelspec": {
   "display_name": "Python 3",
   "language": "python",
   "name": "python3"
  },
  "language_info": {
   "codemirror_mode": {
    "name": "ipython",
    "version": 3
   },
   "file_extension": ".py",
   "mimetype": "text/x-python",
   "name": "python",
   "nbconvert_exporter": "python",
   "pygments_lexer": "ipython3",
   "version": "3.8.8"
  }
 },
 "nbformat": 4,
 "nbformat_minor": 5
}
