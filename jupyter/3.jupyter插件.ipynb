{
 "cells": [
  {
   "cell_type": "markdown",
   "id": "5a941394-6abc-4c1d-a8d7-f1eb392094c6",
   "metadata": {},
   "source": [
    "## jupyterlab插件安装方式"
   ]
  },
  {
   "cell_type": "markdown",
   "id": "c45ef482-7270-43cc-8286-4c2b1b471adf",
   "metadata": {},
   "source": [
    "jupyterlab插件一般是由第三方或者个人开的的功能，通过插件的方式嵌入到jupyterlab的环境，使jupyterlab功能更加丰富，生态更加健全。目前对于jupyterlab插件的安装有多种方式，以下列举了常见的简单的三种方式，供大家选择使用。"
   ]
  },
  {
   "cell_type": "markdown",
   "id": "7b907165-58e3-47e4-b10d-f6993fd45252",
   "metadata": {},
   "source": [
    "* **方式1：** jupyter插件菜单栏安装，直接在菜单栏搜索对应插件的关键字，然后点击install即可"
   ]
  },
  {
   "cell_type": "markdown",
   "id": "f6a1f665-3970-4656-bcaa-b98cfaa5d096",
   "metadata": {},
   "source": [
    "* **方式2：** jupyter插件命令：jupyter labextension install 需要跟上@开头的插件名称，如：jupyter labextension install @lckr/jupyterlab_variableinspector"
   ]
  },
  {
   "cell_type": "markdown",
   "id": "bb29132d-b67b-4002-94e5-2b825efac8d6",
   "metadata": {},
   "source": [
    "* **方式3：** 使用pip或conda进行安装"
   ]
  },
  {
   "cell_type": "markdown",
   "id": "8f29341a-f0b7-4b83-b166-5f320cbf45ed",
   "metadata": {},
   "source": [
    "## jupyterlab实用插件"
   ]
  },
  {
   "cell_type": "markdown",
   "id": "384ec268-7c98-43f2-ad44-7c6ede7c7e20",
   "metadata": {},
   "source": [
    "### 代码补全插件安装"
   ]
  },
  {
   "cell_type": "markdown",
   "id": "bfc46a44-2da8-4950-9625-da1a8e6d22ec",
   "metadata": {},
   "source": [
    "代码补全功能让写代码更轻松更有效率，对于使用python语言来说，有两个好用的插件：jupyterlab-lsp(python-language-server)和jupyterlab-kite，推荐大家使用。下面给大家介绍一下jupyterlab-lsp的使用。jupyterlab-lsp安装方式可以参考以下方式，选择其一即可，安装完成后需要严格按照[python代码规范](https://www.cnblogs.com/baolin2200/p/6265206.html)书写，否则会各种提示。 \n",
    "\n",
    "    1. 左侧插件菜单（Extension manager）安装\n",
    "        - 搜索jupyterlab-lsp，搜到后（@krassowski/jupyterlab-lsp）点击install。安装完之后按照提示点击save and reload重新载入\n",
    "        - jupyter server extension enable --user --py jupyter_lsp\n",
    "    2. 在终端使用pip进行安装\n",
    "        - pip install jupyterlab-lsp\n",
    "    3. 在终端使用conda进行安装\n",
    "        - conda install -c conda-forge jupyterlab-lsp"
   ]
  },
  {
   "cell_type": "markdown",
   "id": "aadcf055-ad7d-41a3-95d7-332356f51763",
   "metadata": {},
   "source": [
    "![](https://gitee.com/btrainee/pic/raw/master/jupyter/20211014154116.png)"
   ]
  },
  {
   "cell_type": "markdown",
   "id": "26e329da-366a-4e26-b393-cd61137c0e70",
   "metadata": {},
   "source": [
    "### 中文插件"
   ]
  },
  {
   "cell_type": "markdown",
   "id": "30d5434e-ad2e-41de-98e9-5b05a233a804",
   "metadata": {},
   "source": [
    "对于国人来说，软件安装切换到中文语言，看起来使用起来还是最舒服的。jupyterlab也提供了中文语言插件。这个插件直接在插件栏里搜索不到，但是我们可以使用conda或者pip进行安装。安装完之后，刷新jupyterlab，界面自动切换到了中文。  \n",
    "https://github.com/jupyterlab/language-packs/tree/master/language-packs/jupyterlab-language-pack-zh-CN"
   ]
  },
  {
   "cell_type": "code",
   "execution_count": null,
   "id": "d3e57481-fd40-4a8b-b327-0309e1456086",
   "metadata": {},
   "outputs": [],
   "source": [
    "conda install -c conda-forge jupyterlab-language-pack-zh-CN"
   ]
  },
  {
   "cell_type": "code",
   "execution_count": null,
   "id": "f1b49327-3f73-4414-b055-7565e8288511",
   "metadata": {},
   "outputs": [],
   "source": [
    "!pip install jupyterlab-language-pack-zh-CN"
   ]
  },
  {
   "cell_type": "markdown",
   "id": "495c18e8-4d66-420a-8007-15a40fbfe7fc",
   "metadata": {},
   "source": [
    "### github插件"
   ]
  },
  {
   "cell_type": "markdown",
   "id": "6491fba4-b643-4557-823e-7c967b13c48f",
   "metadata": {},
   "source": [
    "安装这个插件后，JupyterLab左侧会出现一个github栏按钮，你可以在里面搜索github项目，并且打开项目里面的文件，如果是notebook文件，能够直接运行代码。  \n",
    "这个插件非常适合在Lab上学习github项目，方便高效  \n",
    "官方文档：https://github.com/jupyterlab/jupyterlab-github"
   ]
  },
  {
   "cell_type": "code",
   "execution_count": null,
   "id": "6f2bce43-cca0-453a-b730-389808e284b3",
   "metadata": {},
   "outputs": [],
   "source": [
    "!pip install jupyterlab_github"
   ]
  },
  {
   "cell_type": "code",
   "execution_count": null,
   "id": "74f7cc40-80dd-4795-aedc-f1c3b4dd4194",
   "metadata": {},
   "outputs": [],
   "source": [
    "jupyter lab --generate-config  #此时会在目录（C:\\Users\\Administrator\\.jupyter）下生产jupyter_notebook_config.py文件"
   ]
  },
  {
   "cell_type": "code",
   "execution_count": 3,
   "id": "68101bec-be9d-4c19-9d0e-77066644732d",
   "metadata": {},
   "outputs": [
    {
     "name": "stderr",
     "output_type": "stream",
     "text": [
      "Enabling: jupyterlab_github\n",
      "- Writing config: D:\\anaconda3\\etc\\jupyter\n",
      "    - Validating...\n",
      "      jupyterlab_github 2.0.0 ok\n"
     ]
    }
   ],
   "source": [
    "!jupyter serverextension enable --sys-prefix jupyterlab_github"
   ]
  },
  {
   "cell_type": "code",
   "execution_count": 1,
   "id": "b56cbf6c-2559-418a-b6a4-e36fcd62020f",
   "metadata": {},
   "outputs": [
    {
     "name": "stdout",
     "output_type": "stream",
     "text": [
      "An error occured.\n",
      "ValueError: No version of @jupyterlab/application could be found that is compatible with the current version of JupyterLab. However, it seems to support a new version of JupyterLab. Consider upgrading JupyterLab.\n",
      "\n",
      "Conflicting Dependencies:\n",
      "JupyterLab                        Extension      Package\n",
      ">=3.0.7 <3.1.0                    >=3.2.0 <4.0.0 @jupyterlab/apputils\n",
      ">=5.0.5 <5.1.0                    >=5.2.0 <6.0.0 @jupyterlab/coreutils\n",
      ">=3.0.8 <3.1.0                    >=3.2.0 <4.0.0 @jupyterlab/rendermime\n",
      ">=3.0.7 <3.1.0                    >=3.2.0 <4.0.0 @jupyterlab/rendermime-interfaces\n",
      ">=6.0.7 <6.1.0                    >=6.2.0 <7.0.0 @jupyterlab/services\n",
      ">=3.0.5 <3.1.0                    >=3.2.0 <4.0.0 @jupyterlab/statedb\n",
      ">=3.0.7 <3.1.0                    >=3.2.0 <4.0.0 @jupyterlab/translation\n",
      ">=3.0.6 <3.1.0                    >=3.2.0 <4.0.0 @jupyterlab/ui-components\n",
      "See the log file for details:  C:\\Users\\lenovo\\AppData\\Local\\Temp\\jupyterlab-debug-0u4eqvj6.log\n"
     ]
    }
   ],
   "source": [
    "!jupyter labextension install @jupyterlab/application"
   ]
  },
  {
   "cell_type": "code",
   "execution_count": 2,
   "id": "bf5dea01-7214-4ef1-ac36-ae26e4c32076",
   "metadata": {},
   "outputs": [
    {
     "name": "stdout",
     "output_type": "stream",
     "text": [
      "An error occured.\n",
      "ValueError: The extension \"@jupyterlab/github\" does not yet support the current version of JupyterLab.\n",
      "\n",
      "\n",
      "Conflicting Dependencies:\n",
      "JupyterLab                  Extension      Package\n",
      ">=3.0.9 <3.1.0              >=2.0.0 <3.0.0 @jupyterlab/application\n",
      ">=3.0.7 <3.1.0              >=2.0.0 <3.0.0 @jupyterlab/apputils\n",
      ">=5.0.5 <5.1.0              >=4.0.0 <5.0.0 @jupyterlab/coreutils\n",
      ">=3.0.9 <3.1.0              >=2.0.0 <3.0.0 @jupyterlab/docmanager\n",
      ">=3.0.9 <3.1.0              >=2.0.0 <3.0.0 @jupyterlab/filebrowser\n",
      ">=6.0.7 <6.1.0              >=5.0.0 <6.0.0 @jupyterlab/services\n",
      ">=3.0.5 <3.1.0              >=2.0.0 <3.0.0 @jupyterlab/settingregistry\n",
      ">=3.0.6 <3.1.0              >=2.0.0 <3.0.0 @jupyterlab/ui-components\n",
      "See the log file for details:  C:\\Users\\lenovo\\AppData\\Local\\Temp\\jupyterlab-debug-hj8m3r_p.log\n"
     ]
    }
   ],
   "source": [
    "!jupyter labextension install @jupyterlab/github"
   ]
  },
  {
   "cell_type": "markdown",
   "id": "d1234295-06f7-4829-bc8f-65087349807a",
   "metadata": {},
   "source": [
    "jupyter lab --generate-config\n",
    "会生产一个配置文件 默认路径C:\\Users\\用户名.jupyter\\jupyter_notebook_config.py"
   ]
  },
  {
   "cell_type": "markdown",
   "id": "c5aaf924-8058-402f-9b0e-d15222712db6",
   "metadata": {},
   "source": [
    "### ipywidgets插件"
   ]
  },
  {
   "cell_type": "markdown",
   "id": "a669100c-c29d-434e-a170-1d5b44caa281",
   "metadata": {},
   "source": [
    "ipywidgets可以用于在jupyter notebook当中进行界面设计，以及一些简单的交互式控件操作。  \n",
    "pip install ipywidgets  \n",
    "* https://blog.csdn.net/weixin_46032351/article/details/103976347\n",
    "* https://blog.csdn.net/weixin_41010198/article/details/103300827  \n",
    "* https://coderzcolumn.com/tutorials/python/interactive-widgets-in-jupyter-notebook-using-ipywidgets"
   ]
  },
  {
   "cell_type": "markdown",
   "id": "60ab3096-1688-4e07-9a84-d64bf813dd50",
   "metadata": {},
   "source": [
    "### python-file插件\n",
    "https://www.cnpython.com/pypi/jupyterlab-python-file"
   ]
  },
  {
   "cell_type": "markdown",
   "id": "90ad9883-2c75-4aa1-b464-09db77155977",
   "metadata": {},
   "source": [
    "官方文档：https://github.com/jtpio/jupyterlab-python-file"
   ]
  },
  {
   "cell_type": "code",
   "execution_count": null,
   "id": "1b40d568-8f17-44a6-8474-bd32b102c6ba",
   "metadata": {},
   "outputs": [],
   "source": [
    "pip install jupyterlab-python-file"
   ]
  },
  {
   "cell_type": "code",
   "execution_count": null,
   "id": "1add2dc3-3dd5-49cc-b93c-d2f57b800860",
   "metadata": {},
   "outputs": [],
   "source": [
    "jupyter labextension install jupyterlab-python-file"
   ]
  },
  {
   "cell_type": "markdown",
   "id": "117672a9-2fab-4dba-a4da-1e34d8699306",
   "metadata": {},
   "source": [
    "### debugger插件"
   ]
  },
  {
   "cell_type": "markdown",
   "id": "14d1378f-811e-4f47-8f15-e2bde1e8db96",
   "metadata": {},
   "source": [
    "官方文档：https://github.com/jupyterlab/debugger"
   ]
  },
  {
   "cell_type": "code",
   "execution_count": null,
   "id": "cfd9e2d2-95f0-4a2f-809f-104b6a3a4876",
   "metadata": {},
   "outputs": [],
   "source": [
    "!conda create -n jupyterlab-debugger -c conda-forge jupyterlab=3 ipykernel>=6 xeus-python"
   ]
  },
  {
   "cell_type": "code",
   "execution_count": null,
   "id": "c0162899-9bcc-4019-82e4-9f9102a59d30",
   "metadata": {},
   "outputs": [],
   "source": [
    "conda activate jupyterlab-debugger"
   ]
  },
  {
   "cell_type": "markdown",
   "id": "f12dc7d4-b193-4336-a7ef-889019f5ca87",
   "metadata": {},
   "source": [
    "### jupyter-matplotlib"
   ]
  },
  {
   "cell_type": "markdown",
   "id": "4e100cc9-e5ec-4fd4-88ba-88b5ed34285e",
   "metadata": {},
   "source": [
    "jupyter-matplotlib帮助我们在notebook界面配合matplotlib实现交互式的作图，只需要在绘图之前执行魔法命令%matplotlib widget，之后绘制的所有matplotlib图表即可自动转换为交互式的  \n",
    "官方文档：https://github.com/matplotlib/ipympl"
   ]
  },
  {
   "cell_type": "code",
   "execution_count": null,
   "id": "03b3a397-77c0-4b81-957e-16227813fc04",
   "metadata": {},
   "outputs": [],
   "source": [
    "!pip install ipympl"
   ]
  },
  {
   "cell_type": "code",
   "execution_count": 8,
   "id": "f68f7bbe-4fd5-4ba0-9ad0-9e5430cae839",
   "metadata": {
    "tags": []
   },
   "outputs": [
    {
     "name": "stdout",
     "output_type": "stream",
     "text": [
      "An error occured.\n",
      "RuntimeError: JupyterLab failed to build\n",
      "See the log file for details:  C:\\Users\\lenovo\\AppData\\Local\\Temp\\jupyterlab-debug-e1c0oohd.log\n"
     ]
    },
    {
     "name": "stderr",
     "output_type": "stream",
     "text": [
      "Building jupyterlab assets (production, minimized)\n"
     ]
    }
   ],
   "source": [
    "!jupyter labextension install @jupyter-widgets/jupyterlab-manager jupyter-matplotlib@0.8.0"
   ]
  },
  {
   "cell_type": "code",
   "execution_count": 7,
   "id": "405ace1b-6530-40c1-b6fd-3c45a39fa6da",
   "metadata": {},
   "outputs": [
    {
     "name": "stderr",
     "output_type": "stream",
     "text": [
      "ERROR: Could not find a version that satisfies the requirement jupyter-matplotlib\n",
      "ERROR: No matching distribution found for jupyter-matplotlib\n"
     ]
    }
   ],
   "source": [
    "!pip install jupyter-matplotlib"
   ]
  },
  {
   "cell_type": "code",
   "execution_count": 2,
   "id": "e11fc2c8-f1f0-461c-a87b-6d425e916327",
   "metadata": {},
   "outputs": [],
   "source": [
    "%matplotlib widget\n",
    "import matplotlib.pyplot as plt"
   ]
  },
  {
   "cell_type": "code",
   "execution_count": 3,
   "id": "7f5a7b1f-0266-459d-962e-e1a05013dde0",
   "metadata": {},
   "outputs": [
    {
     "data": {
      "text/plain": [
       "<matplotlib.collections.PathCollection at 0x29b6880a370>"
      ]
     },
     "execution_count": 3,
     "metadata": {},
     "output_type": "execute_result"
    },
    {
     "data": {
      "application/vnd.jupyter.widget-view+json": {
       "model_id": "2127fd61299041afbb7edc950ef4ab54",
       "version_major": 2,
       "version_minor": 0
      },
      "image/png": "[encoded data removed]",
      "text/plain": [
       "Canvas(toolbar=Toolbar(toolitems=[('Home', 'Reset original view', 'home', 'home'), ('Back', 'Back to previous …"
      ]
     },
     "metadata": {},
     "output_type": "display_data"
    }
   ],
   "source": [
    "plt.scatter(range(5),range(5))"
   ]
  },
  {
   "cell_type": "markdown",
   "id": "f5625ef6-2b94-4d6e-9a4c-5bf45b7e28b4",
   "metadata": {},
   "source": [
    "并且jupyter-matplotlib安装过程顺道把@jupyter-widgets/jupyterlab-manager拓展安装上了，这意味着它也不需要nodejs依赖了"
   ]
  },
  {
   "cell_type": "code",
   "execution_count": null,
   "id": "c830a509-a4da-4c4e-903a-c7dc8e6b9180",
   "metadata": {},
   "outputs": [],
   "source": [
    "from tqdm.notebook import tqdm\n",
    "[i for i in tqdm(range(10))]"
   ]
  },
  {
   "cell_type": "markdown",
   "id": "7570ddcb-d3b6-437d-b60c-39ac2644e0b9",
   "metadata": {},
   "source": [
    "### jupyterlab-drawio"
   ]
  },
  {
   "cell_type": "markdown",
   "id": "12981eaf-7d60-43b6-ae3f-548a8d54729b",
   "metadata": {},
   "source": [
    "jupyterlab-drawio是一个让我们可以在jupyter lab界面内基于drawio绘制流程图、思维导图等示意图的插件  \n",
    "官方文档：https://github.com/QuantStack/jupyterlab-drawio"
   ]
  },
  {
   "cell_type": "code",
   "execution_count": 2,
   "id": "8536dadc-c36b-41ad-9536-a4b58b235e77",
   "metadata": {},
   "outputs": [
    {
     "name": "stdout",
     "output_type": "stream",
     "text": [
      "An error occured.\n",
      "RuntimeError: JupyterLab failed to build\n",
      "See the log file for details:  C:\\Users\\lenovo\\AppData\\Local\\Temp\\jupyterlab-debug-1ianeslh.log\n"
     ]
    },
    {
     "name": "stderr",
     "output_type": "stream",
     "text": [
      "Building jupyterlab assets (production, minimized)\n"
     ]
    }
   ],
   "source": [
    "!jupyter labextension install jupyterlab-drawio"
   ]
  },
  {
   "cell_type": "code",
   "execution_count": 3,
   "id": "19bb5443-24f9-4395-8817-774e1300537c",
   "metadata": {},
   "outputs": [
    {
     "name": "stdout",
     "output_type": "stream",
     "text": [
      "Collecting jupyterlab-drawio\n",
      "  Downloading jupyterlab_drawio-0.9.0-py3-none-any.whl (795 kB)\n",
      "Requirement already satisfied: jupyterlab==3.*,>=3.0.0rc13 in d:\\anaconda3\\lib\\site-packages (from jupyterlab-drawio) (3.0.14)\n",
      "Requirement already satisfied: jupyter-server~=1.4 in d:\\anaconda3\\lib\\site-packages (from jupyterlab==3.*,>=3.0.0rc13->jupyterlab-drawio) (1.4.1)\n",
      "Requirement already satisfied: ipython in d:\\anaconda3\\lib\\site-packages (from jupyterlab==3.*,>=3.0.0rc13->jupyterlab-drawio) (7.22.0)\n",
      "Requirement already satisfied: jupyterlab-server~=2.3 in d:\\anaconda3\\lib\\site-packages (from jupyterlab==3.*,>=3.0.0rc13->jupyterlab-drawio) (2.4.0)\n",
      "Requirement already satisfied: jupyter-core in d:\\anaconda3\\lib\\site-packages (from jupyterlab==3.*,>=3.0.0rc13->jupyterlab-drawio) (4.7.1)\n",
      "Requirement already satisfied: jupyter-packaging~=0.7 in d:\\anaconda3\\lib\\site-packages (from jupyterlab==3.*,>=3.0.0rc13->jupyterlab-drawio) (0.7.12)\n",
      "Requirement already satisfied: tornado>=6.1.0 in d:\\anaconda3\\lib\\site-packages (from jupyterlab==3.*,>=3.0.0rc13->jupyterlab-drawio) (6.1)\n",
      "Requirement already satisfied: nbclassic~=0.2 in d:\\anaconda3\\lib\\site-packages (from jupyterlab==3.*,>=3.0.0rc13->jupyterlab-drawio) (0.2.6)\n",
      "Requirement already satisfied: packaging in d:\\anaconda3\\lib\\site-packages (from jupyterlab==3.*,>=3.0.0rc13->jupyterlab-drawio) (20.9)\n",
      "Requirement already satisfied: jinja2>=2.10 in d:\\anaconda3\\lib\\site-packages (from jupyterlab==3.*,>=3.0.0rc13->jupyterlab-drawio) (2.11.3)\n",
      "Requirement already satisfied: MarkupSafe>=0.23 in d:\\anaconda3\\lib\\site-packages (from jinja2>=2.10->jupyterlab==3.*,>=3.0.0rc13->jupyterlab-drawio) (1.1.1)\n",
      "Requirement already satisfied: prometheus-client in d:\\anaconda3\\lib\\site-packages (from jupyter-server~=1.4->jupyterlab==3.*,>=3.0.0rc13->jupyterlab-drawio) (0.10.1)\n",
      "Requirement already satisfied: pyzmq>=17 in d:\\anaconda3\\lib\\site-packages (from jupyter-server~=1.4->jupyterlab==3.*,>=3.0.0rc13->jupyterlab-drawio) (20.0.0)\n",
      "Requirement already satisfied: nbconvert in d:\\anaconda3\\lib\\site-packages (from jupyter-server~=1.4->jupyterlab==3.*,>=3.0.0rc13->jupyterlab-drawio) (6.0.7)\n",
      "Requirement already satisfied: jupyter-client>=6.1.1 in d:\\anaconda3\\lib\\site-packages (from jupyter-server~=1.4->jupyterlab==3.*,>=3.0.0rc13->jupyterlab-drawio) (6.1.12)\n",
      "Requirement already satisfied: anyio>=2.0.2 in d:\\anaconda3\\lib\\site-packages (from jupyter-server~=1.4->jupyterlab==3.*,>=3.0.0rc13->jupyterlab-drawio) (2.2.0)\n",
      "Requirement already satisfied: nbformat in d:\\anaconda3\\lib\\site-packages (from jupyter-server~=1.4->jupyterlab==3.*,>=3.0.0rc13->jupyterlab-drawio) (5.1.3)\n",
      "Requirement already satisfied: terminado>=0.8.3 in d:\\anaconda3\\lib\\site-packages (from jupyter-server~=1.4->jupyterlab==3.*,>=3.0.0rc13->jupyterlab-drawio) (0.9.4)\n",
      "Requirement already satisfied: traitlets>=4.2.1 in d:\\anaconda3\\lib\\site-packages (from jupyter-server~=1.4->jupyterlab==3.*,>=3.0.0rc13->jupyterlab-drawio) (5.0.5)\n",
      "Requirement already satisfied: pywin32>=1.0 in d:\\anaconda3\\lib\\site-packages (from jupyter-server~=1.4->jupyterlab==3.*,>=3.0.0rc13->jupyterlab-drawio) (227)\n",
      "Requirement already satisfied: ipython-genutils in d:\\anaconda3\\lib\\site-packages (from jupyter-server~=1.4->jupyterlab==3.*,>=3.0.0rc13->jupyterlab-drawio) (0.2.0)\n",
      "Requirement already satisfied: Send2Trash in d:\\anaconda3\\lib\\site-packages (from jupyter-server~=1.4->jupyterlab==3.*,>=3.0.0rc13->jupyterlab-drawio) (1.5.0)\n",
      "Requirement already satisfied: sniffio>=1.1 in d:\\anaconda3\\lib\\site-packages (from anyio>=2.0.2->jupyter-server~=1.4->jupyterlab==3.*,>=3.0.0rc13->jupyterlab-drawio) (1.2.0)\n",
      "Requirement already satisfied: idna>=2.8 in d:\\anaconda3\\lib\\site-packages (from anyio>=2.0.2->jupyter-server~=1.4->jupyterlab==3.*,>=3.0.0rc13->jupyterlab-drawio) (2.10)\n",
      "Requirement already satisfied: python-dateutil>=2.1 in d:\\anaconda3\\lib\\site-packages (from jupyter-client>=6.1.1->jupyter-server~=1.4->jupyterlab==3.*,>=3.0.0rc13->jupyterlab-drawio) (2.8.1)\n",
      "Requirement already satisfied: json5 in d:\\anaconda3\\lib\\site-packages (from jupyterlab-server~=2.3->jupyterlab==3.*,>=3.0.0rc13->jupyterlab-drawio) (0.9.5)\n",
      "Requirement already satisfied: requests in d:\\anaconda3\\lib\\site-packages (from jupyterlab-server~=2.3->jupyterlab==3.*,>=3.0.0rc13->jupyterlab-drawio) (2.25.1)\n",
      "Requirement already satisfied: jsonschema>=3.0.1 in d:\\anaconda3\\lib\\site-packages (from jupyterlab-server~=2.3->jupyterlab==3.*,>=3.0.0rc13->jupyterlab-drawio) (3.2.0)\n",
      "Requirement already satisfied: babel in d:\\anaconda3\\lib\\site-packages (from jupyterlab-server~=2.3->jupyterlab==3.*,>=3.0.0rc13->jupyterlab-drawio) (2.9.0)\n",
      "Requirement already satisfied: attrs>=17.4.0 in d:\\anaconda3\\lib\\site-packages (from jsonschema>=3.0.1->jupyterlab-server~=2.3->jupyterlab==3.*,>=3.0.0rc13->jupyterlab-drawio) (20.3.0)\n",
      "Requirement already satisfied: setuptools in d:\\anaconda3\\lib\\site-packages (from jsonschema>=3.0.1->jupyterlab-server~=2.3->jupyterlab==3.*,>=3.0.0rc13->jupyterlab-drawio) (52.0.0.post20210125)\n",
      "Requirement already satisfied: six>=1.11.0 in d:\\anaconda3\\lib\\site-packages (from jsonschema>=3.0.1->jupyterlab-server~=2.3->jupyterlab==3.*,>=3.0.0rc13->jupyterlab-drawio) (1.15.0)\n",
      "Requirement already satisfied: pyrsistent>=0.14.0 in d:\\anaconda3\\lib\\site-packages (from jsonschema>=3.0.1->jupyterlab-server~=2.3->jupyterlab==3.*,>=3.0.0rc13->jupyterlab-drawio) (0.17.3)\n",
      "Requirement already satisfied: notebook<7 in d:\\anaconda3\\lib\\site-packages (from nbclassic~=0.2->jupyterlab==3.*,>=3.0.0rc13->jupyterlab-drawio) (6.3.0)\n",
      "Requirement already satisfied: argon2-cffi in d:\\anaconda3\\lib\\site-packages (from notebook<7->nbclassic~=0.2->jupyterlab==3.*,>=3.0.0rc13->jupyterlab-drawio) (20.1.0)\n",
      "Requirement already satisfied: ipykernel in d:\\anaconda3\\lib\\site-packages (from notebook<7->nbclassic~=0.2->jupyterlab==3.*,>=3.0.0rc13->jupyterlab-drawio) (5.3.4)\n",
      "Requirement already satisfied: pywinpty>=0.5 in d:\\anaconda3\\lib\\site-packages (from terminado>=0.8.3->jupyter-server~=1.4->jupyterlab==3.*,>=3.0.0rc13->jupyterlab-drawio) (0.5.7)\n",
      "Requirement already satisfied: cffi>=1.0.0 in d:\\anaconda3\\lib\\site-packages (from argon2-cffi->notebook<7->nbclassic~=0.2->jupyterlab==3.*,>=3.0.0rc13->jupyterlab-drawio) (1.14.5)\n",
      "Requirement already satisfied: pycparser in d:\\anaconda3\\lib\\site-packages (from cffi>=1.0.0->argon2-cffi->notebook<7->nbclassic~=0.2->jupyterlab==3.*,>=3.0.0rc13->jupyterlab-drawio) (2.20)\n",
      "Requirement already satisfied: pytz>=2015.7 in d:\\anaconda3\\lib\\site-packages (from babel->jupyterlab-server~=2.3->jupyterlab==3.*,>=3.0.0rc13->jupyterlab-drawio) (2021.1)\n",
      "Requirement already satisfied: decorator in d:\\anaconda3\\lib\\site-packages (from ipython->jupyterlab==3.*,>=3.0.0rc13->jupyterlab-drawio) (5.0.6)\n",
      "Requirement already satisfied: prompt-toolkit!=3.0.0,!=3.0.1,<3.1.0,>=2.0.0 in d:\\anaconda3\\lib\\site-packages (from ipython->jupyterlab==3.*,>=3.0.0rc13->jupyterlab-drawio) (3.0.17)\n",
      "Requirement already satisfied: backcall in d:\\anaconda3\\lib\\site-packages (from ipython->jupyterlab==3.*,>=3.0.0rc13->jupyterlab-drawio) (0.2.0)\n",
      "Requirement already satisfied: jedi>=0.16 in d:\\anaconda3\\lib\\site-packages (from ipython->jupyterlab==3.*,>=3.0.0rc13->jupyterlab-drawio) (0.17.2)\n",
      "Requirement already satisfied: pygments in d:\\anaconda3\\lib\\site-packages (from ipython->jupyterlab==3.*,>=3.0.0rc13->jupyterlab-drawio) (2.8.1)\n",
      "Requirement already satisfied: pickleshare in d:\\anaconda3\\lib\\site-packages (from ipython->jupyterlab==3.*,>=3.0.0rc13->jupyterlab-drawio) (0.7.5)\n",
      "Requirement already satisfied: colorama in d:\\anaconda3\\lib\\site-packages (from ipython->jupyterlab==3.*,>=3.0.0rc13->jupyterlab-drawio) (0.4.4)\n",
      "Requirement already satisfied: parso<0.8.0,>=0.7.0 in d:\\anaconda3\\lib\\site-packages (from jedi>=0.16->ipython->jupyterlab==3.*,>=3.0.0rc13->jupyterlab-drawio) (0.7.0)\n",
      "Requirement already satisfied: wcwidth in d:\\anaconda3\\lib\\site-packages (from prompt-toolkit!=3.0.0,!=3.0.1,<3.1.0,>=2.0.0->ipython->jupyterlab==3.*,>=3.0.0rc13->jupyterlab-drawio) (0.2.5)\n",
      "Requirement already satisfied: bleach in d:\\anaconda3\\lib\\site-packages (from nbconvert->jupyter-server~=1.4->jupyterlab==3.*,>=3.0.0rc13->jupyterlab-drawio) (3.3.0)\n",
      "Requirement already satisfied: defusedxml in d:\\anaconda3\\lib\\site-packages (from nbconvert->jupyter-server~=1.4->jupyterlab==3.*,>=3.0.0rc13->jupyterlab-drawio) (0.7.1)\n",
      "Requirement already satisfied: jupyterlab-pygments in d:\\anaconda3\\lib\\site-packages (from nbconvert->jupyter-server~=1.4->jupyterlab==3.*,>=3.0.0rc13->jupyterlab-drawio) (0.1.2)\n",
      "Requirement already satisfied: testpath in d:\\anaconda3\\lib\\site-packages (from nbconvert->jupyter-server~=1.4->jupyterlab==3.*,>=3.0.0rc13->jupyterlab-drawio) (0.4.4)\n",
      "Requirement already satisfied: nbclient<0.6.0,>=0.5.0 in d:\\anaconda3\\lib\\site-packages (from nbconvert->jupyter-server~=1.4->jupyterlab==3.*,>=3.0.0rc13->jupyterlab-drawio) (0.5.3)\n",
      "Requirement already satisfied: pandocfilters>=1.4.1 in d:\\anaconda3\\lib\\site-packages (from nbconvert->jupyter-server~=1.4->jupyterlab==3.*,>=3.0.0rc13->jupyterlab-drawio) (1.4.3)\n",
      "Requirement already satisfied: entrypoints>=0.2.2 in d:\\anaconda3\\lib\\site-packages (from nbconvert->jupyter-server~=1.4->jupyterlab==3.*,>=3.0.0rc13->jupyterlab-drawio) (0.3)\n",
      "Requirement already satisfied: mistune<2,>=0.8.1 in d:\\anaconda3\\lib\\site-packages (from nbconvert->jupyter-server~=1.4->jupyterlab==3.*,>=3.0.0rc13->jupyterlab-drawio) (0.8.4)\n",
      "Requirement already satisfied: async-generator in d:\\anaconda3\\lib\\site-packages (from nbclient<0.6.0,>=0.5.0->nbconvert->jupyter-server~=1.4->jupyterlab==3.*,>=3.0.0rc13->jupyterlab-drawio) (1.10)\n",
      "Requirement already satisfied: nest-asyncio in d:\\anaconda3\\lib\\site-packages (from nbclient<0.6.0,>=0.5.0->nbconvert->jupyter-server~=1.4->jupyterlab==3.*,>=3.0.0rc13->jupyterlab-drawio) (1.5.1)\n",
      "Requirement already satisfied: webencodings in d:\\anaconda3\\lib\\site-packages (from bleach->nbconvert->jupyter-server~=1.4->jupyterlab==3.*,>=3.0.0rc13->jupyterlab-drawio) (0.5.1)\n",
      "Requirement already satisfied: pyparsing>=2.0.2 in d:\\anaconda3\\lib\\site-packages (from packaging->jupyterlab==3.*,>=3.0.0rc13->jupyterlab-drawio) (2.4.7)\n",
      "Requirement already satisfied: urllib3<1.27,>=1.21.1 in d:\\anaconda3\\lib\\site-packages (from requests->jupyterlab-server~=2.3->jupyterlab==3.*,>=3.0.0rc13->jupyterlab-drawio) (1.26.4)\n",
      "Requirement already satisfied: chardet<5,>=3.0.2 in d:\\anaconda3\\lib\\site-packages (from requests->jupyterlab-server~=2.3->jupyterlab==3.*,>=3.0.0rc13->jupyterlab-drawio) (4.0.0)\n",
      "Requirement already satisfied: certifi>=2017.4.17 in d:\\anaconda3\\lib\\site-packages (from requests->jupyterlab-server~=2.3->jupyterlab==3.*,>=3.0.0rc13->jupyterlab-drawio) (2020.12.5)\n",
      "Installing collected packages: jupyterlab-drawio\n",
      "Successfully installed jupyterlab-drawio-0.9.0\n"
     ]
    }
   ],
   "source": [
    "!pip install jupyterlab-drawio"
   ]
  },
  {
   "cell_type": "markdown",
   "id": "5aa693bd-f0d5-4690-b057-2affab077e3d",
   "metadata": {},
   "source": [
    "### jupyterlab-variableInspector"
   ]
  },
  {
   "cell_type": "markdown",
   "id": "b436e3d1-f893-4b13-9d6d-00b3b97fa85d",
   "metadata": {},
   "source": [
    "jupyterlab-variableInspector帮助我们在jupyter lab中查看当前环境中存在的变量相关信息，以美观的界面形式对多种类型的对象予以呈现  \n",
    "官方文档：https://github.com/lckr/jupyterlab-variableInspector"
   ]
  },
  {
   "cell_type": "code",
   "execution_count": 1,
   "id": "dc1a573e-6a7d-4814-bb69-50a46e6c15b6",
   "metadata": {},
   "outputs": [
    {
     "name": "stdout",
     "output_type": "stream",
     "text": [
      "An error occured.\n",
      "RuntimeError: JupyterLab failed to build\n",
      "See the log file for details:  C:\\Users\\lenovo\\AppData\\Local\\Temp\\jupyterlab-debug-ol10fb_q.log\n"
     ]
    },
    {
     "name": "stderr",
     "output_type": "stream",
     "text": [
      "Building jupyterlab assets (production, minimized)\n"
     ]
    }
   ],
   "source": [
    "!jupyter labextension install @lckr/jupyterlab_variableinspector"
   ]
  },
  {
   "cell_type": "markdown",
   "id": "582f8d91-f994-466a-a501-734db57ecf05",
   "metadata": {},
   "source": [
    "### jupyterlab-system-monitor"
   ]
  },
  {
   "cell_type": "code",
   "execution_count": null,
   "id": "d6468400-35a3-413b-a27a-43599064b97c",
   "metadata": {},
   "outputs": [],
   "source": [
    "jupyterlab-system-monitor通过在jupyter lab界面中添加资源监视器部件，能帮助我们在工作过程中方便的看到CPU、内存的实时占用情况  \n",
    "官方文档：https://github.com/jtpio/jupyterlab-system-monitor"
   ]
  },
  {
   "cell_type": "code",
   "execution_count": null,
   "id": "46b15529-cfaf-4ab1-b0ef-dc6a03909bca",
   "metadata": {},
   "outputs": [],
   "source": [
    "pip install nbresuse\n",
    "jupyter labextension install jupyterlab-topbar-extension jupyterlab-system-monitor"
   ]
  },
  {
   "cell_type": "markdown",
   "id": "154bb0ad-d60f-4697-9a9e-074666ac8dca",
   "metadata": {},
   "source": [
    "### Excel插件"
   ]
  },
  {
   "cell_type": "markdown",
   "id": "f6466924-119c-45c0-9b91-0ced106d4df5",
   "metadata": {},
   "source": [
    "jupyterlab默认情况下无法打开Excel的文档，如果想查看Excel文档需要安装插件jupyterlab-spreadsheet，该插件仅支持查看Excel表格文件，特别是其支持查看多工作表的excel表格文件，但是无法进行写操作。   \n",
    "官方文档：https://github.com/quigleyj97/jupyterlab-spreadsheet"
   ]
  },
  {
   "cell_type": "code",
   "execution_count": 14,
   "id": "a45bff32-9879-4710-b4b3-912668ef6228",
   "metadata": {},
   "outputs": [
    {
     "name": "stdout",
     "output_type": "stream",
     "text": []
    },
    {
     "name": "stderr",
     "output_type": "stream",
     "text": [
      "Building jupyterlab assets (production, minimized)\n"
     ]
    },
    {
     "name": "stdout",
     "output_type": "stream",
     "text": [
      "\n"
     ]
    }
   ],
   "source": [
    "!jupyter labextension install jupyterlab-spreadsheet"
   ]
  },
  {
   "cell_type": "markdown",
   "id": "3a98eede-6084-4b8c-a0ce-25febc008648",
   "metadata": {},
   "source": [
    "### jupyterlab-execute-time"
   ]
  },
  {
   "cell_type": "code",
   "execution_count": null,
   "id": "92b71f93-ca2a-4c97-959d-353020e6d901",
   "metadata": {},
   "outputs": [],
   "source": [
    "jupyterlab-execute-time插件帮助我们在jupyter lab中记录每个单元cell的执行开始以及运行耗时  \n",
    "官方文档：https://github.com/deshaw/jupyterlab-execute-time"
   ]
  },
  {
   "cell_type": "code",
   "execution_count": null,
   "id": "9b8266fc-9689-4ce3-a504-4770fcca441e",
   "metadata": {},
   "outputs": [],
   "source": [
    "pip install jupyterlab_execute_time"
   ]
  },
  {
   "cell_type": "code",
   "execution_count": null,
   "id": "c71eac64-0f15-480a-89b3-d87850d01a2c",
   "metadata": {},
   "outputs": [],
   "source": [
    "conda install -c conda-forge jupyterlab_execute_time"
   ]
  },
  {
   "cell_type": "code",
   "execution_count": null,
   "id": "a0dddbf2-8a08-4244-94c0-cbff1989221c",
   "metadata": {},
   "outputs": [],
   "source": [
    "jupyter labextension install jupyterlab-execute-time"
   ]
  },
  {
   "cell_type": "markdown",
   "id": "26af5112-a422-4e8c-97d3-c6d5f2b33091",
   "metadata": {},
   "source": [
    "### sql"
   ]
  },
  {
   "cell_type": "code",
   "execution_count": null,
   "id": "bb48a416-feb5-4fcf-a31c-af7a8c8ff33b",
   "metadata": {},
   "outputs": [],
   "source": [
    "该插件在jupyterlab中提供了sql的用户界面，可以在Lab中连接数据库，并进行sql查询和修改操作。\n",
    "官方文档：https://github.com/pbugnion/jupyterlab-sql"
   ]
  },
  {
   "cell_type": "code",
   "execution_count": null,
   "id": "2cbba434-c699-4f44-bde5-c16261f907f6",
   "metadata": {},
   "outputs": [],
   "source": []
  },
  {
   "cell_type": "code",
   "execution_count": null,
   "id": "519dcbe4-9aff-403a-9c86-71c68d544642",
   "metadata": {},
   "outputs": [],
   "source": []
  }
 ],
 "metadata": {
  "kernelspec": {
   "display_name": "Python 3",
   "language": "python",
   "name": "python3"
  },
  "language_info": {
   "codemirror_mode": {
    "name": "ipython",
    "version": 3
   },
   "file_extension": ".py",
   "mimetype": "text/x-python",
   "name": "python",
   "nbconvert_exporter": "python",
   "pygments_lexer": "ipython3",
   "version": "3.8.8"
  },
  "toc-autonumbering": true,
  "toc-showtags": false
 },
 "nbformat": 4,
 "nbformat_minor": 5
}
