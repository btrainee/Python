{
 "cells": [
  {
   "cell_type": "markdown",
   "id": "485c85c5-f6ec-47ea-a827-cc752edd90f2",
   "metadata": {},
   "source": [
    "## 魔法命令"
   ]
  },
  {
   "cell_type": "markdown",
   "id": "8c60372c-c929-4fd8-b7ea-51da497d4cf1",
   "metadata": {},
   "source": [
    "%Ismagic函数可以列出所有magics命令，可以看出总共包含两大类，针对于行使用的line magics和针对于于单元格使用的cell magics。其中所有的line magics以%调用，而所有的cell magics以%%调用，应当放于cell的首行使用。"
   ]
  },
  {
   "cell_type": "markdown",
   "id": "a4802ffb-20ff-4ce2-be28-0e15a75b5486",
   "metadata": {},
   "source": [
    "%quickref函数可以列出所有魔法函数的简单帮助文档，%magic可以输出所有魔法函数详细的帮助文档，如果想查看具体某一个魔法函数的详细帮助文档，可以直接在调用魔法函数时再后边跟上？即可"
   ]
  },
  {
   "cell_type": "code",
   "execution_count": null,
   "id": "3a93f2a0-cdc2-47d5-bbbb-675cbed41c4a",
   "metadata": {},
   "outputs": [],
   "source": [
    "%lsmagic #Ismagic函数可以列出所有魔法函数"
   ]
  },
  {
   "cell_type": "code",
   "execution_count": null,
   "id": "11eee412-8219-4ae3-b5c8-49919c511b02",
   "metadata": {},
   "outputs": [],
   "source": [
    "%quickref"
   ]
  },
  {
   "cell_type": "code",
   "execution_count": null,
   "id": "6919ad0d-134a-433f-94dd-61978fb1f47c",
   "metadata": {},
   "outputs": [],
   "source": [
    "%magic "
   ]
  },
  {
   "cell_type": "code",
   "execution_count": 10,
   "id": "2009c00e-1ea3-4729-8c85-8a24620bedd6",
   "metadata": {},
   "outputs": [
    {
     "data": {
      "text/plain": [
       "\u001b[1;31mDocstring:\u001b[0m\n",
       "Print information about the magic function system.\n",
       "\n",
       "Supported formats: -latex, -brief, -rest\n",
       "\u001b[1;31mFile:\u001b[0m      d:\\anaconda3\\lib\\site-packages\\ipython\\core\\magics\\basic.py\n"
      ]
     },
     "metadata": {},
     "output_type": "display_data"
    }
   ],
   "source": [
    "%magic?"
   ]
  },
  {
   "cell_type": "markdown",
   "id": "de96b04f-5819-4cbb-8fde-5dd1f64a17db",
   "metadata": {},
   "source": [
    "## 常用魔法函数"
   ]
  },
  {
   "cell_type": "markdown",
   "id": "f4b89429-856a-4b68-9771-b7020041bc81",
   "metadata": {},
   "source": [
    "* %pwd  %cd  显示当前工作目录，且换工作目录"
   ]
  },
  {
   "cell_type": "code",
   "execution_count": 11,
   "id": "e68e206e-0eaf-46f3-91d0-38558e082605",
   "metadata": {},
   "outputs": [
    {
     "data": {
      "text/plain": [
       "'C:\\\\Users\\\\lenovo\\\\Desktop\\\\jupyter-test\\\\Python'"
      ]
     },
     "execution_count": 11,
     "metadata": {},
     "output_type": "execute_result"
    }
   ],
   "source": [
    "%pwd"
   ]
  },
  {
   "cell_type": "code",
   "execution_count": 20,
   "id": "dc628141-def1-456a-918d-d75247c62032",
   "metadata": {},
   "outputs": [
    {
     "name": "stdout",
     "output_type": "stream",
     "text": [
      "C:\\Users\\lenovo\\Desktop\\jupyter-test\\Python\n"
     ]
    }
   ],
   "source": [
    "%cd C:\\Users\\lenovo\\Desktop\\jupyter-test\\Python"
   ]
  },
  {
   "cell_type": "code",
   "execution_count": 14,
   "id": "567960fe-ae79-4b1b-835c-f9f39890b938",
   "metadata": {},
   "outputs": [
    {
     "data": {
      "text/plain": [
       "'C:\\\\Users\\\\lenovo\\\\Desktop\\\\jupyter-test'"
      ]
     },
     "execution_count": 14,
     "metadata": {},
     "output_type": "execute_result"
    }
   ],
   "source": [
    "%pwd"
   ]
  },
  {
   "cell_type": "markdown",
   "id": "ce4eb0f8-0a7d-4bcc-8d1e-8e8d97b6a5e3",
   "metadata": {},
   "source": [
    "*  %time 计算当前代码运行时长；%timeit 计算当前代码行的平均运行时长；%%timeit 计算当前cell的代码运行时长"
   ]
  },
  {
   "cell_type": "code",
   "execution_count": 16,
   "id": "d036994a-db41-40fc-941b-c36cdc7c9703",
   "metadata": {},
   "outputs": [
    {
     "name": "stdout",
     "output_type": "stream",
     "text": [
      "hello!\n",
      "Wall time: 0 ns\n"
     ]
    }
   ],
   "source": [
    "%time print(\"hello!\")"
   ]
  },
  {
   "cell_type": "code",
   "execution_count": 18,
   "id": "c3ee64e4-8c95-4a7c-805f-2c21c3f35413",
   "metadata": {},
   "outputs": [
    {
     "name": "stdout",
     "output_type": "stream",
     "text": [
      "90.8 µs ± 2.1 µs per loop (mean ± std. dev. of 7 runs, 10000 loops each)\n"
     ]
    }
   ],
   "source": [
    "%timeit [i*2 for i in range(1000)]"
   ]
  },
  {
   "cell_type": "code",
   "execution_count": 17,
   "id": "4764d2ea-5347-45a0-a36d-9f2553efd88d",
   "metadata": {},
   "outputs": [
    {
     "name": "stdout",
     "output_type": "stream",
     "text": [
      "118 µs ± 5.29 µs per loop (mean ± std. dev. of 7 runs, 1000 loops each)\n"
     ]
    }
   ],
   "source": [
    "%%timeit\n",
    "a_list = []\n",
    "[a_list.append(i) for i in range(1000)]"
   ]
  },
  {
   "cell_type": "markdown",
   "id": "e836fb9a-ce9c-4b24-be4f-7670c20018c0",
   "metadata": {},
   "source": [
    "* %run 运行外部python脚本；%load 载入外部脚本到当前"
   ]
  },
  {
   "cell_type": "code",
   "execution_count": 22,
   "id": "27f78665-96ea-498e-af1d-30546d4fb4f6",
   "metadata": {},
   "outputs": [
    {
     "name": "stdout",
     "output_type": "stream",
     "text": [
      "hello!\n"
     ]
    }
   ],
   "source": [
    "%run hello.py"
   ]
  },
  {
   "cell_type": "code",
   "execution_count": null,
   "id": "eaee6b3f-ece0-4862-a083-f2505330f9ce",
   "metadata": {},
   "outputs": [],
   "source": [
    "%load hello.py"
   ]
  },
  {
   "cell_type": "code",
   "execution_count": 23,
   "id": "059ddfb9-d657-4e49-9569-ecb4c81ef20f",
   "metadata": {},
   "outputs": [],
   "source": [
    "# %load hello.py\n",
    "#! /usr/bin/env python\n",
    "'''\n",
    "Description:\n",
    "\tthis file is used to test\n",
    "'''\n",
    "import argparse\n",
    "import sys\n",
    "import os\n",
    "import pandas as pd\n",
    "from functools import reduce\n",
    "\n",
    "__author__='Lixb'\n",
    "__mail__='XXX'\n",
    "\n",
    "print ('hello!')"
   ]
  },
  {
   "cell_type": "markdown",
   "id": "3cf53e13-b415-4a13-a1ef-f0315f25e3f9",
   "metadata": {},
   "source": [
    "* %hist显示所有运行过的命令记录，%history：列出历史输入的指令,类似于linux的history命令，感觉这俩命令基本一样；%dhist输出历史访问目录"
   ]
  },
  {
   "cell_type": "code",
   "execution_count": 24,
   "id": "a6abd4c7-becd-4b66-834f-918755faebd0",
   "metadata": {
    "collapsed": true,
    "jupyter": {
     "outputs_hidden": true
    },
    "tags": []
   },
   "outputs": [
    {
     "name": "stdout",
     "output_type": "stream",
     "text": [
      "print ('hello!')\n",
      "import numpy as np\n",
      "import pandas as pd\n",
      "import os\n",
      "%quickref\n",
      "### 魔法命令\n",
      "%magic\n",
      "%magic?\n",
      "%magic -rest\n",
      "%magic?\n",
      "%magic -brief\n",
      "%magic?\n",
      "%pwd\n",
      "%cd\n",
      "%cd C:\\Users\\lenovo\\Desktop\\jupyter-test\n",
      "%pwd\n",
      "%time import pandas as pd\n",
      "%time print(\"hello!\")\n",
      "%%timeit\n",
      "a_list = []\n",
      "[a_list.append(i) for i in range(1000)]\n",
      "%timeit [i*2 for i in range(1000)]\n",
      "%run hello.py\n",
      "%cd C:\\Users\\lenovo\\Desktop\\jupyter-test\\Python\n",
      "%run hello.py\n",
      "%run hello.py\n",
      "%load hello.py\n",
      "%hist\n"
     ]
    }
   ],
   "source": [
    "%hist"
   ]
  },
  {
   "cell_type": "code",
   "execution_count": 29,
   "id": "7bd9a5b0-a87c-47aa-818d-08c6a24d1655",
   "metadata": {
    "collapsed": true,
    "jupyter": {
     "outputs_hidden": true
    },
    "tags": []
   },
   "outputs": [
    {
     "name": "stdout",
     "output_type": "stream",
     "text": [
      "print ('hello!')\n",
      "import numpy as np\n",
      "import pandas as pd\n",
      "import os\n",
      "%quickref\n",
      "### 魔法命令\n",
      "%magic\n",
      "%magic?\n",
      "%magic -rest\n",
      "%magic?\n",
      "%magic -brief\n",
      "%magic?\n",
      "%pwd\n",
      "%cd\n",
      "%cd C:\\Users\\lenovo\\Desktop\\jupyter-test\n",
      "%pwd\n",
      "%time import pandas as pd\n",
      "%time print(\"hello!\")\n",
      "%%timeit\n",
      "a_list = []\n",
      "[a_list.append(i) for i in range(1000)]\n",
      "%timeit [i*2 for i in range(1000)]\n",
      "%run hello.py\n",
      "%cd C:\\Users\\lenovo\\Desktop\\jupyter-test\\Python\n",
      "%run hello.py\n",
      "%run hello.py\n",
      "%load hello.py\n",
      "%hist\n",
      "*  %time 计算当前代码运行时长；%timeit 计算当前代码行的平均运行时长；%%timeit 计算当前cell的代码运行时长\n",
      "%who　　#显示当前Jupyter环境中的所有变量或名称。\n",
      "%who\n",
      "%reset\n",
      "%history\n"
     ]
    }
   ],
   "source": [
    "%history"
   ]
  },
  {
   "cell_type": "code",
   "execution_count": 30,
   "id": "85757423-0dcf-45a6-86e0-aec740791bdf",
   "metadata": {
    "tags": []
   },
   "outputs": [
    {
     "name": "stdout",
     "output_type": "stream",
     "text": [
      "Directory history (kept in _dh)\n",
      "0: C:\\Users\\lenovo\\Desktop\\jupyter-test\\Python\n",
      "1: C:\\Users\\lenovo\n",
      "2: C:\\Users\\lenovo\\Desktop\\jupyter-test\n",
      "3: C:\\Users\\lenovo\\Desktop\\jupyter-test\\Python\n"
     ]
    }
   ],
   "source": [
    "%dhist"
   ]
  },
  {
   "cell_type": "markdown",
   "id": "7c4a7f92-0976-4c86-ba0b-b4e3dd0b5343",
   "metadata": {},
   "source": [
    "* %who 显示当前Jupyter环境中的所有变量或名称；%reset 删除当前Jupyter环境中的所有变量或名称。"
   ]
  },
  {
   "cell_type": "code",
   "execution_count": 27,
   "id": "fd00e682-45a0-424e-ae98-9db437d577ef",
   "metadata": {},
   "outputs": [
    {
     "name": "stdout",
     "output_type": "stream",
     "text": [
      "argparse\t np\t os\t pd\t reduce\t sys\t \n"
     ]
    }
   ],
   "source": [
    "%who "
   ]
  },
  {
   "cell_type": "code",
   "execution_count": 28,
   "id": "72d6f6c4-2349-4e75-8521-97a5aba89108",
   "metadata": {},
   "outputs": [
    {
     "name": "stdin",
     "output_type": "stream",
     "text": [
      "Once deleted, variables cannot be recovered. Proceed (y/[n])?  n\n"
     ]
    },
    {
     "name": "stdout",
     "output_type": "stream",
     "text": [
      "Nothing done.\n"
     ]
    }
   ],
   "source": [
    "%reset"
   ]
  },
  {
   "cell_type": "markdown",
   "id": "3a01154b-69c6-4148-af06-da29be0a0f01",
   "metadata": {},
   "source": [
    "* 一些魔法函数可以实现一些linux系统的命令，如%pycat：预览文件，类似linux中cat；%less，类似linux的less命令；类似的还有%more，%mkdir，%rmdir,%echo，%env等实现linux系统的命令"
   ]
  },
  {
   "cell_type": "code",
   "execution_count": 31,
   "id": "ce440192-5359-4460-8121-b1f0c9e06441",
   "metadata": {},
   "outputs": [
    {
     "data": {
      "text/plain": [
       "\u001b[1;31m#! /usr/bin/env python\u001b[0m\u001b[1;33m\n",
       "\u001b[0m\u001b[1;34m'''\n",
       "Description:\n",
       "        this file is used to test\n",
       "'''\u001b[0m\u001b[1;33m\n",
       "\u001b[0m\u001b[1;32mimport\u001b[0m \u001b[0margparse\u001b[0m\u001b[1;33m\n",
       "\u001b[0m\u001b[1;32mimport\u001b[0m \u001b[0msys\u001b[0m\u001b[1;33m\n",
       "\u001b[0m\u001b[1;32mimport\u001b[0m \u001b[0mos\u001b[0m\u001b[1;33m\n",
       "\u001b[0m\u001b[1;32mimport\u001b[0m \u001b[0mpandas\u001b[0m \u001b[1;32mas\u001b[0m \u001b[0mpd\u001b[0m\u001b[1;33m\n",
       "\u001b[0m\u001b[1;32mfrom\u001b[0m \u001b[0mfunctools\u001b[0m \u001b[1;32mimport\u001b[0m \u001b[0mreduce\u001b[0m\u001b[1;33m\n",
       "\u001b[0m\u001b[1;33m\n",
       "\u001b[0m\u001b[0m__author__\u001b[0m\u001b[1;33m=\u001b[0m\u001b[1;34m'Lixb'\u001b[0m\u001b[1;33m\n",
       "\u001b[0m\u001b[0m__mail__\u001b[0m\u001b[1;33m=\u001b[0m\u001b[1;34m'XXX'\u001b[0m\u001b[1;33m\n",
       "\u001b[0m\u001b[1;33m\n",
       "\u001b[0m\u001b[0mprint\u001b[0m \u001b[1;33m(\u001b[0m\u001b[1;34m'hello!'\u001b[0m\u001b[1;33m)\u001b[0m\u001b[1;33m\u001b[0m\u001b[1;33m\u001b[0m\u001b[0m\n"
      ]
     },
     "metadata": {},
     "output_type": "display_data"
    }
   ],
   "source": [
    "%pycat hello.py"
   ]
  },
  {
   "cell_type": "code",
   "execution_count": 43,
   "id": "3306a4e7-d20b-478d-996c-a603a126eda5",
   "metadata": {},
   "outputs": [
    {
     "data": {
      "text/plain": [
       "{'ALLUSERSPROFILE': 'C:\\\\ProgramData',\n",
       " 'APPDATA': 'C:\\\\Users\\\\lenovo\\\\AppData\\\\Roaming',\n",
       " 'COMMONPROGRAMFILES': 'C:\\\\Program Files\\\\Common Files',\n",
       " 'COMMONPROGRAMFILES(X86)': 'C:\\\\Program Files (x86)\\\\Common Files',\n",
       " 'COMMONPROGRAMW6432': 'C:\\\\Program Files\\\\Common Files',\n",
       " 'COMPUTERNAME': 'LAPTOP-U0TRDPK7',\n",
       " 'COMSPEC': 'C:\\\\WINDOWS\\\\system32\\\\cmd.exe',\n",
       " 'CONFIGSETROOT': 'C:\\\\WINDOWS\\\\ConfigSetRoot',\n",
       " 'DRIVERDATA': 'C:\\\\Windows\\\\System32\\\\Drivers\\\\DriverData',\n",
       " 'FPS_BROWSER_APP_PROFILE_STRING': 'Internet Explorer',\n",
       " 'FPS_BROWSER_USER_PROFILE_STRING': 'Default',\n",
       " 'HOMEDRIVE': 'C:',\n",
       " 'HOMEPATH': '\\\\Users\\\\lenovo',\n",
       " 'LOCALAPPDATA': 'C:\\\\Users\\\\lenovo\\\\AppData\\\\Local',\n",
       " 'LOGONSERVER': '\\\\\\\\LAPTOP-U0TRDPK7',\n",
       " 'MOZ_PLUGIN_PATH': 'C:\\\\Program Files (x86)\\\\Foxit Software\\\\Foxit Phantom\\\\plugins\\\\',\n",
       " 'NUMBER_OF_PROCESSORS': '4',\n",
       " 'ONEDRIVE': 'C:\\\\Users\\\\lenovo\\\\OneDrive',\n",
       " 'OS': 'Windows_NT',\n",
       " 'PATH': 'C:\\\\Program Files (x86)\\\\Common Files\\\\Oracle\\\\Java\\\\javapath;C:\\\\WINDOWS\\\\system32;C:\\\\WINDOWS;C:\\\\WINDOWS\\\\System32\\\\Wbem;C:\\\\WINDOWS\\\\System32\\\\WindowsPowerShell\\\\v1.0\\\\;C:\\\\WINDOWS\\\\System32\\\\OpenSSH\\\\;C:\\\\Program Files\\\\nodejs\\\\;D:\\\\Program Files\\\\Git\\\\cmd;D:\\\\anaconda3;D:\\\\anaconda3\\\\Library\\\\mingw-w64\\\\bin;D:\\\\anaconda3\\\\Library\\\\usr\\\\bin;D:\\\\anaconda3\\\\Library\\\\bin;D:\\\\anaconda3\\\\Scripts;C:\\\\Users\\\\lenovo\\\\AppData\\\\Local\\\\Microsoft\\\\WindowsApps;D:\\\\Program Files\\\\TBtools;C:\\\\Users\\\\lenovo\\\\AppData\\\\Local\\\\Microsoft\\\\WindowsApps;C:\\\\Users\\\\lenovo\\\\AppData\\\\Roaming\\\\npm;D:\\\\Program Files\\\\JetBrains\\\\PyCharm 2020.3.5\\\\bin',\n",
       " 'PATHEXT': '.COM;.EXE;.BAT;.CMD;.VBS;.VBE;.JS;.JSE;.WSF;.WSH;.MSC',\n",
       " 'PROCESSOR_ARCHITECTURE': 'AMD64',\n",
       " 'PROCESSOR_IDENTIFIER': 'Intel64 Family 6 Model 142 Stepping 9, GenuineIntel',\n",
       " 'PROCESSOR_LEVEL': '6',\n",
       " 'PROCESSOR_REVISION': '8e09',\n",
       " 'PROGRAMDATA': 'C:\\\\ProgramData',\n",
       " 'PROGRAMFILES': 'C:\\\\Program Files',\n",
       " 'PROGRAMFILES(X86)': 'C:\\\\Program Files (x86)',\n",
       " 'PROGRAMW6432': 'C:\\\\Program Files',\n",
       " 'PROMPT': '$P$G',\n",
       " 'PSMODULEPATH': 'C:\\\\Program Files\\\\WindowsPowerShell\\\\Modules;C:\\\\WINDOWS\\\\system32\\\\WindowsPowerShell\\\\v1.0\\\\Modules',\n",
       " 'PUBLIC': 'C:\\\\Users\\\\Public',\n",
       " 'PYCHARM': 'D:\\\\Program Files\\\\JetBrains\\\\PyCharm 2020.3.5\\\\bin;',\n",
       " 'SESSIONNAME': 'Console',\n",
       " 'SYSTEMDRIVE': 'C:',\n",
       " 'SYSTEMROOT': 'C:\\\\WINDOWS',\n",
       " 'TEMP': 'C:\\\\Users\\\\lenovo\\\\AppData\\\\Local\\\\Temp',\n",
       " 'TMP': 'C:\\\\Users\\\\lenovo\\\\AppData\\\\Local\\\\Temp',\n",
       " 'USERDOMAIN': 'LAPTOP-U0TRDPK7',\n",
       " 'USERDOMAIN_ROAMINGPROFILE': 'LAPTOP-U0TRDPK7',\n",
       " 'USERNAME': 'lenovo',\n",
       " 'USERPROFILE': 'C:\\\\Users\\\\lenovo',\n",
       " 'WINDIR': 'C:\\\\WINDOWS',\n",
       " 'WXDRIVE_START_ARGS': '--wxdrive-setting=0 --disable-gpu --disable-software-rasterizer --enable-features=NetworkServiceInProcess',\n",
       " 'PYTHONUNBUFFERED': '1',\n",
       " 'JPY_INTERRUPT_EVENT': '5080',\n",
       " 'IPY_INTERRUPT_EVENT': '5080',\n",
       " 'JPY_PARENT_PID': '3632',\n",
       " 'TERM': 'xterm-color',\n",
       " 'CLICOLOR': '1',\n",
       " 'PAGER': 'cat',\n",
       " 'GIT_PAGER': 'cat',\n",
       " 'MPLBACKEND': 'module://ipykernel.pylab.backend_inline'}"
      ]
     },
     "execution_count": 43,
     "metadata": {},
     "output_type": "execute_result"
    }
   ],
   "source": [
    "%env"
   ]
  },
  {
   "cell_type": "markdown",
   "id": "51c08ce5-c954-47c2-8e2d-dd20c18ec6d1",
   "metadata": {},
   "source": [
    "* %%writefile：将cell中的内容输出到目标文件"
   ]
  },
  {
   "cell_type": "code",
   "execution_count": 38,
   "id": "1f8b4798-4801-4e44-b9fa-e766c98b8281",
   "metadata": {},
   "outputs": [
    {
     "name": "stdout",
     "output_type": "stream",
     "text": [
      "Writing hello2.py\n"
     ]
    }
   ],
   "source": [
    "%%writefile hello2.py\n",
    "#! /usr/bin/env python\n",
    "print ('hello,world!')"
   ]
  },
  {
   "cell_type": "markdown",
   "id": "6f89ac68-b649-458f-9a69-5dff8b0469be",
   "metadata": {},
   "source": [
    "* %matplotlib inline：效果等价于plt.show()"
   ]
  },
  {
   "cell_type": "code",
   "execution_count": 39,
   "id": "00c59e3f-335b-41f0-af4a-9b7ed748d5b9",
   "metadata": {},
   "outputs": [],
   "source": [
    "%matplotlib inline\n",
    "import numpy as np\n",
    "import pandas as pd\n",
    "import matplotlib.pyplot as plt"
   ]
  },
  {
   "cell_type": "code",
   "execution_count": 40,
   "id": "43959eb8-427a-43ee-8988-1c8d3993d022",
   "metadata": {},
   "outputs": [
    {
     "data": {
      "text/plain": [
       "[<matplotlib.lines.Line2D at 0x1bc81612c40>]"
      ]
     },
     "execution_count": 40,
     "metadata": {},
     "output_type": "execute_result"
    },
    {
     "data": {
      "image/png": "[encoded data removed]",
      "text/plain": [
       "<Figure size 432x288 with 1 Axes>"
      ]
     },
     "metadata": {
      "needs_background": "light"
     },
     "output_type": "display_data"
    }
   ],
   "source": [
    "x=range(-100,100)\n",
    "y=[i**2 for i in x]\n",
    "plt.plot(x,y)"
   ]
  },
  {
   "cell_type": "markdown",
   "id": "fe94d9be-5d0d-401f-81ef-582e569642e8",
   "metadata": {},
   "source": [
    "* %conda：cell中安装package; %pip：在cell中使用pip指令"
   ]
  },
  {
   "cell_type": "code",
   "execution_count": null,
   "id": "e66c239b-b95b-4721-b700-a10a00a09314",
   "metadata": {},
   "outputs": [],
   "source": [
    "%conda install XXX\n",
    "%pip install XXX"
   ]
  }
 ],
 "metadata": {
  "kernelspec": {
   "display_name": "Python 3",
   "language": "python",
   "name": "python3"
  },
  "language_info": {
   "codemirror_mode": {
    "name": "ipython",
    "version": 3
   },
   "file_extension": ".py",
   "mimetype": "text/x-python",
   "name": "python",
   "nbconvert_exporter": "python",
   "pygments_lexer": "ipython3",
   "version": "3.8.8"
  },
  "toc-autonumbering": false,
  "toc-showcode": false,
  "toc-showmarkdowntxt": false
 },
 "nbformat": 4,
 "nbformat_minor": 5
}
