{
 "cells": [
  {
   "cell_type": "markdown",
   "metadata": {
    "slideshow": {
     "slide_type": "skip"
    },
    "tags": [
     "test"
    ]
   },
   "source": [
    "### 基础介绍\n",
    "0. 一个款以网页为基础的交互计算环境,可以创建Jupyter的文档,支持python\\R\\java等多种编程语言及markdown、letex等写作语言及公式输入\n",
    "1. python内核：ipython\n",
    "2. 集编程与写作与一身——文学编程，非常适用于笔记、演示及教学\n",
    "3. 以代码单元格为单元运行，实时显示中间过程及变量\n",
    "4. 拥有魔法函数\n",
    "5. [代码补全](https://www.cnblogs.com/qiuxirufeng/p/9609031.html)\n",
    "6. 下一代产品jupyter-lab"
   ]
  },
  {
   "cell_type": "markdown",
   "metadata": {},
   "source": [
    "### jupyter-lab——[官方文档](https://jupyterlab.readthedocs.io/en/stable/index.html)\n",
    "- Jupyter Notebook的升级版本，包含了Jupyter Notebook所有功能\n",
    "- 模块化界面：可以在同一个窗口同时打开好几个notebook或文件（HTML, TXT, Markdown等等），都以标签的形式展示，更像是一个IDE\n",
    "- Jupyter Lab支持打开pandas、numpy、matplotlib、scipy、python、ipython、scipy、markdown、notebook等官方文档。步骤：help->选择相应文档\n",
    "- 一个文档在多个窗口显示，可以更方便的编辑调试代码或文本\n",
    "- 可以清除输出结果，右键-Clear Outputs\n",
    "- 可以拖拽cell\n",
    "- 输出结果单独窗口显示，选中cell右键-create new view for output，即可将结果显示在新的窗口中\n",
    "- 插件更丰富"
   ]
  },
  {
   "cell_type": "markdown",
   "metadata": {},
   "source": [
    "### jupyter-lab插件安装\n",
    "1. 代码补全插件安装  \n",
    "安装完成后需要严格按照[python代码规范](https://www.cnblogs.com/baolin2200/p/6265206.html)书写，否则会各种提示\n",
    "    1. 左侧插件菜单（Extension manager）安装\n",
    "        - 搜索jupyterlab-lsp，搜到后（@krassowski/jupyterlab-lsp）点击install。安装完之后按照提示点击save and reload重新载入\n",
    "        - jupyter server extension enable --user --py jupyter_lsp\n",
    "    2. 在终端使用pip或conda进行安装\n",
    "        - pip install jupyterlab-lsp\n",
    "        - conda install -c conda-forge jupyterlab-lsp\n",
    "    "
   ]
  },
  {
   "cell_type": "code",
   "execution_count": 7,
   "metadata": {},
   "outputs": [],
   "source": [
    "# import pandas as pd\n",
    "import matplotlib.pyplot as plt"
   ]
  },
  {
   "cell_type": "code",
   "execution_count": 7,
   "metadata": {},
   "outputs": [],
   "source": [
    "%matplotlib inline"
   ]
  },
  {
   "cell_type": "markdown",
   "metadata": {},
   "source": [
    "### 魔法函数\n",
    "所谓魔法函数，实际上是IPython预先定义好的具备特定功能的函数被放到Jupyter中使用。  \n",
    "这是IPython特有的函数，并非Python的内置函数，因此脱离IPython的使用环境（如使用Pycharm或Python自带的IDLE开发环境等），这些函数是无法被解析运行的。"
   ]
  },
  {
   "cell_type": "code",
   "execution_count": null,
   "metadata": {},
   "outputs": [],
   "source": [
    "%lsmagic #Ismagic函数可以列出所有魔法函数"
   ]
  },
  {
   "cell_type": "code",
   "execution_count": null,
   "metadata": {},
   "outputs": [],
   "source": [
    "%quickref"
   ]
  },
  {
   "cell_type": "code",
   "execution_count": null,
   "metadata": {},
   "outputs": [],
   "source": [
    "%magic pwd"
   ]
  },
  {
   "cell_type": "code",
   "execution_count": 9,
   "metadata": {},
   "outputs": [
    {
     "data": {
      "text/plain": [
       "\u001b[1;31mDocstring:\u001b[0m\n",
       "Change the current working directory.\n",
       "\n",
       "This command automatically maintains an internal list of directories\n",
       "you visit during your IPython session, in the variable _dh. The\n",
       "command %dhist shows this history nicely formatted. You can also\n",
       "do 'cd -<tab>' to see directory history conveniently.\n",
       "\n",
       "Usage:\n",
       "\n",
       "  cd 'dir': changes to directory 'dir'.\n",
       "\n",
       "  cd -: changes to the last visited directory.\n",
       "\n",
       "  cd -<n>: changes to the n-th directory in the directory history.\n",
       "\n",
       "  cd --foo: change to directory that matches 'foo' in history\n",
       "\n",
       "  cd -b <bookmark_name>: jump to a bookmark set by %bookmark\n",
       "     (note: cd <bookmark_name> is enough if there is no\n",
       "      directory <bookmark_name>, but a bookmark with the name exists.)\n",
       "      'cd -b <tab>' allows you to tab-complete bookmark names.\n",
       "\n",
       "Options:\n",
       "\n",
       "-q: quiet.  Do not print the working directory after the cd command is\n",
       "executed.  By default IPython's cd command does print this directory,\n",
       "since the default prompts do not display path information.\n",
       "\n",
       "Note that !cd doesn't work for this purpose because the shell where\n",
       "!command runs is immediately discarded after executing 'command'.\n",
       "\n",
       "Examples\n",
       "--------\n",
       "::\n",
       "\n",
       "  In [10]: cd parent/child\n",
       "  /home/tsuser/parent/child\n",
       "\u001b[1;31mFile:\u001b[0m      d:\\anaconda3\\lib\\site-packages\\ipython\\core\\magics\\osm.py\n"
      ]
     },
     "metadata": {},
     "output_type": "display_data"
    }
   ],
   "source": [
    "%cd?"
   ]
  },
  {
   "cell_type": "code",
   "execution_count": 10,
   "metadata": {},
   "outputs": [
    {
     "data": {
      "text/plain": [
       "'C:\\\\Users\\\\lenovo\\\\Desktop\\\\jupyter-test\\\\Python'"
      ]
     },
     "execution_count": 10,
     "metadata": {},
     "output_type": "execute_result"
    }
   ],
   "source": [
    "%pwd # 显示当前工作目录"
   ]
  },
  {
   "cell_type": "code",
   "execution_count": 19,
   "metadata": {},
   "outputs": [
    {
     "name": "stdout",
     "output_type": "stream",
     "text": [
      "C:\\Users\\lenovo\\Desktop\n"
     ]
    }
   ],
   "source": [
    "%cd C:\\Users\\lenovo\\\\Desktop"
   ]
  },
  {
   "cell_type": "code",
   "execution_count": 20,
   "metadata": {},
   "outputs": [
    {
     "data": {
      "text/plain": [
       "'C:\\\\Users\\\\lenovo\\\\Desktop'"
      ]
     },
     "execution_count": 20,
     "metadata": {},
     "output_type": "execute_result"
    }
   ],
   "source": [
    "%pwd"
   ]
  },
  {
   "cell_type": "code",
   "execution_count": null,
   "metadata": {},
   "outputs": [],
   "source": [
    "%time　　#计算当前代码行的运行时长\n",
    "%timeit　　#计算当前代码行的平均运行时长（即在执行一个语句100000次(默认情况下)后，再给出运行最快3次的平均值\n",
    "%%timeit　　#计算当前cell的代码运行时长。"
   ]
  },
  {
   "cell_type": "code",
   "execution_count": 22,
   "metadata": {},
   "outputs": [
    {
     "name": "stdout",
     "output_type": "stream",
     "text": [
      "hello!\n",
      "Wall time: 999 µs\n"
     ]
    }
   ],
   "source": [
    "%time print(\"hello!\")"
   ]
  },
  {
   "cell_type": "code",
   "execution_count": 23,
   "metadata": {},
   "outputs": [
    {
     "name": "stdout",
     "output_type": "stream",
     "text": [
      "11.3 ms ± 527 µs per loop (mean ± std. dev. of 7 runs, 100 loops each)\n"
     ]
    }
   ],
   "source": [
    "%%timeit\n",
    "a_list = []\n",
    "[a_list.append(i) for i in range(100000)]"
   ]
  },
  {
   "cell_type": "code",
   "execution_count": null,
   "metadata": {},
   "outputs": [],
   "source": [
    "%timeit?"
   ]
  },
  {
   "cell_type": "code",
   "execution_count": null,
   "metadata": {},
   "outputs": [],
   "source": [
    "%load　　#加载本地Python文件或者网络中的Python文件\n",
    "# %load pandas测试.ipynb\n",
    "%run 运行本地或网络中的Python文件"
   ]
  },
  {
   "cell_type": "code",
   "execution_count": null,
   "metadata": {},
   "outputs": [],
   "source": [
    "%matplotlib #用于显示绘图结果的风格，默认为%matplotlib inline，是直接将图片显示在浏览器中，如果希望图片单独生成，可以使用%matplotlib"
   ]
  },
  {
   "cell_type": "code",
   "execution_count": null,
   "metadata": {},
   "outputs": [],
   "source": [
    "%hist　　#显示当前Jupyter中，所有运行过的历史代码。\n",
    "%who　　#显示当前Jupyter环境中的所有变量或名称。\n",
    "%reset  #删除当前Jupyter环境中的所有变量或名称。"
   ]
  },
  {
   "cell_type": "code",
   "execution_count": 4,
   "metadata": {},
   "outputs": [
    {
     "name": "stdout",
     "output_type": "stream",
     "text": [
      "C:\\Users\\lenovo\\Desktop\\jupyter-test\\Python\n"
     ]
    }
   ],
   "source": [
    "%cd C:\\Users\\lenovo\\Desktop\\jupyter-test\\Python"
   ]
  },
  {
   "cell_type": "code",
   "execution_count": 5,
   "metadata": {},
   "outputs": [
    {
     "data": {
      "text/plain": [
       "'C:\\\\Users\\\\lenovo\\\\Desktop\\\\jupyter-test\\\\Python'"
      ]
     },
     "execution_count": 5,
     "metadata": {},
     "output_type": "execute_result"
    }
   ],
   "source": [
    "%pwd"
   ]
  },
  {
   "cell_type": "code",
   "execution_count": 25,
   "metadata": {},
   "outputs": [
    {
     "data": {
      "text/plain": [
       "[]"
      ]
     },
     "execution_count": 25,
     "metadata": {},
     "output_type": "execute_result"
    }
   ],
   "source": [
    "%dirs"
   ]
  },
  {
   "cell_type": "code",
   "execution_count": 27,
   "metadata": {},
   "outputs": [
    {
     "name": "stdout",
     "output_type": "stream",
     "text": [
      "Exception reporting mode: Context\n",
      "Doctest mode is: OFF\n"
     ]
    }
   ],
   "source": [
    "%doctest_mode off"
   ]
  },
  {
   "cell_type": "code",
   "execution_count": 28,
   "metadata": {},
   "outputs": [
    {
     "name": "stdout",
     "output_type": "stream",
     "text": [
      "'hhhh'\n"
     ]
    }
   ],
   "source": [
    "%echo 'hhhh'"
   ]
  },
  {
   "cell_type": "code",
   "execution_count": 29,
   "metadata": {},
   "outputs": [
    {
     "data": {
      "text/plain": [
       "{'ALLUSERSPROFILE': 'C:\\\\ProgramData',\n",
       " 'APPDATA': 'C:\\\\Users\\\\lenovo\\\\AppData\\\\Roaming',\n",
       " 'COMMONPROGRAMFILES': 'C:\\\\Program Files\\\\Common Files',\n",
       " 'COMMONPROGRAMFILES(X86)': 'C:\\\\Program Files (x86)\\\\Common Files',\n",
       " 'COMMONPROGRAMW6432': 'C:\\\\Program Files\\\\Common Files',\n",
       " 'COMPUTERNAME': 'LAPTOP-U0TRDPK7',\n",
       " 'COMSPEC': 'C:\\\\WINDOWS\\\\system32\\\\cmd.exe',\n",
       " 'CONFIGSETROOT': 'C:\\\\WINDOWS\\\\ConfigSetRoot',\n",
       " 'DRIVERDATA': 'C:\\\\Windows\\\\System32\\\\Drivers\\\\DriverData',\n",
       " 'FPS_BROWSER_APP_PROFILE_STRING': 'Internet Explorer',\n",
       " 'FPS_BROWSER_USER_PROFILE_STRING': 'Default',\n",
       " 'HOMEDRIVE': 'C:',\n",
       " 'HOMEPATH': '\\\\Users\\\\lenovo',\n",
       " 'LOCALAPPDATA': 'C:\\\\Users\\\\lenovo\\\\AppData\\\\Local',\n",
       " 'LOGONSERVER': '\\\\\\\\LAPTOP-U0TRDPK7',\n",
       " 'MOZ_PLUGIN_PATH': 'C:\\\\Program Files (x86)\\\\Foxit Software\\\\Foxit Phantom\\\\plugins\\\\',\n",
       " 'NUMBER_OF_PROCESSORS': '4',\n",
       " 'ONEDRIVE': 'C:\\\\Users\\\\lenovo\\\\OneDrive',\n",
       " 'OS': 'Windows_NT',\n",
       " 'PATH': 'C:\\\\Program Files (x86)\\\\Common Files\\\\Oracle\\\\Java\\\\javapath;C:\\\\WINDOWS\\\\system32;C:\\\\WINDOWS;C:\\\\WINDOWS\\\\System32\\\\Wbem;C:\\\\WINDOWS\\\\System32\\\\WindowsPowerShell\\\\v1.0\\\\;C:\\\\WINDOWS\\\\System32\\\\OpenSSH\\\\;C:\\\\Program Files\\\\nodejs\\\\;D:\\\\Program Files\\\\Git\\\\cmd;D:\\\\anaconda3;D:\\\\anaconda3\\\\Library\\\\mingw-w64\\\\bin;D:\\\\anaconda3\\\\Library\\\\usr\\\\bin;D:\\\\anaconda3\\\\Library\\\\bin;D:\\\\anaconda3\\\\Scripts;C:\\\\Users\\\\lenovo\\\\AppData\\\\Local\\\\Microsoft\\\\WindowsApps;D:\\\\Program Files\\\\TBtools;C:\\\\Users\\\\lenovo\\\\AppData\\\\Local\\\\Microsoft\\\\WindowsApps;C:\\\\Users\\\\lenovo\\\\AppData\\\\Roaming\\\\npm;D:\\\\Program Files\\\\JetBrains\\\\PyCharm 2020.3.5\\\\bin',\n",
       " 'PATHEXT': '.COM;.EXE;.BAT;.CMD;.VBS;.VBE;.JS;.JSE;.WSF;.WSH;.MSC',\n",
       " 'PROCESSOR_ARCHITECTURE': 'AMD64',\n",
       " 'PROCESSOR_IDENTIFIER': 'Intel64 Family 6 Model 142 Stepping 9, GenuineIntel',\n",
       " 'PROCESSOR_LEVEL': '6',\n",
       " 'PROCESSOR_REVISION': '8e09',\n",
       " 'PROGRAMDATA': 'C:\\\\ProgramData',\n",
       " 'PROGRAMFILES': 'C:\\\\Program Files',\n",
       " 'PROGRAMFILES(X86)': 'C:\\\\Program Files (x86)',\n",
       " 'PROGRAMW6432': 'C:\\\\Program Files',\n",
       " 'PROMPT': '$P$G',\n",
       " 'PSMODULEPATH': 'C:\\\\Program Files\\\\WindowsPowerShell\\\\Modules;C:\\\\WINDOWS\\\\system32\\\\WindowsPowerShell\\\\v1.0\\\\Modules',\n",
       " 'PUBLIC': 'C:\\\\Users\\\\Public',\n",
       " 'PYCHARM': 'D:\\\\Program Files\\\\JetBrains\\\\PyCharm 2020.3.5\\\\bin;',\n",
       " 'SESSIONNAME': 'Console',\n",
       " 'SYSTEMDRIVE': 'C:',\n",
       " 'SYSTEMROOT': 'C:\\\\WINDOWS',\n",
       " 'TEMP': 'C:\\\\Users\\\\lenovo\\\\AppData\\\\Local\\\\Temp',\n",
       " 'TMP': 'C:\\\\Users\\\\lenovo\\\\AppData\\\\Local\\\\Temp',\n",
       " 'USERDOMAIN': 'LAPTOP-U0TRDPK7',\n",
       " 'USERDOMAIN_ROAMINGPROFILE': 'LAPTOP-U0TRDPK7',\n",
       " 'USERNAME': 'lenovo',\n",
       " 'USERPROFILE': 'C:\\\\Users\\\\lenovo',\n",
       " 'WINDIR': 'C:\\\\WINDOWS',\n",
       " 'WXDRIVE_START_ARGS': '--wxdrive-setting=0 --disable-gpu --disable-software-rasterizer --enable-features=NetworkServiceInProcess',\n",
       " 'JPY_INTERRUPT_EVENT': '764',\n",
       " 'IPY_INTERRUPT_EVENT': '764',\n",
       " 'JPY_PARENT_PID': '2964',\n",
       " 'TERM': 'xterm-color',\n",
       " 'CLICOLOR': '1',\n",
       " 'PAGER': 'cat',\n",
       " 'GIT_PAGER': 'cat',\n",
       " 'MPLBACKEND': 'module://ipykernel.pylab.backend_inline'}"
      ]
     },
     "execution_count": 29,
     "metadata": {},
     "output_type": "execute_result"
    }
   ],
   "source": [
    "%env"
   ]
  },
  {
   "cell_type": "markdown",
   "metadata": {},
   "source": [
    "###  快捷键：命令模式（蓝色）和编辑模式（绿色）  \n",
    "1. m键切换到markdown模式，y键切换到代码单元格\n",
    "2. esc键和回车键切换命令模式和编辑模式\n",
    "3. h键可查看所有的快捷键\n",
    "4. b键在下方创建单元格，a键在上方创建单元格，dd键删除——below、above、delete\n",
    "5. ctrl+enter 运行代码块\n",
    "6. alt+enter 运行代码块并新建新单元格\n",
    "6. c键复制，x键剪切，v粘贴到当前代码块,shift+v粘贴到单元格之前，z键撤销\n",
    "7. L给代码标行数"
   ]
  },
  {
   "cell_type": "code",
   "execution_count": 5,
   "metadata": {},
   "outputs": [],
   "source": [
    "import os\n",
    "import sys\n",
    "import pandas as pd\n",
    "import matplotlib.pyplot as plt"
   ]
  },
  {
   "cell_type": "code",
   "execution_count": 6,
   "metadata": {
    "tags": []
   },
   "outputs": [
    {
     "data": {
      "text/plain": [
       "'C:\\\\Users\\\\lenovo\\\\Desktop\\\\jupyter-test'"
      ]
     },
     "execution_count": 6,
     "metadata": {},
     "output_type": "execute_result"
    }
   ],
   "source": [
    "%pwd  # 当前路径"
   ]
  },
  {
   "cell_type": "markdown",
   "metadata": {},
   "source": [
    "### 高效使用Jupyter Notebook的15个技巧\n",
    "https://zhuanlan.zhihu.com/p/245897435"
   ]
  },
  {
   "cell_type": "code",
   "execution_count": null,
   "metadata": {},
   "outputs": [],
   "source": [
    "x = [2, 4, 5, 6]\n",
    "y = [i*2 for i in x]"
   ]
  },
  {
   "cell_type": "code",
   "execution_count": null,
   "metadata": {},
   "outputs": [],
   "source": [
    "x = [2, 4, 5, 6]\n",
    "y = [i*2 for i in x]"
   ]
  },
  {
   "cell_type": "code",
   "execution_count": 43,
   "metadata": {
    "scrolled": true
   },
   "outputs": [
    {
     "ename": "NameError",
     "evalue": "name 'plt' is not defined",
     "output_type": "error",
     "traceback": [
      "\u001b[1;31m---------------------------------------------------------------------------\u001b[0m",
      "\u001b[1;31mNameError\u001b[0m                                 Traceback (most recent call last)",
      "\u001b[1;32m<ipython-input-43-3572052619ce>\u001b[0m in \u001b[0;36m<module>\u001b[1;34m\u001b[0m\n\u001b[1;32m----> 1\u001b[1;33m \u001b[0mplt\u001b[0m\u001b[1;33m.\u001b[0m\u001b[0mplot\u001b[0m\u001b[1;33m(\u001b[0m\u001b[0mx\u001b[0m\u001b[1;33m,\u001b[0m \u001b[0my\u001b[0m\u001b[1;33m)\u001b[0m\u001b[1;33m\u001b[0m\u001b[1;33m\u001b[0m\u001b[0m\n\u001b[0m\u001b[0;32m      2\u001b[0m \u001b[0mplt\u001b[0m\u001b[1;33m.\u001b[0m\u001b[0mshow\u001b[0m\u001b[1;33m(\u001b[0m\u001b[1;33m)\u001b[0m\u001b[1;33m\u001b[0m\u001b[1;33m\u001b[0m\u001b[0m\n",
      "\u001b[1;31mNameError\u001b[0m: name 'plt' is not defined"
     ]
    }
   ],
   "source": [
    "plt.plot(x, y)\n",
    "plt.show()"
   ]
  },
  {
   "cell_type": "code",
   "execution_count": 1,
   "metadata": {},
   "outputs": [
    {
     "name": "stdout",
     "output_type": "stream",
     "text": [
      "3.0.14\n"
     ]
    }
   ],
   "source": [
    "## 查看版本\n",
    "!jupyter-lab --version"
   ]
  },
  {
   "cell_type": "code",
   "execution_count": null,
   "metadata": {},
   "outputs": [],
   "source": []
  }
 ],
 "metadata": {
  "kernelspec": {
   "display_name": "Python 3",
   "language": "python",
   "name": "python3"
  },
  "language_info": {
   "codemirror_mode": {
    "name": "ipython",
    "version": 3
   },
   "file_extension": ".py",
   "mimetype": "text/x-python",
   "name": "python",
   "nbconvert_exporter": "python",
   "pygments_lexer": "ipython3",
   "version": "3.8.8"
  },
  "toc-autonumbering": false,
  "toc-showcode": false,
  "toc-showmarkdowntxt": false
 },
 "nbformat": 4,
 "nbformat_minor": 4
}
