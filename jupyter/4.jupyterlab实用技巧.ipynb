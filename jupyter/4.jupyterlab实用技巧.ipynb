{
 "cells": [
  {
   "cell_type": "markdown",
   "id": "1d052cca-b50e-4955-b68c-cbf57f7f61f1",
   "metadata": {},
   "source": [
    "## 显示多个输出结果"
   ]
  },
  {
   "cell_type": "code",
   "execution_count": 2,
   "id": "3195bf0a-3048-48f0-b6c6-ac34dc35c21e",
   "metadata": {
    "execution": {
     "iopub.execute_input": "2021-10-20T05:22:42.736777Z",
     "iopub.status.busy": "2021-10-20T05:22:42.736777Z",
     "iopub.status.idle": "2021-10-20T05:22:42.742721Z",
     "shell.execute_reply": "2021-10-20T05:22:42.741722Z",
     "shell.execute_reply.started": "2021-10-20T05:22:42.736777Z"
    },
    "tags": []
   },
   "outputs": [],
   "source": [
    "from IPython.core.interactiveshell import InteractiveShell\n",
    "InteractiveShell.ast_node_interactivity = \"all\""
   ]
  },
  {
   "cell_type": "code",
   "execution_count": 3,
   "id": "cebbd92e-24df-4f88-9e54-2e5b3df86010",
   "metadata": {
    "execution": {
     "iopub.execute_input": "2021-10-20T05:23:09.147526Z",
     "iopub.status.busy": "2021-10-20T05:23:09.147526Z",
     "iopub.status.idle": "2021-10-20T05:23:09.186421Z",
     "shell.execute_reply": "2021-10-20T05:23:09.185423Z",
     "shell.execute_reply.started": "2021-10-20T05:23:09.147526Z"
    }
   },
   "outputs": [
    {
     "data": {
      "text/plain": [
       "'test1'"
      ]
     },
     "execution_count": 3,
     "metadata": {},
     "output_type": "execute_result"
    },
    {
     "data": {
      "text/plain": [
       "['saf', 'as', 'sdgs']"
      ]
     },
     "execution_count": 3,
     "metadata": {},
     "output_type": "execute_result"
    }
   ],
   "source": [
    "a = \"test1\"\n",
    "b = ['saf','as','sdgs']\n",
    "a\n",
    "b"
   ]
  },
  {
   "cell_type": "markdown",
   "id": "2cf23889-a073-46fc-910d-633fb919c341",
   "metadata": {
    "execution": {
     "iopub.execute_input": "2021-10-20T05:24:06.149300Z",
     "iopub.status.busy": "2021-10-20T05:24:06.149300Z",
     "iopub.status.idle": "2021-10-20T05:24:06.169244Z",
     "shell.execute_reply": "2021-10-20T05:24:06.168247Z",
     "shell.execute_reply.started": "2021-10-20T05:24:06.149300Z"
    }
   },
   "source": [
    "## 增加pandas显示的行数和列数"
   ]
  },
  {
   "cell_type": "markdown",
   "id": "b60001ca-fb00-49d5-b3bc-f303f8389e25",
   "metadata": {},
   "source": [
    "Python pandas显示的行和列数有限，可以根据自己的喜好调整限制"
   ]
  },
  {
   "cell_type": "code",
   "execution_count": 5,
   "id": "bbad18ae-fdba-4865-9f6f-be51398aebd8",
   "metadata": {
    "execution": {
     "iopub.execute_input": "2021-10-20T05:25:29.337117Z",
     "iopub.status.busy": "2021-10-20T05:25:29.336124Z",
     "iopub.status.idle": "2021-10-20T05:25:29.948398Z",
     "shell.execute_reply": "2021-10-20T05:25:29.947401Z",
     "shell.execute_reply.started": "2021-10-20T05:25:29.337117Z"
    }
   },
   "outputs": [],
   "source": [
    "import pandas as pd\n",
    "pd.set_option('display.max_rows', 500)\n",
    "pd.set_option('display.max_columns', 500)"
   ]
  },
  {
   "cell_type": "markdown",
   "id": "16d7bc40-d610-4848-bc71-345ab5b2dfbe",
   "metadata": {},
   "source": [
    "## 输出单元格中使用Markdown"
   ]
  },
  {
   "cell_type": "markdown",
   "id": "bcaab682-68a4-4da1-aa7e-3ccce58ab667",
   "metadata": {},
   "source": [
    "为了突出输出单元格的重要内容，可以添加粗体和颜色"
   ]
  },
  {
   "cell_type": "code",
   "execution_count": 11,
   "id": "8dda6fb0-080b-4ffb-9585-ab3f437333ba",
   "metadata": {
    "execution": {
     "iopub.execute_input": "2021-10-20T05:31:21.598947Z",
     "iopub.status.busy": "2021-10-20T05:31:21.597949Z",
     "iopub.status.idle": "2021-10-20T05:31:21.621885Z",
     "shell.execute_reply": "2021-10-20T05:31:21.620889Z",
     "shell.execute_reply.started": "2021-10-20T05:31:21.597949Z"
    },
    "tags": []
   },
   "outputs": [
    {
     "data": {
      "text/markdown": [
       "<span style='color:None'>**bold text**</span>"
      ],
      "text/plain": [
       "<IPython.core.display.Markdown object>"
      ]
     },
     "metadata": {},
     "output_type": "display_data"
    },
    {
     "data": {
      "text/markdown": [
       "<span style='color:red'>**bold text**</span>"
      ],
      "text/plain": [
       "<IPython.core.display.Markdown object>"
      ]
     },
     "metadata": {},
     "output_type": "display_data"
    }
   ],
   "source": [
    "from IPython.display import Markdown, display\n",
    "def print(string, color=None):\n",
    "    colorstr = \"<span style='color:{}'>{}</span>\".format(color, string)\n",
    "    display(Markdown(colorstr))\n",
    "print('**bold text**')\n",
    "print('**bold text**',color=\"red\")"
   ]
  },
  {
   "cell_type": "markdown",
   "id": "5565b050-cacd-488c-b6ef-033b61d07a9a",
   "metadata": {
    "execution": {
     "iopub.execute_input": "2021-10-20T05:34:36.542525Z",
     "iopub.status.busy": "2021-10-20T05:34:36.541527Z",
     "iopub.status.idle": "2021-10-20T05:34:36.561474Z",
     "shell.execute_reply": "2021-10-20T05:34:36.560477Z",
     "shell.execute_reply.started": "2021-10-20T05:34:36.541527Z"
    }
   },
   "source": [
    "## 隐藏Matplotlib固定输出文本"
   ]
  },
  {
   "cell_type": "markdown",
   "id": "cec15478-bf6a-4571-b9b8-e27bb1c6116d",
   "metadata": {},
   "source": [
    "可以在代码末尾添加分号隐藏<matplotlib.collections.PathCollection at 0x220d33bff10>"
   ]
  },
  {
   "cell_type": "code",
   "execution_count": 13,
   "id": "29b82466-6b7e-4757-8082-595417cde67b",
   "metadata": {
    "execution": {
     "iopub.execute_input": "2021-10-20T05:35:32.946848Z",
     "iopub.status.busy": "2021-10-20T05:35:32.945853Z",
     "iopub.status.idle": "2021-10-20T05:35:33.481821Z",
     "shell.execute_reply": "2021-10-20T05:35:33.479821Z",
     "shell.execute_reply.started": "2021-10-20T05:35:32.946848Z"
    }
   },
   "outputs": [],
   "source": [
    "from matplotlib import pyplot as plt\n",
    "import numpy as np\n",
    "%matplotlib inline"
   ]
  },
  {
   "cell_type": "code",
   "execution_count": 14,
   "id": "af77acb1-b0e1-46b4-b311-ff3900ffd684",
   "metadata": {
    "execution": {
     "iopub.execute_input": "2021-10-20T05:36:06.608133Z",
     "iopub.status.busy": "2021-10-20T05:36:06.606137Z",
     "iopub.status.idle": "2021-10-20T05:36:06.978143Z",
     "shell.execute_reply": "2021-10-20T05:36:06.977153Z",
     "shell.execute_reply.started": "2021-10-20T05:36:06.608133Z"
    }
   },
   "outputs": [
    {
     "data": {
      "text/plain": [
       "<matplotlib.collections.PathCollection at 0x220d33bff10>"
      ]
     },
     "execution_count": 14,
     "metadata": {},
     "output_type": "execute_result"
    },
    {
     "data": {
      "image/png": "[encoded data removed]",
      "text/plain": [
       "<Figure size 432x288 with 1 Axes>"
      ]
     },
     "metadata": {
      "needs_background": "light"
     },
     "output_type": "display_data"
    }
   ],
   "source": [
    "x = np.random.rand(50)\n",
    "y = np.random.rand(50)\n",
    "plt.scatter(x,y)"
   ]
  },
  {
   "cell_type": "code",
   "execution_count": 15,
   "id": "8794f89a-5ac5-4f5b-9108-4683a5184f72",
   "metadata": {
    "execution": {
     "iopub.execute_input": "2021-10-20T05:36:20.729929Z",
     "iopub.status.busy": "2021-10-20T05:36:20.729929Z",
     "iopub.status.idle": "2021-10-20T05:36:20.954329Z",
     "shell.execute_reply": "2021-10-20T05:36:20.953332Z",
     "shell.execute_reply.started": "2021-10-20T05:36:20.729929Z"
    }
   },
   "outputs": [
    {
     "data": {
      "image/png": "[encoded data removed]",
      "text/plain": [
       "<Figure size 432x288 with 1 Axes>"
      ]
     },
     "metadata": {
      "needs_background": "light"
     },
     "output_type": "display_data"
    }
   ],
   "source": [
    "plt.scatter(x,y);"
   ]
  },
  {
   "cell_type": "markdown",
   "id": "358f79ce-6f2c-4a04-a971-a937b9a25b1d",
   "metadata": {},
   "source": [
    "## 记录单元格执行时间"
   ]
  },
  {
   "cell_type": "markdown",
   "id": "21e9d19d-e828-4788-8aac-d72b033112db",
   "metadata": {},
   "source": [
    "%time 记录单行运行时间；%%time 记录整个单元格的运行时间"
   ]
  },
  {
   "cell_type": "code",
   "execution_count": 19,
   "id": "dd25c84b-eda7-41d4-88f4-868d1ac78661",
   "metadata": {
    "execution": {
     "iopub.execute_input": "2021-10-20T05:38:28.225956Z",
     "iopub.status.busy": "2021-10-20T05:38:28.225956Z",
     "iopub.status.idle": "2021-10-20T05:38:28.249891Z",
     "shell.execute_reply": "2021-10-20T05:38:28.248896Z",
     "shell.execute_reply.started": "2021-10-20T05:38:28.225956Z"
    },
    "tags": []
   },
   "outputs": [
    {
     "name": "stdout",
     "output_type": "stream",
     "text": [
      "Wall time: 15 ms\n"
     ]
    }
   ],
   "source": [
    "%%time\n",
    "for i in range(100000):\n",
    "    i*i"
   ]
  },
  {
   "cell_type": "code",
   "execution_count": 24,
   "id": "89d4e9a6-60e5-49d5-a860-fc0d470d6bc8",
   "metadata": {
    "execution": {
     "iopub.execute_input": "2021-10-20T05:39:52.079646Z",
     "iopub.status.busy": "2021-10-20T05:39:52.079646Z",
     "iopub.status.idle": "2021-10-20T05:39:52.099592Z",
     "shell.execute_reply": "2021-10-20T05:39:52.098600Z",
     "shell.execute_reply.started": "2021-10-20T05:39:52.079646Z"
    },
    "tags": []
   },
   "outputs": [
    {
     "name": "stdout",
     "output_type": "stream",
     "text": [
      "Wall time: 2 ms\n"
     ]
    }
   ],
   "source": [
    "%time a = [i*i for i in range(10000)]"
   ]
  },
  {
   "cell_type": "markdown",
   "id": "452df319-dcbe-4ec5-ab99-ae1cde506c4f",
   "metadata": {},
   "source": [
    "## 按列选中"
   ]
  },
  {
   "cell_type": "code",
   "execution_count": null,
   "id": "0c546c40-7c40-475f-bd47-0e12f8784b34",
   "metadata": {},
   "outputs": [],
   "source": [
    "如果想快速实现选中某一列进行删除或其他操作，可以采用vim的快捷方式，在markdown模式下，按住 alt键，拖拽鼠标"
   ]
  },
  {
   "cell_type": "markdown",
   "id": "b4136ef2-cf0c-4461-9c00-125fdc009245",
   "metadata": {},
   "source": [
    "1. aaa\n",
    "2. bbb\n",
    "3. ccc\n",
    "4. ddd"
   ]
  }
 ],
 "metadata": {
  "kernelspec": {
   "display_name": "Python 3",
   "language": "python",
   "name": "python3"
  },
  "language_info": {
   "codemirror_mode": {
    "name": "ipython",
    "version": 3
   },
   "file_extension": ".py",
   "mimetype": "text/x-python",
   "name": "python",
   "nbconvert_exporter": "python",
   "pygments_lexer": "ipython3",
   "version": "3.8.8"
  }
 },
 "nbformat": 4,
 "nbformat_minor": 5
}
