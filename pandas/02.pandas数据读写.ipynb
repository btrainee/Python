{
 "cells": [
  {
   "cell_type": "markdown",
   "id": "56ea6fb7-e6a0-4159-a04f-cfed849f5ad2",
   "metadata": {},
   "source": [
    "# 文件读取"
   ]
  },
  {
   "cell_type": "code",
   "execution_count": null,
   "id": "52eaee31-1c84-4eb5-8c79-00b11a48dc55",
   "metadata": {},
   "outputs": [],
   "source": [
    "import pandas as pd\n",
    "import numpy as np\n",
    "%pwd"
   ]
  },
  {
   "cell_type": "code",
   "execution_count": null,
   "id": "0aee399a-e0a3-4fa1-be09-4eebd2cb0b87",
   "metadata": {},
   "outputs": [],
   "source": [
    "import os"
   ]
  },
  {
   "cell_type": "code",
   "execution_count": null,
   "id": "94425df5-c7be-462c-8876-3b34dd7a1fc0",
   "metadata": {},
   "outputs": [],
   "source": [
    "os.getcwd()\n",
    "os.chdir(r'C:\\Users\\lenovo\\Desktop\\jupyter-test\\Python\\pandas')"
   ]
  },
  {
   "cell_type": "markdown",
   "id": "8898f993-dace-4e78-bb47-16d8e042e60b",
   "metadata": {},
   "source": [
    "### csv文件读取"
   ]
  },
  {
   "cell_type": "code",
   "execution_count": null,
   "id": "3afb5142-2e94-40b7-a377-10e53341a92f",
   "metadata": {},
   "outputs": [],
   "source": [
    "df1 = pd.read_csv('./pd_data/beijing_tianqi_2017-2019.csv',\n",
    "                dtype={'aqiLevel':int}, encoding='utf-8')\n",
    "# 常用参数：sep;header;index_col;names..."
   ]
  },
  {
   "cell_type": "code",
   "execution_count": null,
   "id": "9864cf9c-9314-4483-92f0-fd12f71a65ad",
   "metadata": {},
   "outputs": [],
   "source": [
    "df1.head()"
   ]
  },
  {
   "cell_type": "markdown",
   "id": "da0dc24c-44cd-4f00-940a-c1cc7f2c979d",
   "metadata": {},
   "source": [
    "### Excel文件读取"
   ]
  },
  {
   "cell_type": "code",
   "execution_count": null,
   "id": "9c78eb04-1dad-4b72-8037-e9d2405b75dc",
   "metadata": {},
   "outputs": [],
   "source": [
    "df2 = pd.read_excel('./pd_data/student_excel.xlsx',sheet_name=0)\n",
    "# 参数几乎与read_csv一样，需要指定sheet_name，默认为0，即第一个sheet"
   ]
  },
  {
   "cell_type": "code",
   "execution_count": null,
   "id": "aa92f1c1-0ab1-48b8-96f4-9358e4e5f450",
   "metadata": {},
   "outputs": [],
   "source": [
    "df2.head(5)"
   ]
  },
  {
   "cell_type": "markdown",
   "id": "843a09e9-e506-4c2a-9c1e-ce78bdca5d96",
   "metadata": {},
   "source": [
    "### json文件读取"
   ]
  },
  {
   "cell_type": "code",
   "execution_count": null,
   "id": "8540bff9-ba96-4fa8-a8cb-5bb157e61858",
   "metadata": {},
   "outputs": [],
   "source": [
    "df3 = pd.read_json('./pd_data/input.json')"
   ]
  },
  {
   "cell_type": "code",
   "execution_count": null,
   "id": "6bebf9d5-1978-4765-b0ae-f90a3cfa43cf",
   "metadata": {},
   "outputs": [],
   "source": [
    "df3"
   ]
  },
  {
   "cell_type": "markdown",
   "id": "d0af85c5-5789-4456-ae15-f49070b27e21",
   "metadata": {},
   "source": [
    "### txt文件读取"
   ]
  },
  {
   "cell_type": "code",
   "execution_count": 35,
   "id": "595f974c-f852-47e0-8fe3-ec9f116ed89e",
   "metadata": {},
   "outputs": [
    {
     "data": {
      "text/html": [
       "<div>\n",
       "<style scoped>\n",
       "    .dataframe tbody tr th:only-of-type {\n",
       "        vertical-align: middle;\n",
       "    }\n",
       "\n",
       "    .dataframe tbody tr th {\n",
       "        vertical-align: top;\n",
       "    }\n",
       "\n",
       "    .dataframe thead th {\n",
       "        text-align: right;\n",
       "    }\n",
       "</style>\n",
       "<table border=\"1\" class=\"dataframe\">\n",
       "  <thead>\n",
       "    <tr style=\"text-align: right;\">\n",
       "      <th></th>\n",
       "      <th>pdate</th>\n",
       "      <th>pv</th>\n",
       "      <th>uv</th>\n",
       "    </tr>\n",
       "  </thead>\n",
       "  <tbody>\n",
       "    <tr>\n",
       "      <th>0</th>\n",
       "      <td>2019-09-10</td>\n",
       "      <td>139</td>\n",
       "      <td>92</td>\n",
       "    </tr>\n",
       "    <tr>\n",
       "      <th>1</th>\n",
       "      <td>2019-09-09</td>\n",
       "      <td>185</td>\n",
       "      <td>153</td>\n",
       "    </tr>\n",
       "    <tr>\n",
       "      <th>2</th>\n",
       "      <td>2019-09-08</td>\n",
       "      <td>123</td>\n",
       "      <td>59</td>\n",
       "    </tr>\n",
       "    <tr>\n",
       "      <th>3</th>\n",
       "      <td>2019-09-07</td>\n",
       "      <td>65</td>\n",
       "      <td>40</td>\n",
       "    </tr>\n",
       "    <tr>\n",
       "      <th>4</th>\n",
       "      <td>2019-09-06</td>\n",
       "      <td>157</td>\n",
       "      <td>98</td>\n",
       "    </tr>\n",
       "  </tbody>\n",
       "</table>\n",
       "</div>"
      ],
      "text/plain": [
       "        pdate   pv   uv\n",
       "0  2019-09-10  139   92\n",
       "1  2019-09-09  185  153\n",
       "2  2019-09-08  123   59\n",
       "3  2019-09-07   65   40\n",
       "4  2019-09-06  157   98"
      ]
     },
     "execution_count": 35,
     "metadata": {},
     "output_type": "execute_result"
    }
   ],
   "source": [
    "df4 = pd.read_table('./pd_data/access_pvuv.txt', sep='\\t',header=None, names=['pdate', 'pv', 'uv'])\n",
    "df4.head()"
   ]
  },
  {
   "cell_type": "markdown",
   "id": "61d49cde-72ed-427f-b7e0-d2f4b59d53e9",
   "metadata": {},
   "source": [
    "* header=None 表示第一行不作为列名，   \n",
    "* index_col 表示把某一列或几列作为索引，  \n",
    "* usecols 表示读取列的集合，默认读取所有的列，  \n",
    "* parse_dates 表示需要转化为时间的列，  \n",
    "* nrows 表示读取的数据行数，  \n",
    "* sep=' \\|\\|\\|\\| ',engine='python'  sep指定分隔符，使用的是正则表达式，同时指定引擎为 python"
   ]
  },
  {
   "cell_type": "markdown",
   "id": "eb7d5417-27c0-446c-954d-e2de8caee33e",
   "metadata": {},
   "source": [
    "### mysql文件读取"
   ]
  },
  {
   "cell_type": "code",
   "execution_count": 40,
   "id": "c23a2e42-f0cd-4279-b4b6-671649a7d4f2",
   "metadata": {},
   "outputs": [],
   "source": [
    "import pymysql"
   ]
  },
  {
   "cell_type": "code",
   "execution_count": null,
   "id": "9ff0f973-3edc-4d74-bd5f-618d63386bde",
   "metadata": {},
   "outputs": [],
   "source": [
    "conn = pymysql.connect(\n",
    "        host='127.0.0.1',\n",
    "        user='root',\n",
    "        password='12345678',\n",
    "        database='test',\n",
    "        charset='utf8'\n",
    "    )\n",
    "mysql_page = pd.read_sql(\"select * from crazyant_pvuv\", con=conn)"
   ]
  },
  {
   "cell_type": "markdown",
   "id": "4eaedb81-6967-4967-bbd6-5a7761b6dece",
   "metadata": {},
   "source": [
    "# 文件写入\n",
    "pandas 中没有定义 to_table 函数，但是 to_csv 可以保存为 txt 文件，并且允许自定义分隔符，常用制表符 \\t 分割"
   ]
  },
  {
   "cell_type": "code",
   "execution_count": null,
   "id": "13e851eb-dd6c-48aa-b8f9-dff246ffaebb",
   "metadata": {},
   "outputs": [],
   "source": [
    "df1.to_csv('test.csv', sep='\\t', index=False)\n",
    "df2.to_excel('test.xlsx', index=False)"
   ]
  }
 ],
 "metadata": {
  "kernelspec": {
   "display_name": "Python 3",
   "language": "python",
   "name": "python3"
  },
  "language_info": {
   "codemirror_mode": {
    "name": "ipython",
    "version": 3
   },
   "file_extension": ".py",
   "mimetype": "text/x-python",
   "name": "python",
   "nbconvert_exporter": "python",
   "pygments_lexer": "ipython3",
   "version": "3.8.8"
  }
 },
 "nbformat": 4,
 "nbformat_minor": 5
}
