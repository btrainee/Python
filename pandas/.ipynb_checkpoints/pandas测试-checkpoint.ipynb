{
 "cells": [
  {
   "cell_type": "markdown",
   "metadata": {},
   "source": [
    "## 1.安装"
   ]
  },
  {
   "cell_type": "markdown",
   "metadata": {},
   "source": [
    "### 1.1 原生语法安装"
   ]
  },
  {
   "cell_type": "code",
   "execution_count": 1,
   "metadata": {},
   "outputs": [],
   "source": [
    "pip install pandas"
   ]
  },
  {
   "cell_type": "markdown",
   "metadata": {},
   "source": [
    "### 1.2 源码安装"
   ]
  },
  {
   "cell_type": "code",
   "execution_count": null,
   "metadata": {},
   "outputs": [],
   "source": [
    "git clone git://github.com/pydata/pandas.git\n",
    "cd pandas\n",
    "python setup.py install\n",
    "python setup.py install --prefix=/path/to/install ## --prefix指定安装路径"
   ]
  },
  {
   "cell_type": "markdown",
   "metadata": {},
   "source": [
    "### 1.3 使用anacoda安装"
   ]
  },
  {
   "cell_type": "code",
   "execution_count": null,
   "metadata": {},
   "outputs": [],
   "source": [
    "1. 下载安装anacoda\n",
    "2. conda install pandas"
   ]
  },
  {
   "cell_type": "markdown",
   "metadata": {},
   "source": [
    "### 1.4 导入pandas包，查看版本"
   ]
  },
  {
   "cell_type": "code",
   "execution_count": 1,
   "metadata": {},
   "outputs": [
    {
     "data": {
      "text/plain": [
       "'1.1.5'"
      ]
     },
     "execution_count": 1,
     "metadata": {},
     "output_type": "execute_result"
    }
   ],
   "source": [
    "import pandas\n",
    "pandas.__version__ ## 查看版本"
   ]
  },
  {
   "cell_type": "code",
   "execution_count": 1,
   "metadata": {},
   "outputs": [
    {
     "data": {
      "text/plain": [
       "'1.1.5'"
      ]
     },
     "execution_count": 1,
     "metadata": {},
     "output_type": "execute_result"
    }
   ],
   "source": [
    "import pandas as pd\n",
    "pd.__version__ ## 查看版本"
   ]
  },
  {
   "cell_type": "code",
   "execution_count": null,
   "metadata": {},
   "outputs": [],
   "source": [
    "dir(pd) ## 获取模块的属性和方法"
   ]
  },
  {
   "cell_type": "code",
   "execution_count": null,
   "metadata": {},
   "outputs": [],
   "source": [
    "help(pd)\n",
    "?pd\n",
    "??pd"
   ]
  },
  {
   "cell_type": "markdown",
   "metadata": {},
   "source": [
    "## 2.数据结构"
   ]
  },
  {
   "cell_type": "markdown",
   "metadata": {},
   "source": [
    "### 2.1 Series  \n",
    "类似一维数组的对象，一行或一列，由一组数据（不同数据类型）以及一组与之相关的数据标签（即索引）组成 "
   ]
  },
  {
   "cell_type": "code",
   "execution_count": null,
   "metadata": {},
   "outputs": [],
   "source": [
    "t = [1,2,3]\n",
    "tt = pd.Series(t)\n",
    "print(tt)"
   ]
  },
  {
   "cell_type": "code",
   "execution_count": null,
   "metadata": {
    "scrolled": true
   },
   "outputs": [],
   "source": [
    "a = {1 : \"cat\",2: \"dog\",3:\"pig\"}\n",
    "aa = pd.Series(a, index = [1,2],name=\"animals\")\n",
    "aa"
   ]
  },
  {
   "cell_type": "markdown",
   "metadata": {},
   "source": [
    "### 2.2 Pandas\n",
    "二维数据，表格型数据结构，多行多列  \n",
    "每列可以是不同的值类型（数值、字符串、布尔值）  \n",
    "既有行索引index，也有列索引columns  \n",
    "可以看做是由series组成的字典  "
   ]
  },
  {
   "cell_type": "code",
   "execution_count": null,
   "metadata": {},
   "outputs": [],
   "source": [
    "## dataframe的创建格式\n",
    "pd.DataFrame(data,index,columns,dtype,copy)"
   ]
  },
  {
   "cell_type": "code",
   "execution_count": null,
   "metadata": {},
   "outputs": [],
   "source": [
    "pandas.DataFrame( data, index, columns, dtype, copy)"
   ]
  },
  {
   "cell_type": "code",
   "execution_count": null,
   "metadata": {},
   "outputs": [],
   "source": [
    "data = {\"a\":['x','y','z'],\"b\":[4,5,6]}\n",
    "df = pd.DataFrame(data)\n",
    "df"
   ]
  },
  {
   "cell_type": "code",
   "execution_count": null,
   "metadata": {},
   "outputs": [],
   "source": [
    "# 使用loc属性返回指定行的数据，默认第一行索引是0\n",
    "df.loc[0]"
   ]
  },
  {
   "cell_type": "code",
   "execution_count": null,
   "metadata": {},
   "outputs": [],
   "source": [
    "# 使用 [[ ... ]] 格式返回多行数据，... 为各行的索引，以逗号隔开：\n",
    "df.loc[[0,1]]"
   ]
  },
  {
   "cell_type": "markdown",
   "metadata": {},
   "source": [
    "## 3. 数据读写"
   ]
  },
  {
   "cell_type": "code",
   "execution_count": 1,
   "metadata": {},
   "outputs": [],
   "source": [
    "import pandas as pd"
   ]
  },
  {
   "cell_type": "code",
   "execution_count": 24,
   "metadata": {},
   "outputs": [],
   "source": [
    "movies = pd.read_csv(\"./pd_data/movies.csv\",index_col=0,header=0,names=[\"名称\",\"类型\"])"
   ]
  },
  {
   "cell_type": "code",
   "execution_count": null,
   "metadata": {},
   "outputs": [],
   "source": [
    "movies = pd.read_csv(\"./pd_data/movies.csv\",index_col=0,header=0,names=[\"名称\",\"类型\"])\n",
    "movies.head(2)"
   ]
  },
  {
   "cell_type": "code",
   "execution_count": null,
   "metadata": {},
   "outputs": [],
   "source": [
    "students = pd.read_excel(\"./pd_data/student_excel.xlsx\",header=0)\n",
    "students.head(2)"
   ]
  },
  {
   "cell_type": "code",
   "execution_count": 35,
   "metadata": {},
   "outputs": [],
   "source": [
    "movies.to_csv(\"./pd_data/movies_re.xls\",index=1,header=0,sep=\"\\t\")\n",
    "保存列名；\n",
    "不保存行名；\n",
    "指定输出分隔符"
   ]
  },
  {
   "cell_type": "markdown",
   "metadata": {},
   "source": [
    "## 4 数据分析"
   ]
  },
  {
   "cell_type": "markdown",
   "metadata": {},
   "source": [
    "### 4.1 创建数据"
   ]
  },
  {
   "cell_type": "code",
   "execution_count": 2,
   "metadata": {},
   "outputs": [],
   "source": [
    "import numpy as np\n",
    "import pandas as pd"
   ]
  },
  {
   "cell_type": "code",
   "execution_count": 3,
   "metadata": {},
   "outputs": [],
   "source": [
    "df = pd.DataFrame({\"id\":[1001,1002,1003,1004,1005,1006], \n",
    "  \"date\":pd.date_range('20130102', periods=6),\n",
    "  \"city\":['Beijing ', 'SH', ' guangzhou ', 'Shenzhen', 'shanghai', 'BEIJING '],\n",
    "  \"age\":[23,44,54,32,34,32],\n",
    "  \"category\":['100-A','100-B','110-A','110-C','210-A','130-F'],\n",
    "  \"price\":[1200,np.nan,2133,5433,np.nan,4432]},\n",
    "  columns =['id','date','city','category','age','price'])"
   ]
  },
  {
   "cell_type": "code",
   "execution_count": 29,
   "metadata": {},
   "outputs": [
    {
     "data": {
      "text/plain": [
       "5"
      ]
     },
     "execution_count": 29,
     "metadata": {},
     "output_type": "execute_result"
    }
   ],
   "source": [
    "len(df['age'].unique())"
   ]
  },
  {
   "cell_type": "markdown",
   "metadata": {},
   "source": [
    "### 4.2 数据查询"
   ]
  },
  {
   "cell_type": "markdown",
   "metadata": {},
   "source": [
    "主要用到的三个函数：loc,iloc和ix，loc函数按标签值进行提取，iloc按位置进行提取，ix可以同时按标签和位置进行提取。 "
   ]
  },
  {
   "cell_type": "code",
   "execution_count": null,
   "metadata": {
    "scrolled": true
   },
   "outputs": [],
   "source": [
    "## 1.切片操作\n",
    "df['city'] ## 选择指定标签列\n",
    "df[0:3] ## 选择指定行\n",
    "# loc按索引标签值筛选\n",
    "df.loc[:,['city','age']] ## 提取多列\n",
    "df.loc[2] ## 按照索引，提取单行\n",
    "df.loc[2,'city'] ## 具体某个位置的值\n",
    "# iloc根据位置筛选\n",
    "df.iloc[2:4] ## 按照索引，提取单行或者区域行\n",
    "df.iloc[2:4,1:2] ## 按照索引，提取行列\n",
    "df.iloc[:3,1:2] ## 前3行\n",
    "df.iloc[[1,2],[2,4]]\n",
    "df.iat[1, 3] ## 快速定位\n",
    "# ix 按照索引标签和位置混合提取数据\n",
    "df.ix[:'1003',:3]"
   ]
  },
  {
   "cell_type": "markdown",
   "metadata": {},
   "source": [
    "使用df.loc查询数据的方法"
   ]
  },
  {
   "cell_type": "markdown",
   "metadata": {},
   "source": [
    "1. 使用单个label值查询数据\n",
    "2. 使用值列表批量查询\n",
    "3. 使用数值区间进行范围查询\n",
    "4. 使用条件表达式查询\n",
    "5. 调用函数查询"
   ]
  },
  {
   "cell_type": "code",
   "execution_count": 4,
   "metadata": {},
   "outputs": [],
   "source": [
    "df.set_index('date', inplace=True)"
   ]
  },
  {
   "cell_type": "code",
   "execution_count": 26,
   "metadata": {},
   "outputs": [
    {
     "data": {
      "text/html": [
       "<div>\n",
       "<style scoped>\n",
       "    .dataframe tbody tr th:only-of-type {\n",
       "        vertical-align: middle;\n",
       "    }\n",
       "\n",
       "    .dataframe tbody tr th {\n",
       "        vertical-align: top;\n",
       "    }\n",
       "\n",
       "    .dataframe thead th {\n",
       "        text-align: right;\n",
       "    }\n",
       "</style>\n",
       "<table border=\"1\" class=\"dataframe\">\n",
       "  <thead>\n",
       "    <tr style=\"text-align: right;\">\n",
       "      <th></th>\n",
       "      <th>id</th>\n",
       "      <th>city</th>\n",
       "      <th>category</th>\n",
       "      <th>age</th>\n",
       "      <th>price</th>\n",
       "    </tr>\n",
       "    <tr>\n",
       "      <th>date</th>\n",
       "      <th></th>\n",
       "      <th></th>\n",
       "      <th></th>\n",
       "      <th></th>\n",
       "      <th></th>\n",
       "    </tr>\n",
       "  </thead>\n",
       "  <tbody>\n",
       "    <tr>\n",
       "      <th>2013-01-07</th>\n",
       "      <td>1006</td>\n",
       "      <td>BEIJING</td>\n",
       "      <td>130-F</td>\n",
       "      <td>32</td>\n",
       "      <td>4432.0</td>\n",
       "    </tr>\n",
       "  </tbody>\n",
       "</table>\n",
       "</div>"
      ],
      "text/plain": [
       "              id      city category  age   price\n",
       "date                                            \n",
       "2013-01-07  1006  BEIJING     130-F   32  4432.0"
      ]
     },
     "execution_count": 26,
     "metadata": {},
     "output_type": "execute_result"
    }
   ],
   "source": [
    "# 1. 使用单个label查询\n",
    "df.loc['2013-01-02','id']\n",
    "# 2. 使用值列表查询\n",
    "df.loc[['2013-01-02', '2013-01-03'],:]\n",
    "# 3. 使用数值区间进行范围查询\n",
    "df.loc['2013-01-02':'2013-01-04','city':'price']\n",
    "# 4. 使用条件表达式查询\n",
    "df.loc[(df[\"age\"]>30) & ((df.city==\"shanghai\") | (df.city==\"Shenzhen\")),:]\n",
    "# 5. 使用函数查询\n",
    "def query_data(df):\n",
    "    return df.city.str.startswith(\"B\") & (df[\"age\"]>=30)   \n",
    "df.loc[query_data, :]"
   ]
  },
  {
   "cell_type": "markdown",
   "metadata": {},
   "source": [
    "### 数据表格信息查看"
   ]
  },
  {
   "cell_type": "code",
   "execution_count": null,
   "metadata": {},
   "outputs": [],
   "source": [
    "df.info()  ## 数据表基本信息查看（维度、列名称、数据格式、所占空间等）\n",
    "df.shape  ## 维度查看\n",
    "df.values() ## 查看数据表的值\n",
    "df.columns ## 查看列名称\n",
    "df.index ## 查看索引\n",
    "df.head() # 默认前10行数据\n",
    "df.tail(5)    # 默认后10 行数据\n",
    "df.describe() # 数据的快速统计汇总\n",
    "df.dtypes  ## 每一列数据的格式\n",
    "df['B'].dtype ## 指定列的数据格式\n",
    "df.isnull()  ## 查看空值,返回True、False\n",
    "df['B'].isnull()  ## 指定列是否空值\n",
    "df['B'].unique() ## 查看某一列的唯一值\n",
    "df.T # 转置数据\n",
    "df.sort_index(axis=1, ascending=False) # 排序，默认按照行index升序排序，axis=1,ascending=False表示按列index，降序排序\n",
    "df.sort_values(by=\"B\") # 按照value值排序"
   ]
  },
  {
   "cell_type": "markdown",
   "metadata": {},
   "source": [
    "### 数据表清洗"
   ]
  },
  {
   "cell_type": "code",
   "execution_count": null,
   "metadata": {},
   "outputs": [],
   "source": [
    "df.fillna(value=0) ## 用数字0填充空值：\n",
    "df['A'].fillna(df['A'].mean()) ## 使用列prince的均值对NA进行填充：\n",
    "df['B']=df['B'].map(str.strip) ## 清除city字段的字符空格：\n",
    "df['B']=df['B'].str.lower() ## 大小写转换：\n",
    "df['A'].astype('int')       ## 更改数据格式：\n",
    "df.rename(columns={'category': 'category-size'})  ## 更改列名称：\n",
    "df['A'].drop_duplicates() ## 删除后出现的重复值：\n",
    "df['A'].drop_duplicates(keep='last') ## 删除先出现的重复值：\n",
    "df['A'].replace('sh', 'shanghai') ## 数据替换：\n",
    "df.set_index(['c'], inplace=True) ## set_index()的drop参数默认为True,如下即默认将普通列c列置为索引列后,将原先的普通列c列删除."
   ]
  },
  {
   "cell_type": "markdown",
   "metadata": {},
   "source": [
    "### 数据筛选及处理"
   ]
  },
  {
   "cell_type": "code",
   "execution_count": 54,
   "metadata": {},
   "outputs": [
    {
     "data": {
      "text/plain": [
       "city\n",
       " guangzhou     0\n",
       "BEIJING        0\n",
       "Beijing        0\n",
       "SH             0\n",
       "Shenzhen       1\n",
       "shanghai       0\n",
       "Name: sign, dtype: int64"
      ]
     },
     "execution_count": 54,
     "metadata": {},
     "output_type": "execute_result"
    }
   ],
   "source": [
    "df[df['age']>23] ## 按照特定列的值筛选\n",
    "df[(df['age']>23) & (df['city']=='SH')] ## 多条件筛选\n",
    "df1 = df.set_index(['id']) ## 将id列设置为index\n",
    "df1.dropna(how='any') ## 删掉包含空值的所有行\n",
    "df1.fillna(value=1000) ## 将na设置成固定值\n",
    "df1['group']=np.where(df1['price']>1500,'high','low') ## 分组标记\n",
    "df1.loc[(df1['city']=='Shenzhen') & (df1['price']>=150),'sign']='yes' ## 对复合多个条件的数据分组标记\n",
    "df1['city'].isin(['Shenzhen']) ## isin判断，返回索引\n",
    "df1.loc[df1['city'].isin(['Shenzhen','shanghai'])]"
   ]
  },
  {
   "cell_type": "markdown",
   "metadata": {},
   "source": [
    "### 数据统计"
   ]
  },
  {
   "cell_type": "code",
   "execution_count": 60,
   "metadata": {},
   "outputs": [
    {
     "data": {
      "text/plain": [
       "-0.08689525836897034"
      ]
     },
     "execution_count": 60,
     "metadata": {},
     "output_type": "execute_result"
    }
   ],
   "source": [
    "df1.groupby('city')['sign'].count()  ## 分组统计\n",
    "df1['price'].std() ## 计算标准差\n",
    "df1['price'].cov(df1['age']) ## 两列的协方差\n",
    "df1['price'].corr(df1['age'])  ## 两列的相关性分析"
   ]
  },
  {
   "cell_type": "markdown",
   "metadata": {},
   "source": [
    "### 合并表格"
   ]
  },
  {
   "cell_type": "markdown",
   "metadata": {},
   "source": [
    "concat、merge、join"
   ]
  },
  {
   "cell_type": "code",
   "execution_count": null,
   "metadata": {},
   "outputs": [],
   "source": [
    "## concat可以将数据根据不同的轴作简单的融合\n",
    "pd.concat(objs, axis=0, join='outer', join_axes=None, ignore_index=False,\n",
    "       keys=None, levels=None, names=None, verify_integrity=False)"
   ]
  },
  {
   "cell_type": "markdown",
   "metadata": {},
   "source": [
    "objs: series，dataframe或者是panel构成的序列lsit  \n",
    "axis： 需要合并链接的轴，0是行，1是列  \n",
    "join：连接的方式 inner，或者outer  "
   ]
  },
  {
   "cell_type": "code",
   "execution_count": null,
   "metadata": {},
   "outputs": [],
   "source": [
    "## 增加数据来源列\n",
    "pd.concat([df1,df2,df3], keys=['x', 'y', 'z'])"
   ]
  },
  {
   "cell_type": "code",
   "execution_count": null,
   "metadata": {},
   "outputs": [],
   "source": [
    "# 传入字典增加分组\n",
    "pieces = {'x': df1, 'y': df2, 'z': df3}\n",
    "pd.concat(pieces)"
   ]
  },
  {
   "cell_type": "code",
   "execution_count": null,
   "metadata": {},
   "outputs": [],
   "source": [
    "## 指定合并方式，inner交集、outer并集\n",
    "pd.concat([df1, df4], axis=1, join='inner')"
   ]
  },
  {
   "cell_type": "code",
   "execution_count": 64,
   "metadata": {},
   "outputs": [
    {
     "data": {
      "text/plain": [
       "A    X0\n",
       "B    X1\n",
       "C    X2\n",
       "D    X3\n",
       "dtype: object"
      ]
     },
     "execution_count": 64,
     "metadata": {},
     "output_type": "execute_result"
    }
   ],
   "source": [
    "## 插入新行，或者合并两矩阵可以使用append\n",
    "pd.Series(['X0', 'X1', 'X2', 'X3'], index=['A', 'B', 'C', 'D'])\n",
    "df1.append(s2, ignore_index=True)\n",
    "\n",
    "dicts = [{'A': 1, 'B': 2, 'C': 3, 'X': 4},\n",
    "         {'A': 5, 'B': 6, 'C': 7, 'Y': 8}]\n",
    "df1.append(dicts, ignore_index=True)"
   ]
  },
  {
   "cell_type": "code",
   "execution_count": null,
   "metadata": {},
   "outputs": [],
   "source": [
    "pd.merge(left, right, how='inner', on=None, left_on=None, right_on=None, \n",
    "         left_index=False, right_index=False, sort=False, suffixes=('_x', '_y'), \n",
    "         copy=True, indicator=False, validate=None)\n",
    "pd.merge(df1, df2)\n",
    "#left和right：两个不同的DataFrame或Series\n",
    "#how：连接方式，有inner、left、right、outer，默认为inner\n",
    "#on：用于连接的列索引名称，必须同时存在于左、右两个DataFrame中，默认是以两个DataFrame列名的交集作为连接键，\n",
    "#若要实现多键连接，‘on’参数后传入多键列表即可\n",
    "#left_on：左侧DataFrame中用于连接键的列名，这个参数在左右列名不同但代表的含义相同时非常有用；\n",
    "#right_on：右侧DataFrame中用于连接键的列名\n",
    "#left_index：使用左侧DataFrame中的行索引作为连接键（ 但是这种情况下最好用JOIN）\n",
    "#right_index：使用右侧DataFrame中的行索引作为连接键（ 但是这种情况下最好用JOIN）\n",
    "#sort：默认为False，将合并的数据进行排序，设置为False可以提高性能\n",
    "#suffixes：字符串值组成的元组，用于指定当左右DataFrame存在相同列名时在列名后面附加的后缀名称，默认为(’_x’, ‘_y’)\n",
    "#copy：默认为True，总是将数据复制到数据结构中，设置为False可以提高性能\n",
    "#indicator：显示合并数据中数据的来源情况"
   ]
  },
  {
   "cell_type": "code",
   "execution_count": null,
   "metadata": {},
   "outputs": [],
   "source": [
    "DataFrame.join(other, on=None, how='left', lsuffix=' ', rsuffix=' ', sort=False)\n",
    "df1.join(df2)\n",
    "#参数的意义与merge方法基本相同，只是join方法默认为左外连接how=’left’"
   ]
  },
  {
   "cell_type": "markdown",
   "metadata": {},
   "source": [
    "### 文件读写"
   ]
  },
  {
   "cell_type": "code",
   "execution_count": null,
   "metadata": {},
   "outputs": [],
   "source": [
    "pd.read_csv('girl.csv', delim_whitespace=True, names=[\"编号\", \"姓名\", \"地址\", \"日期\"], header=0)"
   ]
  },
  {
   "cell_type": "code",
   "execution_count": null,
   "metadata": {},
   "outputs": [],
   "source": [
    "df.tp_csv('result.csv',sep='\\t',header=0,index=0,na_rep='NA',float_format='%.2f')\n",
    "# 不保存列名，索引；NA填充空值；保留2位小数"
   ]
  }
 ],
 "metadata": {
  "kernelspec": {
   "display_name": "Python 3",
   "language": "python",
   "name": "python3"
  },
  "language_info": {
   "codemirror_mode": {
    "name": "ipython",
    "version": 3
   },
   "file_extension": ".py",
   "mimetype": "text/x-python",
   "name": "python",
   "nbconvert_exporter": "python",
   "pygments_lexer": "ipython3",
   "version": "3.8.8"
  }
 },
 "nbformat": 4,
 "nbformat_minor": 4
}
