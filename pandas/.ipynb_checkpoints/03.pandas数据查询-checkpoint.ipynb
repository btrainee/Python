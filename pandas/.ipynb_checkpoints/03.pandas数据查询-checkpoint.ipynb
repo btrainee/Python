{
 "cells": [
  {
   "cell_type": "markdown",
   "id": "63126fc6-598e-444c-98e2-2415098298fc",
   "metadata": {},
   "source": [
    "# 数据查询的四大类方法"
   ]
  },
  {
   "cell_type": "markdown",
   "id": "f074c872-f746-48e5-869b-9d252ef8b0cd",
   "metadata": {},
   "source": [
    "从dateframe中查询，如果只查询一行、一列返回的是pd.Serires；如果查询多行、多列，返回的是pd.DataFrame"
   ]
  },
  {
   "cell_type": "code",
   "execution_count": 2,
   "id": "3b7aa565-2d88-42ad-aa5c-597548267f54",
   "metadata": {},
   "outputs": [],
   "source": [
    "import numpy as np\n",
    "import pandas as pd"
   ]
  },
  {
   "cell_type": "code",
   "execution_count": 3,
   "id": "1b3ad6f5-5c7d-47eb-8354-08b177429ae4",
   "metadata": {},
   "outputs": [
    {
     "data": {
      "text/html": [
       "<div>\n",
       "<style scoped>\n",
       "    .dataframe tbody tr th:only-of-type {\n",
       "        vertical-align: middle;\n",
       "    }\n",
       "\n",
       "    .dataframe tbody tr th {\n",
       "        vertical-align: top;\n",
       "    }\n",
       "\n",
       "    .dataframe thead th {\n",
       "        text-align: right;\n",
       "    }\n",
       "</style>\n",
       "<table border=\"1\" class=\"dataframe\">\n",
       "  <thead>\n",
       "    <tr style=\"text-align: right;\">\n",
       "      <th></th>\n",
       "      <th>id</th>\n",
       "      <th>date</th>\n",
       "      <th>city</th>\n",
       "      <th>category</th>\n",
       "      <th>age</th>\n",
       "      <th>price</th>\n",
       "    </tr>\n",
       "  </thead>\n",
       "  <tbody>\n",
       "    <tr>\n",
       "      <th>0</th>\n",
       "      <td>1001</td>\n",
       "      <td>2013-01-02</td>\n",
       "      <td>Beijing</td>\n",
       "      <td>100-A</td>\n",
       "      <td>23</td>\n",
       "      <td>1200.0</td>\n",
       "    </tr>\n",
       "    <tr>\n",
       "      <th>1</th>\n",
       "      <td>1002</td>\n",
       "      <td>2013-01-03</td>\n",
       "      <td>SH</td>\n",
       "      <td>100-B</td>\n",
       "      <td>44</td>\n",
       "      <td>NaN</td>\n",
       "    </tr>\n",
       "    <tr>\n",
       "      <th>2</th>\n",
       "      <td>1003</td>\n",
       "      <td>2013-01-04</td>\n",
       "      <td>guangzhou</td>\n",
       "      <td>110-A</td>\n",
       "      <td>54</td>\n",
       "      <td>2133.0</td>\n",
       "    </tr>\n",
       "    <tr>\n",
       "      <th>3</th>\n",
       "      <td>1004</td>\n",
       "      <td>2013-01-05</td>\n",
       "      <td>Shenzhen</td>\n",
       "      <td>110-C</td>\n",
       "      <td>32</td>\n",
       "      <td>5433.0</td>\n",
       "    </tr>\n",
       "    <tr>\n",
       "      <th>4</th>\n",
       "      <td>1005</td>\n",
       "      <td>2013-01-06</td>\n",
       "      <td>shanghai</td>\n",
       "      <td>210-A</td>\n",
       "      <td>34</td>\n",
       "      <td>NaN</td>\n",
       "    </tr>\n",
       "  </tbody>\n",
       "</table>\n",
       "</div>"
      ],
      "text/plain": [
       "     id       date         city category  age   price\n",
       "0  1001 2013-01-02     Beijing     100-A   23  1200.0\n",
       "1  1002 2013-01-03           SH    100-B   44     NaN\n",
       "2  1003 2013-01-04   guangzhou     110-A   54  2133.0\n",
       "3  1004 2013-01-05     Shenzhen    110-C   32  5433.0\n",
       "4  1005 2013-01-06     shanghai    210-A   34     NaN"
      ]
     },
     "execution_count": 3,
     "metadata": {},
     "output_type": "execute_result"
    }
   ],
   "source": [
    "df = pd.DataFrame({\"id\" : [1001,1002,1003,1004,1005,1006],  \n",
    "  \"date\" : pd.date_range('20130102', periods=6), \n",
    "  \"city\" : ['Beijing ', 'SH', ' guangzhou ', 'Shenzhen', 'shanghai', 'BEIJING '], \n",
    "  \"age\" : [23,44,54,32,34,32], \n",
    "  \"category\" : ['100-A','100-B','110-A','110-C','210-A','130-F'], \n",
    "  \"price\" : [1200,np.nan,2133,5433,np.nan,4432]}, \n",
    "  columns =['id','date','city','category','age','price'])\n",
    "df.head()"
   ]
  },
  {
   "cell_type": "markdown",
   "id": "6ac7d8a1-9f79-4c98-86cd-1d631e00d61b",
   "metadata": {},
   "source": [
    "## 1.切片查询"
   ]
  },
  {
   "cell_type": "markdown",
   "id": "9213686d-2077-4cbb-a768-eea548030187",
   "metadata": {},
   "source": [
    "### 列索引\n",
    "* 列索引是最常见的索引形式，一般通过 [] 来实现。通过 [列名] 可以从 DataFrame 中取出相应的列，返回值为 Series\n",
    "* 如果要取出多个列，则可以通过 [列名组成的列表] ，其返回值为一个 DataFrame \n",
    "* 若要取出单列，且列名中不包含空格，则可以用 .列名 取出，这和 [列名] 是等价的"
   ]
  },
  {
   "cell_type": "code",
   "execution_count": 13,
   "id": "2150cbaa-838a-407a-bbfd-3784f2ae3e55",
   "metadata": {},
   "outputs": [
    {
     "data": {
      "text/plain": [
       "0   2013-01-02\n",
       "1   2013-01-03\n",
       "2   2013-01-04\n",
       "3   2013-01-05\n",
       "4   2013-01-06\n",
       "5   2013-01-07\n",
       "Name: date, dtype: datetime64[ns]"
      ]
     },
     "execution_count": 13,
     "metadata": {},
     "output_type": "execute_result"
    }
   ],
   "source": [
    "df['date']\n",
    "df[['date','city']]\n",
    "df.date"
   ]
  },
  {
   "cell_type": "markdown",
   "id": "174b8851-2c54-476b-9771-a2f85868c447",
   "metadata": {},
   "source": [
    "### 行索引\n",
    "* dataframe不可以使用切片对行索引进行查询，查询出来的series可以\n",
    "* series的行索引访问方式与列表类似，但是增加了索引标签的访问"
   ]
  },
  {
   "cell_type": "code",
   "execution_count": 28,
   "id": "a59cc71c-5c28-4ff9-a551-94d2e76700f8",
   "metadata": {},
   "outputs": [
    {
     "data": {
      "text/plain": [
       "a    1\n",
       "a    3\n",
       "a    4\n",
       "a    5\n",
       "b    2\n",
       "dtype: int64"
      ]
     },
     "execution_count": 28,
     "metadata": {},
     "output_type": "execute_result"
    }
   ],
   "source": [
    "s1 = pd.Series([1, 2, 3, 4, 5, 6],index=['a', 'b', 'a', 'a', 'a', 'c'])\n",
    "s1['a']\n",
    "s1[['b','c']] ## 取多个索引\n",
    "s1['c': 'b': -2] ## 此种方式，包含端点元素，但是端点值不能存在重复，否则会报错如：s1['a':'b':-1]\n",
    "s1.sort_index()['a': 'b'] ## 可以排序后使用"
   ]
  },
  {
   "cell_type": "code",
   "execution_count": 43,
   "id": "7b73e54d-65b0-4120-8a29-cea6faf73cff",
   "metadata": {},
   "outputs": [
    {
     "data": {
      "text/plain": [
       "1    2\n",
       "2    3\n",
       "3    4\n",
       "4    5\n",
       "dtype: int64"
      ]
     },
     "execution_count": 43,
     "metadata": {},
     "output_type": "execute_result"
    }
   ],
   "source": [
    "s2 = pd.Series([1, 2, 3, 4, 5, 6])\n",
    "s2[0]\n",
    "s2[[0,3]]\n",
    "s2[0:3:2]\n",
    "s2[0:] \n",
    "s2[1:-1] ## 不包含右端点，左闭右开"
   ]
  },
  {
   "cell_type": "markdown",
   "id": "d3429c46-528a-4653-9e8d-017adbd21ad9",
   "metadata": {},
   "source": [
    "## 2.loc按照行索引标签值查询"
   ]
  },
  {
   "cell_type": "markdown",
   "id": "ccbde0a4-66fc-4d12-947c-cc1b2321195b",
   "metadata": {},
   "source": [
    "* loc 索引器的一般形式是 loc[*, *] ，其中第一个 * 代表行的选择，第二个 * 代表列的选择，如果省略第二个位置写作 loc[*] ，这个 * 是指行的筛选。其中， * 的位置一共有五类合法对象，分别是：单个元素、元素列表、元素切片、布尔列表以及函数"
   ]
  },
  {
   "cell_type": "code",
   "execution_count": 4,
   "id": "89662555-f9c8-45e4-bcce-4edb33a8934c",
   "metadata": {},
   "outputs": [],
   "source": [
    "df.set_index('id',inplace=True)"
   ]
  },
  {
   "cell_type": "code",
   "execution_count": 60,
   "id": "6aaf38b0-21da-44b4-a5d6-0ae259183019",
   "metadata": {},
   "outputs": [
    {
     "data": {
      "text/html": [
       "<div>\n",
       "<style scoped>\n",
       "    .dataframe tbody tr th:only-of-type {\n",
       "        vertical-align: middle;\n",
       "    }\n",
       "\n",
       "    .dataframe tbody tr th {\n",
       "        vertical-align: top;\n",
       "    }\n",
       "\n",
       "    .dataframe thead th {\n",
       "        text-align: right;\n",
       "    }\n",
       "</style>\n",
       "<table border=\"1\" class=\"dataframe\">\n",
       "  <thead>\n",
       "    <tr style=\"text-align: right;\">\n",
       "      <th></th>\n",
       "      <th>date</th>\n",
       "      <th>city</th>\n",
       "      <th>category</th>\n",
       "      <th>age</th>\n",
       "      <th>price</th>\n",
       "    </tr>\n",
       "    <tr>\n",
       "      <th>id</th>\n",
       "      <th></th>\n",
       "      <th></th>\n",
       "      <th></th>\n",
       "      <th></th>\n",
       "      <th></th>\n",
       "    </tr>\n",
       "  </thead>\n",
       "  <tbody>\n",
       "    <tr>\n",
       "      <th>1001</th>\n",
       "      <td>2013-01-02</td>\n",
       "      <td>Beijing</td>\n",
       "      <td>100-A</td>\n",
       "      <td>23</td>\n",
       "      <td>1200.0</td>\n",
       "    </tr>\n",
       "    <tr>\n",
       "      <th>1002</th>\n",
       "      <td>2013-01-03</td>\n",
       "      <td>SH</td>\n",
       "      <td>100-B</td>\n",
       "      <td>44</td>\n",
       "      <td>NaN</td>\n",
       "    </tr>\n",
       "    <tr>\n",
       "      <th>1003</th>\n",
       "      <td>2013-01-04</td>\n",
       "      <td>guangzhou</td>\n",
       "      <td>110-A</td>\n",
       "      <td>54</td>\n",
       "      <td>2133.0</td>\n",
       "    </tr>\n",
       "    <tr>\n",
       "      <th>1004</th>\n",
       "      <td>2013-01-05</td>\n",
       "      <td>Shenzhen</td>\n",
       "      <td>110-C</td>\n",
       "      <td>32</td>\n",
       "      <td>5433.0</td>\n",
       "    </tr>\n",
       "    <tr>\n",
       "      <th>1005</th>\n",
       "      <td>2013-01-06</td>\n",
       "      <td>shanghai</td>\n",
       "      <td>210-A</td>\n",
       "      <td>34</td>\n",
       "      <td>NaN</td>\n",
       "    </tr>\n",
       "    <tr>\n",
       "      <th>1006</th>\n",
       "      <td>2013-01-07</td>\n",
       "      <td>BEIJING</td>\n",
       "      <td>130-F</td>\n",
       "      <td>32</td>\n",
       "      <td>4432.0</td>\n",
       "    </tr>\n",
       "  </tbody>\n",
       "</table>\n",
       "</div>"
      ],
      "text/plain": [
       "           date         city category  age   price\n",
       "id                                                \n",
       "1001 2013-01-02     Beijing     100-A   23  1200.0\n",
       "1002 2013-01-03           SH    100-B   44     NaN\n",
       "1003 2013-01-04   guangzhou     110-A   54  2133.0\n",
       "1004 2013-01-05     Shenzhen    110-C   32  5433.0\n",
       "1005 2013-01-06     shanghai    210-A   34     NaN\n",
       "1006 2013-01-07     BEIJING     130-F   32  4432.0"
      ]
     },
     "execution_count": 60,
     "metadata": {},
     "output_type": "execute_result"
    }
   ],
   "source": [
    "df"
   ]
  },
  {
   "cell_type": "markdown",
   "id": "46a2825f-87ca-4877-8e3a-403341156fde",
   "metadata": {},
   "source": [
    "### 使用单个label值查询数据"
   ]
  },
  {
   "cell_type": "code",
   "execution_count": 78,
   "id": "373dc9c1-0dfe-4a0c-be7a-6216d9db4b1f",
   "metadata": {},
   "outputs": [
    {
     "data": {
      "text/plain": [
       "' guangzhou '"
      ]
     },
     "execution_count": 78,
     "metadata": {},
     "output_type": "execute_result"
    }
   ],
   "source": [
    "df.loc[1003] #单个元素 , 如果index不重复返回Series\n",
    "df.loc[1003,'city'] # 和列名一起"
   ]
  },
  {
   "cell_type": "markdown",
   "id": "a6622d1f-2b0e-46aa-956d-9c1ba8fe6c3b",
   "metadata": {},
   "source": [
    "### 使用值列表批量查询\n"
   ]
  },
  {
   "cell_type": "code",
   "execution_count": 79,
   "id": "c50166e0-03f7-4b45-8c18-f7806d69f0e4",
   "metadata": {},
   "outputs": [
    {
     "data": {
      "text/html": [
       "<div>\n",
       "<style scoped>\n",
       "    .dataframe tbody tr th:only-of-type {\n",
       "        vertical-align: middle;\n",
       "    }\n",
       "\n",
       "    .dataframe tbody tr th {\n",
       "        vertical-align: top;\n",
       "    }\n",
       "\n",
       "    .dataframe thead th {\n",
       "        text-align: right;\n",
       "    }\n",
       "</style>\n",
       "<table border=\"1\" class=\"dataframe\">\n",
       "  <thead>\n",
       "    <tr style=\"text-align: right;\">\n",
       "      <th></th>\n",
       "      <th>date</th>\n",
       "      <th>city</th>\n",
       "      <th>category</th>\n",
       "      <th>age</th>\n",
       "      <th>price</th>\n",
       "    </tr>\n",
       "    <tr>\n",
       "      <th>id</th>\n",
       "      <th></th>\n",
       "      <th></th>\n",
       "      <th></th>\n",
       "      <th></th>\n",
       "      <th></th>\n",
       "    </tr>\n",
       "  </thead>\n",
       "  <tbody>\n",
       "    <tr>\n",
       "      <th>1002</th>\n",
       "      <td>2013-01-03</td>\n",
       "      <td>SH</td>\n",
       "      <td>100-B</td>\n",
       "      <td>44</td>\n",
       "      <td>NaN</td>\n",
       "    </tr>\n",
       "    <tr>\n",
       "      <th>1004</th>\n",
       "      <td>2013-01-05</td>\n",
       "      <td>Shenzhen</td>\n",
       "      <td>110-C</td>\n",
       "      <td>32</td>\n",
       "      <td>5433.0</td>\n",
       "    </tr>\n",
       "  </tbody>\n",
       "</table>\n",
       "</div>"
      ],
      "text/plain": [
       "           date      city category  age   price\n",
       "id                                             \n",
       "1002 2013-01-03        SH    100-B   44     NaN\n",
       "1004 2013-01-05  Shenzhen    110-C   32  5433.0"
      ]
     },
     "execution_count": 79,
     "metadata": {},
     "output_type": "execute_result"
    }
   ],
   "source": [
    "df.loc[[1002,1004]] #元素列表 等价于 df.loc[[1002,1004],:]"
   ]
  },
  {
   "cell_type": "markdown",
   "id": "1dd28233-aaca-41da-8d0d-de4d1d99429d",
   "metadata": {},
   "source": [
    "### 使用数值区间进行范围查询\n"
   ]
  },
  {
   "cell_type": "code",
   "execution_count": 80,
   "id": "dc94dff4-52b6-4cc7-9060-3495a2c54301",
   "metadata": {},
   "outputs": [
    {
     "data": {
      "text/html": [
       "<div>\n",
       "<style scoped>\n",
       "    .dataframe tbody tr th:only-of-type {\n",
       "        vertical-align: middle;\n",
       "    }\n",
       "\n",
       "    .dataframe tbody tr th {\n",
       "        vertical-align: top;\n",
       "    }\n",
       "\n",
       "    .dataframe thead th {\n",
       "        text-align: right;\n",
       "    }\n",
       "</style>\n",
       "<table border=\"1\" class=\"dataframe\">\n",
       "  <thead>\n",
       "    <tr style=\"text-align: right;\">\n",
       "      <th></th>\n",
       "      <th>date</th>\n",
       "      <th>city</th>\n",
       "      <th>category</th>\n",
       "      <th>age</th>\n",
       "      <th>price</th>\n",
       "    </tr>\n",
       "    <tr>\n",
       "      <th>id</th>\n",
       "      <th></th>\n",
       "      <th></th>\n",
       "      <th></th>\n",
       "      <th></th>\n",
       "      <th></th>\n",
       "    </tr>\n",
       "  </thead>\n",
       "  <tbody>\n",
       "    <tr>\n",
       "      <th>1002</th>\n",
       "      <td>2013-01-03</td>\n",
       "      <td>SH</td>\n",
       "      <td>100-B</td>\n",
       "      <td>44</td>\n",
       "      <td>NaN</td>\n",
       "    </tr>\n",
       "    <tr>\n",
       "      <th>1003</th>\n",
       "      <td>2013-01-04</td>\n",
       "      <td>guangzhou</td>\n",
       "      <td>110-A</td>\n",
       "      <td>54</td>\n",
       "      <td>2133.0</td>\n",
       "    </tr>\n",
       "    <tr>\n",
       "      <th>1004</th>\n",
       "      <td>2013-01-05</td>\n",
       "      <td>Shenzhen</td>\n",
       "      <td>110-C</td>\n",
       "      <td>32</td>\n",
       "      <td>5433.0</td>\n",
       "    </tr>\n",
       "  </tbody>\n",
       "</table>\n",
       "</div>"
      ],
      "text/plain": [
       "           date         city category  age   price\n",
       "id                                                \n",
       "1002 2013-01-03           SH    100-B   44     NaN\n",
       "1003 2013-01-04   guangzhou     110-A   54  2133.0\n",
       "1004 2013-01-05     Shenzhen    110-C   32  5433.0"
      ]
     },
     "execution_count": 80,
     "metadata": {},
     "output_type": "execute_result"
    }
   ],
   "source": [
    "df.loc[1002:1004] #元素切片 ,如果是唯一值的起点和终点字符，那么就可以使用切片，并且包含两个端点，如果不唯一则报错"
   ]
  },
  {
   "cell_type": "markdown",
   "id": "9ca0a9ea-02ea-4b39-b682-3d316ecf4340",
   "metadata": {},
   "source": [
    "### 使用条件表达式查询"
   ]
  },
  {
   "cell_type": "code",
   "execution_count": 81,
   "id": "96184f7b-e058-4069-9e15-d451f78522bc",
   "metadata": {},
   "outputs": [
    {
     "data": {
      "text/html": [
       "<div>\n",
       "<style scoped>\n",
       "    .dataframe tbody tr th:only-of-type {\n",
       "        vertical-align: middle;\n",
       "    }\n",
       "\n",
       "    .dataframe tbody tr th {\n",
       "        vertical-align: top;\n",
       "    }\n",
       "\n",
       "    .dataframe thead th {\n",
       "        text-align: right;\n",
       "    }\n",
       "</style>\n",
       "<table border=\"1\" class=\"dataframe\">\n",
       "  <thead>\n",
       "    <tr style=\"text-align: right;\">\n",
       "      <th></th>\n",
       "      <th>date</th>\n",
       "      <th>city</th>\n",
       "      <th>category</th>\n",
       "      <th>age</th>\n",
       "      <th>price</th>\n",
       "    </tr>\n",
       "    <tr>\n",
       "      <th>id</th>\n",
       "      <th></th>\n",
       "      <th></th>\n",
       "      <th></th>\n",
       "      <th></th>\n",
       "      <th></th>\n",
       "    </tr>\n",
       "  </thead>\n",
       "  <tbody>\n",
       "    <tr>\n",
       "      <th>1002</th>\n",
       "      <td>2013-01-03</td>\n",
       "      <td>SH</td>\n",
       "      <td>100-B</td>\n",
       "      <td>44</td>\n",
       "      <td>NaN</td>\n",
       "    </tr>\n",
       "    <tr>\n",
       "      <th>1004</th>\n",
       "      <td>2013-01-05</td>\n",
       "      <td>Shenzhen</td>\n",
       "      <td>110-C</td>\n",
       "      <td>32</td>\n",
       "      <td>5433.0</td>\n",
       "    </tr>\n",
       "  </tbody>\n",
       "</table>\n",
       "</div>"
      ],
      "text/plain": [
       "           date      city category  age   price\n",
       "id                                             \n",
       "1002 2013-01-03        SH    100-B   44     NaN\n",
       "1004 2013-01-05  Shenzhen    110-C   32  5433.0"
      ]
     },
     "execution_count": 81,
     "metadata": {},
     "output_type": "execute_result"
    }
   ],
   "source": [
    "df.loc[df.age>40] #根据条件返回的布尔值查询\n",
    "df.loc[df.city.isin(['SH','Shenzhen'])] ##isin必须是str类型"
   ]
  },
  {
   "cell_type": "markdown",
   "id": "8cd2dc89-3a29-44ca-80a7-3c3e0b01c015",
   "metadata": {},
   "source": [
    "### 调用函数查询"
   ]
  },
  {
   "cell_type": "code",
   "execution_count": 82,
   "id": "a29ab6c2-5238-443f-9749-8cdf73bf3bbd",
   "metadata": {},
   "outputs": [
    {
     "data": {
      "text/html": [
       "<div>\n",
       "<style scoped>\n",
       "    .dataframe tbody tr th:only-of-type {\n",
       "        vertical-align: middle;\n",
       "    }\n",
       "\n",
       "    .dataframe tbody tr th {\n",
       "        vertical-align: top;\n",
       "    }\n",
       "\n",
       "    .dataframe thead th {\n",
       "        text-align: right;\n",
       "    }\n",
       "</style>\n",
       "<table border=\"1\" class=\"dataframe\">\n",
       "  <thead>\n",
       "    <tr style=\"text-align: right;\">\n",
       "      <th></th>\n",
       "      <th>date</th>\n",
       "      <th>city</th>\n",
       "      <th>category</th>\n",
       "      <th>age</th>\n",
       "      <th>price</th>\n",
       "    </tr>\n",
       "    <tr>\n",
       "      <th>id</th>\n",
       "      <th></th>\n",
       "      <th></th>\n",
       "      <th></th>\n",
       "      <th></th>\n",
       "      <th></th>\n",
       "    </tr>\n",
       "  </thead>\n",
       "  <tbody>\n",
       "    <tr>\n",
       "      <th>1004</th>\n",
       "      <td>2013-01-05</td>\n",
       "      <td>Shenzhen</td>\n",
       "      <td>110-C</td>\n",
       "      <td>32</td>\n",
       "      <td>5433.0</td>\n",
       "    </tr>\n",
       "  </tbody>\n",
       "</table>\n",
       "</div>"
      ],
      "text/plain": [
       "           date      city category  age   price\n",
       "id                                             \n",
       "1004 2013-01-05  Shenzhen    110-C   32  5433.0"
      ]
     },
     "execution_count": 82,
     "metadata": {},
     "output_type": "execute_result"
    }
   ],
   "source": [
    "def condition(x):\n",
    "    condition1 = x.age>40\n",
    "    condition2 = x.city=='Shenzhen'\n",
    "    con = condition2 & (~condition1)\n",
    "    return con\n",
    "df.loc[condition] # 使用函数"
   ]
  },
  {
   "cell_type": "code",
   "execution_count": 83,
   "id": "7cb3ca94-b0b3-423b-83bd-d02ca63aaa09",
   "metadata": {},
   "outputs": [
    {
     "data": {
      "text/plain": [
       "'Shenzhen'"
      ]
     },
     "execution_count": 83,
     "metadata": {},
     "output_type": "execute_result"
    }
   ],
   "source": [
    "df.loc[lambda x:1004,lambda x:'city']"
   ]
  },
  {
   "cell_type": "markdown",
   "id": "6243373d-00e2-4d07-a335-9c7b6964fc63",
   "metadata": {},
   "source": [
    "## 3.iloc按照行位置查询"
   ]
  },
  {
   "cell_type": "markdown",
   "id": "7311c133-bb63-4f52-a45b-05608ff00ebf",
   "metadata": {},
   "source": [
    "iloc 的使用与 loc 完全类似，只不过是针对位置进行筛选，在相应的 * 位置处一共也有五类合法对象，分别是：整数、整数列表、整数切片、布尔列表以及函数"
   ]
  },
  {
   "cell_type": "code",
   "execution_count": 85,
   "id": "1bfa16ca-f2fc-4307-9b49-dcac172971f9",
   "metadata": {},
   "outputs": [
    {
     "data": {
      "text/plain": [
       "'SH'"
      ]
     },
     "execution_count": 85,
     "metadata": {},
     "output_type": "execute_result"
    }
   ],
   "source": [
    "df.iloc[1, 1] "
   ]
  },
  {
   "cell_type": "code",
   "execution_count": 90,
   "id": "edcd1853-c73f-431b-a4a2-44d93ac44c1e",
   "metadata": {},
   "outputs": [
    {
     "data": {
      "text/html": [
       "<div>\n",
       "<style scoped>\n",
       "    .dataframe tbody tr th:only-of-type {\n",
       "        vertical-align: middle;\n",
       "    }\n",
       "\n",
       "    .dataframe tbody tr th {\n",
       "        vertical-align: top;\n",
       "    }\n",
       "\n",
       "    .dataframe thead th {\n",
       "        text-align: right;\n",
       "    }\n",
       "</style>\n",
       "<table border=\"1\" class=\"dataframe\">\n",
       "  <thead>\n",
       "    <tr style=\"text-align: right;\">\n",
       "      <th></th>\n",
       "      <th>city</th>\n",
       "      <th>category</th>\n",
       "    </tr>\n",
       "    <tr>\n",
       "      <th>id</th>\n",
       "      <th></th>\n",
       "      <th></th>\n",
       "    </tr>\n",
       "  </thead>\n",
       "  <tbody>\n",
       "    <tr>\n",
       "      <th>1001</th>\n",
       "      <td>Beijing</td>\n",
       "      <td>100-A</td>\n",
       "    </tr>\n",
       "    <tr>\n",
       "      <th>1002</th>\n",
       "      <td>SH</td>\n",
       "      <td>100-B</td>\n",
       "    </tr>\n",
       "  </tbody>\n",
       "</table>\n",
       "</div>"
      ],
      "text/plain": [
       "          city category\n",
       "id                     \n",
       "1001  Beijing     100-A\n",
       "1002        SH    100-B"
      ]
     },
     "execution_count": 90,
     "metadata": {},
     "output_type": "execute_result"
    }
   ],
   "source": [
    "df.iloc[[0, 1], [0, 1]]\n",
    "df.iloc[0:2, 1:3] ## 左闭右开"
   ]
  },
  {
   "cell_type": "code",
   "execution_count": 91,
   "id": "31a3416d-02b6-4d37-86e0-ed4f50cd862f",
   "metadata": {},
   "outputs": [
    {
     "data": {
      "text/html": [
       "<div>\n",
       "<style scoped>\n",
       "    .dataframe tbody tr th:only-of-type {\n",
       "        vertical-align: middle;\n",
       "    }\n",
       "\n",
       "    .dataframe tbody tr th {\n",
       "        vertical-align: top;\n",
       "    }\n",
       "\n",
       "    .dataframe thead th {\n",
       "        text-align: right;\n",
       "    }\n",
       "</style>\n",
       "<table border=\"1\" class=\"dataframe\">\n",
       "  <thead>\n",
       "    <tr style=\"text-align: right;\">\n",
       "      <th></th>\n",
       "      <th>date</th>\n",
       "      <th>city</th>\n",
       "      <th>category</th>\n",
       "      <th>age</th>\n",
       "      <th>price</th>\n",
       "    </tr>\n",
       "    <tr>\n",
       "      <th>id</th>\n",
       "      <th></th>\n",
       "      <th></th>\n",
       "      <th></th>\n",
       "      <th></th>\n",
       "      <th></th>\n",
       "    </tr>\n",
       "  </thead>\n",
       "  <tbody>\n",
       "    <tr>\n",
       "      <th>1002</th>\n",
       "      <td>2013-01-03</td>\n",
       "      <td>SH</td>\n",
       "      <td>100-B</td>\n",
       "      <td>44</td>\n",
       "      <td>NaN</td>\n",
       "    </tr>\n",
       "    <tr>\n",
       "      <th>1003</th>\n",
       "      <td>2013-01-04</td>\n",
       "      <td>guangzhou</td>\n",
       "      <td>110-A</td>\n",
       "      <td>54</td>\n",
       "      <td>2133.0</td>\n",
       "    </tr>\n",
       "    <tr>\n",
       "      <th>1004</th>\n",
       "      <td>2013-01-05</td>\n",
       "      <td>Shenzhen</td>\n",
       "      <td>110-C</td>\n",
       "      <td>32</td>\n",
       "      <td>5433.0</td>\n",
       "    </tr>\n",
       "  </tbody>\n",
       "</table>\n",
       "</div>"
      ],
      "text/plain": [
       "           date         city category  age   price\n",
       "id                                                \n",
       "1002 2013-01-03           SH    100-B   44     NaN\n",
       "1003 2013-01-04   guangzhou     110-A   54  2133.0\n",
       "1004 2013-01-05     Shenzhen    110-C   32  5433.0"
      ]
     },
     "execution_count": 91,
     "metadata": {},
     "output_type": "execute_result"
    }
   ],
   "source": [
    "df.iloc[lambda x: slice(1, 4)]"
   ]
  },
  {
   "cell_type": "markdown",
   "id": "2ed94ffc-46e4-4b1d-bdd6-0652557eceaf",
   "metadata": {},
   "source": [
    "在使用布尔列表的时候要特别注意，不能传入 Series 而必须传入序列的 values ，否则会报错。因此，在使用布尔筛选的时候还是应当优先考虑 loc 的方式"
   ]
  },
  {
   "cell_type": "code",
   "execution_count": 94,
   "id": "f1756e68-5a3e-42f2-96b4-6fe49d49e7c9",
   "metadata": {},
   "outputs": [
    {
     "data": {
      "text/html": [
       "<div>\n",
       "<style scoped>\n",
       "    .dataframe tbody tr th:only-of-type {\n",
       "        vertical-align: middle;\n",
       "    }\n",
       "\n",
       "    .dataframe tbody tr th {\n",
       "        vertical-align: top;\n",
       "    }\n",
       "\n",
       "    .dataframe thead th {\n",
       "        text-align: right;\n",
       "    }\n",
       "</style>\n",
       "<table border=\"1\" class=\"dataframe\">\n",
       "  <thead>\n",
       "    <tr style=\"text-align: right;\">\n",
       "      <th></th>\n",
       "      <th>date</th>\n",
       "      <th>city</th>\n",
       "      <th>category</th>\n",
       "      <th>age</th>\n",
       "      <th>price</th>\n",
       "    </tr>\n",
       "    <tr>\n",
       "      <th>id</th>\n",
       "      <th></th>\n",
       "      <th></th>\n",
       "      <th></th>\n",
       "      <th></th>\n",
       "      <th></th>\n",
       "    </tr>\n",
       "  </thead>\n",
       "  <tbody>\n",
       "    <tr>\n",
       "      <th>1002</th>\n",
       "      <td>2013-01-03</td>\n",
       "      <td>SH</td>\n",
       "      <td>100-B</td>\n",
       "      <td>44</td>\n",
       "      <td>NaN</td>\n",
       "    </tr>\n",
       "    <tr>\n",
       "      <th>1003</th>\n",
       "      <td>2013-01-04</td>\n",
       "      <td>guangzhou</td>\n",
       "      <td>110-A</td>\n",
       "      <td>54</td>\n",
       "      <td>2133.0</td>\n",
       "    </tr>\n",
       "  </tbody>\n",
       "</table>\n",
       "</div>"
      ],
      "text/plain": [
       "           date         city category  age   price\n",
       "id                                                \n",
       "1002 2013-01-03           SH    100-B   44     NaN\n",
       "1003 2013-01-04   guangzhou     110-A   54  2133.0"
      ]
     },
     "execution_count": 94,
     "metadata": {},
     "output_type": "execute_result"
    }
   ],
   "source": [
    "df.iloc[(df.age>40).values]"
   ]
  },
  {
   "cell_type": "markdown",
   "id": "c0cfa59d-f508-4adb-ba42-1cecfd4130a4",
   "metadata": {},
   "source": [
    "## 4.query"
   ]
  },
  {
   "cell_type": "markdown",
   "id": "c237af8f-922e-4f2e-a539-29f3ef029ccb",
   "metadata": {},
   "source": [
    "* 使用query方法，将字符串形式的查询表达式传入进行查询，表达式的执行结果需返回布尔值，该种方法无需重复使用DataFrame的名字来引用列名\n",
    "* 在 query 表达式中，帮用户注册了所有来自 DataFrame 的列名，所有属于该 Series 的方法都可以被调用，和正常的函数调用并没有区别\n",
    "* 必须使用单引号扩起查询表达式\n",
    "* 对于含有空格的列名，需要使用 \\`col name\\` 的方式进行引用\n",
    "* 可以使用or, and, in, not in等\n",
    "* 对于 query 中的字符串，如果要引用外部变量，只需在变量名前加 @ 符号"
   ]
  },
  {
   "cell_type": "code",
   "execution_count": 5,
   "id": "2691ada4-c62e-452a-9006-6b9bc94cd6d8",
   "metadata": {},
   "outputs": [
    {
     "data": {
      "text/html": [
       "<div>\n",
       "<style scoped>\n",
       "    .dataframe tbody tr th:only-of-type {\n",
       "        vertical-align: middle;\n",
       "    }\n",
       "\n",
       "    .dataframe tbody tr th {\n",
       "        vertical-align: top;\n",
       "    }\n",
       "\n",
       "    .dataframe thead th {\n",
       "        text-align: right;\n",
       "    }\n",
       "</style>\n",
       "<table border=\"1\" class=\"dataframe\">\n",
       "  <thead>\n",
       "    <tr style=\"text-align: right;\">\n",
       "      <th></th>\n",
       "      <th>date</th>\n",
       "      <th>city</th>\n",
       "      <th>category</th>\n",
       "      <th>age</th>\n",
       "      <th>price</th>\n",
       "    </tr>\n",
       "    <tr>\n",
       "      <th>id</th>\n",
       "      <th></th>\n",
       "      <th></th>\n",
       "      <th></th>\n",
       "      <th></th>\n",
       "      <th></th>\n",
       "    </tr>\n",
       "  </thead>\n",
       "  <tbody>\n",
       "    <tr>\n",
       "      <th>1001</th>\n",
       "      <td>2013-01-02</td>\n",
       "      <td>Beijing</td>\n",
       "      <td>100-A</td>\n",
       "      <td>23</td>\n",
       "      <td>1200.0</td>\n",
       "    </tr>\n",
       "    <tr>\n",
       "      <th>1002</th>\n",
       "      <td>2013-01-03</td>\n",
       "      <td>SH</td>\n",
       "      <td>100-B</td>\n",
       "      <td>44</td>\n",
       "      <td>NaN</td>\n",
       "    </tr>\n",
       "    <tr>\n",
       "      <th>1003</th>\n",
       "      <td>2013-01-04</td>\n",
       "      <td>guangzhou</td>\n",
       "      <td>110-A</td>\n",
       "      <td>54</td>\n",
       "      <td>2133.0</td>\n",
       "    </tr>\n",
       "    <tr>\n",
       "      <th>1004</th>\n",
       "      <td>2013-01-05</td>\n",
       "      <td>Shenzhen</td>\n",
       "      <td>110-C</td>\n",
       "      <td>32</td>\n",
       "      <td>5433.0</td>\n",
       "    </tr>\n",
       "    <tr>\n",
       "      <th>1005</th>\n",
       "      <td>2013-01-06</td>\n",
       "      <td>shanghai</td>\n",
       "      <td>210-A</td>\n",
       "      <td>34</td>\n",
       "      <td>NaN</td>\n",
       "    </tr>\n",
       "    <tr>\n",
       "      <th>1006</th>\n",
       "      <td>2013-01-07</td>\n",
       "      <td>BEIJING</td>\n",
       "      <td>130-F</td>\n",
       "      <td>32</td>\n",
       "      <td>4432.0</td>\n",
       "    </tr>\n",
       "  </tbody>\n",
       "</table>\n",
       "</div>"
      ],
      "text/plain": [
       "           date         city category  age   price\n",
       "id                                                \n",
       "1001 2013-01-02     Beijing     100-A   23  1200.0\n",
       "1002 2013-01-03           SH    100-B   44     NaN\n",
       "1003 2013-01-04   guangzhou     110-A   54  2133.0\n",
       "1004 2013-01-05     Shenzhen    110-C   32  5433.0\n",
       "1005 2013-01-06     shanghai    210-A   34     NaN\n",
       "1006 2013-01-07     BEIJING     130-F   32  4432.0"
      ]
     },
     "execution_count": 5,
     "metadata": {},
     "output_type": "execute_result"
    }
   ],
   "source": [
    "df"
   ]
  },
  {
   "cell_type": "code",
   "execution_count": 8,
   "id": "54f42e60-1036-4bd2-a788-39f42d67f1c1",
   "metadata": {},
   "outputs": [
    {
     "data": {
      "text/html": [
       "<div>\n",
       "<style scoped>\n",
       "    .dataframe tbody tr th:only-of-type {\n",
       "        vertical-align: middle;\n",
       "    }\n",
       "\n",
       "    .dataframe tbody tr th {\n",
       "        vertical-align: top;\n",
       "    }\n",
       "\n",
       "    .dataframe thead th {\n",
       "        text-align: right;\n",
       "    }\n",
       "</style>\n",
       "<table border=\"1\" class=\"dataframe\">\n",
       "  <thead>\n",
       "    <tr style=\"text-align: right;\">\n",
       "      <th></th>\n",
       "      <th>date</th>\n",
       "      <th>city</th>\n",
       "      <th>category</th>\n",
       "      <th>age</th>\n",
       "      <th>price</th>\n",
       "    </tr>\n",
       "    <tr>\n",
       "      <th>id</th>\n",
       "      <th></th>\n",
       "      <th></th>\n",
       "      <th></th>\n",
       "      <th></th>\n",
       "      <th></th>\n",
       "    </tr>\n",
       "  </thead>\n",
       "  <tbody>\n",
       "    <tr>\n",
       "      <th>1002</th>\n",
       "      <td>2013-01-03</td>\n",
       "      <td>SH</td>\n",
       "      <td>100-B</td>\n",
       "      <td>44</td>\n",
       "      <td>NaN</td>\n",
       "    </tr>\n",
       "    <tr>\n",
       "      <th>1003</th>\n",
       "      <td>2013-01-04</td>\n",
       "      <td>guangzhou</td>\n",
       "      <td>110-A</td>\n",
       "      <td>54</td>\n",
       "      <td>2133.0</td>\n",
       "    </tr>\n",
       "  </tbody>\n",
       "</table>\n",
       "</div>"
      ],
      "text/plain": [
       "           date         city category  age   price\n",
       "id                                                \n",
       "1002 2013-01-03           SH    100-B   44     NaN\n",
       "1003 2013-01-04   guangzhou     110-A   54  2133.0"
      ]
     },
     "execution_count": 8,
     "metadata": {},
     "output_type": "execute_result"
    }
   ],
   "source": [
    "df.query('age>40')\n",
    "df.query('age>age.mean()')"
   ]
  },
  {
   "cell_type": "code",
   "execution_count": 28,
   "id": "74320763-279d-431e-9f63-28a0ff0f2419",
   "metadata": {},
   "outputs": [
    {
     "data": {
      "text/html": [
       "<div>\n",
       "<style scoped>\n",
       "    .dataframe tbody tr th:only-of-type {\n",
       "        vertical-align: middle;\n",
       "    }\n",
       "\n",
       "    .dataframe tbody tr th {\n",
       "        vertical-align: top;\n",
       "    }\n",
       "\n",
       "    .dataframe thead th {\n",
       "        text-align: right;\n",
       "    }\n",
       "</style>\n",
       "<table border=\"1\" class=\"dataframe\">\n",
       "  <thead>\n",
       "    <tr style=\"text-align: right;\">\n",
       "      <th></th>\n",
       "      <th>date</th>\n",
       "      <th>city</th>\n",
       "      <th>category</th>\n",
       "      <th>age</th>\n",
       "      <th>price</th>\n",
       "    </tr>\n",
       "    <tr>\n",
       "      <th>id</th>\n",
       "      <th></th>\n",
       "      <th></th>\n",
       "      <th></th>\n",
       "      <th></th>\n",
       "      <th></th>\n",
       "    </tr>\n",
       "  </thead>\n",
       "  <tbody>\n",
       "    <tr>\n",
       "      <th>1002</th>\n",
       "      <td>2013-01-03</td>\n",
       "      <td>SH</td>\n",
       "      <td>100-B</td>\n",
       "      <td>44</td>\n",
       "      <td>NaN</td>\n",
       "    </tr>\n",
       "    <tr>\n",
       "      <th>1004</th>\n",
       "      <td>2013-01-05</td>\n",
       "      <td>Shenzhen</td>\n",
       "      <td>110-C</td>\n",
       "      <td>32</td>\n",
       "      <td>5433.0</td>\n",
       "    </tr>\n",
       "    <tr>\n",
       "      <th>1005</th>\n",
       "      <td>2013-01-06</td>\n",
       "      <td>shanghai</td>\n",
       "      <td>210-A</td>\n",
       "      <td>34</td>\n",
       "      <td>NaN</td>\n",
       "    </tr>\n",
       "    <tr>\n",
       "      <th>1006</th>\n",
       "      <td>2013-01-07</td>\n",
       "      <td>BEIJING</td>\n",
       "      <td>130-F</td>\n",
       "      <td>32</td>\n",
       "      <td>4432.0</td>\n",
       "    </tr>\n",
       "  </tbody>\n",
       "</table>\n",
       "</div>"
      ],
      "text/plain": [
       "           date      city category  age   price\n",
       "id                                             \n",
       "1002 2013-01-03        SH    100-B   44     NaN\n",
       "1004 2013-01-05  Shenzhen    110-C   32  5433.0\n",
       "1005 2013-01-06  shanghai    210-A   34     NaN\n",
       "1006 2013-01-07  BEIJING     130-F   32  4432.0"
      ]
     },
     "execution_count": 28,
     "metadata": {},
     "output_type": "execute_result"
    }
   ],
   "source": [
    "df.query('(age>30) and (price>3000) or (city in [\"SH\",\"shanghai\"])')"
   ]
  },
  {
   "cell_type": "code",
   "execution_count": 20,
   "id": "a254c2bc-4964-44e2-b840-8bddc94479a0",
   "metadata": {},
   "outputs": [
    {
     "data": {
      "text/html": [
       "<div>\n",
       "<style scoped>\n",
       "    .dataframe tbody tr th:only-of-type {\n",
       "        vertical-align: middle;\n",
       "    }\n",
       "\n",
       "    .dataframe tbody tr th {\n",
       "        vertical-align: top;\n",
       "    }\n",
       "\n",
       "    .dataframe thead th {\n",
       "        text-align: right;\n",
       "    }\n",
       "</style>\n",
       "<table border=\"1\" class=\"dataframe\">\n",
       "  <thead>\n",
       "    <tr style=\"text-align: right;\">\n",
       "      <th></th>\n",
       "      <th>date</th>\n",
       "      <th>city</th>\n",
       "      <th>category</th>\n",
       "      <th>age</th>\n",
       "      <th>price</th>\n",
       "    </tr>\n",
       "    <tr>\n",
       "      <th>id</th>\n",
       "      <th></th>\n",
       "      <th></th>\n",
       "      <th></th>\n",
       "      <th></th>\n",
       "      <th></th>\n",
       "    </tr>\n",
       "  </thead>\n",
       "  <tbody>\n",
       "    <tr>\n",
       "      <th>1004</th>\n",
       "      <td>2013-01-05</td>\n",
       "      <td>Shenzhen</td>\n",
       "      <td>110-C</td>\n",
       "      <td>32</td>\n",
       "      <td>5433.0</td>\n",
       "    </tr>\n",
       "    <tr>\n",
       "      <th>1006</th>\n",
       "      <td>2013-01-07</td>\n",
       "      <td>BEIJING</td>\n",
       "      <td>130-F</td>\n",
       "      <td>32</td>\n",
       "      <td>4432.0</td>\n",
       "    </tr>\n",
       "  </tbody>\n",
       "</table>\n",
       "</div>"
      ],
      "text/plain": [
       "           date      city category  age   price\n",
       "id                                             \n",
       "1004 2013-01-05  Shenzhen    110-C   32  5433.0\n",
       "1006 2013-01-07  BEIJING     130-F   32  4432.0"
      ]
     },
     "execution_count": 20,
     "metadata": {},
     "output_type": "execute_result"
    }
   ],
   "source": [
    "low = 30\n",
    "df.query(('age>@low' and 'price>3000') or '(city==[\"SH\"])')"
   ]
  },
  {
   "cell_type": "code",
   "execution_count": 27,
   "id": "deff07e5-088b-498c-81f9-4d41fd1165ac",
   "metadata": {},
   "outputs": [
    {
     "data": {
      "text/html": [
       "<div>\n",
       "<style scoped>\n",
       "    .dataframe tbody tr th:only-of-type {\n",
       "        vertical-align: middle;\n",
       "    }\n",
       "\n",
       "    .dataframe tbody tr th {\n",
       "        vertical-align: top;\n",
       "    }\n",
       "\n",
       "    .dataframe thead th {\n",
       "        text-align: right;\n",
       "    }\n",
       "</style>\n",
       "<table border=\"1\" class=\"dataframe\">\n",
       "  <thead>\n",
       "    <tr style=\"text-align: right;\">\n",
       "      <th></th>\n",
       "      <th>date</th>\n",
       "      <th>city</th>\n",
       "      <th>category</th>\n",
       "      <th>age</th>\n",
       "      <th>price</th>\n",
       "    </tr>\n",
       "    <tr>\n",
       "      <th>id</th>\n",
       "      <th></th>\n",
       "      <th></th>\n",
       "      <th></th>\n",
       "      <th></th>\n",
       "      <th></th>\n",
       "    </tr>\n",
       "  </thead>\n",
       "  <tbody>\n",
       "    <tr>\n",
       "      <th>1002</th>\n",
       "      <td>2013-01-03</td>\n",
       "      <td>SH</td>\n",
       "      <td>100-B</td>\n",
       "      <td>44</td>\n",
       "      <td>NaN</td>\n",
       "    </tr>\n",
       "    <tr>\n",
       "      <th>1003</th>\n",
       "      <td>2013-01-04</td>\n",
       "      <td>guangzhou</td>\n",
       "      <td>110-A</td>\n",
       "      <td>54</td>\n",
       "      <td>2133.0</td>\n",
       "    </tr>\n",
       "  </tbody>\n",
       "</table>\n",
       "</div>"
      ],
      "text/plain": [
       "           date         city category  age   price\n",
       "id                                                \n",
       "1002 2013-01-03           SH    100-B   44     NaN\n",
       "1003 2013-01-04   guangzhou     110-A   54  2133.0"
      ]
     },
     "execution_count": 27,
     "metadata": {},
     "output_type": "execute_result"
    }
   ],
   "source": [
    "df.query('index==[1002,1003]')\n",
    "df.query('index in [1002,1003]')"
   ]
  },
  {
   "cell_type": "code",
   "execution_count": null,
   "id": "a62f897e-3fd3-4d0c-a488-8ee2882ee72e",
   "metadata": {},
   "outputs": [],
   "source": []
  }
 ],
 "metadata": {
  "kernelspec": {
   "display_name": "Python 3",
   "language": "python",
   "name": "python3"
  },
  "language_info": {
   "codemirror_mode": {
    "name": "ipython",
    "version": 3
   },
   "file_extension": ".py",
   "mimetype": "text/x-python",
   "name": "python",
   "nbconvert_exporter": "python",
   "pygments_lexer": "ipython3",
   "version": "3.8.8"
  }
 },
 "nbformat": 4,
 "nbformat_minor": 5
}
