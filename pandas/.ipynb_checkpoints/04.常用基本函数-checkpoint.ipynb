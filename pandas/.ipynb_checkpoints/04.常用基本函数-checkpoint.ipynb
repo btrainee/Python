{
 "cells": [
  {
   "cell_type": "code",
   "execution_count": 1,
   "id": "564b3095-b94c-4e22-ba7d-48eb493bbd4c",
   "metadata": {
    "execution": {
     "iopub.execute_input": "2021-11-01T09:11:14.621560Z",
     "iopub.status.busy": "2021-11-01T09:11:14.621560Z",
     "iopub.status.idle": "2021-11-01T09:11:15.283883Z",
     "shell.execute_reply": "2021-11-01T09:11:15.282169Z",
     "shell.execute_reply.started": "2021-11-01T09:11:14.621560Z"
    }
   },
   "outputs": [
    {
     "data": {
      "text/plain": [
       "'E:\\\\jupyter-test\\\\Python\\\\pandas'"
      ]
     },
     "execution_count": 1,
     "metadata": {},
     "output_type": "execute_result"
    }
   ],
   "source": [
    "import numpy as np\n",
    "import pandas as pd\n",
    "import os\n",
    "%pwd"
   ]
  },
  {
   "cell_type": "code",
   "execution_count": 4,
   "id": "972c606c-b82b-4ef3-8dc9-027f429586df",
   "metadata": {},
   "outputs": [
    {
     "data": {
      "text/plain": [
       "'C:\\\\Users\\\\lenovo\\\\Desktop\\\\jupyter-test\\\\Python\\\\pandas'"
      ]
     },
     "execution_count": 4,
     "metadata": {},
     "output_type": "execute_result"
    }
   ],
   "source": [
    "os.getcwd()"
   ]
  },
  {
   "cell_type": "code",
   "execution_count": 2,
   "id": "5e622115-0947-40a3-acb4-4f4e21b734d9",
   "metadata": {
    "execution": {
     "iopub.execute_input": "2021-11-01T09:11:19.091641Z",
     "iopub.status.busy": "2021-11-01T09:11:19.091641Z",
     "iopub.status.idle": "2021-11-01T09:11:19.173424Z",
     "shell.execute_reply": "2021-11-01T09:11:19.172430Z",
     "shell.execute_reply.started": "2021-11-01T09:11:19.091641Z"
    }
   },
   "outputs": [],
   "source": [
    "df = pd.read_csv('./pd_data/learn_pandas.csv')"
   ]
  },
  {
   "cell_type": "markdown",
   "id": "eb97696a-4a59-42d4-8117-fed0b79e9111",
   "metadata": {},
   "source": [
    "## 1.汇总函数"
   ]
  },
  {
   "cell_type": "code",
   "execution_count": 3,
   "id": "a2e05085-0bac-4d87-ad4e-cf9aa088254c",
   "metadata": {},
   "outputs": [
    {
     "data": {
      "text/html": [
       "<div>\n",
       "<style scoped>\n",
       "    .dataframe tbody tr th:only-of-type {\n",
       "        vertical-align: middle;\n",
       "    }\n",
       "\n",
       "    .dataframe tbody tr th {\n",
       "        vertical-align: top;\n",
       "    }\n",
       "\n",
       "    .dataframe thead th {\n",
       "        text-align: right;\n",
       "    }\n",
       "</style>\n",
       "<table border=\"1\" class=\"dataframe\">\n",
       "  <thead>\n",
       "    <tr style=\"text-align: right;\">\n",
       "      <th></th>\n",
       "      <th>School</th>\n",
       "      <th>Grade</th>\n",
       "      <th>Name</th>\n",
       "      <th>Gender</th>\n",
       "      <th>Height</th>\n",
       "      <th>Weight</th>\n",
       "      <th>Transfer</th>\n",
       "      <th>Test_Number</th>\n",
       "      <th>Test_Date</th>\n",
       "      <th>Time_Record</th>\n",
       "    </tr>\n",
       "  </thead>\n",
       "  <tbody>\n",
       "    <tr>\n",
       "      <th>195</th>\n",
       "      <td>Fudan University</td>\n",
       "      <td>Junior</td>\n",
       "      <td>Xiaojuan Sun</td>\n",
       "      <td>Female</td>\n",
       "      <td>153.9</td>\n",
       "      <td>46.0</td>\n",
       "      <td>N</td>\n",
       "      <td>2</td>\n",
       "      <td>2019/10/17</td>\n",
       "      <td>0:04:31</td>\n",
       "    </tr>\n",
       "    <tr>\n",
       "      <th>196</th>\n",
       "      <td>Tsinghua University</td>\n",
       "      <td>Senior</td>\n",
       "      <td>Li Zhao</td>\n",
       "      <td>Female</td>\n",
       "      <td>160.9</td>\n",
       "      <td>50.0</td>\n",
       "      <td>N</td>\n",
       "      <td>3</td>\n",
       "      <td>2019/9/22</td>\n",
       "      <td>0:04:03</td>\n",
       "    </tr>\n",
       "    <tr>\n",
       "      <th>197</th>\n",
       "      <td>Shanghai Jiao Tong University</td>\n",
       "      <td>Senior</td>\n",
       "      <td>Chengqiang Chu</td>\n",
       "      <td>Female</td>\n",
       "      <td>153.9</td>\n",
       "      <td>45.0</td>\n",
       "      <td>N</td>\n",
       "      <td>1</td>\n",
       "      <td>2020/1/5</td>\n",
       "      <td>0:04:48</td>\n",
       "    </tr>\n",
       "    <tr>\n",
       "      <th>198</th>\n",
       "      <td>Shanghai Jiao Tong University</td>\n",
       "      <td>Senior</td>\n",
       "      <td>Chengmei Shen</td>\n",
       "      <td>Male</td>\n",
       "      <td>175.3</td>\n",
       "      <td>71.0</td>\n",
       "      <td>N</td>\n",
       "      <td>2</td>\n",
       "      <td>2020/1/7</td>\n",
       "      <td>0:04:58</td>\n",
       "    </tr>\n",
       "    <tr>\n",
       "      <th>199</th>\n",
       "      <td>Tsinghua University</td>\n",
       "      <td>Sophomore</td>\n",
       "      <td>Chunpeng Lv</td>\n",
       "      <td>Male</td>\n",
       "      <td>155.7</td>\n",
       "      <td>51.0</td>\n",
       "      <td>N</td>\n",
       "      <td>1</td>\n",
       "      <td>2019/11/6</td>\n",
       "      <td>0:05:05</td>\n",
       "    </tr>\n",
       "  </tbody>\n",
       "</table>\n",
       "</div>"
      ],
      "text/plain": [
       "                            School      Grade            Name  Gender  Height  \\\n",
       "195               Fudan University     Junior    Xiaojuan Sun  Female   153.9   \n",
       "196            Tsinghua University     Senior         Li Zhao  Female   160.9   \n",
       "197  Shanghai Jiao Tong University     Senior  Chengqiang Chu  Female   153.9   \n",
       "198  Shanghai Jiao Tong University     Senior   Chengmei Shen    Male   175.3   \n",
       "199            Tsinghua University  Sophomore     Chunpeng Lv    Male   155.7   \n",
       "\n",
       "     Weight Transfer  Test_Number   Test_Date Time_Record  \n",
       "195    46.0        N            2  2019/10/17     0:04:31  \n",
       "196    50.0        N            3   2019/9/22     0:04:03  \n",
       "197    45.0        N            1    2020/1/5     0:04:48  \n",
       "198    71.0        N            2    2020/1/7     0:04:58  \n",
       "199    51.0        N            1   2019/11/6     0:05:05  "
      ]
     },
     "execution_count": 3,
     "metadata": {},
     "output_type": "execute_result"
    }
   ],
   "source": [
    "df.columns\n",
    "df.index.tolist()\n",
    "df.head(3)  # 默认5行\n",
    "df.shape\n",
    "df.tail()"
   ]
  },
  {
   "cell_type": "code",
   "execution_count": 4,
   "id": "52c71eff-20b9-44c4-802d-a63530639e66",
   "metadata": {},
   "outputs": [
    {
     "name": "stdout",
     "output_type": "stream",
     "text": [
      "<class 'pandas.core.frame.DataFrame'>\n",
      "RangeIndex: 200 entries, 0 to 199\n",
      "Data columns (total 10 columns):\n",
      " #   Column       Non-Null Count  Dtype  \n",
      "---  ------       --------------  -----  \n",
      " 0   School       200 non-null    object \n",
      " 1   Grade        200 non-null    object \n",
      " 2   Name         200 non-null    object \n",
      " 3   Gender       200 non-null    object \n",
      " 4   Height       183 non-null    float64\n",
      " 5   Weight       189 non-null    float64\n",
      " 6   Transfer     188 non-null    object \n",
      " 7   Test_Number  200 non-null    int64  \n",
      " 8   Test_Date    200 non-null    object \n",
      " 9   Time_Record  200 non-null    object \n",
      "dtypes: float64(2), int64(1), object(7)\n",
      "memory usage: 15.8+ KB\n"
     ]
    },
    {
     "data": {
      "text/html": [
       "<div>\n",
       "<style scoped>\n",
       "    .dataframe tbody tr th:only-of-type {\n",
       "        vertical-align: middle;\n",
       "    }\n",
       "\n",
       "    .dataframe tbody tr th {\n",
       "        vertical-align: top;\n",
       "    }\n",
       "\n",
       "    .dataframe thead th {\n",
       "        text-align: right;\n",
       "    }\n",
       "</style>\n",
       "<table border=\"1\" class=\"dataframe\">\n",
       "  <thead>\n",
       "    <tr style=\"text-align: right;\">\n",
       "      <th></th>\n",
       "      <th>Height</th>\n",
       "      <th>Weight</th>\n",
       "      <th>Test_Number</th>\n",
       "    </tr>\n",
       "  </thead>\n",
       "  <tbody>\n",
       "    <tr>\n",
       "      <th>count</th>\n",
       "      <td>183.000000</td>\n",
       "      <td>189.000000</td>\n",
       "      <td>200.000000</td>\n",
       "    </tr>\n",
       "    <tr>\n",
       "      <th>mean</th>\n",
       "      <td>163.218033</td>\n",
       "      <td>55.015873</td>\n",
       "      <td>1.645000</td>\n",
       "    </tr>\n",
       "    <tr>\n",
       "      <th>std</th>\n",
       "      <td>8.608879</td>\n",
       "      <td>12.824294</td>\n",
       "      <td>0.722207</td>\n",
       "    </tr>\n",
       "    <tr>\n",
       "      <th>min</th>\n",
       "      <td>145.400000</td>\n",
       "      <td>34.000000</td>\n",
       "      <td>1.000000</td>\n",
       "    </tr>\n",
       "    <tr>\n",
       "      <th>25%</th>\n",
       "      <td>157.150000</td>\n",
       "      <td>46.000000</td>\n",
       "      <td>1.000000</td>\n",
       "    </tr>\n",
       "    <tr>\n",
       "      <th>50%</th>\n",
       "      <td>161.900000</td>\n",
       "      <td>51.000000</td>\n",
       "      <td>1.500000</td>\n",
       "    </tr>\n",
       "    <tr>\n",
       "      <th>75%</th>\n",
       "      <td>167.500000</td>\n",
       "      <td>65.000000</td>\n",
       "      <td>2.000000</td>\n",
       "    </tr>\n",
       "    <tr>\n",
       "      <th>max</th>\n",
       "      <td>193.900000</td>\n",
       "      <td>89.000000</td>\n",
       "      <td>3.000000</td>\n",
       "    </tr>\n",
       "  </tbody>\n",
       "</table>\n",
       "</div>"
      ],
      "text/plain": [
       "           Height      Weight  Test_Number\n",
       "count  183.000000  189.000000   200.000000\n",
       "mean   163.218033   55.015873     1.645000\n",
       "std      8.608879   12.824294     0.722207\n",
       "min    145.400000   34.000000     1.000000\n",
       "25%    157.150000   46.000000     1.000000\n",
       "50%    161.900000   51.000000     1.500000\n",
       "75%    167.500000   65.000000     2.000000\n",
       "max    193.900000   89.000000     3.000000"
      ]
     },
     "execution_count": 4,
     "metadata": {},
     "output_type": "execute_result"
    }
   ],
   "source": [
    "#info, describe 分别返回表的信息概况和表中数值列对应的主要统计量 \n",
    "df.info()\n",
    "df.describe()"
   ]
  },
  {
   "cell_type": "markdown",
   "id": "a3210ed4-f318-459f-b4bb-40f5df3c86a6",
   "metadata": {},
   "source": [
    "## 2.特征统计函数"
   ]
  },
  {
   "cell_type": "code",
   "execution_count": 16,
   "id": "51fb49a6-ac83-48b0-97d5-4e7302cb3fea",
   "metadata": {},
   "outputs": [
    {
     "data": {
      "text/plain": [
       "34.0"
      ]
     },
     "execution_count": 16,
     "metadata": {},
     "output_type": "execute_result"
    }
   ],
   "source": [
    "df.sum()\n",
    "df.Weight.sum()\n",
    "df.Weight.mean()\n",
    "df.Weight.median()\n",
    "df.Weight.var()\n",
    "df.Weight.std()\n",
    "df.Weight.max()\n",
    "df.Weight.min()"
   ]
  },
  {
   "cell_type": "code",
   "execution_count": 19,
   "id": "8882e663-16c6-4040-90cb-198872aa660a",
   "metadata": {},
   "outputs": [
    {
     "data": {
      "text/plain": [
       "Weight    10398.0\n",
       "Height    29868.9\n",
       "dtype: float64"
      ]
     },
     "execution_count": 19,
     "metadata": {},
     "output_type": "execute_result"
    }
   ],
   "source": [
    "df[['Weight','Height']].sum() #返回Series"
   ]
  },
  {
   "cell_type": "code",
   "execution_count": 20,
   "id": "3fed3472-bfc2-41bc-aca9-cab63fcb930a",
   "metadata": {},
   "outputs": [
    {
     "data": {
      "text/plain": [
       "10398.0"
      ]
     },
     "execution_count": 20,
     "metadata": {},
     "output_type": "execute_result"
    }
   ],
   "source": [
    "df[['Weight','Height']].sum()['Weight']"
   ]
  },
  {
   "cell_type": "code",
   "execution_count": 28,
   "id": "1f4f8074-1585-49a4-a13b-e32800f8be25",
   "metadata": {},
   "outputs": [
    {
     "data": {
      "text/plain": [
       "34.0"
      ]
     },
     "execution_count": 28,
     "metadata": {},
     "output_type": "execute_result"
    }
   ],
   "source": [
    "df.Weight.quantile(0.75) # 分位数\n",
    "df.Weight.count() # 非缺失值的个数\n",
    "df.Weight.idxmax() # 最大值索引\n",
    "df.Weight.idxmin() # 最小值索引"
   ]
  },
  {
   "cell_type": "markdown",
   "id": "b7e00db1-e76e-4efd-bc60-77c0203d472b",
   "metadata": {},
   "source": [
    "上面这些所有的函数，由于操作后返回的是标量，所以又称为聚合函数，它们有一个公共参数 axis ，默认为0代表逐列聚合，如果设置为1则表示逐行聚合："
   ]
  },
  {
   "cell_type": "code",
   "execution_count": 30,
   "id": "0698736f-0484-4c69-a25f-d9fb3c168e41",
   "metadata": {},
   "outputs": [
    {
     "data": {
      "text/plain": [
       "0    205.9\n",
       "1    237.5\n",
       "2    279.9\n",
       "3     43.0\n",
       "4    250.0\n",
       "dtype: float64"
      ]
     },
     "execution_count": 30,
     "metadata": {},
     "output_type": "execute_result"
    }
   ],
   "source": [
    "df.sum(axis=1).head() # axis=1 求行的和,默认是求列的和"
   ]
  },
  {
   "cell_type": "code",
   "execution_count": 4,
   "id": "bb349828-0ad4-4e8a-b65f-2b0595421562",
   "metadata": {
    "execution": {
     "iopub.execute_input": "2021-11-01T09:12:26.519423Z",
     "iopub.status.busy": "2021-11-01T09:12:26.519423Z",
     "iopub.status.idle": "2021-11-01T09:12:26.535378Z",
     "shell.execute_reply": "2021-11-01T09:12:26.534382Z",
     "shell.execute_reply.started": "2021-11-01T09:12:26.519423Z"
    },
    "tags": []
   },
   "outputs": [
    {
     "data": {
      "text/plain": [
       "0        158.9\n",
       "1        325.4\n",
       "2        514.3\n",
       "3          NaN\n",
       "4        688.3\n",
       "        ...   \n",
       "195    29223.1\n",
       "196    29384.0\n",
       "197    29537.9\n",
       "198    29713.2\n",
       "199    29868.9\n",
       "Name: Height, Length: 200, dtype: float64"
      ]
     },
     "execution_count": 4,
     "metadata": {},
     "output_type": "execute_result"
    }
   ],
   "source": [
    "df.Height.cumsum(0) # 累计求和"
   ]
  },
  {
   "cell_type": "markdown",
   "id": "ccd27e2d-d6d9-4e92-a69a-4f26d37a9a35",
   "metadata": {},
   "source": [
    "## 3.排序函数"
   ]
  },
  {
   "cell_type": "markdown",
   "id": "f4d7d6a8-eb3e-4947-b558-08c3bdef174f",
   "metadata": {},
   "source": [
    "### sort_values\n",
    "### sort_index"
   ]
  },
  {
   "cell_type": "markdown",
   "id": "dd2be25f-57f0-4da4-bdb4-099388bc7af0",
   "metadata": {},
   "source": [
    "* sort_values 值排序\n",
    "* sort_index 索引排序\n",
    "* 默认参数 ascending=True 为升序"
   ]
  },
  {
   "cell_type": "code",
   "execution_count": 33,
   "id": "b89b5df5-36d3-4b1e-92fa-9c07648ae190",
   "metadata": {},
   "outputs": [
    {
     "data": {
      "text/html": [
       "<div>\n",
       "<style scoped>\n",
       "    .dataframe tbody tr th:only-of-type {\n",
       "        vertical-align: middle;\n",
       "    }\n",
       "\n",
       "    .dataframe tbody tr th {\n",
       "        vertical-align: top;\n",
       "    }\n",
       "\n",
       "    .dataframe thead th {\n",
       "        text-align: right;\n",
       "    }\n",
       "</style>\n",
       "<table border=\"1\" class=\"dataframe\">\n",
       "  <thead>\n",
       "    <tr style=\"text-align: right;\">\n",
       "      <th></th>\n",
       "      <th></th>\n",
       "      <th>Weight</th>\n",
       "      <th>Height</th>\n",
       "    </tr>\n",
       "    <tr>\n",
       "      <th>Grade</th>\n",
       "      <th>Name</th>\n",
       "      <th></th>\n",
       "      <th></th>\n",
       "    </tr>\n",
       "  </thead>\n",
       "  <tbody>\n",
       "    <tr>\n",
       "      <th rowspan=\"2\" valign=\"top\">Freshman</th>\n",
       "      <th>Gaopeng Yang</th>\n",
       "      <td>46.0</td>\n",
       "      <td>158.9</td>\n",
       "    </tr>\n",
       "    <tr>\n",
       "      <th>Changqiang You</th>\n",
       "      <td>70.0</td>\n",
       "      <td>166.5</td>\n",
       "    </tr>\n",
       "    <tr>\n",
       "      <th>Senior</th>\n",
       "      <th>Mei Sun</th>\n",
       "      <td>89.0</td>\n",
       "      <td>188.9</td>\n",
       "    </tr>\n",
       "    <tr>\n",
       "      <th rowspan=\"2\" valign=\"top\">Sophomore</th>\n",
       "      <th>Xiaojuan Sun</th>\n",
       "      <td>41.0</td>\n",
       "      <td>NaN</td>\n",
       "    </tr>\n",
       "    <tr>\n",
       "      <th>Gaojuan You</th>\n",
       "      <td>74.0</td>\n",
       "      <td>174.0</td>\n",
       "    </tr>\n",
       "  </tbody>\n",
       "</table>\n",
       "</div>"
      ],
      "text/plain": [
       "                          Weight  Height\n",
       "Grade     Name                          \n",
       "Freshman  Gaopeng Yang      46.0   158.9\n",
       "          Changqiang You    70.0   166.5\n",
       "Senior    Mei Sun           89.0   188.9\n",
       "Sophomore Xiaojuan Sun      41.0     NaN\n",
       "          Gaojuan You       74.0   174.0"
      ]
     },
     "execution_count": 33,
     "metadata": {},
     "output_type": "execute_result"
    }
   ],
   "source": [
    "df_test = df[['Grade', 'Name', 'Weight', 'Height']].set_index(['Grade', 'Name'])\n",
    "df_test.head()"
   ]
  },
  {
   "cell_type": "code",
   "execution_count": 36,
   "id": "6a307e58-53b0-4e9a-8867-3bf0f7a01ef4",
   "metadata": {},
   "outputs": [
    {
     "data": {
      "text/html": [
       "<div>\n",
       "<style scoped>\n",
       "    .dataframe tbody tr th:only-of-type {\n",
       "        vertical-align: middle;\n",
       "    }\n",
       "\n",
       "    .dataframe tbody tr th {\n",
       "        vertical-align: top;\n",
       "    }\n",
       "\n",
       "    .dataframe thead th {\n",
       "        text-align: right;\n",
       "    }\n",
       "</style>\n",
       "<table border=\"1\" class=\"dataframe\">\n",
       "  <thead>\n",
       "    <tr style=\"text-align: right;\">\n",
       "      <th></th>\n",
       "      <th></th>\n",
       "      <th>Weight</th>\n",
       "      <th>Height</th>\n",
       "    </tr>\n",
       "    <tr>\n",
       "      <th>Grade</th>\n",
       "      <th>Name</th>\n",
       "      <th></th>\n",
       "      <th></th>\n",
       "    </tr>\n",
       "  </thead>\n",
       "  <tbody>\n",
       "    <tr>\n",
       "      <th>Junior</th>\n",
       "      <th>Xiaoli Chu</th>\n",
       "      <td>34.0</td>\n",
       "      <td>145.4</td>\n",
       "    </tr>\n",
       "    <tr>\n",
       "      <th>Sophomore</th>\n",
       "      <th>Peng Han</th>\n",
       "      <td>34.0</td>\n",
       "      <td>147.8</td>\n",
       "    </tr>\n",
       "    <tr>\n",
       "      <th>Senior</th>\n",
       "      <th>Gaomei Lv</th>\n",
       "      <td>34.0</td>\n",
       "      <td>147.3</td>\n",
       "    </tr>\n",
       "    <tr>\n",
       "      <th>Sophomore</th>\n",
       "      <th>Qiang Zhou</th>\n",
       "      <td>36.0</td>\n",
       "      <td>150.5</td>\n",
       "    </tr>\n",
       "    <tr>\n",
       "      <th>Freshman</th>\n",
       "      <th>Qiang Han</th>\n",
       "      <td>38.0</td>\n",
       "      <td>151.8</td>\n",
       "    </tr>\n",
       "  </tbody>\n",
       "</table>\n",
       "</div>"
      ],
      "text/plain": [
       "                      Weight  Height\n",
       "Grade     Name                      \n",
       "Junior    Xiaoli Chu    34.0   145.4\n",
       "Sophomore Peng Han      34.0   147.8\n",
       "Senior    Gaomei Lv     34.0   147.3\n",
       "Sophomore Qiang Zhou    36.0   150.5\n",
       "Freshman  Qiang Han     38.0   151.8"
      ]
     },
     "execution_count": 36,
     "metadata": {},
     "output_type": "execute_result"
    }
   ],
   "source": [
    "df_test.sort_values('Weight').head()"
   ]
  },
  {
   "cell_type": "code",
   "execution_count": 37,
   "id": "3b960aa7-b528-4767-b8e1-62f89c289899",
   "metadata": {},
   "outputs": [
    {
     "data": {
      "text/html": [
       "<div>\n",
       "<style scoped>\n",
       "    .dataframe tbody tr th:only-of-type {\n",
       "        vertical-align: middle;\n",
       "    }\n",
       "\n",
       "    .dataframe tbody tr th {\n",
       "        vertical-align: top;\n",
       "    }\n",
       "\n",
       "    .dataframe thead th {\n",
       "        text-align: right;\n",
       "    }\n",
       "</style>\n",
       "<table border=\"1\" class=\"dataframe\">\n",
       "  <thead>\n",
       "    <tr style=\"text-align: right;\">\n",
       "      <th></th>\n",
       "      <th></th>\n",
       "      <th>Weight</th>\n",
       "      <th>Height</th>\n",
       "    </tr>\n",
       "    <tr>\n",
       "      <th>Grade</th>\n",
       "      <th>Name</th>\n",
       "      <th></th>\n",
       "      <th></th>\n",
       "    </tr>\n",
       "  </thead>\n",
       "  <tbody>\n",
       "    <tr>\n",
       "      <th rowspan=\"3\" valign=\"top\">Senior</th>\n",
       "      <th>Xiaoqiang Qin</th>\n",
       "      <td>79.0</td>\n",
       "      <td>193.9</td>\n",
       "    </tr>\n",
       "    <tr>\n",
       "      <th>Mei Sun</th>\n",
       "      <td>89.0</td>\n",
       "      <td>188.9</td>\n",
       "    </tr>\n",
       "    <tr>\n",
       "      <th>Gaoli Zhao</th>\n",
       "      <td>83.0</td>\n",
       "      <td>186.5</td>\n",
       "    </tr>\n",
       "    <tr>\n",
       "      <th>Freshman</th>\n",
       "      <th>Qiang Han</th>\n",
       "      <td>87.0</td>\n",
       "      <td>185.3</td>\n",
       "    </tr>\n",
       "    <tr>\n",
       "      <th>Senior</th>\n",
       "      <th>Qiang Zheng</th>\n",
       "      <td>87.0</td>\n",
       "      <td>183.9</td>\n",
       "    </tr>\n",
       "  </tbody>\n",
       "</table>\n",
       "</div>"
      ],
      "text/plain": [
       "                        Weight  Height\n",
       "Grade    Name                         \n",
       "Senior   Xiaoqiang Qin    79.0   193.9\n",
       "         Mei Sun          89.0   188.9\n",
       "         Gaoli Zhao       83.0   186.5\n",
       "Freshman Qiang Han        87.0   185.3\n",
       "Senior   Qiang Zheng      87.0   183.9"
      ]
     },
     "execution_count": 37,
     "metadata": {},
     "output_type": "execute_result"
    }
   ],
   "source": [
    "df_test.sort_values('Height', ascending=False).head()"
   ]
  },
  {
   "cell_type": "code",
   "execution_count": 39,
   "id": "bf8a1327-3e1a-43f9-9a74-f25e25be4479",
   "metadata": {},
   "outputs": [
    {
     "data": {
      "text/html": [
       "<div>\n",
       "<style scoped>\n",
       "    .dataframe tbody tr th:only-of-type {\n",
       "        vertical-align: middle;\n",
       "    }\n",
       "\n",
       "    .dataframe tbody tr th {\n",
       "        vertical-align: top;\n",
       "    }\n",
       "\n",
       "    .dataframe thead th {\n",
       "        text-align: right;\n",
       "    }\n",
       "</style>\n",
       "<table border=\"1\" class=\"dataframe\">\n",
       "  <thead>\n",
       "    <tr style=\"text-align: right;\">\n",
       "      <th></th>\n",
       "      <th></th>\n",
       "      <th>Weight</th>\n",
       "      <th>Height</th>\n",
       "    </tr>\n",
       "    <tr>\n",
       "      <th>Grade</th>\n",
       "      <th>Name</th>\n",
       "      <th></th>\n",
       "      <th></th>\n",
       "    </tr>\n",
       "  </thead>\n",
       "  <tbody>\n",
       "    <tr>\n",
       "      <th>Sophomore</th>\n",
       "      <th>Peng Han</th>\n",
       "      <td>34.0</td>\n",
       "      <td>147.8</td>\n",
       "    </tr>\n",
       "    <tr>\n",
       "      <th>Senior</th>\n",
       "      <th>Gaomei Lv</th>\n",
       "      <td>34.0</td>\n",
       "      <td>147.3</td>\n",
       "    </tr>\n",
       "    <tr>\n",
       "      <th>Junior</th>\n",
       "      <th>Xiaoli Chu</th>\n",
       "      <td>34.0</td>\n",
       "      <td>145.4</td>\n",
       "    </tr>\n",
       "    <tr>\n",
       "      <th>Sophomore</th>\n",
       "      <th>Qiang Zhou</th>\n",
       "      <td>36.0</td>\n",
       "      <td>150.5</td>\n",
       "    </tr>\n",
       "    <tr>\n",
       "      <th>Freshman</th>\n",
       "      <th>Yanqiang Xu</th>\n",
       "      <td>38.0</td>\n",
       "      <td>152.4</td>\n",
       "    </tr>\n",
       "  </tbody>\n",
       "</table>\n",
       "</div>"
      ],
      "text/plain": [
       "                       Weight  Height\n",
       "Grade     Name                       \n",
       "Sophomore Peng Han       34.0   147.8\n",
       "Senior    Gaomei Lv      34.0   147.3\n",
       "Junior    Xiaoli Chu     34.0   145.4\n",
       "Sophomore Qiang Zhou     36.0   150.5\n",
       "Freshman  Yanqiang Xu    38.0   152.4"
      ]
     },
     "execution_count": 39,
     "metadata": {},
     "output_type": "execute_result"
    }
   ],
   "source": [
    "df_test.sort_values(['Weight','Height'], ascending=[True, False]).head()"
   ]
  },
  {
   "cell_type": "markdown",
   "id": "3cce736f-4f16-43c9-9e84-bbac4e4b9788",
   "metadata": {},
   "source": [
    "索引排序的用法和值排序完全一致，只不过元素的值在索引中，此时需要指定索引层的名字或者层号，用参数 level 表示。另外，需要注意的是字符串的排列顺序由字母顺序决定。"
   ]
  },
  {
   "cell_type": "code",
   "execution_count": 43,
   "id": "46f34dd0-f03c-4eba-8747-9e66e60468e3",
   "metadata": {},
   "outputs": [
    {
     "data": {
      "text/html": [
       "<div>\n",
       "<style scoped>\n",
       "    .dataframe tbody tr th:only-of-type {\n",
       "        vertical-align: middle;\n",
       "    }\n",
       "\n",
       "    .dataframe tbody tr th {\n",
       "        vertical-align: top;\n",
       "    }\n",
       "\n",
       "    .dataframe thead th {\n",
       "        text-align: right;\n",
       "    }\n",
       "</style>\n",
       "<table border=\"1\" class=\"dataframe\">\n",
       "  <thead>\n",
       "    <tr style=\"text-align: right;\">\n",
       "      <th></th>\n",
       "      <th></th>\n",
       "      <th>Weight</th>\n",
       "      <th>Height</th>\n",
       "    </tr>\n",
       "    <tr>\n",
       "      <th>Grade</th>\n",
       "      <th>Name</th>\n",
       "      <th></th>\n",
       "      <th></th>\n",
       "    </tr>\n",
       "  </thead>\n",
       "  <tbody>\n",
       "    <tr>\n",
       "      <th rowspan=\"5\" valign=\"top\">Freshman</th>\n",
       "      <th>Yanquan Wang</th>\n",
       "      <td>55.0</td>\n",
       "      <td>163.5</td>\n",
       "    </tr>\n",
       "    <tr>\n",
       "      <th>Yanqiang Xu</th>\n",
       "      <td>38.0</td>\n",
       "      <td>152.4</td>\n",
       "    </tr>\n",
       "    <tr>\n",
       "      <th>Yanqiang Feng</th>\n",
       "      <td>51.0</td>\n",
       "      <td>162.3</td>\n",
       "    </tr>\n",
       "    <tr>\n",
       "      <th>Yanpeng Lv</th>\n",
       "      <td>65.0</td>\n",
       "      <td>NaN</td>\n",
       "    </tr>\n",
       "    <tr>\n",
       "      <th>Yanli Zhang</th>\n",
       "      <td>52.0</td>\n",
       "      <td>165.1</td>\n",
       "    </tr>\n",
       "  </tbody>\n",
       "</table>\n",
       "</div>"
      ],
      "text/plain": [
       "                        Weight  Height\n",
       "Grade    Name                         \n",
       "Freshman Yanquan Wang     55.0   163.5\n",
       "         Yanqiang Xu      38.0   152.4\n",
       "         Yanqiang Feng    51.0   162.3\n",
       "         Yanpeng Lv       65.0     NaN\n",
       "         Yanli Zhang      52.0   165.1"
      ]
     },
     "execution_count": 43,
     "metadata": {},
     "output_type": "execute_result"
    }
   ],
   "source": [
    "# 索引排序\n",
    "df_test.sort_index(level=['Name']).head()\n",
    "df_test.sort_index(level=['Grade','Name'],ascending=[True,False]).head()"
   ]
  },
  {
   "cell_type": "markdown",
   "id": "f86eb7dc-fa95-4e54-b005-01654d293241",
   "metadata": {},
   "source": [
    "## 4.替换函数\n",
    "### replace和str.replace\n",
    "### where和mask\n",
    "### round/abs/clip"
   ]
  },
  {
   "cell_type": "markdown",
   "id": "4be2fd39-fae4-4cea-a246-7f7f9139b5ca",
   "metadata": {},
   "source": [
    "1. pandas中的替换函数可以归纳为三类：映射替换、逻辑替换、数值替换\n",
    "2. 映射替换包含replace方法、str.replace方法、cat.codes方法\n",
    "3. 改变原数据，需要添加常用参数 inplace=True"
   ]
  },
  {
   "cell_type": "markdown",
   "id": "5252989d-6f5b-4630-ae9a-e089f5112c01",
   "metadata": {},
   "source": [
    "* 在 replace 中，可以通过字典构造，或者传入两个列表来进行替换"
   ]
  },
  {
   "cell_type": "code",
   "execution_count": 45,
   "id": "e481179b-4ece-48f3-9f93-1c717d5e5c6e",
   "metadata": {},
   "outputs": [
    {
     "data": {
      "text/plain": [
       "0    0\n",
       "1    1\n",
       "2    1\n",
       "3    0\n",
       "4    1\n",
       "Name: Gender, dtype: int64"
      ]
     },
     "execution_count": 45,
     "metadata": {},
     "output_type": "execute_result"
    }
   ],
   "source": [
    "df.Gender.replace({'Female':0, 'Male':1}).head()"
   ]
  },
  {
   "cell_type": "code",
   "execution_count": 58,
   "id": "6635af15-5192-4480-bb7c-c6d6b92ef29d",
   "metadata": {},
   "outputs": [
    {
     "data": {
      "text/html": [
       "<div>\n",
       "<style scoped>\n",
       "    .dataframe tbody tr th:only-of-type {\n",
       "        vertical-align: middle;\n",
       "    }\n",
       "\n",
       "    .dataframe tbody tr th {\n",
       "        vertical-align: top;\n",
       "    }\n",
       "\n",
       "    .dataframe thead th {\n",
       "        text-align: right;\n",
       "    }\n",
       "</style>\n",
       "<table border=\"1\" class=\"dataframe\">\n",
       "  <thead>\n",
       "    <tr style=\"text-align: right;\">\n",
       "      <th></th>\n",
       "      <th>School</th>\n",
       "      <th>Grade</th>\n",
       "      <th>Name</th>\n",
       "      <th>Gender</th>\n",
       "      <th>Height</th>\n",
       "      <th>Weight</th>\n",
       "      <th>Transfer</th>\n",
       "      <th>Test_Number</th>\n",
       "      <th>Test_Date</th>\n",
       "      <th>Time_Record</th>\n",
       "    </tr>\n",
       "  </thead>\n",
       "  <tbody>\n",
       "    <tr>\n",
       "      <th>0</th>\n",
       "      <td>Shanghai Jiao Tong University</td>\n",
       "      <td>Freshman</td>\n",
       "      <td>Gaopeng Yang</td>\n",
       "      <td>0</td>\n",
       "      <td>158.9</td>\n",
       "      <td>46.0</td>\n",
       "      <td>N</td>\n",
       "      <td>1</td>\n",
       "      <td>2019/10/5</td>\n",
       "      <td>0:04:34</td>\n",
       "    </tr>\n",
       "    <tr>\n",
       "      <th>1</th>\n",
       "      <td>Peking University</td>\n",
       "      <td>Freshman</td>\n",
       "      <td>Changqiang You</td>\n",
       "      <td>1</td>\n",
       "      <td>166.5</td>\n",
       "      <td>70.0</td>\n",
       "      <td>N</td>\n",
       "      <td>1</td>\n",
       "      <td>2019/9/4</td>\n",
       "      <td>0:04:20</td>\n",
       "    </tr>\n",
       "    <tr>\n",
       "      <th>2</th>\n",
       "      <td>Shanghai Jiao Tong University</td>\n",
       "      <td>Senior</td>\n",
       "      <td>Mei Sun</td>\n",
       "      <td>1</td>\n",
       "      <td>188.9</td>\n",
       "      <td>89.0</td>\n",
       "      <td>N</td>\n",
       "      <td>2</td>\n",
       "      <td>2019/9/12</td>\n",
       "      <td>0:05:22</td>\n",
       "    </tr>\n",
       "    <tr>\n",
       "      <th>3</th>\n",
       "      <td>Fudan University</td>\n",
       "      <td>Sophomore</td>\n",
       "      <td>Xiaojuan Sun</td>\n",
       "      <td>0</td>\n",
       "      <td>NaN</td>\n",
       "      <td>41.0</td>\n",
       "      <td>N</td>\n",
       "      <td>2</td>\n",
       "      <td>2020/1/3</td>\n",
       "      <td>0:04:08</td>\n",
       "    </tr>\n",
       "    <tr>\n",
       "      <th>4</th>\n",
       "      <td>Fudan University</td>\n",
       "      <td>Sophomore</td>\n",
       "      <td>Gaojuan You</td>\n",
       "      <td>1</td>\n",
       "      <td>174.0</td>\n",
       "      <td>74.0</td>\n",
       "      <td>N</td>\n",
       "      <td>2</td>\n",
       "      <td>2019/11/6</td>\n",
       "      <td>0:05:22</td>\n",
       "    </tr>\n",
       "  </tbody>\n",
       "</table>\n",
       "</div>"
      ],
      "text/plain": [
       "                          School      Grade            Name  Gender  Height  \\\n",
       "0  Shanghai Jiao Tong University   Freshman    Gaopeng Yang       0   158.9   \n",
       "1              Peking University   Freshman  Changqiang You       1   166.5   \n",
       "2  Shanghai Jiao Tong University     Senior         Mei Sun       1   188.9   \n",
       "3               Fudan University  Sophomore    Xiaojuan Sun       0     NaN   \n",
       "4               Fudan University  Sophomore     Gaojuan You       1   174.0   \n",
       "\n",
       "   Weight Transfer  Test_Number  Test_Date Time_Record  \n",
       "0    46.0        N            1  2019/10/5     0:04:34  \n",
       "1    70.0        N            1   2019/9/4     0:04:20  \n",
       "2    89.0        N            2  2019/9/12     0:05:22  \n",
       "3    41.0        N            2   2020/1/3     0:04:08  \n",
       "4    74.0        N            2  2019/11/6     0:05:22  "
      ]
     },
     "execution_count": 58,
     "metadata": {},
     "output_type": "execute_result"
    }
   ],
   "source": [
    "df.replace({'Female':0, 'Male':1}).head() ## 全dataframe内替换"
   ]
  },
  {
   "cell_type": "code",
   "execution_count": 59,
   "id": "5821e4c3-c99b-41db-ba22-57202e19927a",
   "metadata": {},
   "outputs": [
    {
     "data": {
      "text/html": [
       "<div>\n",
       "<style scoped>\n",
       "    .dataframe tbody tr th:only-of-type {\n",
       "        vertical-align: middle;\n",
       "    }\n",
       "\n",
       "    .dataframe tbody tr th {\n",
       "        vertical-align: top;\n",
       "    }\n",
       "\n",
       "    .dataframe thead th {\n",
       "        text-align: right;\n",
       "    }\n",
       "</style>\n",
       "<table border=\"1\" class=\"dataframe\">\n",
       "  <thead>\n",
       "    <tr style=\"text-align: right;\">\n",
       "      <th></th>\n",
       "      <th>School</th>\n",
       "      <th>Grade</th>\n",
       "      <th>Name</th>\n",
       "      <th>Gender</th>\n",
       "      <th>Height</th>\n",
       "      <th>Weight</th>\n",
       "      <th>Transfer</th>\n",
       "      <th>Test_Number</th>\n",
       "      <th>Test_Date</th>\n",
       "      <th>Time_Record</th>\n",
       "    </tr>\n",
       "  </thead>\n",
       "  <tbody>\n",
       "    <tr>\n",
       "      <th>0</th>\n",
       "      <td>Shanghai Jiao Tong University</td>\n",
       "      <td>Freshman</td>\n",
       "      <td>Gaopeng Yang</td>\n",
       "      <td>0</td>\n",
       "      <td>158.9</td>\n",
       "      <td>46.0</td>\n",
       "      <td>N</td>\n",
       "      <td>1</td>\n",
       "      <td>2019/10/5</td>\n",
       "      <td>0:04:34</td>\n",
       "    </tr>\n",
       "    <tr>\n",
       "      <th>1</th>\n",
       "      <td>Peking University</td>\n",
       "      <td>Freshman</td>\n",
       "      <td>Changqiang You</td>\n",
       "      <td>Male</td>\n",
       "      <td>166.5</td>\n",
       "      <td>70.0</td>\n",
       "      <td>N</td>\n",
       "      <td>1</td>\n",
       "      <td>2019/9/4</td>\n",
       "      <td>0:04:20</td>\n",
       "    </tr>\n",
       "    <tr>\n",
       "      <th>2</th>\n",
       "      <td>Shanghai Jiao Tong University</td>\n",
       "      <td>Senior</td>\n",
       "      <td>Mei Sun</td>\n",
       "      <td>Male</td>\n",
       "      <td>188.9</td>\n",
       "      <td>89.0</td>\n",
       "      <td>N</td>\n",
       "      <td>2</td>\n",
       "      <td>2019/9/12</td>\n",
       "      <td>0:05:22</td>\n",
       "    </tr>\n",
       "    <tr>\n",
       "      <th>3</th>\n",
       "      <td>Fudan University</td>\n",
       "      <td>Sophomore</td>\n",
       "      <td>Xiaojuan Sun</td>\n",
       "      <td>0</td>\n",
       "      <td>NaN</td>\n",
       "      <td>41.0</td>\n",
       "      <td>N</td>\n",
       "      <td>2</td>\n",
       "      <td>2020/1/3</td>\n",
       "      <td>0:04:08</td>\n",
       "    </tr>\n",
       "    <tr>\n",
       "      <th>4</th>\n",
       "      <td>Fudan University</td>\n",
       "      <td>Sophomore</td>\n",
       "      <td>Gaojuan You</td>\n",
       "      <td>Male</td>\n",
       "      <td>174.0</td>\n",
       "      <td>74.0</td>\n",
       "      <td>N</td>\n",
       "      <td>2</td>\n",
       "      <td>2019/11/6</td>\n",
       "      <td>0:05:22</td>\n",
       "    </tr>\n",
       "  </tbody>\n",
       "</table>\n",
       "</div>"
      ],
      "text/plain": [
       "                          School      Grade            Name Gender  Height  \\\n",
       "0  Shanghai Jiao Tong University   Freshman    Gaopeng Yang      0   158.9   \n",
       "1              Peking University   Freshman  Changqiang You   Male   166.5   \n",
       "2  Shanghai Jiao Tong University     Senior         Mei Sun   Male   188.9   \n",
       "3               Fudan University  Sophomore    Xiaojuan Sun      0     NaN   \n",
       "4               Fudan University  Sophomore     Gaojuan You   Male   174.0   \n",
       "\n",
       "   Weight Transfer  Test_Number  Test_Date Time_Record  \n",
       "0    46.0        N            1  2019/10/5     0:04:34  \n",
       "1    70.0        N            1   2019/9/4     0:04:20  \n",
       "2    89.0        N            2  2019/9/12     0:05:22  \n",
       "3    41.0        N            2   2020/1/3     0:04:08  \n",
       "4    74.0        N            2  2019/11/6     0:05:22  "
      ]
     },
     "execution_count": 59,
     "metadata": {},
     "output_type": "execute_result"
    }
   ],
   "source": [
    "df.replace('Female',0).head()"
   ]
  },
  {
   "cell_type": "code",
   "execution_count": 47,
   "id": "d2f3d559-bd97-4d7a-bffb-9426fc7d4b16",
   "metadata": {},
   "outputs": [
    {
     "data": {
      "text/plain": [
       "0    0\n",
       "1    1\n",
       "2    1\n",
       "3    0\n",
       "4    1\n",
       "Name: Gender, dtype: int64"
      ]
     },
     "execution_count": 47,
     "metadata": {},
     "output_type": "execute_result"
    }
   ],
   "source": [
    "df.Gender.replace(['Female','Male'],[0,1]).head()"
   ]
  },
  {
   "cell_type": "markdown",
   "id": "3854e0a4-a6cc-478b-b4eb-fdf8f4a399a5",
   "metadata": {},
   "source": [
    "* replace中方向替换，指定 method 参数为 ffill 则为用前面一个最近的未被替换的值进行替换， bfill 则使用后面最近的未被替换的值进行替换。\n",
    "* regex=True 使用正则替换\n",
    "* limit 限制填充次数"
   ]
  },
  {
   "cell_type": "code",
   "execution_count": 76,
   "id": "25a2109c-ea00-4f6c-872a-3eeb3c41f2db",
   "metadata": {},
   "outputs": [
    {
     "data": {
      "text/plain": [
       "0    a\n",
       "1    a\n",
       "2    b\n",
       "3    b\n",
       "4    1\n",
       "5    1\n",
       "6    a\n",
       "dtype: object"
      ]
     },
     "execution_count": 76,
     "metadata": {},
     "output_type": "execute_result"
    }
   ],
   "source": [
    "s = pd.Series(['a', 1, 'b', 2, 1, 1, 'a'])\n",
    "s.replace([1,2], method='ffill',limit=1) # 第一个参数为被替换的列表,limit限制填充次数"
   ]
  },
  {
   "cell_type": "code",
   "execution_count": 51,
   "id": "28c3e725-729c-49e1-b963-e8d8f5d4dfbb",
   "metadata": {},
   "outputs": [
    {
     "data": {
      "text/plain": [
       "0    a\n",
       "1    b\n",
       "2    b\n",
       "3    a\n",
       "4    a\n",
       "5    a\n",
       "6    a\n",
       "dtype: object"
      ]
     },
     "execution_count": 51,
     "metadata": {},
     "output_type": "execute_result"
    }
   ],
   "source": [
    "s.replace([1,2], method='bfill')"
   ]
  },
  {
   "cell_type": "code",
   "execution_count": 55,
   "id": "8ceaff33-fd2f-4b57-bb9c-117351f71f1b",
   "metadata": {},
   "outputs": [
    {
     "data": {
      "text/plain": [
       "0    a\n",
       "1    a\n",
       "2    b\n",
       "3    b\n",
       "4    b\n",
       "5    a\n",
       "dtype: object"
      ]
     },
     "execution_count": 55,
     "metadata": {},
     "output_type": "execute_result"
    }
   ],
   "source": [
    "s2 = pd.Series(['a',None,'b',None,None,'a'])\n",
    "s2.replace(None,method='ffill')"
   ]
  },
  {
   "cell_type": "code",
   "execution_count": 80,
   "id": "2b7ef7f0-84e2-4f4a-a83d-1085e7279f7a",
   "metadata": {},
   "outputs": [
    {
     "data": {
      "text/plain": [
       "0    000\n",
       "1    NaN\n",
       "2      ?\n",
       "3      b\n",
       "4    000\n",
       "dtype: object"
      ]
     },
     "execution_count": 80,
     "metadata": {},
     "output_type": "execute_result"
    }
   ],
   "source": [
    "s3 = pd.Series(['a',np.nan,'?','b','a'])\n",
    "s3.replace(to_replace=r'\\?', value='c', regex=True)\n",
    "s3.replace(np.nan,'d')\n",
    "s3.replace('a','000')"
   ]
  },
  {
   "cell_type": "markdown",
   "id": "0f232d8a-ec75-4c3c-ba75-bae7383c88d2",
   "metadata": {},
   "source": [
    "* 逻辑替换包括了 where 和 mask ，这两个函数是完全对称的： where 函数在传入条件为 False 的对应行进行替换，而 mask 在传入条件为 True 的对应行进行替换，当不指定替换值时，替换为缺失值。"
   ]
  },
  {
   "cell_type": "code",
   "execution_count": 89,
   "id": "58f7236c-779f-49c1-81fd-2e82df550cd3",
   "metadata": {},
   "outputs": [
    {
     "data": {
      "text/plain": [
       "0    46.0\n",
       "1     NaN\n",
       "2     NaN\n",
       "3    41.0\n",
       "4     NaN\n",
       "Name: Weight, dtype: float64"
      ]
     },
     "execution_count": 89,
     "metadata": {},
     "output_type": "execute_result"
    }
   ],
   "source": [
    "df.Weight.where(df.Weight<50).head()"
   ]
  },
  {
   "cell_type": "code",
   "execution_count": 90,
   "id": "073f3d9f-dc61-43ee-a092-0cb2201f3834",
   "metadata": {
    "tags": []
   },
   "outputs": [
    {
     "data": {
      "text/plain": [
       "0      46.0\n",
       "1    1000.0\n",
       "2    1000.0\n",
       "3      41.0\n",
       "4    1000.0\n",
       "Name: Weight, dtype: float64"
      ]
     },
     "execution_count": 90,
     "metadata": {},
     "output_type": "execute_result"
    }
   ],
   "source": [
    "df.Weight.mask(df.Weight>=50,1000).head()"
   ]
  },
  {
   "cell_type": "markdown",
   "id": "5395f013-6da3-411c-b501-79eab447133e",
   "metadata": {},
   "source": [
    "* 数值替换包含了 round, abs, clip 方法，它们分别表示按照给定精度四舍五入、取绝对值和截断"
   ]
  },
  {
   "cell_type": "code",
   "execution_count": 101,
   "id": "29d8e2b9-deae-4ecb-80ec-a3aea9b50bfd",
   "metadata": {},
   "outputs": [
    {
     "data": {
      "text/plain": [
       "0    1.3\n",
       "1    2.5\n",
       "2    4.7\n",
       "3    9.0\n",
       "4   -1.0\n",
       "5   -0.0\n",
       "dtype: float64"
      ]
     },
     "execution_count": 101,
     "metadata": {},
     "output_type": "execute_result"
    }
   ],
   "source": [
    "s5 = pd.Series(['1.34','2.54','4.68','9.01','-1.02','-0.05'],dtype=float)\n",
    "s5.round(1)"
   ]
  },
  {
   "cell_type": "code",
   "execution_count": 102,
   "id": "d3cb066c-c504-44d5-9f92-c29afed4bcdd",
   "metadata": {},
   "outputs": [
    {
     "data": {
      "text/plain": [
       "0    1.34\n",
       "1    2.54\n",
       "2    4.68\n",
       "3    9.01\n",
       "4    1.02\n",
       "5    0.05\n",
       "dtype: float64"
      ]
     },
     "execution_count": 102,
     "metadata": {},
     "output_type": "execute_result"
    }
   ],
   "source": [
    "s5.abs()"
   ]
  },
  {
   "cell_type": "code",
   "execution_count": 103,
   "id": "9c0e46b9-a60b-46c1-966a-691d876dc6c8",
   "metadata": {},
   "outputs": [
    {
     "data": {
      "text/plain": [
       "0    1.34\n",
       "1    2.00\n",
       "2    2.00\n",
       "3    2.00\n",
       "4   -1.00\n",
       "5   -0.05\n",
       "dtype: float64"
      ]
     },
     "execution_count": 103,
     "metadata": {},
     "output_type": "execute_result"
    }
   ],
   "source": [
    "s5.clip(2,-1) #lower=2,uper=-1,超过2的都为2，小于-1的都为-1"
   ]
  },
  {
   "cell_type": "markdown",
   "id": "355cea70-1265-4b85-9c71-9b3dc7e82c60",
   "metadata": {},
   "source": [
    "## 5.唯一值函数\n",
    "### unique和nunique\n",
    "### value_counts\n",
    "### duplicated和drop_duplicates"
   ]
  },
  {
   "cell_type": "markdown",
   "id": "cd2424cb-82cc-4d7c-90c9-49b1ede2ec2d",
   "metadata": {},
   "source": [
    "* unique 和 nunique 可以分别得到其唯一值组成的列表和唯一值的个数\n",
    "* value_counts 可以得到唯一值和其对应出现的频数\n",
    "* drop_duplicates 多个列组合的唯一值，参数keep,默认值 first 表示每个组合保留第一次出现的所在行， last 表示保留最后一次出现的所在行， False 表示把所有重复组合所在的行剔除。\n",
    "* duplicated 和 drop_duplicates 的功能类似，但前者返回了是否为唯一值的布尔列表，其 keep 参数与后者一致。其返回的序列，把重复元素设为 True ，否则为 False 。 drop_duplicates 等价于把 duplicated 为 True 的对应行剔除。"
   ]
  },
  {
   "cell_type": "code",
   "execution_count": 109,
   "id": "c37888d3-a424-4f8f-8233-6f6c78be4de5",
   "metadata": {},
   "outputs": [
    {
     "data": {
      "text/plain": [
       "array(['Freshman', 'Senior', 'Sophomore', 'Junior'], dtype=object)"
      ]
     },
     "execution_count": 109,
     "metadata": {},
     "output_type": "execute_result"
    }
   ],
   "source": [
    "df.Grade.unique()"
   ]
  },
  {
   "cell_type": "code",
   "execution_count": 107,
   "id": "e303484e-d770-40f3-ad8c-136cc2af230f",
   "metadata": {},
   "outputs": [
    {
     "data": {
      "text/plain": [
       "4"
      ]
     },
     "execution_count": 107,
     "metadata": {},
     "output_type": "execute_result"
    }
   ],
   "source": [
    "df.Grade.nunique()"
   ]
  },
  {
   "cell_type": "code",
   "execution_count": 110,
   "id": "0ac20792-e3ea-4875-bc00-48027a49b01b",
   "metadata": {},
   "outputs": [
    {
     "data": {
      "text/plain": [
       "Junior       59\n",
       "Senior       55\n",
       "Freshman     52\n",
       "Sophomore    34\n",
       "Name: Grade, dtype: int64"
      ]
     },
     "execution_count": 110,
     "metadata": {},
     "output_type": "execute_result"
    }
   ],
   "source": [
    "df.Grade.value_counts()"
   ]
  },
  {
   "cell_type": "code",
   "execution_count": 123,
   "id": "44f85d24-6a34-4e77-9260-e8eb761dcd1b",
   "metadata": {},
   "outputs": [
    {
     "data": {
      "text/html": [
       "<div>\n",
       "<style scoped>\n",
       "    .dataframe tbody tr th:only-of-type {\n",
       "        vertical-align: middle;\n",
       "    }\n",
       "\n",
       "    .dataframe tbody tr th {\n",
       "        vertical-align: top;\n",
       "    }\n",
       "\n",
       "    .dataframe thead th {\n",
       "        text-align: right;\n",
       "    }\n",
       "</style>\n",
       "<table border=\"1\" class=\"dataframe\">\n",
       "  <thead>\n",
       "    <tr style=\"text-align: right;\">\n",
       "      <th></th>\n",
       "      <th>Gender</th>\n",
       "      <th>Transfer</th>\n",
       "      <th>Grade</th>\n",
       "      <th>School</th>\n",
       "      <th>Name</th>\n",
       "    </tr>\n",
       "  </thead>\n",
       "  <tbody>\n",
       "    <tr>\n",
       "      <th>0</th>\n",
       "      <td>Female</td>\n",
       "      <td>N</td>\n",
       "      <td>Freshman</td>\n",
       "      <td>Shanghai Jiao Tong University</td>\n",
       "      <td>Gaopeng Yang</td>\n",
       "    </tr>\n",
       "    <tr>\n",
       "      <th>1</th>\n",
       "      <td>Male</td>\n",
       "      <td>N</td>\n",
       "      <td>Freshman</td>\n",
       "      <td>Peking University</td>\n",
       "      <td>Changqiang You</td>\n",
       "    </tr>\n",
       "    <tr>\n",
       "      <th>2</th>\n",
       "      <td>Male</td>\n",
       "      <td>N</td>\n",
       "      <td>Senior</td>\n",
       "      <td>Shanghai Jiao Tong University</td>\n",
       "      <td>Mei Sun</td>\n",
       "    </tr>\n",
       "    <tr>\n",
       "      <th>3</th>\n",
       "      <td>Female</td>\n",
       "      <td>N</td>\n",
       "      <td>Sophomore</td>\n",
       "      <td>Fudan University</td>\n",
       "      <td>Xiaojuan Sun</td>\n",
       "    </tr>\n",
       "    <tr>\n",
       "      <th>4</th>\n",
       "      <td>Male</td>\n",
       "      <td>N</td>\n",
       "      <td>Sophomore</td>\n",
       "      <td>Fudan University</td>\n",
       "      <td>Gaojuan You</td>\n",
       "    </tr>\n",
       "  </tbody>\n",
       "</table>\n",
       "</div>"
      ],
      "text/plain": [
       "   Gender Transfer      Grade                         School            Name\n",
       "0  Female        N   Freshman  Shanghai Jiao Tong University    Gaopeng Yang\n",
       "1    Male        N   Freshman              Peking University  Changqiang You\n",
       "2    Male        N     Senior  Shanghai Jiao Tong University         Mei Sun\n",
       "3  Female        N  Sophomore               Fudan University    Xiaojuan Sun\n",
       "4    Male        N  Sophomore               Fudan University     Gaojuan You"
      ]
     },
     "execution_count": 123,
     "metadata": {},
     "output_type": "execute_result"
    }
   ],
   "source": [
    "#df_test.drop_duplicates(['Gender', 'Transfer'])\n",
    "df_test2 = df[['Gender','Transfer','Grade','School','Name']]\n",
    "df_test2.head()"
   ]
  },
  {
   "cell_type": "code",
   "execution_count": 124,
   "id": "2a9ac192-a57f-474d-ac7c-1acd470151a1",
   "metadata": {},
   "outputs": [
    {
     "data": {
      "text/html": [
       "<div>\n",
       "<style scoped>\n",
       "    .dataframe tbody tr th:only-of-type {\n",
       "        vertical-align: middle;\n",
       "    }\n",
       "\n",
       "    .dataframe tbody tr th {\n",
       "        vertical-align: top;\n",
       "    }\n",
       "\n",
       "    .dataframe thead th {\n",
       "        text-align: right;\n",
       "    }\n",
       "</style>\n",
       "<table border=\"1\" class=\"dataframe\">\n",
       "  <thead>\n",
       "    <tr style=\"text-align: right;\">\n",
       "      <th></th>\n",
       "      <th>Gender</th>\n",
       "      <th>Transfer</th>\n",
       "      <th>Grade</th>\n",
       "      <th>School</th>\n",
       "      <th>Name</th>\n",
       "    </tr>\n",
       "  </thead>\n",
       "  <tbody>\n",
       "    <tr>\n",
       "      <th>0</th>\n",
       "      <td>Female</td>\n",
       "      <td>N</td>\n",
       "      <td>Freshman</td>\n",
       "      <td>Shanghai Jiao Tong University</td>\n",
       "      <td>Gaopeng Yang</td>\n",
       "    </tr>\n",
       "    <tr>\n",
       "      <th>1</th>\n",
       "      <td>Male</td>\n",
       "      <td>N</td>\n",
       "      <td>Freshman</td>\n",
       "      <td>Peking University</td>\n",
       "      <td>Changqiang You</td>\n",
       "    </tr>\n",
       "    <tr>\n",
       "      <th>12</th>\n",
       "      <td>Female</td>\n",
       "      <td>NaN</td>\n",
       "      <td>Senior</td>\n",
       "      <td>Shanghai Jiao Tong University</td>\n",
       "      <td>Peng You</td>\n",
       "    </tr>\n",
       "    <tr>\n",
       "      <th>21</th>\n",
       "      <td>Male</td>\n",
       "      <td>NaN</td>\n",
       "      <td>Senior</td>\n",
       "      <td>Shanghai Jiao Tong University</td>\n",
       "      <td>Xiaopeng Shen</td>\n",
       "    </tr>\n",
       "    <tr>\n",
       "      <th>36</th>\n",
       "      <td>Male</td>\n",
       "      <td>Y</td>\n",
       "      <td>Freshman</td>\n",
       "      <td>Peking University</td>\n",
       "      <td>Xiaojuan Qin</td>\n",
       "    </tr>\n",
       "    <tr>\n",
       "      <th>43</th>\n",
       "      <td>Female</td>\n",
       "      <td>Y</td>\n",
       "      <td>Freshman</td>\n",
       "      <td>Tsinghua University</td>\n",
       "      <td>Gaoli Feng</td>\n",
       "    </tr>\n",
       "  </tbody>\n",
       "</table>\n",
       "</div>"
      ],
      "text/plain": [
       "    Gender Transfer     Grade                         School            Name\n",
       "0   Female        N  Freshman  Shanghai Jiao Tong University    Gaopeng Yang\n",
       "1     Male        N  Freshman              Peking University  Changqiang You\n",
       "12  Female      NaN    Senior  Shanghai Jiao Tong University        Peng You\n",
       "21    Male      NaN    Senior  Shanghai Jiao Tong University   Xiaopeng Shen\n",
       "36    Male        Y  Freshman              Peking University    Xiaojuan Qin\n",
       "43  Female        Y  Freshman            Tsinghua University      Gaoli Feng"
      ]
     },
     "execution_count": 124,
     "metadata": {},
     "output_type": "execute_result"
    }
   ],
   "source": [
    "df_test2.drop_duplicates(['Gender','Transfer'])"
   ]
  },
  {
   "cell_type": "code",
   "execution_count": 127,
   "id": "c273ffff-8125-44ba-b34b-9e6b97bc272a",
   "metadata": {},
   "outputs": [
    {
     "data": {
      "text/html": [
       "<div>\n",
       "<style scoped>\n",
       "    .dataframe tbody tr th:only-of-type {\n",
       "        vertical-align: middle;\n",
       "    }\n",
       "\n",
       "    .dataframe tbody tr th {\n",
       "        vertical-align: top;\n",
       "    }\n",
       "\n",
       "    .dataframe thead th {\n",
       "        text-align: right;\n",
       "    }\n",
       "</style>\n",
       "<table border=\"1\" class=\"dataframe\">\n",
       "  <thead>\n",
       "    <tr style=\"text-align: right;\">\n",
       "      <th></th>\n",
       "      <th>Gender</th>\n",
       "      <th>Transfer</th>\n",
       "      <th>Grade</th>\n",
       "      <th>School</th>\n",
       "      <th>Name</th>\n",
       "    </tr>\n",
       "  </thead>\n",
       "  <tbody>\n",
       "    <tr>\n",
       "      <th>0</th>\n",
       "      <td>Female</td>\n",
       "      <td>N</td>\n",
       "      <td>Freshman</td>\n",
       "      <td>Shanghai Jiao Tong University</td>\n",
       "      <td>Gaopeng Yang</td>\n",
       "    </tr>\n",
       "    <tr>\n",
       "      <th>1</th>\n",
       "      <td>Male</td>\n",
       "      <td>N</td>\n",
       "      <td>Freshman</td>\n",
       "      <td>Peking University</td>\n",
       "      <td>Changqiang You</td>\n",
       "    </tr>\n",
       "    <tr>\n",
       "      <th>12</th>\n",
       "      <td>Female</td>\n",
       "      <td>NaN</td>\n",
       "      <td>Senior</td>\n",
       "      <td>Shanghai Jiao Tong University</td>\n",
       "      <td>Peng You</td>\n",
       "    </tr>\n",
       "    <tr>\n",
       "      <th>21</th>\n",
       "      <td>Male</td>\n",
       "      <td>NaN</td>\n",
       "      <td>Senior</td>\n",
       "      <td>Shanghai Jiao Tong University</td>\n",
       "      <td>Xiaopeng Shen</td>\n",
       "    </tr>\n",
       "    <tr>\n",
       "      <th>36</th>\n",
       "      <td>Male</td>\n",
       "      <td>Y</td>\n",
       "      <td>Freshman</td>\n",
       "      <td>Peking University</td>\n",
       "      <td>Xiaojuan Qin</td>\n",
       "    </tr>\n",
       "    <tr>\n",
       "      <th>43</th>\n",
       "      <td>Female</td>\n",
       "      <td>Y</td>\n",
       "      <td>Freshman</td>\n",
       "      <td>Tsinghua University</td>\n",
       "      <td>Gaoli Feng</td>\n",
       "    </tr>\n",
       "  </tbody>\n",
       "</table>\n",
       "</div>"
      ],
      "text/plain": [
       "    Gender Transfer     Grade                         School            Name\n",
       "0   Female        N  Freshman  Shanghai Jiao Tong University    Gaopeng Yang\n",
       "1     Male        N  Freshman              Peking University  Changqiang You\n",
       "12  Female      NaN    Senior  Shanghai Jiao Tong University        Peng You\n",
       "21    Male      NaN    Senior  Shanghai Jiao Tong University   Xiaopeng Shen\n",
       "36    Male        Y  Freshman              Peking University    Xiaojuan Qin\n",
       "43  Female        Y  Freshman            Tsinghua University      Gaoli Feng"
      ]
     },
     "execution_count": 127,
     "metadata": {},
     "output_type": "execute_result"
    }
   ],
   "source": [
    "df_test2.drop_duplicates(['Gender','Transfer'],keep='last')\n",
    "df_test2.drop_duplicates(['Gender','Transfer'],keep='first')"
   ]
  },
  {
   "cell_type": "code",
   "execution_count": 130,
   "id": "456caa19-1545-4e04-81ac-d141b8b6c290",
   "metadata": {},
   "outputs": [
    {
     "data": {
      "text/html": [
       "<div>\n",
       "<style scoped>\n",
       "    .dataframe tbody tr th:only-of-type {\n",
       "        vertical-align: middle;\n",
       "    }\n",
       "\n",
       "    .dataframe tbody tr th {\n",
       "        vertical-align: top;\n",
       "    }\n",
       "\n",
       "    .dataframe thead th {\n",
       "        text-align: right;\n",
       "    }\n",
       "</style>\n",
       "<table border=\"1\" class=\"dataframe\">\n",
       "  <thead>\n",
       "    <tr style=\"text-align: right;\">\n",
       "      <th></th>\n",
       "      <th>Gender</th>\n",
       "      <th>Transfer</th>\n",
       "      <th>Grade</th>\n",
       "      <th>School</th>\n",
       "      <th>Name</th>\n",
       "    </tr>\n",
       "  </thead>\n",
       "  <tbody>\n",
       "    <tr>\n",
       "      <th>0</th>\n",
       "      <td>Female</td>\n",
       "      <td>N</td>\n",
       "      <td>Freshman</td>\n",
       "      <td>Shanghai Jiao Tong University</td>\n",
       "      <td>Gaopeng Yang</td>\n",
       "    </tr>\n",
       "    <tr>\n",
       "      <th>1</th>\n",
       "      <td>Male</td>\n",
       "      <td>N</td>\n",
       "      <td>Freshman</td>\n",
       "      <td>Peking University</td>\n",
       "      <td>Changqiang You</td>\n",
       "    </tr>\n",
       "    <tr>\n",
       "      <th>2</th>\n",
       "      <td>Male</td>\n",
       "      <td>N</td>\n",
       "      <td>Senior</td>\n",
       "      <td>Shanghai Jiao Tong University</td>\n",
       "      <td>Mei Sun</td>\n",
       "    </tr>\n",
       "    <tr>\n",
       "      <th>4</th>\n",
       "      <td>Male</td>\n",
       "      <td>N</td>\n",
       "      <td>Sophomore</td>\n",
       "      <td>Fudan University</td>\n",
       "      <td>Gaojuan You</td>\n",
       "    </tr>\n",
       "    <tr>\n",
       "      <th>5</th>\n",
       "      <td>Female</td>\n",
       "      <td>N</td>\n",
       "      <td>Freshman</td>\n",
       "      <td>Tsinghua University</td>\n",
       "      <td>Xiaoli Qian</td>\n",
       "    </tr>\n",
       "  </tbody>\n",
       "</table>\n",
       "</div>"
      ],
      "text/plain": [
       "   Gender Transfer      Grade                         School            Name\n",
       "0  Female        N   Freshman  Shanghai Jiao Tong University    Gaopeng Yang\n",
       "1    Male        N   Freshman              Peking University  Changqiang You\n",
       "2    Male        N     Senior  Shanghai Jiao Tong University         Mei Sun\n",
       "4    Male        N  Sophomore               Fudan University     Gaojuan You\n",
       "5  Female        N   Freshman            Tsinghua University     Xiaoli Qian"
      ]
     },
     "execution_count": 130,
     "metadata": {},
     "output_type": "execute_result"
    }
   ],
   "source": [
    "df_test2.drop_duplicates(['Gender','Name'],keep=False).head()"
   ]
  },
  {
   "cell_type": "code",
   "execution_count": 131,
   "id": "0e00a05b-b018-411d-bf00-fb73092f84d5",
   "metadata": {},
   "outputs": [
    {
     "data": {
      "text/plain": [
       "0    Shanghai Jiao Tong University\n",
       "1                Peking University\n",
       "3                 Fudan University\n",
       "5              Tsinghua University\n",
       "Name: School, dtype: object"
      ]
     },
     "execution_count": 131,
     "metadata": {},
     "output_type": "execute_result"
    }
   ],
   "source": [
    "df['School'].drop_duplicates() # 在Series上也可以使用"
   ]
  }
 ],
 "metadata": {
  "kernelspec": {
   "display_name": "Python 3",
   "language": "python",
   "name": "python3"
  },
  "language_info": {
   "codemirror_mode": {
    "name": "ipython",
    "version": 3
   },
   "file_extension": ".py",
   "mimetype": "text/x-python",
   "name": "python",
   "nbconvert_exporter": "python",
   "pygments_lexer": "ipython3",
   "version": "3.8.8"
  }
 },
 "nbformat": 4,
 "nbformat_minor": 5
}
