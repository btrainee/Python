{
 "cells": [
  {
   "cell_type": "markdown",
   "id": "50930572-9690-4219-8e4a-f5cd353faec7",
   "metadata": {},
   "source": [
    "pandas有两种基本数据结构，Series和DataFrame，分别存储一维和二维数据"
   ]
  },
  {
   "cell_type": "code",
   "execution_count": null,
   "id": "879a3b1c-0d89-4251-8111-24759fba9efc",
   "metadata": {},
   "outputs": [],
   "source": [
    "import pandas as pd\n",
    "import numpy as np"
   ]
  },
  {
   "cell_type": "markdown",
   "id": "1510d4a7-208d-4824-9079-aadfb1487692",
   "metadata": {},
   "source": [
    "## Series的数据结构"
   ]
  },
  {
   "cell_type": "markdown",
   "id": "9b42e840-4ef7-4dca-9e54-df0feb03ae3f",
   "metadata": {},
   "source": [
    "Series 一般由四个部分组成，分别是序列的值 data 、索引 index 、存储类型 dtype 、序列的名字 name 。其中，索引也可以指定它的名字，默认为空。"
   ]
  },
  {
   "cell_type": "markdown",
   "id": "66c4c264-d097-4ff8-8818-59638259f8e2",
   "metadata": {},
   "source": [
    "### Series的三种创建方式"
   ]
  },
  {
   "cell_type": "markdown",
   "id": "277c9729-a01e-45c0-b2a2-a28b238bbd3c",
   "metadata": {},
   "source": [
    "#### 1.列表"
   ]
  },
  {
   "cell_type": "code",
   "execution_count": null,
   "id": "dc0f5c79-2bcc-4946-a7a1-0d4547545247",
   "metadata": {},
   "outputs": [],
   "source": [
    "list = [2, 4, \"name\", \"age\"]\n",
    "s1 = pd.Series(list)\n",
    "s1"
   ]
  },
  {
   "cell_type": "markdown",
   "id": "ae5aa64e-5e01-40da-a761-6649838b5587",
   "metadata": {},
   "source": [
    "#### 2.数组"
   ]
  },
  {
   "cell_type": "code",
   "execution_count": null,
   "id": "2d1ae4a7-dcf9-4207-abb6-79ba8454427e",
   "metadata": {},
   "outputs": [],
   "source": [
    "s2 = pd.Series(np.array(list), index=[\"a\", \"b\", \"c\", \"d\"], name=\"数组数据\")\n",
    "s2"
   ]
  },
  {
   "cell_type": "markdown",
   "id": "bc108b27-28d4-49b0-bc27-03d17a8d6efd",
   "metadata": {},
   "source": [
    "#### 3.字典"
   ]
  },
  {
   "cell_type": "code",
   "execution_count": null,
   "id": "5f81a915-4e9c-497c-9aa6-b619d8e504b6",
   "metadata": {},
   "outputs": [],
   "source": [
    "s3 = pd.Series({\"a\":2, \"b\":4, \"c\":\"name\", \"d\":\"age\"}, name=\"字典数据\")\n",
    "s3"
   ]
  },
  {
   "cell_type": "markdown",
   "id": "b910b446-f459-4720-b984-59808ed1301c",
   "metadata": {},
   "source": [
    "### Series数据访问"
   ]
  },
  {
   "cell_type": "code",
   "execution_count": null,
   "id": "7ba75b9c-0eab-474b-84d8-59b335864d89",
   "metadata": {},
   "outputs": [],
   "source": [
    "# 属性: values，index，name，dtype，shape\n",
    "s3.values\n",
    "s3.index\n",
    "s3.name\n",
    "s3.shape"
   ]
  },
  {
   "cell_type": "code",
   "execution_count": null,
   "id": "e0b171dc-505b-4454-96bd-3f0489c7dfc1",
   "metadata": {},
   "outputs": [],
   "source": [
    "# 通过切片或者索引的方式进行访问\n",
    "s3[3]\n",
    "s3['c']"
   ]
  },
  {
   "cell_type": "markdown",
   "id": "8a67278e-b047-4036-93e5-480e82f745d3",
   "metadata": {},
   "source": [
    "## DataFrame的数据结构\n",
    "DataFrame 在 Series 的基础上增加了列索引，一个数据框由二维的 data 与行列索组成"
   ]
  },
  {
   "cell_type": "markdown",
   "id": "d41f1aad-4396-47b8-b75e-f959e9141f07",
   "metadata": {},
   "source": [
    "### DataFrame的三种创建方式\n",
    "#### 1.二维列表或数组"
   ]
  },
  {
   "cell_type": "code",
   "execution_count": null,
   "id": "f358684b-2ec4-4f3d-8525-8854bbf9ac10",
   "metadata": {},
   "outputs": [],
   "source": [
    "df1 = pd.DataFrame(data = [[\"li\", \"zhang\", \"liu\"], [20, 30, 25], [\"male\", \"male\", \"female\"]], \n",
    "                  columns = [\"姓名\", \"年龄\", \"性别\"], \n",
    "                  index = [\"row_%d\"%i for i in range(3)],\n",
    "#                  dtype = {'年龄': int}\n",
    "                  )\n",
    "df1"
   ]
  },
  {
   "cell_type": "markdown",
   "id": "9869ca4a-7bdb-4878-9603-2ce6b53e5661",
   "metadata": {},
   "source": [
    "#### 2.字典"
   ]
  },
  {
   "cell_type": "code",
   "execution_count": null,
   "id": "f76fa6fc-5591-452e-949e-6befbe72c238",
   "metadata": {},
   "outputs": [],
   "source": [
    "data = {\"姓名\":[\"li\", \"zhang\", \"liu\"], \"年龄\":[20, 30, 25], \"性别\":[\"male\", \"male\", \"female\"]}\n",
    "df2 = pd.DataFrame(data)\n",
    "df2"
   ]
  },
  {
   "cell_type": "code",
   "execution_count": null,
   "id": "6df215e5-a94d-4a7a-a687-2385cca2ac73",
   "metadata": {},
   "outputs": [],
   "source": [
    "df3 = pd.DataFrame.from_dict(data)\n",
    "df3"
   ]
  },
  {
   "cell_type": "markdown",
   "id": "41204728-f517-4885-a63a-01c57872751e",
   "metadata": {},
   "source": [
    "#### 3.通过文件读入"
   ]
  },
  {
   "cell_type": "code",
   "execution_count": null,
   "id": "c97a95e5-ddbf-4e46-958d-7dde091a3484",
   "metadata": {},
   "outputs": [],
   "source": [
    "## 读取文件返回的为数据框格式\n",
    "pd.read_csv()\n",
    "pd.read_excel()\n",
    "pd.read_json()\n",
    "..."
   ]
  },
  {
   "cell_type": "markdown",
   "id": "988e7546-26fd-4dfe-b4f8-91314d68875a",
   "metadata": {},
   "source": [
    "### DataFrame数据访问"
   ]
  },
  {
   "cell_type": "code",
   "execution_count": 52,
   "id": "582866d0-0dbe-4748-93c4-5a0af70eb5d4",
   "metadata": {},
   "outputs": [
    {
     "data": {
      "text/html": [
       "<div>\n",
       "<style scoped>\n",
       "    .dataframe tbody tr th:only-of-type {\n",
       "        vertical-align: middle;\n",
       "    }\n",
       "\n",
       "    .dataframe tbody tr th {\n",
       "        vertical-align: top;\n",
       "    }\n",
       "\n",
       "    .dataframe thead th {\n",
       "        text-align: right;\n",
       "    }\n",
       "</style>\n",
       "<table border=\"1\" class=\"dataframe\">\n",
       "  <thead>\n",
       "    <tr style=\"text-align: right;\">\n",
       "      <th></th>\n",
       "      <th>0</th>\n",
       "      <th>1</th>\n",
       "      <th>2</th>\n",
       "    </tr>\n",
       "  </thead>\n",
       "  <tbody>\n",
       "    <tr>\n",
       "      <th>姓名</th>\n",
       "      <td>li</td>\n",
       "      <td>zhang</td>\n",
       "      <td>liu</td>\n",
       "    </tr>\n",
       "    <tr>\n",
       "      <th>年龄</th>\n",
       "      <td>20</td>\n",
       "      <td>30</td>\n",
       "      <td>25</td>\n",
       "    </tr>\n",
       "    <tr>\n",
       "      <th>性别</th>\n",
       "      <td>male</td>\n",
       "      <td>male</td>\n",
       "      <td>female</td>\n",
       "    </tr>\n",
       "  </tbody>\n",
       "</table>\n",
       "</div>"
      ],
      "text/plain": [
       "       0      1       2\n",
       "姓名    li  zhang     liu\n",
       "年龄    20     30      25\n",
       "性别  male   male  female"
      ]
     },
     "execution_count": 52,
     "metadata": {},
     "output_type": "execute_result"
    }
   ],
   "source": [
    "## 属性\n",
    "df2.columns\n",
    "df2.index\n",
    "df2.dtypes\n",
    "df2.values\n",
    "df2.T"
   ]
  },
  {
   "cell_type": "code",
   "execution_count": null,
   "id": "d3318f04-e5ce-4342-a685-082d20a02599",
   "metadata": {},
   "outputs": [],
   "source": []
  }
 ],
 "metadata": {
  "kernelspec": {
   "display_name": "Python 3",
   "language": "python",
   "name": "python3"
  },
  "language_info": {
   "codemirror_mode": {
    "name": "ipython",
    "version": 3
   },
   "file_extension": ".py",
   "mimetype": "text/x-python",
   "name": "python",
   "nbconvert_exporter": "python",
   "pygments_lexer": "ipython3",
   "version": "3.8.8"
  }
 },
 "nbformat": 4,
 "nbformat_minor": 5
}
