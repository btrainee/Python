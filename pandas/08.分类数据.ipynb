{
 "cells": [
  {
   "cell_type": "markdown",
   "id": "5b49a9cb-04e5-48bf-890b-b2d1f9b3f771",
   "metadata": {},
   "source": [
    "# [Categorical data](https://pandas.pydata.org/pandas-docs/stable/user_guide/categorical.html#categorical-data)"
   ]
  },
  {
   "cell_type": "markdown",
   "id": "6d9b380e-2bde-4739-ba6c-9e0610ccac41",
   "metadata": {},
   "source": [
    "Categoricals为pandas中的一种数据类型——分类对象，类似于R中的因子factor，但又有不同。"
   ]
  },
  {
   "cell_type": "code",
   "execution_count": 1,
   "id": "7fae817e-8080-4f0f-aa78-8808f3c3f00f",
   "metadata": {
    "execution": {
     "iopub.execute_input": "2021-10-22T09:08:05.873151Z",
     "iopub.status.busy": "2021-10-22T09:08:05.873151Z",
     "iopub.status.idle": "2021-10-22T09:08:06.424645Z",
     "shell.execute_reply": "2021-10-22T09:08:06.422652Z",
     "shell.execute_reply.started": "2021-10-22T09:08:05.873151Z"
    }
   },
   "outputs": [],
   "source": [
    "import pandas as pd"
   ]
  },
  {
   "cell_type": "code",
   "execution_count": 2,
   "id": "308adfd6-1fd6-4f55-a5f4-47f3c9e50e3e",
   "metadata": {
    "execution": {
     "iopub.execute_input": "2021-10-22T09:14:18.737157Z",
     "iopub.status.busy": "2021-10-22T09:14:18.736159Z",
     "iopub.status.idle": "2021-10-22T09:14:18.788020Z",
     "shell.execute_reply": "2021-10-22T09:14:18.787026Z",
     "shell.execute_reply.started": "2021-10-22T09:14:18.737157Z"
    }
   },
   "outputs": [
    {
     "data": {
      "text/plain": [
       "0    a\n",
       "1    b\n",
       "2    c\n",
       "3    a\n",
       "dtype: category\n",
       "Categories (3, object): ['a', 'b', 'c']"
      ]
     },
     "execution_count": 2,
     "metadata": {},
     "output_type": "execute_result"
    }
   ],
   "source": [
    "s = pd.Series([\"a\", \"b\", \"c\", \"a\"], dtype=\"category\")\n",
    "s"
   ]
  },
  {
   "cell_type": "code",
   "execution_count": 3,
   "id": "155c758e-a692-41f9-b6d4-38380213da53",
   "metadata": {
    "execution": {
     "iopub.execute_input": "2021-10-22T09:14:40.394600Z",
     "iopub.status.busy": "2021-10-22T09:14:40.394600Z",
     "iopub.status.idle": "2021-10-22T09:14:40.427512Z",
     "shell.execute_reply": "2021-10-22T09:14:40.426517Z",
     "shell.execute_reply.started": "2021-10-22T09:14:40.394600Z"
    }
   },
   "outputs": [
    {
     "data": {
      "text/html": [
       "<div>\n",
       "<style scoped>\n",
       "    .dataframe tbody tr th:only-of-type {\n",
       "        vertical-align: middle;\n",
       "    }\n",
       "\n",
       "    .dataframe tbody tr th {\n",
       "        vertical-align: top;\n",
       "    }\n",
       "\n",
       "    .dataframe thead th {\n",
       "        text-align: right;\n",
       "    }\n",
       "</style>\n",
       "<table border=\"1\" class=\"dataframe\">\n",
       "  <thead>\n",
       "    <tr style=\"text-align: right;\">\n",
       "      <th></th>\n",
       "      <th>A</th>\n",
       "      <th>B</th>\n",
       "    </tr>\n",
       "  </thead>\n",
       "  <tbody>\n",
       "    <tr>\n",
       "      <th>0</th>\n",
       "      <td>a</td>\n",
       "      <td>a</td>\n",
       "    </tr>\n",
       "    <tr>\n",
       "      <th>1</th>\n",
       "      <td>b</td>\n",
       "      <td>b</td>\n",
       "    </tr>\n",
       "    <tr>\n",
       "      <th>2</th>\n",
       "      <td>c</td>\n",
       "      <td>c</td>\n",
       "    </tr>\n",
       "    <tr>\n",
       "      <th>3</th>\n",
       "      <td>a</td>\n",
       "      <td>a</td>\n",
       "    </tr>\n",
       "  </tbody>\n",
       "</table>\n",
       "</div>"
      ],
      "text/plain": [
       "   A  B\n",
       "0  a  a\n",
       "1  b  b\n",
       "2  c  c\n",
       "3  a  a"
      ]
     },
     "execution_count": 3,
     "metadata": {},
     "output_type": "execute_result"
    }
   ],
   "source": [
    "df = pd.DataFrame({\"A\": [\"a\", \"b\", \"c\", \"a\"]})\n",
    "df[\"B\"] = df[\"A\"].astype(\"category\")\n",
    "df"
   ]
  },
  {
   "cell_type": "markdown",
   "id": "5897770d-8b8e-4095-91e0-558b7076a1ae",
   "metadata": {},
   "source": [
    "## Cat属性"
   ]
  },
  {
   "cell_type": "markdown",
   "id": "3654848b-a245-468a-89f3-7453ce4055f9",
   "metadata": {
    "execution": {
     "iopub.execute_input": "2021-10-22T09:18:34.720533Z",
     "iopub.status.busy": "2021-10-22T09:18:34.720533Z",
     "iopub.status.idle": "2021-10-22T09:18:34.736490Z",
     "shell.execute_reply": "2021-10-22T09:18:34.735493Z",
     "shell.execute_reply.started": "2021-10-22T09:18:34.720533Z"
    }
   },
   "source": [
    "* **categories**：查看类别\n",
    "* **ordered**：查看是否排序\n",
    "* **codes**：每一个序列的类别会被赋予唯一的整数编号，它们的编号取决于 cat.categories 中的顺序，该属性可以通过 codes 访问"
   ]
  },
  {
   "cell_type": "code",
   "execution_count": 16,
   "id": "53caa4f6-4d47-47a0-a574-410aff1d7df2",
   "metadata": {
    "execution": {
     "iopub.execute_input": "2021-10-22T09:20:42.516058Z",
     "iopub.status.busy": "2021-10-22T09:20:42.516058Z",
     "iopub.status.idle": "2021-10-22T09:20:42.539992Z",
     "shell.execute_reply": "2021-10-22T09:20:42.538996Z",
     "shell.execute_reply.started": "2021-10-22T09:20:42.516058Z"
    },
    "tags": []
   },
   "outputs": [],
   "source": [
    "df = pd.read_csv('pd_data/learn_pandas.csv', usecols = ['Grade', 'Name', 'Gender', 'Height', 'Weight'])"
   ]
  },
  {
   "cell_type": "code",
   "execution_count": 17,
   "id": "687c33b0-1825-4ef5-8e0a-3c9145d545e4",
   "metadata": {
    "execution": {
     "iopub.execute_input": "2021-10-22T09:20:43.016736Z",
     "iopub.status.busy": "2021-10-22T09:20:43.015737Z",
     "iopub.status.idle": "2021-10-22T09:20:43.030696Z",
     "shell.execute_reply": "2021-10-22T09:20:43.029700Z",
     "shell.execute_reply.started": "2021-10-22T09:20:43.016736Z"
    },
    "tags": []
   },
   "outputs": [
    {
     "data": {
      "text/plain": [
       "Grade     category\n",
       "Name        object\n",
       "Gender      object\n",
       "Height     float64\n",
       "Weight     float64\n",
       "dtype: object"
      ]
     },
     "execution_count": 17,
     "metadata": {},
     "output_type": "execute_result"
    }
   ],
   "source": [
    "df.Grade = df.Grade.astype('category')\n",
    "df.dtypes"
   ]
  },
  {
   "cell_type": "code",
   "execution_count": 28,
   "id": "5a391a4e-2453-427c-b817-e6b0c0116739",
   "metadata": {
    "execution": {
     "iopub.execute_input": "2021-10-22T09:25:32.551497Z",
     "iopub.status.busy": "2021-10-22T09:25:32.550499Z",
     "iopub.status.idle": "2021-10-22T09:25:32.560472Z",
     "shell.execute_reply": "2021-10-22T09:25:32.559476Z",
     "shell.execute_reply.started": "2021-10-22T09:25:32.551497Z"
    },
    "tags": []
   },
   "outputs": [
    {
     "data": {
      "text/plain": [
       "Index(['Freshman', 'Junior', 'Senior', 'Sophomore'], dtype='object')"
      ]
     },
     "execution_count": 28,
     "metadata": {},
     "output_type": "execute_result"
    }
   ],
   "source": [
    "#  categories 被存储在 Index 中\n",
    "df.Grade.cat.categories"
   ]
  },
  {
   "cell_type": "code",
   "execution_count": 26,
   "id": "337dd4f6-1f0b-44cc-bd9f-895a44b25896",
   "metadata": {
    "execution": {
     "iopub.execute_input": "2021-10-22T09:22:18.204313Z",
     "iopub.status.busy": "2021-10-22T09:22:18.204313Z",
     "iopub.status.idle": "2021-10-22T09:22:18.213288Z",
     "shell.execute_reply": "2021-10-22T09:22:18.211294Z",
     "shell.execute_reply.started": "2021-10-22T09:22:18.204313Z"
    },
    "tags": []
   },
   "outputs": [
    {
     "data": {
      "text/plain": [
       "False"
      ]
     },
     "execution_count": 26,
     "metadata": {},
     "output_type": "execute_result"
    }
   ],
   "source": [
    "df.Grade.cat.ordered"
   ]
  },
  {
   "cell_type": "code",
   "execution_count": 27,
   "id": "c0e84938-5db4-451a-a5e0-5212ff6b5c3e",
   "metadata": {
    "execution": {
     "iopub.execute_input": "2021-10-22T09:23:15.774633Z",
     "iopub.status.busy": "2021-10-22T09:23:15.773636Z",
     "iopub.status.idle": "2021-10-22T09:23:15.789593Z",
     "shell.execute_reply": "2021-10-22T09:23:15.788596Z",
     "shell.execute_reply.started": "2021-10-22T09:23:15.774633Z"
    }
   },
   "outputs": [
    {
     "data": {
      "text/plain": [
       "0      0\n",
       "1      0\n",
       "2      2\n",
       "3      3\n",
       "4      3\n",
       "      ..\n",
       "195    1\n",
       "196    2\n",
       "197    2\n",
       "198    2\n",
       "199    3\n",
       "Length: 200, dtype: int8"
      ]
     },
     "execution_count": 27,
     "metadata": {},
     "output_type": "execute_result"
    }
   ],
   "source": [
    "df.Grade.cat.codes"
   ]
  },
  {
   "cell_type": "markdown",
   "id": "ca83aef1-767e-4c38-8b75-ed71b0936680",
   "metadata": {},
   "source": [
    "##  类别的增改删"
   ]
  },
  {
   "cell_type": "markdown",
   "id": "c6e7683f-9079-4217-a29f-7f1eea411761",
   "metadata": {
    "execution": {
     "iopub.execute_input": "2021-10-22T09:29:12.004644Z",
     "iopub.status.busy": "2021-10-22T09:29:12.003646Z",
     "iopub.status.idle": "2021-10-22T09:29:12.015615Z",
     "shell.execute_reply": "2021-10-22T09:29:12.013621Z",
     "shell.execute_reply.started": "2021-10-22T09:29:12.004644Z"
    }
   },
   "source": [
    "* **add_categories**：增加类别\n",
    "* **remove_categories**：删除类别，原来序列中的该类会被设置为缺失\n",
    "* **remove_unused_categories**：删除未出现在序列中的类别\n",
    "* **set_categories**：设置新类别，原来的类别中如果存在元素不属于新类别，那么会被设置为缺失\n",
    "* **rename_categories**：修改类别"
   ]
  },
  {
   "cell_type": "code",
   "execution_count": 47,
   "id": "2e32ea5f-2d68-404d-aafb-8595aef85c42",
   "metadata": {
    "execution": {
     "iopub.execute_input": "2021-10-22T09:38:45.890278Z",
     "iopub.status.busy": "2021-10-22T09:38:45.890278Z",
     "iopub.status.idle": "2021-10-22T09:38:45.899253Z",
     "shell.execute_reply": "2021-10-22T09:38:45.898257Z",
     "shell.execute_reply.started": "2021-10-22T09:38:45.890278Z"
    },
    "tags": []
   },
   "outputs": [],
   "source": [
    "s = pd.Series([\"a\", \"b\", \"c\", \"a\"], dtype=\"category\")"
   ]
  },
  {
   "cell_type": "code",
   "execution_count": 48,
   "id": "2a49fcbc-44f8-478a-b505-d85b030e95e7",
   "metadata": {
    "execution": {
     "iopub.execute_input": "2021-10-22T09:38:46.766995Z",
     "iopub.status.busy": "2021-10-22T09:38:46.766995Z",
     "iopub.status.idle": "2021-10-22T09:38:46.776968Z",
     "shell.execute_reply": "2021-10-22T09:38:46.775970Z",
     "shell.execute_reply.started": "2021-10-22T09:38:46.766995Z"
    },
    "tags": []
   },
   "outputs": [
    {
     "data": {
      "text/plain": [
       "0    a\n",
       "1    b\n",
       "2    c\n",
       "3    a\n",
       "dtype: category\n",
       "Categories (4, object): ['a', 'b', 'c', 'd']"
      ]
     },
     "execution_count": 48,
     "metadata": {},
     "output_type": "execute_result"
    }
   ],
   "source": [
    "s.cat.add_categories('d')"
   ]
  },
  {
   "cell_type": "code",
   "execution_count": 49,
   "id": "0612cdbf-8ec1-48f6-8309-61234569bb04",
   "metadata": {
    "execution": {
     "iopub.execute_input": "2021-10-22T09:38:47.889207Z",
     "iopub.status.busy": "2021-10-22T09:38:47.889207Z",
     "iopub.status.idle": "2021-10-22T09:38:47.901174Z",
     "shell.execute_reply": "2021-10-22T09:38:47.900177Z",
     "shell.execute_reply.started": "2021-10-22T09:38:47.889207Z"
    },
    "tags": []
   },
   "outputs": [],
   "source": [
    "s = s.cat.add_categories('d')"
   ]
  },
  {
   "cell_type": "code",
   "execution_count": 50,
   "id": "42314241-af26-428b-9b0b-ee75325573e5",
   "metadata": {
    "execution": {
     "iopub.execute_input": "2021-10-22T09:39:04.592404Z",
     "iopub.status.busy": "2021-10-22T09:39:04.592404Z",
     "iopub.status.idle": "2021-10-22T09:39:04.613347Z",
     "shell.execute_reply": "2021-10-22T09:39:04.612389Z",
     "shell.execute_reply.started": "2021-10-22T09:39:04.592404Z"
    }
   },
   "outputs": [
    {
     "data": {
      "text/plain": [
       "0    a\n",
       "1    b\n",
       "2    c\n",
       "3    a\n",
       "dtype: category\n",
       "Categories (3, object): ['a', 'b', 'c']"
      ]
     },
     "execution_count": 50,
     "metadata": {},
     "output_type": "execute_result"
    }
   ],
   "source": [
    "s.cat.remove_unused_categories()"
   ]
  },
  {
   "cell_type": "code",
   "execution_count": 51,
   "id": "669055d3-3fa4-4e6b-8409-d9303f6b78eb",
   "metadata": {
    "execution": {
     "iopub.execute_input": "2021-10-22T09:39:35.007153Z",
     "iopub.status.busy": "2021-10-22T09:39:35.007153Z",
     "iopub.status.idle": "2021-10-22T09:39:35.022112Z",
     "shell.execute_reply": "2021-10-22T09:39:35.022112Z",
     "shell.execute_reply.started": "2021-10-22T09:39:35.007153Z"
    },
    "tags": []
   },
   "outputs": [
    {
     "data": {
      "text/plain": [
       "0    NaN\n",
       "1      b\n",
       "2      c\n",
       "3    NaN\n",
       "dtype: category\n",
       "Categories (3, object): ['b', 'c', 'd']"
      ]
     },
     "execution_count": 51,
     "metadata": {},
     "output_type": "execute_result"
    }
   ],
   "source": [
    "s.cat.remove_categories('a')"
   ]
  },
  {
   "cell_type": "code",
   "execution_count": 52,
   "id": "205a7d1a-673b-4890-91ad-7ab561e8937f",
   "metadata": {
    "execution": {
     "iopub.execute_input": "2021-10-22T09:39:36.776359Z",
     "iopub.status.busy": "2021-10-22T09:39:36.775357Z",
     "iopub.status.idle": "2021-10-22T09:39:36.789320Z",
     "shell.execute_reply": "2021-10-22T09:39:36.788322Z",
     "shell.execute_reply.started": "2021-10-22T09:39:36.776359Z"
    },
    "tags": []
   },
   "outputs": [
    {
     "data": {
      "text/plain": [
       "0    Group a\n",
       "1    Group b\n",
       "2    Group c\n",
       "3    Group a\n",
       "dtype: category\n",
       "Categories (4, object): ['Group a', 'Group b', 'Group c', 'Group d']"
      ]
     },
     "execution_count": 52,
     "metadata": {},
     "output_type": "execute_result"
    }
   ],
   "source": [
    "s.cat.categories = [\"Group %s\" % g for g in s.cat.categories]\n",
    "s"
   ]
  },
  {
   "cell_type": "code",
   "execution_count": 54,
   "id": "ee263478-2b33-4801-955c-6994f46f43ce",
   "metadata": {
    "execution": {
     "iopub.execute_input": "2021-10-22T09:39:54.974700Z",
     "iopub.status.busy": "2021-10-22T09:39:54.974700Z",
     "iopub.status.idle": "2021-10-22T09:39:54.985670Z",
     "shell.execute_reply": "2021-10-22T09:39:54.984674Z",
     "shell.execute_reply.started": "2021-10-22T09:39:54.974700Z"
    },
    "tags": []
   },
   "outputs": [
    {
     "data": {
      "text/plain": [
       "0    1\n",
       "1    2\n",
       "2    3\n",
       "3    1\n",
       "dtype: category\n",
       "Categories (4, int64): [1, 2, 3, 4]"
      ]
     },
     "execution_count": 54,
     "metadata": {},
     "output_type": "execute_result"
    }
   ],
   "source": [
    "s.cat.rename_categories([1, 2, 3, 4])"
   ]
  },
  {
   "cell_type": "code",
   "execution_count": 55,
   "id": "09ef2cff-78e4-4ed4-a202-35e334a731e4",
   "metadata": {
    "execution": {
     "iopub.execute_input": "2021-10-22T09:40:17.641572Z",
     "iopub.status.busy": "2021-10-22T09:40:17.641572Z",
     "iopub.status.idle": "2021-10-22T09:40:17.667502Z",
     "shell.execute_reply": "2021-10-22T09:40:17.666507Z",
     "shell.execute_reply.started": "2021-10-22T09:40:17.641572Z"
    },
    "tags": []
   },
   "outputs": [
    {
     "data": {
      "text/plain": [
       "0    x\n",
       "1    y\n",
       "2    z\n",
       "3    x\n",
       "dtype: category\n",
       "Categories (4, object): ['x', 'y', 'z', 'Group d']"
      ]
     },
     "execution_count": 55,
     "metadata": {},
     "output_type": "execute_result"
    }
   ],
   "source": [
    "s.cat.remove_unused_categories()\n",
    "s.cat.rename_categories({'Group a': \"x\", 'Group b': \"y\", 'Group c': \"z\"})"
   ]
  },
  {
   "cell_type": "code",
   "execution_count": 60,
   "id": "86cab837-9525-49f5-acc5-f08d5a29d68e",
   "metadata": {
    "execution": {
     "iopub.execute_input": "2021-10-22T09:41:45.925875Z",
     "iopub.status.busy": "2021-10-22T09:41:45.925875Z",
     "iopub.status.idle": "2021-10-22T09:41:45.946814Z",
     "shell.execute_reply": "2021-10-22T09:41:45.945817Z",
     "shell.execute_reply.started": "2021-10-22T09:41:45.925875Z"
    },
    "tags": []
   },
   "outputs": [
    {
     "data": {
      "text/plain": [
       "0    Group a\n",
       "1        NaN\n",
       "2        NaN\n",
       "3    Group a\n",
       "dtype: category\n",
       "Categories (3, object): ['Group a', 'e', 'f']"
      ]
     },
     "execution_count": 60,
     "metadata": {},
     "output_type": "execute_result"
    }
   ],
   "source": [
    "s.cat.set_categories(['Group a', 'e', 'f'])"
   ]
  },
  {
   "cell_type": "markdown",
   "id": "5e7e56c9-db2d-4bed-b02d-2379648e36f1",
   "metadata": {},
   "source": [
    "## 有序列别"
   ]
  },
  {
   "cell_type": "code",
   "execution_count": null,
   "id": "3ed0b713-f9ce-46b6-9481-1b75f3c1f598",
   "metadata": {},
   "outputs": [],
   "source": []
  }
 ],
 "metadata": {
  "kernelspec": {
   "display_name": "Python 3",
   "language": "python",
   "name": "python3"
  },
  "language_info": {
   "codemirror_mode": {
    "name": "ipython",
    "version": 3
   },
   "file_extension": ".py",
   "mimetype": "text/x-python",
   "name": "python",
   "nbconvert_exporter": "python",
   "pygments_lexer": "ipython3",
   "version": "3.8.8"
  },
  "toc-autonumbering": true
 },
 "nbformat": 4,
 "nbformat_minor": 5
}
