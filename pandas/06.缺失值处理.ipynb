{
 "cells": [
  {
   "cell_type": "code",
   "execution_count": 1,
   "id": "8d89cb4d-fd43-4514-8ff8-de4e0381a980",
   "metadata": {
    "execution": {
     "iopub.execute_input": "2021-10-20T07:34:44.978606Z",
     "iopub.status.busy": "2021-10-20T07:34:44.977612Z",
     "iopub.status.idle": "2021-10-20T07:34:45.562521Z",
     "shell.execute_reply": "2021-10-20T07:34:45.560525Z",
     "shell.execute_reply.started": "2021-10-20T07:34:44.978606Z"
    }
   },
   "outputs": [],
   "source": [
    "import numpy as np\n",
    "import pandas as pd"
   ]
  },
  {
   "cell_type": "code",
   "execution_count": 3,
   "id": "3a6e1799-cc93-46c1-804b-13acf7475918",
   "metadata": {
    "execution": {
     "iopub.execute_input": "2021-10-20T08:14:11.471594Z",
     "iopub.status.busy": "2021-10-20T08:14:11.471594Z",
     "iopub.status.idle": "2021-10-20T08:14:11.571257Z",
     "shell.execute_reply": "2021-10-20T08:14:11.570258Z",
     "shell.execute_reply.started": "2021-10-20T08:14:11.471594Z"
    }
   },
   "outputs": [],
   "source": [
    "df = pd.read_csv('./pd_data/learn_pandas.csv', usecols = ['Grade', 'Name', 'Gender', 'Height', 'Weight', 'Transfer'])"
   ]
  },
  {
   "cell_type": "code",
   "execution_count": 4,
   "id": "5725277c-4e85-4ba6-880b-8b66b727eb5f",
   "metadata": {
    "execution": {
     "iopub.execute_input": "2021-10-20T08:14:17.620747Z",
     "iopub.status.busy": "2021-10-20T08:14:17.619751Z",
     "iopub.status.idle": "2021-10-20T08:14:17.679590Z",
     "shell.execute_reply": "2021-10-20T08:14:17.677596Z",
     "shell.execute_reply.started": "2021-10-20T08:14:17.620747Z"
    }
   },
   "outputs": [
    {
     "data": {
      "text/html": [
       "<div>\n",
       "<style scoped>\n",
       "    .dataframe tbody tr th:only-of-type {\n",
       "        vertical-align: middle;\n",
       "    }\n",
       "\n",
       "    .dataframe tbody tr th {\n",
       "        vertical-align: top;\n",
       "    }\n",
       "\n",
       "    .dataframe thead th {\n",
       "        text-align: right;\n",
       "    }\n",
       "</style>\n",
       "<table border=\"1\" class=\"dataframe\">\n",
       "  <thead>\n",
       "    <tr style=\"text-align: right;\">\n",
       "      <th></th>\n",
       "      <th>Grade</th>\n",
       "      <th>Name</th>\n",
       "      <th>Gender</th>\n",
       "      <th>Height</th>\n",
       "      <th>Weight</th>\n",
       "      <th>Transfer</th>\n",
       "    </tr>\n",
       "  </thead>\n",
       "  <tbody>\n",
       "    <tr>\n",
       "      <th>0</th>\n",
       "      <td>Freshman</td>\n",
       "      <td>Gaopeng Yang</td>\n",
       "      <td>Female</td>\n",
       "      <td>158.9</td>\n",
       "      <td>46.0</td>\n",
       "      <td>N</td>\n",
       "    </tr>\n",
       "    <tr>\n",
       "      <th>1</th>\n",
       "      <td>Freshman</td>\n",
       "      <td>Changqiang You</td>\n",
       "      <td>Male</td>\n",
       "      <td>166.5</td>\n",
       "      <td>70.0</td>\n",
       "      <td>N</td>\n",
       "    </tr>\n",
       "    <tr>\n",
       "      <th>2</th>\n",
       "      <td>Senior</td>\n",
       "      <td>Mei Sun</td>\n",
       "      <td>Male</td>\n",
       "      <td>188.9</td>\n",
       "      <td>89.0</td>\n",
       "      <td>N</td>\n",
       "    </tr>\n",
       "    <tr>\n",
       "      <th>3</th>\n",
       "      <td>Sophomore</td>\n",
       "      <td>Xiaojuan Sun</td>\n",
       "      <td>Female</td>\n",
       "      <td>NaN</td>\n",
       "      <td>41.0</td>\n",
       "      <td>N</td>\n",
       "    </tr>\n",
       "    <tr>\n",
       "      <th>4</th>\n",
       "      <td>Sophomore</td>\n",
       "      <td>Gaojuan You</td>\n",
       "      <td>Male</td>\n",
       "      <td>174.0</td>\n",
       "      <td>74.0</td>\n",
       "      <td>N</td>\n",
       "    </tr>\n",
       "  </tbody>\n",
       "</table>\n",
       "</div>"
      ],
      "text/plain": [
       "       Grade            Name  Gender  Height  Weight Transfer\n",
       "0   Freshman    Gaopeng Yang  Female   158.9    46.0        N\n",
       "1   Freshman  Changqiang You    Male   166.5    70.0        N\n",
       "2     Senior         Mei Sun    Male   188.9    89.0        N\n",
       "3  Sophomore    Xiaojuan Sun  Female     NaN    41.0        N\n",
       "4  Sophomore     Gaojuan You    Male   174.0    74.0        N"
      ]
     },
     "execution_count": 4,
     "metadata": {},
     "output_type": "execute_result"
    }
   ],
   "source": [
    "df.head()"
   ]
  },
  {
   "cell_type": "markdown",
   "id": "13bbef1f-cb88-44ad-b5a7-1ef9afcc8199",
   "metadata": {},
   "source": [
    "## 缺失信息统计"
   ]
  },
  {
   "cell_type": "markdown",
   "id": "9f17d10a-8fa4-4aac-8f53-0b5f30de3172",
   "metadata": {
    "execution": {
     "iopub.execute_input": "2021-10-20T08:17:33.540707Z",
     "iopub.status.busy": "2021-10-20T08:17:33.539707Z",
     "iopub.status.idle": "2021-10-20T08:17:33.548683Z",
     "shell.execute_reply": "2021-10-20T08:17:33.547684Z",
     "shell.execute_reply.started": "2021-10-20T08:17:33.540707Z"
    }
   },
   "source": [
    "1. <font color=red size=5>**isna**</font>,缺失信息统计可以使用isna或者isnull两个函数（没有区别），返回true或false的布尔值\n",
    "2. 可以整个矩阵统计也可以某列或某几列进行统计\n",
    "3. 结合mean函数可以计算每列缺失的比例\n",
    "4. notna,any,all函数查看没有，至少一个或者全部缺失"
   ]
  },
  {
   "cell_type": "markdown",
   "id": "771fdcf7-3f89-450a-ba1e-0ab2a73c219c",
   "metadata": {},
   "source": [
    "* isna\n",
    "* isnull"
   ]
  },
  {
   "cell_type": "code",
   "execution_count": 5,
   "id": "8545305a-5eba-4453-a2a0-128bbedbc4ef",
   "metadata": {
    "execution": {
     "iopub.execute_input": "2021-10-20T08:15:01.775052Z",
     "iopub.status.busy": "2021-10-20T08:15:01.774052Z",
     "iopub.status.idle": "2021-10-20T08:15:01.797988Z",
     "shell.execute_reply": "2021-10-20T08:15:01.795995Z",
     "shell.execute_reply.started": "2021-10-20T08:15:01.775052Z"
    }
   },
   "outputs": [
    {
     "data": {
      "text/html": [
       "<div>\n",
       "<style scoped>\n",
       "    .dataframe tbody tr th:only-of-type {\n",
       "        vertical-align: middle;\n",
       "    }\n",
       "\n",
       "    .dataframe tbody tr th {\n",
       "        vertical-align: top;\n",
       "    }\n",
       "\n",
       "    .dataframe thead th {\n",
       "        text-align: right;\n",
       "    }\n",
       "</style>\n",
       "<table border=\"1\" class=\"dataframe\">\n",
       "  <thead>\n",
       "    <tr style=\"text-align: right;\">\n",
       "      <th></th>\n",
       "      <th>Grade</th>\n",
       "      <th>Name</th>\n",
       "      <th>Gender</th>\n",
       "      <th>Height</th>\n",
       "      <th>Weight</th>\n",
       "      <th>Transfer</th>\n",
       "    </tr>\n",
       "  </thead>\n",
       "  <tbody>\n",
       "    <tr>\n",
       "      <th>0</th>\n",
       "      <td>False</td>\n",
       "      <td>False</td>\n",
       "      <td>False</td>\n",
       "      <td>False</td>\n",
       "      <td>False</td>\n",
       "      <td>False</td>\n",
       "    </tr>\n",
       "    <tr>\n",
       "      <th>1</th>\n",
       "      <td>False</td>\n",
       "      <td>False</td>\n",
       "      <td>False</td>\n",
       "      <td>False</td>\n",
       "      <td>False</td>\n",
       "      <td>False</td>\n",
       "    </tr>\n",
       "    <tr>\n",
       "      <th>2</th>\n",
       "      <td>False</td>\n",
       "      <td>False</td>\n",
       "      <td>False</td>\n",
       "      <td>False</td>\n",
       "      <td>False</td>\n",
       "      <td>False</td>\n",
       "    </tr>\n",
       "    <tr>\n",
       "      <th>3</th>\n",
       "      <td>False</td>\n",
       "      <td>False</td>\n",
       "      <td>False</td>\n",
       "      <td>True</td>\n",
       "      <td>False</td>\n",
       "      <td>False</td>\n",
       "    </tr>\n",
       "    <tr>\n",
       "      <th>4</th>\n",
       "      <td>False</td>\n",
       "      <td>False</td>\n",
       "      <td>False</td>\n",
       "      <td>False</td>\n",
       "      <td>False</td>\n",
       "      <td>False</td>\n",
       "    </tr>\n",
       "  </tbody>\n",
       "</table>\n",
       "</div>"
      ],
      "text/plain": [
       "   Grade   Name  Gender  Height  Weight  Transfer\n",
       "0  False  False   False   False   False     False\n",
       "1  False  False   False   False   False     False\n",
       "2  False  False   False   False   False     False\n",
       "3  False  False   False    True   False     False\n",
       "4  False  False   False   False   False     False"
      ]
     },
     "execution_count": 5,
     "metadata": {},
     "output_type": "execute_result"
    }
   ],
   "source": [
    "df.isna().head()"
   ]
  },
  {
   "cell_type": "code",
   "execution_count": 10,
   "id": "3fedb653-3acd-41ab-87de-c84748111a98",
   "metadata": {
    "execution": {
     "iopub.execute_input": "2021-10-20T08:22:32.817382Z",
     "iopub.status.busy": "2021-10-20T08:22:32.817382Z",
     "iopub.status.idle": "2021-10-20T08:22:32.842314Z",
     "shell.execute_reply": "2021-10-20T08:22:32.840319Z",
     "shell.execute_reply.started": "2021-10-20T08:22:32.817382Z"
    },
    "tags": []
   },
   "outputs": [
    {
     "data": {
      "text/plain": [
       "Grade       0.000\n",
       "Name        0.000\n",
       "Gender      0.000\n",
       "Height      0.085\n",
       "Weight      0.055\n",
       "Transfer    0.060\n",
       "dtype: float64"
      ]
     },
     "execution_count": 10,
     "metadata": {},
     "output_type": "execute_result"
    }
   ],
   "source": [
    "#  查看每列缺失值的比例\n",
    "df.isna().mean() "
   ]
  },
  {
   "cell_type": "code",
   "execution_count": 12,
   "id": "72eb7308-5ea3-4cc0-aca9-184aec982eda",
   "metadata": {
    "execution": {
     "iopub.execute_input": "2021-10-20T08:23:15.346571Z",
     "iopub.status.busy": "2021-10-20T08:23:15.345574Z",
     "iopub.status.idle": "2021-10-20T08:23:15.358538Z",
     "shell.execute_reply": "2021-10-20T08:23:15.356544Z",
     "shell.execute_reply.started": "2021-10-20T08:23:15.345574Z"
    },
    "tags": []
   },
   "outputs": [
    {
     "data": {
      "text/plain": [
       "0.085"
      ]
     },
     "execution_count": 12,
     "metadata": {},
     "output_type": "execute_result"
    }
   ],
   "source": [
    "df.loc[:,'Height'].isna().mean()"
   ]
  },
  {
   "cell_type": "code",
   "execution_count": 13,
   "id": "46b11267-7a23-4b97-8290-a4cc0f5a8ade",
   "metadata": {
    "execution": {
     "iopub.execute_input": "2021-10-20T08:27:36.246560Z",
     "iopub.status.busy": "2021-10-20T08:27:36.246560Z",
     "iopub.status.idle": "2021-10-20T08:27:36.264511Z",
     "shell.execute_reply": "2021-10-20T08:27:36.263516Z",
     "shell.execute_reply.started": "2021-10-20T08:27:36.246560Z"
    }
   },
   "outputs": [],
   "source": [
    "sub_set = df[['Height', 'Weight', 'Transfer']]"
   ]
  },
  {
   "cell_type": "code",
   "execution_count": 15,
   "id": "f6f58b71-8d1f-45d3-b176-4e5f5416ec3e",
   "metadata": {
    "execution": {
     "iopub.execute_input": "2021-10-20T08:28:26.165969Z",
     "iopub.status.busy": "2021-10-20T08:28:26.165969Z",
     "iopub.status.idle": "2021-10-20T08:28:26.188907Z",
     "shell.execute_reply": "2021-10-20T08:28:26.187909Z",
     "shell.execute_reply.started": "2021-10-20T08:28:26.165969Z"
    },
    "tags": []
   },
   "outputs": [
    {
     "data": {
      "text/html": [
       "<div>\n",
       "<style scoped>\n",
       "    .dataframe tbody tr th:only-of-type {\n",
       "        vertical-align: middle;\n",
       "    }\n",
       "\n",
       "    .dataframe tbody tr th {\n",
       "        vertical-align: top;\n",
       "    }\n",
       "\n",
       "    .dataframe thead th {\n",
       "        text-align: right;\n",
       "    }\n",
       "</style>\n",
       "<table border=\"1\" class=\"dataframe\">\n",
       "  <thead>\n",
       "    <tr style=\"text-align: right;\">\n",
       "      <th></th>\n",
       "      <th>Grade</th>\n",
       "      <th>Name</th>\n",
       "      <th>Gender</th>\n",
       "      <th>Height</th>\n",
       "      <th>Weight</th>\n",
       "      <th>Transfer</th>\n",
       "    </tr>\n",
       "  </thead>\n",
       "  <tbody>\n",
       "    <tr>\n",
       "      <th>102</th>\n",
       "      <td>Junior</td>\n",
       "      <td>Chengli Zhao</td>\n",
       "      <td>Male</td>\n",
       "      <td>NaN</td>\n",
       "      <td>NaN</td>\n",
       "      <td>NaN</td>\n",
       "    </tr>\n",
       "  </tbody>\n",
       "</table>\n",
       "</div>"
      ],
      "text/plain": [
       "      Grade          Name Gender  Height  Weight Transfer\n",
       "102  Junior  Chengli Zhao   Male     NaN     NaN      NaN"
      ]
     },
     "execution_count": 15,
     "metadata": {},
     "output_type": "execute_result"
    }
   ],
   "source": [
    "# 查看全部缺失的行\n",
    "df[sub_set.isna().all(1)]"
   ]
  },
  {
   "cell_type": "code",
   "execution_count": 17,
   "id": "36308209-b67a-4721-aaec-f022de0d51ec",
   "metadata": {
    "execution": {
     "iopub.execute_input": "2021-10-20T08:29:31.700694Z",
     "iopub.status.busy": "2021-10-20T08:29:31.700694Z",
     "iopub.status.idle": "2021-10-20T08:29:31.757542Z",
     "shell.execute_reply": "2021-10-20T08:29:31.754553Z",
     "shell.execute_reply.started": "2021-10-20T08:29:31.700694Z"
    },
    "tags": []
   },
   "outputs": [
    {
     "data": {
      "text/html": [
       "<div>\n",
       "<style scoped>\n",
       "    .dataframe tbody tr th:only-of-type {\n",
       "        vertical-align: middle;\n",
       "    }\n",
       "\n",
       "    .dataframe tbody tr th {\n",
       "        vertical-align: top;\n",
       "    }\n",
       "\n",
       "    .dataframe thead th {\n",
       "        text-align: right;\n",
       "    }\n",
       "</style>\n",
       "<table border=\"1\" class=\"dataframe\">\n",
       "  <thead>\n",
       "    <tr style=\"text-align: right;\">\n",
       "      <th></th>\n",
       "      <th>Grade</th>\n",
       "      <th>Name</th>\n",
       "      <th>Gender</th>\n",
       "      <th>Height</th>\n",
       "      <th>Weight</th>\n",
       "      <th>Transfer</th>\n",
       "    </tr>\n",
       "  </thead>\n",
       "  <tbody>\n",
       "    <tr>\n",
       "      <th>3</th>\n",
       "      <td>Sophomore</td>\n",
       "      <td>Xiaojuan Sun</td>\n",
       "      <td>Female</td>\n",
       "      <td>NaN</td>\n",
       "      <td>41.0</td>\n",
       "      <td>N</td>\n",
       "    </tr>\n",
       "    <tr>\n",
       "      <th>9</th>\n",
       "      <td>Junior</td>\n",
       "      <td>Juan Xu</td>\n",
       "      <td>Female</td>\n",
       "      <td>164.8</td>\n",
       "      <td>NaN</td>\n",
       "      <td>N</td>\n",
       "    </tr>\n",
       "    <tr>\n",
       "      <th>12</th>\n",
       "      <td>Senior</td>\n",
       "      <td>Peng You</td>\n",
       "      <td>Female</td>\n",
       "      <td>NaN</td>\n",
       "      <td>48.0</td>\n",
       "      <td>NaN</td>\n",
       "    </tr>\n",
       "    <tr>\n",
       "      <th>21</th>\n",
       "      <td>Senior</td>\n",
       "      <td>Xiaopeng Shen</td>\n",
       "      <td>Male</td>\n",
       "      <td>166.0</td>\n",
       "      <td>62.0</td>\n",
       "      <td>NaN</td>\n",
       "    </tr>\n",
       "    <tr>\n",
       "      <th>26</th>\n",
       "      <td>Junior</td>\n",
       "      <td>Yanli You</td>\n",
       "      <td>Female</td>\n",
       "      <td>NaN</td>\n",
       "      <td>48.0</td>\n",
       "      <td>N</td>\n",
       "    </tr>\n",
       "  </tbody>\n",
       "</table>\n",
       "</div>"
      ],
      "text/plain": [
       "        Grade           Name  Gender  Height  Weight Transfer\n",
       "3   Sophomore   Xiaojuan Sun  Female     NaN    41.0        N\n",
       "9      Junior        Juan Xu  Female   164.8     NaN        N\n",
       "12     Senior       Peng You  Female     NaN    48.0      NaN\n",
       "21     Senior  Xiaopeng Shen    Male   166.0    62.0      NaN\n",
       "26     Junior      Yanli You  Female     NaN    48.0        N"
      ]
     },
     "execution_count": 17,
     "metadata": {},
     "output_type": "execute_result"
    }
   ],
   "source": [
    "#  查看至少一个缺失的行\n",
    "df[sub_set.isna().any(1)].head()"
   ]
  },
  {
   "cell_type": "code",
   "execution_count": 18,
   "id": "6d62f98c-8f0d-482c-a258-bca8f7fe87ba",
   "metadata": {
    "execution": {
     "iopub.execute_input": "2021-10-20T08:30:07.283836Z",
     "iopub.status.busy": "2021-10-20T08:30:07.283836Z",
     "iopub.status.idle": "2021-10-20T08:30:07.394540Z",
     "shell.execute_reply": "2021-10-20T08:30:07.393546Z",
     "shell.execute_reply.started": "2021-10-20T08:30:07.283836Z"
    }
   },
   "outputs": [
    {
     "data": {
      "text/html": [
       "<div>\n",
       "<style scoped>\n",
       "    .dataframe tbody tr th:only-of-type {\n",
       "        vertical-align: middle;\n",
       "    }\n",
       "\n",
       "    .dataframe tbody tr th {\n",
       "        vertical-align: top;\n",
       "    }\n",
       "\n",
       "    .dataframe thead th {\n",
       "        text-align: right;\n",
       "    }\n",
       "</style>\n",
       "<table border=\"1\" class=\"dataframe\">\n",
       "  <thead>\n",
       "    <tr style=\"text-align: right;\">\n",
       "      <th></th>\n",
       "      <th>Grade</th>\n",
       "      <th>Name</th>\n",
       "      <th>Gender</th>\n",
       "      <th>Height</th>\n",
       "      <th>Weight</th>\n",
       "      <th>Transfer</th>\n",
       "    </tr>\n",
       "  </thead>\n",
       "  <tbody>\n",
       "    <tr>\n",
       "      <th>0</th>\n",
       "      <td>NaN</td>\n",
       "      <td>NaN</td>\n",
       "      <td>NaN</td>\n",
       "      <td>158.9</td>\n",
       "      <td>46.0</td>\n",
       "      <td>N</td>\n",
       "    </tr>\n",
       "    <tr>\n",
       "      <th>1</th>\n",
       "      <td>NaN</td>\n",
       "      <td>NaN</td>\n",
       "      <td>NaN</td>\n",
       "      <td>166.5</td>\n",
       "      <td>70.0</td>\n",
       "      <td>N</td>\n",
       "    </tr>\n",
       "    <tr>\n",
       "      <th>2</th>\n",
       "      <td>NaN</td>\n",
       "      <td>NaN</td>\n",
       "      <td>NaN</td>\n",
       "      <td>188.9</td>\n",
       "      <td>89.0</td>\n",
       "      <td>N</td>\n",
       "    </tr>\n",
       "    <tr>\n",
       "      <th>3</th>\n",
       "      <td>NaN</td>\n",
       "      <td>NaN</td>\n",
       "      <td>NaN</td>\n",
       "      <td>NaN</td>\n",
       "      <td>41.0</td>\n",
       "      <td>N</td>\n",
       "    </tr>\n",
       "    <tr>\n",
       "      <th>4</th>\n",
       "      <td>NaN</td>\n",
       "      <td>NaN</td>\n",
       "      <td>NaN</td>\n",
       "      <td>174.0</td>\n",
       "      <td>74.0</td>\n",
       "      <td>N</td>\n",
       "    </tr>\n",
       "  </tbody>\n",
       "</table>\n",
       "</div>"
      ],
      "text/plain": [
       "  Grade Name Gender  Height  Weight Transfer\n",
       "0   NaN  NaN    NaN   158.9    46.0        N\n",
       "1   NaN  NaN    NaN   166.5    70.0        N\n",
       "2   NaN  NaN    NaN   188.9    89.0        N\n",
       "3   NaN  NaN    NaN     NaN    41.0        N\n",
       "4   NaN  NaN    NaN   174.0    74.0        N"
      ]
     },
     "execution_count": 18,
     "metadata": {},
     "output_type": "execute_result"
    }
   ],
   "source": [
    "#  查看没有缺失的行\n",
    "df[sub_set.notna()].head()"
   ]
  },
  {
   "cell_type": "markdown",
   "id": "0abc2bed-7eab-41b7-982b-f6b99af02a79",
   "metadata": {
    "execution": {
     "iopub.execute_input": "2021-10-20T08:11:32.254505Z",
     "iopub.status.busy": "2021-10-20T08:11:32.254505Z",
     "iopub.status.idle": "2021-10-20T08:11:32.266469Z",
     "shell.execute_reply": "2021-10-20T08:11:32.265472Z",
     "shell.execute_reply.started": "2021-10-20T08:11:32.254505Z"
    }
   },
   "source": [
    "## 缺失信息删除"
   ]
  },
  {
   "cell_type": "markdown",
   "id": "a643744a-37ae-490d-b99d-0e73b45e8bbc",
   "metadata": {
    "execution": {
     "iopub.execute_input": "2021-10-20T08:31:46.069854Z",
     "iopub.status.busy": "2021-10-20T08:31:46.068855Z",
     "iopub.status.idle": "2021-10-20T08:31:46.089799Z",
     "shell.execute_reply": "2021-10-20T08:31:46.087804Z",
     "shell.execute_reply.started": "2021-10-20T08:31:46.069854Z"
    }
   },
   "source": [
    "1. <font face=\"微软雅黑\" color=red size=5>**dropna**</font>删除缺失值，默认axis=0,删除行\n",
    "2. 删除方式参数how, any和all\n",
    "3. thresh,删除的非缺失值个数阈值，非缺失值没有达到这个数量的相应维度会被删除\n",
    "4. subset，要操作的列子集\n",
    "5. inplace，是否处理矩阵本身"
   ]
  },
  {
   "cell_type": "code",
   "execution_count": 22,
   "id": "6805c6e9-5092-4814-9b44-8d4b71b71177",
   "metadata": {
    "execution": {
     "iopub.execute_input": "2021-10-20T08:35:23.619666Z",
     "iopub.status.busy": "2021-10-20T08:35:23.619666Z",
     "iopub.status.idle": "2021-10-20T08:35:23.638616Z",
     "shell.execute_reply": "2021-10-20T08:35:23.637620Z",
     "shell.execute_reply.started": "2021-10-20T08:35:23.619666Z"
    }
   },
   "outputs": [
    {
     "data": {
      "text/plain": [
       "(200, 6)"
      ]
     },
     "execution_count": 22,
     "metadata": {},
     "output_type": "execute_result"
    }
   ],
   "source": [
    "df.shape"
   ]
  },
  {
   "cell_type": "code",
   "execution_count": 21,
   "id": "f22d08f0-cb65-4e12-9aff-db949c85ea25",
   "metadata": {
    "execution": {
     "iopub.execute_input": "2021-10-20T08:35:03.132776Z",
     "iopub.status.busy": "2021-10-20T08:35:03.131776Z",
     "iopub.status.idle": "2021-10-20T08:35:03.147733Z",
     "shell.execute_reply": "2021-10-20T08:35:03.146736Z",
     "shell.execute_reply.started": "2021-10-20T08:35:03.132776Z"
    },
    "tags": []
   },
   "outputs": [
    {
     "data": {
      "text/plain": [
       "(174, 6)"
      ]
     },
     "execution_count": 21,
     "metadata": {},
     "output_type": "execute_result"
    }
   ],
   "source": [
    "res = df.dropna(how = 'any', subset = ['Height', 'Weight'])\n",
    "res.shape"
   ]
  },
  {
   "cell_type": "code",
   "execution_count": 37,
   "id": "a112da76-4790-463f-a5e5-147c97c1d9b9",
   "metadata": {
    "execution": {
     "iopub.execute_input": "2021-10-20T08:47:32.744877Z",
     "iopub.status.busy": "2021-10-20T08:47:32.743884Z",
     "iopub.status.idle": "2021-10-20T08:47:32.756845Z",
     "shell.execute_reply": "2021-10-20T08:47:32.755849Z",
     "shell.execute_reply.started": "2021-10-20T08:47:32.744877Z"
    },
    "tags": []
   },
   "outputs": [
    {
     "data": {
      "text/plain": [
       "(174, 6)"
      ]
     },
     "execution_count": 37,
     "metadata": {},
     "output_type": "execute_result"
    }
   ],
   "source": [
    "res = df.loc[df[['Height', 'Weight']].notna().all(1)]\n",
    "res.shape"
   ]
  },
  {
   "cell_type": "code",
   "execution_count": 33,
   "id": "33552731-c002-4e69-b24e-b9cf304a1967",
   "metadata": {
    "execution": {
     "iopub.execute_input": "2021-10-20T08:45:19.276532Z",
     "iopub.status.busy": "2021-10-20T08:45:19.275534Z",
     "iopub.status.idle": "2021-10-20T08:45:19.297474Z",
     "shell.execute_reply": "2021-10-20T08:45:19.296477Z",
     "shell.execute_reply.started": "2021-10-20T08:45:19.276532Z"
    },
    "tags": []
   },
   "outputs": [
    {
     "data": {
      "text/plain": [
       "(200, 3)"
      ]
     },
     "execution_count": 33,
     "metadata": {},
     "output_type": "execute_result"
    }
   ],
   "source": [
    "#  删除超过10个缺失值的列（总共200行）\n",
    "res = df.dropna(axis = 1, thresh = 190)\n",
    "res.shape\n",
    "#res.head()"
   ]
  },
  {
   "cell_type": "code",
   "execution_count": 35,
   "id": "f045384e-8578-4a5f-9267-01f7ffb0abfb",
   "metadata": {
    "execution": {
     "iopub.execute_input": "2021-10-20T08:46:33.725188Z",
     "iopub.status.busy": "2021-10-20T08:46:33.724189Z",
     "iopub.status.idle": "2021-10-20T08:46:33.737155Z",
     "shell.execute_reply": "2021-10-20T08:46:33.736157Z",
     "shell.execute_reply.started": "2021-10-20T08:46:33.725188Z"
    },
    "tags": []
   },
   "outputs": [
    {
     "data": {
      "text/plain": [
       "(200, 3)"
      ]
     },
     "execution_count": 35,
     "metadata": {},
     "output_type": "execute_result"
    }
   ],
   "source": [
    "res = df.loc[:, ~(df.isna().sum()>10)]\n",
    "res.shape"
   ]
  },
  {
   "cell_type": "markdown",
   "id": "32db5112-da86-4a1e-bbd9-79fbb45cf153",
   "metadata": {},
   "source": [
    "## 缺失信息填充"
   ]
  },
  {
   "cell_type": "markdown",
   "id": "a0972ae7-0418-4a63-9c97-97739540fad3",
   "metadata": {
    "execution": {
     "iopub.execute_input": "2021-10-20T08:50:40.008465Z",
     "iopub.status.busy": "2021-10-20T08:50:40.007468Z",
     "iopub.status.idle": "2021-10-20T08:50:40.018438Z",
     "shell.execute_reply": "2021-10-20T08:50:40.016443Z",
     "shell.execute_reply.started": "2021-10-20T08:50:40.008465Z"
    }
   },
   "source": [
    "1. <font color=red size=5>**fillna**</font>进行填充\n",
    "2. 常用参数**value, method, limit**\n",
    "3. value 为填充值，可以是标量，也可以是索引到元素的字典映射\n",
    "4. method 为填充方法，有用**前面的元素填充 ffill** 和用**后面的元素填充 bfill** 两种类型\n",
    "5. limit 参数表示连续缺失值的最大填充次数"
   ]
  },
  {
   "cell_type": "code",
   "execution_count": 40,
   "id": "2c29009c-1d5c-4667-a5a2-757be6fd44b4",
   "metadata": {
    "execution": {
     "iopub.execute_input": "2021-10-20T08:55:53.098092Z",
     "iopub.status.busy": "2021-10-20T08:55:53.097095Z",
     "iopub.status.idle": "2021-10-20T08:55:53.121031Z",
     "shell.execute_reply": "2021-10-20T08:55:53.120036Z",
     "shell.execute_reply.started": "2021-10-20T08:55:53.097095Z"
    },
    "tags": []
   },
   "outputs": [
    {
     "data": {
      "text/plain": [
       "0    158.9\n",
       "1    166.5\n",
       "2    188.9\n",
       "3      NaN\n",
       "4    174.0\n",
       "Name: Height, dtype: float64"
      ]
     },
     "execution_count": 40,
     "metadata": {},
     "output_type": "execute_result"
    }
   ],
   "source": [
    "df['Height'].head()"
   ]
  },
  {
   "cell_type": "code",
   "execution_count": 41,
   "id": "92037020-59f7-40b7-8b9b-382be24393bc",
   "metadata": {
    "execution": {
     "iopub.execute_input": "2021-10-20T08:56:20.434077Z",
     "iopub.status.busy": "2021-10-20T08:56:20.434077Z",
     "iopub.status.idle": "2021-10-20T08:56:20.455020Z",
     "shell.execute_reply": "2021-10-20T08:56:20.453026Z",
     "shell.execute_reply.started": "2021-10-20T08:56:20.434077Z"
    }
   },
   "outputs": [
    {
     "data": {
      "text/plain": [
       "0    158.900000\n",
       "1    166.500000\n",
       "2    188.900000\n",
       "3    163.218033\n",
       "4    174.000000\n",
       "Name: Height, dtype: float64"
      ]
     },
     "execution_count": 41,
     "metadata": {},
     "output_type": "execute_result"
    }
   ],
   "source": [
    "df['Height'].fillna(df['Height'].mean()).head()"
   ]
  },
  {
   "cell_type": "code",
   "execution_count": 47,
   "id": "1a7dc572-6a44-4dfb-be10-ed00ac7b8bab",
   "metadata": {
    "execution": {
     "iopub.execute_input": "2021-10-20T09:00:21.866477Z",
     "iopub.status.busy": "2021-10-20T09:00:21.866477Z",
     "iopub.status.idle": "2021-10-20T09:00:21.889415Z",
     "shell.execute_reply": "2021-10-20T09:00:21.888416Z",
     "shell.execute_reply.started": "2021-10-20T09:00:21.866477Z"
    },
    "tags": []
   },
   "outputs": [
    {
     "data": {
      "text/plain": [
       "0    158.9\n",
       "1    166.5\n",
       "2    188.9\n",
       "3    100.0\n",
       "4    174.0\n",
       "Name: Height, dtype: float64"
      ]
     },
     "execution_count": 47,
     "metadata": {},
     "output_type": "execute_result"
    }
   ],
   "source": [
    "# 通过索引映射填充\n",
    "df['Height'].fillna({3:100}).head()"
   ]
  },
  {
   "cell_type": "code",
   "execution_count": 42,
   "id": "18cbdd9d-a1c4-482e-b096-24122e20da1f",
   "metadata": {
    "execution": {
     "iopub.execute_input": "2021-10-20T08:57:14.614749Z",
     "iopub.status.busy": "2021-10-20T08:57:14.614749Z",
     "iopub.status.idle": "2021-10-20T08:57:14.642676Z",
     "shell.execute_reply": "2021-10-20T08:57:14.635693Z",
     "shell.execute_reply.started": "2021-10-20T08:57:14.614749Z"
    }
   },
   "outputs": [
    {
     "data": {
      "text/plain": [
       "0    158.9\n",
       "1    166.5\n",
       "2    188.9\n",
       "3    188.9\n",
       "4    174.0\n",
       "Name: Height, dtype: float64"
      ]
     },
     "execution_count": 42,
     "metadata": {},
     "output_type": "execute_result"
    }
   ],
   "source": [
    "df['Height'].fillna(method='ffill').head()"
   ]
  },
  {
   "cell_type": "code",
   "execution_count": 43,
   "id": "05ac7bb8-def1-4644-a500-f21d37f4b5d1",
   "metadata": {
    "execution": {
     "iopub.execute_input": "2021-10-20T08:57:27.932382Z",
     "iopub.status.busy": "2021-10-20T08:57:27.931385Z",
     "iopub.status.idle": "2021-10-20T08:57:27.948339Z",
     "shell.execute_reply": "2021-10-20T08:57:27.947343Z",
     "shell.execute_reply.started": "2021-10-20T08:57:27.931385Z"
    }
   },
   "outputs": [
    {
     "data": {
      "text/plain": [
       "0    158.9\n",
       "1    166.5\n",
       "2    188.9\n",
       "3    174.0\n",
       "4    174.0\n",
       "Name: Height, dtype: float64"
      ]
     },
     "execution_count": 43,
     "metadata": {},
     "output_type": "execute_result"
    }
   ],
   "source": [
    "df['Height'].fillna(method='bfill').head()"
   ]
  },
  {
   "cell_type": "code",
   "execution_count": 44,
   "id": "734ff7f4-eb71-4788-8c38-667c8ba54bd0",
   "metadata": {
    "execution": {
     "iopub.execute_input": "2021-10-20T08:58:48.672569Z",
     "iopub.status.busy": "2021-10-20T08:58:48.672569Z",
     "iopub.status.idle": "2021-10-20T08:58:48.713459Z",
     "shell.execute_reply": "2021-10-20T08:58:48.702489Z",
     "shell.execute_reply.started": "2021-10-20T08:58:48.672569Z"
    }
   },
   "outputs": [
    {
     "data": {
      "text/plain": [
       "0      158.9\n",
       "1      166.5\n",
       "2      188.9\n",
       "3      174.0\n",
       "4      174.0\n",
       "       ...  \n",
       "195    153.9\n",
       "196    160.9\n",
       "197    153.9\n",
       "198    175.3\n",
       "199    155.7\n",
       "Name: Height, Length: 200, dtype: float64"
      ]
     },
     "execution_count": 44,
     "metadata": {},
     "output_type": "execute_result"
    }
   ],
   "source": [
    "#  连续出现的缺失，最多填充一次\n",
    "df['Height'].fillna(method='bfill', limit=1)"
   ]
  },
  {
   "cell_type": "markdown",
   "id": "a762bccd-f772-4e62-ae53-aa0c33eb293c",
   "metadata": {},
   "source": [
    "## 缺失值类型"
   ]
  },
  {
   "cell_type": "markdown",
   "id": "5b555e55-ca16-47ba-a76c-ac076f94573a",
   "metadata": {
    "execution": {
     "iopub.execute_input": "2021-10-20T09:06:55.857509Z",
     "iopub.status.busy": "2021-10-20T09:06:55.857509Z",
     "iopub.status.idle": "2021-10-20T09:06:55.865488Z",
     "shell.execute_reply": "2021-10-20T09:06:55.864491Z",
     "shell.execute_reply.started": "2021-10-20T09:06:55.857509Z"
    }
   },
   "source": [
    "1. python 中的缺失值用 **None** 表示，该元素除了等于自己本身之外，与其他任何元素不相等\n",
    "2. numpy 中利用 **np.nan** 来表示缺失值，该元素除了不和其他任何元素相等之外，和自身的比较结果也返回 False\n",
    "3. 在时间序列的对象中， pandas 利用 **pd.NaT** 来指代缺失值"
   ]
  },
  {
   "cell_type": "code",
   "execution_count": 49,
   "id": "d88ddb2c-ee66-46ba-98c9-b4ab6af60866",
   "metadata": {
    "execution": {
     "iopub.execute_input": "2021-10-20T09:08:29.562638Z",
     "iopub.status.busy": "2021-10-20T09:08:29.562638Z",
     "iopub.status.idle": "2021-10-20T09:08:29.575603Z",
     "shell.execute_reply": "2021-10-20T09:08:29.572611Z",
     "shell.execute_reply.started": "2021-10-20T09:08:29.562638Z"
    }
   },
   "outputs": [
    {
     "data": {
      "text/plain": [
       "True"
      ]
     },
     "execution_count": 49,
     "metadata": {},
     "output_type": "execute_result"
    }
   ],
   "source": [
    "None == None"
   ]
  },
  {
   "cell_type": "code",
   "execution_count": 50,
   "id": "2b324f6d-8cdf-483e-ad3d-88f68d70afa0",
   "metadata": {
    "execution": {
     "iopub.execute_input": "2021-10-20T09:08:37.726290Z",
     "iopub.status.busy": "2021-10-20T09:08:37.726290Z",
     "iopub.status.idle": "2021-10-20T09:08:37.735265Z",
     "shell.execute_reply": "2021-10-20T09:08:37.734269Z",
     "shell.execute_reply.started": "2021-10-20T09:08:37.726290Z"
    }
   },
   "outputs": [
    {
     "data": {
      "text/plain": [
       "False"
      ]
     },
     "execution_count": 50,
     "metadata": {},
     "output_type": "execute_result"
    }
   ],
   "source": [
    "np.nan == np.nan"
   ]
  },
  {
   "cell_type": "markdown",
   "id": "3dc98853-f19a-424b-971b-64b2abfcb1fe",
   "metadata": {
    "execution": {
     "iopub.execute_input": "2021-10-20T09:10:44.568818Z",
     "iopub.status.busy": "2021-10-20T09:10:44.568818Z",
     "iopub.status.idle": "2021-10-20T09:10:44.584776Z",
     "shell.execute_reply": "2021-10-20T09:10:44.582781Z",
     "shell.execute_reply.started": "2021-10-20T09:10:44.568818Z"
    }
   },
   "source": [
    "* 当进行单个标量运算的时候，除了 np.nan ** 0 和 1 ** np.nan 这两种情况为确定的值之外，所有运算结果全为缺失\n",
    "* np.nan 在比较操作时一定返回 False ，而 pd.NA 返回 pd.NA"
   ]
  },
  {
   "cell_type": "code",
   "execution_count": 52,
   "id": "90222222-bff3-4b75-976f-36852213cb3d",
   "metadata": {
    "execution": {
     "iopub.execute_input": "2021-10-20T09:10:54.936421Z",
     "iopub.status.busy": "2021-10-20T09:10:54.935424Z",
     "iopub.status.idle": "2021-10-20T09:10:54.950383Z",
     "shell.execute_reply": "2021-10-20T09:10:54.949389Z",
     "shell.execute_reply.started": "2021-10-20T09:10:54.936421Z"
    }
   },
   "outputs": [
    {
     "data": {
      "text/plain": [
       "1.0"
      ]
     },
     "execution_count": 52,
     "metadata": {},
     "output_type": "execute_result"
    }
   ],
   "source": [
    "np.nan ** 0"
   ]
  },
  {
   "cell_type": "code",
   "execution_count": 53,
   "id": "efad0770-ac31-4a11-a0b8-9b1bd7e0a025",
   "metadata": {
    "execution": {
     "iopub.execute_input": "2021-10-20T09:11:00.712894Z",
     "iopub.status.busy": "2021-10-20T09:11:00.712894Z",
     "iopub.status.idle": "2021-10-20T09:11:00.726857Z",
     "shell.execute_reply": "2021-10-20T09:11:00.724862Z",
     "shell.execute_reply.started": "2021-10-20T09:11:00.712894Z"
    }
   },
   "outputs": [
    {
     "data": {
      "text/plain": [
       "1.0"
      ]
     },
     "execution_count": 53,
     "metadata": {},
     "output_type": "execute_result"
    }
   ],
   "source": [
    "1 ** np.nan "
   ]
  },
  {
   "cell_type": "code",
   "execution_count": 54,
   "id": "90a6ecb6-f8a9-418b-8903-cf24b0e741d8",
   "metadata": {
    "execution": {
     "iopub.execute_input": "2021-10-20T09:11:23.669095Z",
     "iopub.status.busy": "2021-10-20T09:11:23.669095Z",
     "iopub.status.idle": "2021-10-20T09:11:23.685048Z",
     "shell.execute_reply": "2021-10-20T09:11:23.683053Z",
     "shell.execute_reply.started": "2021-10-20T09:11:23.669095Z"
    }
   },
   "outputs": [
    {
     "data": {
      "text/plain": [
       "<NA>"
      ]
     },
     "execution_count": 54,
     "metadata": {},
     "output_type": "execute_result"
    }
   ],
   "source": [
    "pd.NA > 1"
   ]
  },
  {
   "cell_type": "code",
   "execution_count": 55,
   "id": "5110701e-c625-49b6-a169-22f08f88415d",
   "metadata": {
    "execution": {
     "iopub.execute_input": "2021-10-20T09:11:32.375026Z",
     "iopub.status.busy": "2021-10-20T09:11:32.374028Z",
     "iopub.status.idle": "2021-10-20T09:11:32.393974Z",
     "shell.execute_reply": "2021-10-20T09:11:32.392977Z",
     "shell.execute_reply.started": "2021-10-20T09:11:32.374028Z"
    }
   },
   "outputs": [
    {
     "data": {
      "text/plain": [
       "False"
      ]
     },
     "execution_count": 55,
     "metadata": {},
     "output_type": "execute_result"
    }
   ],
   "source": [
    "np.nan > 1"
   ]
  },
  {
   "cell_type": "markdown",
   "id": "3ad6e49b-93a0-490b-ae26-c05756dc1bce",
   "metadata": {},
   "source": [
    "* **diff, pct_change** 这两个函数虽然功能相似，但是对于缺失的处理不同，前者凡是参与缺失计算的部分全部设为了缺失值，而后者缺失值位置会被设为 0% 的变化率"
   ]
  },
  {
   "cell_type": "code",
   "execution_count": 56,
   "id": "a3b812c7-d018-478c-aad5-fba71205f868",
   "metadata": {
    "execution": {
     "iopub.execute_input": "2021-10-20T09:12:19.991095Z",
     "iopub.status.busy": "2021-10-20T09:12:19.990098Z",
     "iopub.status.idle": "2021-10-20T09:12:20.002067Z",
     "shell.execute_reply": "2021-10-20T09:12:20.000073Z",
     "shell.execute_reply.started": "2021-10-20T09:12:19.991095Z"
    }
   },
   "outputs": [],
   "source": [
    "s = pd.Series([2,3,np.nan,4,5])"
   ]
  },
  {
   "cell_type": "code",
   "execution_count": 57,
   "id": "96a0905d-4029-4b3f-8e19-a17441df0726",
   "metadata": {
    "execution": {
     "iopub.execute_input": "2021-10-20T09:12:28.773792Z",
     "iopub.status.busy": "2021-10-20T09:12:28.772793Z",
     "iopub.status.idle": "2021-10-20T09:12:28.794734Z",
     "shell.execute_reply": "2021-10-20T09:12:28.793736Z",
     "shell.execute_reply.started": "2021-10-20T09:12:28.773792Z"
    }
   },
   "outputs": [
    {
     "data": {
      "text/plain": [
       "0    NaN\n",
       "1    1.0\n",
       "2    NaN\n",
       "3    NaN\n",
       "4    1.0\n",
       "dtype: float64"
      ]
     },
     "execution_count": 57,
     "metadata": {},
     "output_type": "execute_result"
    }
   ],
   "source": [
    "s.diff()"
   ]
  },
  {
   "cell_type": "code",
   "execution_count": 58,
   "id": "2139b6b3-8d35-4b09-8a82-da34d8ace003",
   "metadata": {
    "execution": {
     "iopub.execute_input": "2021-10-20T09:12:54.297948Z",
     "iopub.status.busy": "2021-10-20T09:12:54.297948Z",
     "iopub.status.idle": "2021-10-20T09:12:54.326870Z",
     "shell.execute_reply": "2021-10-20T09:12:54.325873Z",
     "shell.execute_reply.started": "2021-10-20T09:12:54.297948Z"
    }
   },
   "outputs": [
    {
     "data": {
      "text/plain": [
       "0         NaN\n",
       "1    0.500000\n",
       "2    0.000000\n",
       "3    0.333333\n",
       "4    0.250000\n",
       "dtype: float64"
      ]
     },
     "execution_count": 58,
     "metadata": {},
     "output_type": "execute_result"
    }
   ],
   "source": [
    "s.pct_change()"
   ]
  }
 ],
 "metadata": {
  "kernelspec": {
   "display_name": "Python 3",
   "language": "python",
   "name": "python3"
  },
  "language_info": {
   "codemirror_mode": {
    "name": "ipython",
    "version": 3
   },
   "file_extension": ".py",
   "mimetype": "text/x-python",
   "name": "python",
   "nbconvert_exporter": "python",
   "pygments_lexer": "ipython3",
   "version": "3.8.8"
  },
  "toc-autonumbering": true
 },
 "nbformat": 4,
 "nbformat_minor": 5
}
