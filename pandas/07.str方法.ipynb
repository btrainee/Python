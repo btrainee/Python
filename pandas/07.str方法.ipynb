{
 "cells": [
  {
   "cell_type": "code",
   "execution_count": 1,
   "id": "6cf849bc-2103-4311-b832-61001b08304c",
   "metadata": {
    "execution": {
     "iopub.execute_input": "2021-10-22T08:35:34.385473Z",
     "iopub.status.busy": "2021-10-22T08:35:34.385473Z",
     "iopub.status.idle": "2021-10-22T08:35:34.906276Z",
     "shell.execute_reply": "2021-10-22T08:35:34.904278Z",
     "shell.execute_reply.started": "2021-10-22T08:35:34.385473Z"
    },
    "tags": []
   },
   "outputs": [],
   "source": [
    "import pandas as pd"
   ]
  },
  {
   "cell_type": "markdown",
   "id": "86c537f3-4259-4b1f-aea9-783315740923",
   "metadata": {},
   "source": [
    "## str简介"
   ]
  },
  {
   "cell_type": "markdown",
   "id": "53ac99b8-c3d3-45de-85be-e659b8e1ec57",
   "metadata": {},
   "source": [
    "1. pandas中的str对象方法，照搬了很多标准库中str方法，所以跟标准库中的str模块方法同名且功能一致。如：capitalize，title，upper，lower等等\n",
    "2. str对象是定义在Index或Series上的属性\n",
    "3. 可以使用索引器对字符串进行序列化的操作\n",
    "4. 可以使用[正则匹配](https://github.com/cdoco/learn-regex-zhhttps://github.com/cdoco/learn-regex-zh)"
   ]
  },
  {
   "cell_type": "markdown",
   "id": "eea1ce15-0051-4b53-9566-008dfe566865",
   "metadata": {
    "execution": {
     "iopub.execute_input": "2021-10-21T08:10:51.251483Z",
     "iopub.status.busy": "2021-10-21T08:10:51.251483Z",
     "iopub.status.idle": "2021-10-21T08:10:51.261457Z",
     "shell.execute_reply": "2021-10-21T08:10:51.260459Z",
     "shell.execute_reply.started": "2021-10-21T08:10:51.251483Z"
    }
   },
   "source": [
    "## 常用函数"
   ]
  },
  {
   "cell_type": "markdown",
   "id": "38069109-a976-4733-b63f-0ca36abf6519",
   "metadata": {
    "execution": {
     "iopub.execute_input": "2021-10-21T08:12:47.692779Z",
     "iopub.status.busy": "2021-10-21T08:12:47.692779Z",
     "iopub.status.idle": "2021-10-21T08:12:47.702748Z",
     "shell.execute_reply": "2021-10-21T08:12:47.701750Z",
     "shell.execute_reply.started": "2021-10-21T08:12:47.692779Z"
    }
   },
   "source": [
    "* **upper**：产生的新字符串，所有字符全转成大写\n",
    "* **lower**：产生的新字符串，所有字符全转成小写\n",
    "* **title**：产生的新字符串，每个单子都首字母大写\n",
    "* **capitalize**：产生的新字符串，首字母大写\n",
    "* **swapcase**：产生的新字符串，大小写转换"
   ]
  },
  {
   "cell_type": "markdown",
   "id": "02bbbdc4-7b73-4f65-8f3a-d3d5a579aa50",
   "metadata": {},
   "source": [
    "* **count**\n",
    "* **len**"
   ]
  },
  {
   "cell_type": "code",
   "execution_count": 2,
   "id": "b80a30c0-2ecf-4634-9a5c-57c7ad6c07d5",
   "metadata": {
    "execution": {
     "iopub.execute_input": "2021-10-22T08:35:48.887512Z",
     "iopub.status.busy": "2021-10-22T08:35:48.886513Z",
     "iopub.status.idle": "2021-10-22T08:35:48.930395Z",
     "shell.execute_reply": "2021-10-22T08:35:48.929398Z",
     "shell.execute_reply.started": "2021-10-22T08:35:48.887512Z"
    }
   },
   "outputs": [
    {
     "data": {
      "text/plain": [
       "0    1.0\n",
       "1    NaN\n",
       "2    0.0\n",
       "dtype: float64"
      ]
     },
     "execution_count": 2,
     "metadata": {},
     "output_type": "execute_result"
    }
   ],
   "source": [
    "s = pd.Series([\"a\", None, \"b\"], dtype=\"object\")\n",
    "s.str.count('a')"
   ]
  },
  {
   "cell_type": "code",
   "execution_count": 5,
   "id": "1d6ea8d0-3b03-480c-a2c4-ad631d6dd9fe",
   "metadata": {
    "execution": {
     "iopub.execute_input": "2021-10-22T08:37:21.411456Z",
     "iopub.status.busy": "2021-10-22T08:37:21.411456Z",
     "iopub.status.idle": "2021-10-22T08:37:21.437388Z",
     "shell.execute_reply": "2021-10-22T08:37:21.436390Z",
     "shell.execute_reply.started": "2021-10-22T08:37:21.411456Z"
    },
    "tags": []
   },
   "outputs": [
    {
     "data": {
      "text/plain": [
       "0    1.0\n",
       "1    NaN\n",
       "2    1.0\n",
       "3    NaN\n",
       "dtype: float64"
      ]
     },
     "execution_count": 5,
     "metadata": {},
     "output_type": "execute_result"
    }
   ],
   "source": [
    "s.str.len()"
   ]
  },
  {
   "cell_type": "markdown",
   "id": "0c93c007-3f53-475e-97be-04bdc15d5ca9",
   "metadata": {
    "execution": {
     "iopub.execute_input": "2021-10-22T08:36:26.584406Z",
     "iopub.status.busy": "2021-10-22T08:36:26.584406Z",
     "iopub.status.idle": "2021-10-22T08:36:26.602357Z",
     "shell.execute_reply": "2021-10-22T08:36:26.601361Z",
     "shell.execute_reply.started": "2021-10-22T08:36:26.584406Z"
    }
   },
   "source": [
    "* **isdigit**"
   ]
  },
  {
   "cell_type": "code",
   "execution_count": 4,
   "id": "15eab654-5892-4476-82c1-e3e81ae9bab2",
   "metadata": {
    "execution": {
     "iopub.execute_input": "2021-10-22T08:36:53.899017Z",
     "iopub.status.busy": "2021-10-22T08:36:53.899017Z",
     "iopub.status.idle": "2021-10-22T08:36:53.914973Z",
     "shell.execute_reply": "2021-10-22T08:36:53.913978Z",
     "shell.execute_reply.started": "2021-10-22T08:36:53.899017Z"
    }
   },
   "outputs": [
    {
     "data": {
      "text/plain": [
       "0    False\n",
       "1     None\n",
       "2    False\n",
       "3      NaN\n",
       "dtype: object"
      ]
     },
     "execution_count": 4,
     "metadata": {},
     "output_type": "execute_result"
    }
   ],
   "source": [
    "s = pd.Series([\"a\", None, \"b\", 1], dtype=\"object\")\n",
    "s.str.isdigit()"
   ]
  },
  {
   "cell_type": "markdown",
   "id": "e1f4d44d-fbec-464d-9b71-36e100717a7c",
   "metadata": {},
   "source": [
    "* **to_numeric**：是否为数值型，其主要参数包括 errors 和 downcast 分别代表了非数值的处理模式和转换类型。其中，对于不能转换为数值的有三种 errors 选项， raise, coerce, ignore 分别表示直接报错、设为缺失以及保持原来的字符串。"
   ]
  },
  {
   "cell_type": "code",
   "execution_count": 21,
   "id": "ef9f3094-17d5-4742-9644-375b1d0ac248",
   "metadata": {
    "execution": {
     "iopub.execute_input": "2021-10-22T08:55:28.631054Z",
     "iopub.status.busy": "2021-10-22T08:55:28.630063Z",
     "iopub.status.idle": "2021-10-22T08:55:28.640028Z",
     "shell.execute_reply": "2021-10-22T08:55:28.639030Z",
     "shell.execute_reply.started": "2021-10-22T08:55:28.631054Z"
    }
   },
   "outputs": [],
   "source": [
    "s = pd.Series(['1', '2.2', '2e', '??', '-2.1', '0'])"
   ]
  },
  {
   "cell_type": "code",
   "execution_count": 22,
   "id": "1899e67b-4cf7-4686-b074-c94379527486",
   "metadata": {
    "execution": {
     "iopub.execute_input": "2021-10-22T08:55:39.950032Z",
     "iopub.status.busy": "2021-10-22T08:55:39.950032Z",
     "iopub.status.idle": "2021-10-22T08:55:39.969977Z",
     "shell.execute_reply": "2021-10-22T08:55:39.968989Z",
     "shell.execute_reply.started": "2021-10-22T08:55:39.950032Z"
    }
   },
   "outputs": [
    {
     "data": {
      "text/plain": [
       "0       1\n",
       "1     2.2\n",
       "2      2e\n",
       "3      ??\n",
       "4    -2.1\n",
       "5       0\n",
       "dtype: object"
      ]
     },
     "execution_count": 22,
     "metadata": {},
     "output_type": "execute_result"
    }
   ],
   "source": [
    "pd.to_numeric(s, errors='ignore')"
   ]
  },
  {
   "cell_type": "code",
   "execution_count": 24,
   "id": "1013bd98-f422-4144-8af3-8b56b052855a",
   "metadata": {
    "execution": {
     "iopub.execute_input": "2021-10-22T08:55:58.087547Z",
     "iopub.status.busy": "2021-10-22T08:55:58.087547Z",
     "iopub.status.idle": "2021-10-22T08:55:58.098517Z",
     "shell.execute_reply": "2021-10-22T08:55:58.097519Z",
     "shell.execute_reply.started": "2021-10-22T08:55:58.087547Z"
    },
    "tags": []
   },
   "outputs": [
    {
     "data": {
      "text/plain": [
       "0    1.0\n",
       "1    2.2\n",
       "2    NaN\n",
       "3    NaN\n",
       "4   -2.1\n",
       "5    0.0\n",
       "dtype: float64"
      ]
     },
     "execution_count": 24,
     "metadata": {},
     "output_type": "execute_result"
    }
   ],
   "source": [
    "pd.to_numeric(s, errors='coerce')"
   ]
  },
  {
   "cell_type": "code",
   "execution_count": 26,
   "id": "b43a644b-be4d-489f-ba80-30c63363132c",
   "metadata": {
    "execution": {
     "iopub.execute_input": "2021-10-22T08:56:34.472535Z",
     "iopub.status.busy": "2021-10-22T08:56:34.471538Z",
     "iopub.status.idle": "2021-10-22T08:56:34.495475Z",
     "shell.execute_reply": "2021-10-22T08:56:34.494484Z",
     "shell.execute_reply.started": "2021-10-22T08:56:34.472535Z"
    },
    "tags": []
   },
   "outputs": [
    {
     "data": {
      "text/plain": [
       "2    2e\n",
       "3    ??\n",
       "dtype: object"
      ]
     },
     "execution_count": 26,
     "metadata": {},
     "output_type": "execute_result"
    }
   ],
   "source": [
    "#  快速查看非数值的行或数值行\n",
    "s[pd.to_numeric(s, errors='coerce').isna()]"
   ]
  },
  {
   "cell_type": "markdown",
   "id": "9e87f128-a357-46c1-a244-f5b7acd02ae4",
   "metadata": {},
   "source": [
    "* **to_numpy**：转为numpy数组"
   ]
  },
  {
   "cell_type": "code",
   "execution_count": 10,
   "id": "ebf3128c-5d46-4a01-b945-b44e4d090b0b",
   "metadata": {
    "execution": {
     "iopub.execute_input": "2021-10-22T08:41:19.126713Z",
     "iopub.status.busy": "2021-10-22T08:41:19.125718Z",
     "iopub.status.idle": "2021-10-22T08:41:19.145662Z",
     "shell.execute_reply": "2021-10-22T08:41:19.144667Z",
     "shell.execute_reply.started": "2021-10-22T08:41:19.126713Z"
    }
   },
   "outputs": [
    {
     "data": {
      "text/plain": [
       "array(['a', None, 'b', 1], dtype=object)"
      ]
     },
     "execution_count": 10,
     "metadata": {},
     "output_type": "execute_result"
    }
   ],
   "source": [
    "s = pd.Series([\"a\", None, \"b\", 1], dtype=\"object\")\n",
    "s.to_numpy()"
   ]
  },
  {
   "cell_type": "markdown",
   "id": "57c1ce31-dc77-4a61-bbb3-bd458336263b",
   "metadata": {},
   "source": [
    "## 文本处理"
   ]
  },
  {
   "cell_type": "markdown",
   "id": "14fe1d7d-32e1-4aa8-93e8-8b9dfb62228a",
   "metadata": {},
   "source": [
    "### 1. <font color=red size=5>**str.split**</font> 字符串拆分\n",
    "    * 第一个参数为正则表达式\n",
    "    * 第二个可选参数n为拆分次数\n",
    "    * 第三个可选参数expand=True为是否展开为多个列"
   ]
  },
  {
   "cell_type": "code",
   "execution_count": 6,
   "id": "b4a01f36-ca48-4159-8d2b-28f2326fac0a",
   "metadata": {
    "execution": {
     "iopub.execute_input": "2021-10-22T08:38:19.152659Z",
     "iopub.status.busy": "2021-10-22T08:38:19.152659Z",
     "iopub.status.idle": "2021-10-22T08:38:19.179585Z",
     "shell.execute_reply": "2021-10-22T08:38:19.178591Z",
     "shell.execute_reply.started": "2021-10-22T08:38:19.152659Z"
    },
    "tags": []
   },
   "outputs": [
    {
     "data": {
      "text/plain": [
       "0      test_1\n",
       "1      test-2\n",
       "2    test_1_1\n",
       "dtype: object"
      ]
     },
     "execution_count": 6,
     "metadata": {},
     "output_type": "execute_result"
    }
   ],
   "source": [
    "s = pd.Series(['test_1', 'test-2', 'test_1_1'])\n",
    "s"
   ]
  },
  {
   "cell_type": "code",
   "execution_count": 7,
   "id": "e7733773-6554-46bf-a906-4fb135b9d96a",
   "metadata": {
    "execution": {
     "iopub.execute_input": "2021-10-22T08:38:20.066265Z",
     "iopub.status.busy": "2021-10-22T08:38:20.066265Z",
     "iopub.status.idle": "2021-10-22T08:38:20.090197Z",
     "shell.execute_reply": "2021-10-22T08:38:20.089200Z",
     "shell.execute_reply.started": "2021-10-22T08:38:20.066265Z"
    },
    "tags": []
   },
   "outputs": [
    {
     "data": {
      "text/plain": [
       "0       [test, 1]\n",
       "1        [test-2]\n",
       "2    [test, 1, 1]\n",
       "dtype: object"
      ]
     },
     "execution_count": 7,
     "metadata": {},
     "output_type": "execute_result"
    }
   ],
   "source": [
    "s.str.split('_')"
   ]
  },
  {
   "cell_type": "code",
   "execution_count": 9,
   "id": "8dfd1e61-0dd9-461f-8262-52f75c5799a5",
   "metadata": {
    "execution": {
     "iopub.execute_input": "2021-10-22T08:38:35.966613Z",
     "iopub.status.busy": "2021-10-22T08:38:35.966613Z",
     "iopub.status.idle": "2021-10-22T08:38:35.985563Z",
     "shell.execute_reply": "2021-10-22T08:38:35.984561Z",
     "shell.execute_reply.started": "2021-10-22T08:38:35.966613Z"
    },
    "tags": []
   },
   "outputs": [
    {
     "data": {
      "text/plain": [
       "['test', '1', '1']"
      ]
     },
     "execution_count": 9,
     "metadata": {},
     "output_type": "execute_result"
    }
   ],
   "source": [
    "s.str.split('_').get(2)"
   ]
  },
  {
   "cell_type": "code",
   "execution_count": 10,
   "id": "68015c8a-297f-422c-a8c3-001ab6887116",
   "metadata": {
    "execution": {
     "iopub.execute_input": "2021-10-21T05:38:52.429515Z",
     "iopub.status.busy": "2021-10-21T05:38:52.428516Z",
     "iopub.status.idle": "2021-10-21T05:38:52.450457Z",
     "shell.execute_reply": "2021-10-21T05:38:52.449461Z",
     "shell.execute_reply.started": "2021-10-21T05:38:52.428516Z"
    },
    "tags": []
   },
   "outputs": [
    {
     "data": {
      "text/plain": [
       "0      [test, 1]\n",
       "1      [test, 2]\n",
       "2    [test, 1_1]\n",
       "dtype: object"
      ]
     },
     "execution_count": 10,
     "metadata": {},
     "output_type": "execute_result"
    }
   ],
   "source": [
    "s.str.split('_|-', n=1)"
   ]
  },
  {
   "cell_type": "code",
   "execution_count": 11,
   "id": "a7962510-5280-47f9-ac21-bc035ac2dce9",
   "metadata": {
    "execution": {
     "iopub.execute_input": "2021-10-21T05:39:21.553245Z",
     "iopub.status.busy": "2021-10-21T05:39:21.553245Z",
     "iopub.status.idle": "2021-10-21T05:39:21.600120Z",
     "shell.execute_reply": "2021-10-21T05:39:21.599122Z",
     "shell.execute_reply.started": "2021-10-21T05:39:21.553245Z"
    }
   },
   "outputs": [
    {
     "data": {
      "text/html": [
       "<div>\n",
       "<style scoped>\n",
       "    .dataframe tbody tr th:only-of-type {\n",
       "        vertical-align: middle;\n",
       "    }\n",
       "\n",
       "    .dataframe tbody tr th {\n",
       "        vertical-align: top;\n",
       "    }\n",
       "\n",
       "    .dataframe thead th {\n",
       "        text-align: right;\n",
       "    }\n",
       "</style>\n",
       "<table border=\"1\" class=\"dataframe\">\n",
       "  <thead>\n",
       "    <tr style=\"text-align: right;\">\n",
       "      <th></th>\n",
       "      <th>0</th>\n",
       "      <th>1</th>\n",
       "    </tr>\n",
       "  </thead>\n",
       "  <tbody>\n",
       "    <tr>\n",
       "      <th>0</th>\n",
       "      <td>test</td>\n",
       "      <td>1</td>\n",
       "    </tr>\n",
       "    <tr>\n",
       "      <th>1</th>\n",
       "      <td>test</td>\n",
       "      <td>2</td>\n",
       "    </tr>\n",
       "    <tr>\n",
       "      <th>2</th>\n",
       "      <td>test</td>\n",
       "      <td>1_1</td>\n",
       "    </tr>\n",
       "  </tbody>\n",
       "</table>\n",
       "</div>"
      ],
      "text/plain": [
       "      0    1\n",
       "0  test    1\n",
       "1  test    2\n",
       "2  test  1_1"
      ]
     },
     "execution_count": 11,
     "metadata": {},
     "output_type": "execute_result"
    }
   ],
   "source": [
    "s.str.split('_|-', n=1, expand=True)"
   ]
  },
  {
   "cell_type": "markdown",
   "id": "3ef3fc80-5bbb-490c-a34d-2623b94bb890",
   "metadata": {
    "execution": {
     "iopub.execute_input": "2021-10-21T05:41:26.207561Z",
     "iopub.status.busy": "2021-10-21T05:41:26.207561Z",
     "iopub.status.idle": "2021-10-21T05:41:26.219527Z",
     "shell.execute_reply": "2021-10-21T05:41:26.217534Z",
     "shell.execute_reply.started": "2021-10-21T05:41:26.207561Z"
    }
   },
   "source": [
    "### 2. <font color=red size=5>**str.join和str.cat**</font> 字符串合并"
   ]
  },
  {
   "cell_type": "markdown",
   "id": "228ae96e-f528-4914-9c0e-66c7b4506458",
   "metadata": {},
   "source": [
    "    * str.join表示用连接符把Series中的字符串列表连接起来\n",
    "    * str.cat表示合并两个Series序列，参数有连接符sep,连接形式join以及缺失值替代符号na_rep"
   ]
  },
  {
   "cell_type": "code",
   "execution_count": 16,
   "id": "8fdd3118-77c1-4641-b6ff-3558a03ac0b1",
   "metadata": {
    "execution": {
     "iopub.execute_input": "2021-10-21T05:43:17.484888Z",
     "iopub.status.busy": "2021-10-21T05:43:17.483891Z",
     "iopub.status.idle": "2021-10-21T05:43:17.495861Z",
     "shell.execute_reply": "2021-10-21T05:43:17.494862Z",
     "shell.execute_reply.started": "2021-10-21T05:43:17.484888Z"
    },
    "tags": []
   },
   "outputs": [
    {
     "data": {
      "text/plain": [
       "0    [A, a]\n",
       "1    [B, b]\n",
       "2    [c, 1]\n",
       "dtype: object"
      ]
     },
     "execution_count": 16,
     "metadata": {},
     "output_type": "execute_result"
    }
   ],
   "source": [
    "s = pd.Series([['A', 'a'], ['B', 'b'], ['c', 1]])\n",
    "s"
   ]
  },
  {
   "cell_type": "code",
   "execution_count": 18,
   "id": "d7bfe862-69d5-4bd0-8f23-504bb191d7fe",
   "metadata": {
    "execution": {
     "iopub.execute_input": "2021-10-21T05:43:31.126413Z",
     "iopub.status.busy": "2021-10-21T05:43:31.126413Z",
     "iopub.status.idle": "2021-10-21T05:43:31.150311Z",
     "shell.execute_reply": "2021-10-21T05:43:31.148316Z",
     "shell.execute_reply.started": "2021-10-21T05:43:31.126413Z"
    },
    "tags": []
   },
   "outputs": [
    {
     "data": {
      "text/plain": [
       "0    A_a\n",
       "1    B_b\n",
       "2    NaN\n",
       "dtype: object"
      ]
     },
     "execution_count": 18,
     "metadata": {},
     "output_type": "execute_result"
    }
   ],
   "source": [
    "#  如果列表中出现了非字符串元素则返回缺失值\n",
    "s.str.join('_')"
   ]
  },
  {
   "cell_type": "code",
   "execution_count": 23,
   "id": "5c47af40-79b6-49a5-91a9-9f84f865fa84",
   "metadata": {
    "execution": {
     "iopub.execute_input": "2021-10-21T05:48:06.760997Z",
     "iopub.status.busy": "2021-10-21T05:48:06.759998Z",
     "iopub.status.idle": "2021-10-21T05:48:06.781939Z",
     "shell.execute_reply": "2021-10-21T05:48:06.780944Z",
     "shell.execute_reply.started": "2021-10-21T05:48:06.760997Z"
    },
    "tags": []
   },
   "outputs": [
    {
     "data": {
      "text/plain": [
       "0    A_a\n",
       "1    B_b\n",
       "dtype: object"
      ]
     },
     "execution_count": 23,
     "metadata": {},
     "output_type": "execute_result"
    }
   ],
   "source": [
    "s1 = pd.Series(['A', 'B'])\n",
    "s2 = pd.Series(['a', 'b'])\n",
    "s1.str.cat(s2, sep='_')"
   ]
  },
  {
   "cell_type": "code",
   "execution_count": 24,
   "id": "b1977134-3141-4d15-acb8-3b9360eb2cc8",
   "metadata": {
    "execution": {
     "iopub.execute_input": "2021-10-21T05:48:46.133992Z",
     "iopub.status.busy": "2021-10-21T05:48:46.133992Z",
     "iopub.status.idle": "2021-10-21T05:48:46.154932Z",
     "shell.execute_reply": "2021-10-21T05:48:46.153960Z",
     "shell.execute_reply.started": "2021-10-21T05:48:46.133992Z"
    },
    "tags": []
   },
   "outputs": [],
   "source": [
    "s2.index = [1, 2]"
   ]
  },
  {
   "cell_type": "code",
   "execution_count": 26,
   "id": "89c753d7-b552-4343-8c54-1627b0405063",
   "metadata": {
    "execution": {
     "iopub.execute_input": "2021-10-21T05:49:32.509138Z",
     "iopub.status.busy": "2021-10-21T05:49:32.508176Z",
     "iopub.status.idle": "2021-10-21T05:49:32.528080Z",
     "shell.execute_reply": "2021-10-21T05:49:32.527082Z",
     "shell.execute_reply.started": "2021-10-21T05:49:32.509138Z"
    },
    "tags": []
   },
   "outputs": [
    {
     "data": {
      "text/plain": [
       "0    A_NNNNN\n",
       "1        B_a\n",
       "2    NNNNN_b\n",
       "dtype: object"
      ]
     },
     "execution_count": 26,
     "metadata": {},
     "output_type": "execute_result"
    }
   ],
   "source": [
    "s1.str.cat(s2, sep='_', join='outer', na_rep='NNNNN')"
   ]
  },
  {
   "cell_type": "markdown",
   "id": "067c2d7f-61fa-44d6-a075-4d338bbd8b25",
   "metadata": {},
   "source": [
    "### 3. <font color=red size=5>**字符串匹配**</font> "
   ]
  },
  {
   "cell_type": "markdown",
   "id": "e19a08f4-5b97-49e0-9caa-393b11b8edb9",
   "metadata": {},
   "source": [
    "返回布尔值匹配，支持正则匹配\n",
    "* **str.contains**\n",
    "* **str.startswith**\n",
    "* **str.endswith**\n",
    "* **str.match**  \n",
    "\n",
    "返回索引匹配，rfind是从右到左第一次匹配的位置索引，未找到时返回-1，不支持正则匹配\n",
    "* **str.find, str.rfind**\n"
   ]
  },
  {
   "cell_type": "code",
   "execution_count": 29,
   "id": "b299b736-e708-447a-9b0d-8939eb6624a7",
   "metadata": {
    "execution": {
     "iopub.execute_input": "2021-10-21T06:50:57.622786Z",
     "iopub.status.busy": "2021-10-21T06:50:57.622786Z",
     "iopub.status.idle": "2021-10-21T06:50:57.642731Z",
     "shell.execute_reply": "2021-10-21T06:50:57.641734Z",
     "shell.execute_reply.started": "2021-10-21T06:50:57.622786Z"
    },
    "tags": []
   },
   "outputs": [],
   "source": [
    "s = pd.Series(['#my cat', 'he is fat', 'railway station'])"
   ]
  },
  {
   "cell_type": "code",
   "execution_count": 30,
   "id": "e73cdf20-b892-4512-9f93-e521d3d0898a",
   "metadata": {
    "execution": {
     "iopub.execute_input": "2021-10-21T06:50:58.223136Z",
     "iopub.status.busy": "2021-10-21T06:50:58.222137Z",
     "iopub.status.idle": "2021-10-21T06:50:58.236099Z",
     "shell.execute_reply": "2021-10-21T06:50:58.234105Z",
     "shell.execute_reply.started": "2021-10-21T06:50:58.223136Z"
    },
    "tags": []
   },
   "outputs": [
    {
     "data": {
      "text/plain": [
       "0     True\n",
       "1     True\n",
       "2    False\n",
       "dtype: bool"
      ]
     },
     "execution_count": 30,
     "metadata": {},
     "output_type": "execute_result"
    }
   ],
   "source": [
    "s.str.contains('\\s\\wat')"
   ]
  },
  {
   "cell_type": "code",
   "execution_count": 31,
   "id": "82a53975-5a52-4b50-8268-31f5d3bf4611",
   "metadata": {
    "execution": {
     "iopub.execute_input": "2021-10-21T06:51:05.725371Z",
     "iopub.status.busy": "2021-10-21T06:51:05.725371Z",
     "iopub.status.idle": "2021-10-21T06:51:05.747312Z",
     "shell.execute_reply": "2021-10-21T06:51:05.746314Z",
     "shell.execute_reply.started": "2021-10-21T06:51:05.725371Z"
    }
   },
   "outputs": [
    {
     "data": {
      "text/plain": [
       "0     True\n",
       "1    False\n",
       "2    False\n",
       "dtype: bool"
      ]
     },
     "execution_count": 31,
     "metadata": {},
     "output_type": "execute_result"
    }
   ],
   "source": [
    "s.str.startswith('#')"
   ]
  },
  {
   "cell_type": "code",
   "execution_count": 32,
   "id": "56248e7a-99ad-466d-ad8e-2522562dd08f",
   "metadata": {
    "execution": {
     "iopub.execute_input": "2021-10-21T06:51:25.580666Z",
     "iopub.status.busy": "2021-10-21T06:51:25.579668Z",
     "iopub.status.idle": "2021-10-21T06:51:25.593630Z",
     "shell.execute_reply": "2021-10-21T06:51:25.592634Z",
     "shell.execute_reply.started": "2021-10-21T06:51:25.580666Z"
    }
   },
   "outputs": [
    {
     "data": {
      "text/plain": [
       "0     True\n",
       "1     True\n",
       "2    False\n",
       "dtype: bool"
      ]
     },
     "execution_count": 32,
     "metadata": {},
     "output_type": "execute_result"
    }
   ],
   "source": [
    "s.str.endswith('t')"
   ]
  },
  {
   "cell_type": "code",
   "execution_count": 33,
   "id": "3e617ce5-46bf-4536-bd20-9c35d81d5cde",
   "metadata": {
    "execution": {
     "iopub.execute_input": "2021-10-21T06:52:33.166379Z",
     "iopub.status.busy": "2021-10-21T06:52:33.166379Z",
     "iopub.status.idle": "2021-10-21T06:52:33.189315Z",
     "shell.execute_reply": "2021-10-21T06:52:33.188315Z",
     "shell.execute_reply.started": "2021-10-21T06:52:33.166379Z"
    }
   },
   "outputs": [
    {
     "data": {
      "text/plain": [
       "0     True\n",
       "1     True\n",
       "2    False\n",
       "dtype: bool"
      ]
     },
     "execution_count": 33,
     "metadata": {},
     "output_type": "execute_result"
    }
   ],
   "source": [
    "s.str.match('#|h')"
   ]
  },
  {
   "cell_type": "code",
   "execution_count": 34,
   "id": "8b881554-b20c-4dd5-b2d2-5769d6531d91",
   "metadata": {
    "execution": {
     "iopub.execute_input": "2021-10-21T06:55:40.444618Z",
     "iopub.status.busy": "2021-10-21T06:55:40.443622Z",
     "iopub.status.idle": "2021-10-21T06:55:40.465564Z",
     "shell.execute_reply": "2021-10-21T06:55:40.464564Z",
     "shell.execute_reply.started": "2021-10-21T06:55:40.444618Z"
    }
   },
   "outputs": [
    {
     "data": {
      "text/plain": [
       "0    1\n",
       "1   -1\n",
       "2   -1\n",
       "dtype: int64"
      ]
     },
     "execution_count": 34,
     "metadata": {},
     "output_type": "execute_result"
    }
   ],
   "source": [
    "s.str.find('my')"
   ]
  },
  {
   "cell_type": "code",
   "execution_count": 36,
   "id": "5907e0db-f684-4598-8ea5-0d1d5621d231",
   "metadata": {
    "execution": {
     "iopub.execute_input": "2021-10-21T06:56:00.703090Z",
     "iopub.status.busy": "2021-10-21T06:56:00.702092Z",
     "iopub.status.idle": "2021-10-21T06:56:00.723035Z",
     "shell.execute_reply": "2021-10-21T06:56:00.722039Z",
     "shell.execute_reply.started": "2021-10-21T06:56:00.703090Z"
    },
    "tags": []
   },
   "outputs": [
    {
     "data": {
      "text/plain": [
       "0   -1\n",
       "1   -1\n",
       "2    8\n",
       "dtype: int64"
      ]
     },
     "execution_count": 36,
     "metadata": {},
     "output_type": "execute_result"
    }
   ],
   "source": [
    "s.str.rfind('st')"
   ]
  },
  {
   "cell_type": "markdown",
   "id": "29909a75-4fb1-4f48-b47d-894d9f2c9454",
   "metadata": {},
   "source": [
    "### 4. <font color=red size=5>**字符串替换**</font> "
   ]
  },
  {
   "cell_type": "markdown",
   "id": "7bc7a9a8-970f-49b3-aced-0d1f4b5ee066",
   "metadata": {},
   "source": [
    "* **str.replace**"
   ]
  },
  {
   "cell_type": "markdown",
   "id": "113585ce-1ab8-48dd-b8a5-2f506a30b63e",
   "metadata": {},
   "source": [
    "支持正则匹配"
   ]
  },
  {
   "cell_type": "code",
   "execution_count": 37,
   "id": "e73c30e4-4f3f-4582-a46b-6890f7be1069",
   "metadata": {
    "execution": {
     "iopub.execute_input": "2021-10-21T07:34:52.528418Z",
     "iopub.status.busy": "2021-10-21T07:34:52.528418Z",
     "iopub.status.idle": "2021-10-21T07:34:52.542381Z",
     "shell.execute_reply": "2021-10-21T07:34:52.541385Z",
     "shell.execute_reply.started": "2021-10-21T07:34:52.528418Z"
    }
   },
   "outputs": [
    {
     "data": {
      "text/plain": [
       "0    a_new_b\n",
       "1      c_new\n",
       "dtype: object"
      ]
     },
     "execution_count": 37,
     "metadata": {},
     "output_type": "execute_result"
    }
   ],
   "source": [
    "s = pd.Series(['a_1_b', 'c_?'])\n",
    "s.str.replace('\\d|\\?', 'new', regex=True)"
   ]
  },
  {
   "cell_type": "markdown",
   "id": "9f32b82d-a8d8-4ff8-8a5f-5539059a35f5",
   "metadata": {},
   "source": [
    "支持分组匹配—**group**函数"
   ]
  },
  {
   "cell_type": "code",
   "execution_count": 40,
   "id": "d5ec5764-cabd-4df9-a955-b1902dbdc9ac",
   "metadata": {
    "execution": {
     "iopub.execute_input": "2021-10-21T07:38:01.248002Z",
     "iopub.status.busy": "2021-10-21T07:38:01.247006Z",
     "iopub.status.idle": "2021-10-21T07:38:01.254984Z",
     "shell.execute_reply": "2021-10-21T07:38:01.253987Z",
     "shell.execute_reply.started": "2021-10-21T07:38:01.248002Z"
    },
    "tags": []
   },
   "outputs": [],
   "source": [
    "s = pd.Series(['上海市黄浦区方浜中路249号', '上海市宝山区密山路5号', '北京市昌平区北农路2号'])"
   ]
  },
  {
   "cell_type": "code",
   "execution_count": 41,
   "id": "bb848089-95cd-4949-9549-a36fa47b63b4",
   "metadata": {
    "execution": {
     "iopub.execute_input": "2021-10-21T07:42:37.068656Z",
     "iopub.status.busy": "2021-10-21T07:42:37.067658Z",
     "iopub.status.idle": "2021-10-21T07:42:37.081621Z",
     "shell.execute_reply": "2021-10-21T07:42:37.080624Z",
     "shell.execute_reply.started": "2021-10-21T07:42:37.068656Z"
    },
    "tags": []
   },
   "outputs": [],
   "source": [
    "pat = '(\\w+市)(\\w+区)(\\w+路)(\\d+号)'\n",
    "city = {'上海市': 'shanghai', '北京市': 'beijing'}\n",
    "district = {'昌平区': 'CP District', '黄浦区': 'HP District', '宝山区': 'BS District'}\n",
    "road = {'方浜中路': 'Mid Fangbin Road', '密山路': 'Mishan Road', '北农路': 'Beinong Road'}"
   ]
  },
  {
   "cell_type": "code",
   "execution_count": 53,
   "id": "5eea3f29-1b69-44e2-abb6-127acf784117",
   "metadata": {
    "execution": {
     "iopub.execute_input": "2021-10-21T07:50:52.574362Z",
     "iopub.status.busy": "2021-10-21T07:50:52.574362Z",
     "iopub.status.idle": "2021-10-21T07:50:52.586291Z",
     "shell.execute_reply": "2021-10-21T07:50:52.585293Z",
     "shell.execute_reply.started": "2021-10-21T07:50:52.574362Z"
    },
    "tags": []
   },
   "outputs": [],
   "source": [
    "def my_func(m):\n",
    "    str_city = city[m.group(1)]\n",
    "    str_district = district[m.group(2)]\n",
    "    str_road = road[m.group(3)]\n",
    "    str_no = 'No.' + m.group(4)[:-1]\n",
    "    return ' '.join([str_city, str_district, str_road, str_no])"
   ]
  },
  {
   "cell_type": "code",
   "execution_count": 54,
   "id": "4deac055-e221-4e52-b4c4-2a4051bd1d4a",
   "metadata": {
    "execution": {
     "iopub.execute_input": "2021-10-21T07:50:52.968646Z",
     "iopub.status.busy": "2021-10-21T07:50:52.968646Z",
     "iopub.status.idle": "2021-10-21T07:50:52.991584Z",
     "shell.execute_reply": "2021-10-21T07:50:52.990586Z",
     "shell.execute_reply.started": "2021-10-21T07:50:52.968646Z"
    },
    "tags": []
   },
   "outputs": [
    {
     "data": {
      "text/plain": [
       "0    shanghai HP District Mid Fangbin Road No.249\n",
       "1           shanghai BS District Mishan Road No.5\n",
       "2           beijing CP District Beinong Road No.2\n",
       "dtype: object"
      ]
     },
     "execution_count": 54,
     "metadata": {},
     "output_type": "execute_result"
    }
   ],
   "source": [
    "s.str.replace(pat, my_func, regex=True)"
   ]
  },
  {
   "cell_type": "code",
   "execution_count": 55,
   "id": "0c3118cf-dc19-447b-a474-29aea88602ed",
   "metadata": {
    "execution": {
     "iopub.execute_input": "2021-10-21T07:52:03.234185Z",
     "iopub.status.busy": "2021-10-21T07:52:03.234185Z",
     "iopub.status.idle": "2021-10-21T07:52:03.255129Z",
     "shell.execute_reply": "2021-10-21T07:52:03.254130Z",
     "shell.execute_reply.started": "2021-10-21T07:52:03.234185Z"
    }
   },
   "outputs": [
    {
     "data": {
      "text/plain": [
       "0    上海市黄浦区方浜中路249号\n",
       "1       上海市宝山区密山路5号\n",
       "2       北京市昌平区北农路2号\n",
       "dtype: object"
      ]
     },
     "execution_count": 55,
     "metadata": {},
     "output_type": "execute_result"
    }
   ],
   "source": [
    "s.str.replace(pat, )"
   ]
  },
  {
   "cell_type": "code",
   "execution_count": 56,
   "id": "838be8bf-8459-42a1-a246-77a1453b2873",
   "metadata": {
    "execution": {
     "iopub.execute_input": "2021-10-21T07:55:39.614221Z",
     "iopub.status.busy": "2021-10-21T07:55:39.614221Z",
     "iopub.status.idle": "2021-10-21T07:55:39.639154Z",
     "shell.execute_reply": "2021-10-21T07:55:39.637161Z",
     "shell.execute_reply.started": "2021-10-21T07:55:39.614221Z"
    }
   },
   "outputs": [
    {
     "name": "stderr",
     "output_type": "stream",
     "text": [
      "<ipython-input-56-e56352b2242a>:3: FutureWarning: The default value of regex will change from True to False in a future version.\n",
      "  pd.Series(['One Two Three', 'Foo Bar Baz']).str.replace(pat, repl)\n"
     ]
    },
    {
     "data": {
      "text/plain": [
       "0    tWO\n",
       "1    bAR\n",
       "dtype: object"
      ]
     },
     "execution_count": 56,
     "metadata": {},
     "output_type": "execute_result"
    }
   ],
   "source": [
    "#  ?P<value>的意思就是命名一个名字为value的组\n",
    ">>> pat = r\"(?P<one>\\w+) (?P<two>\\w+) (?P<three>\\w+)\"  # 匹配的是\\w+ \\w+ \\w+\n",
    ">>> repl = lambda m: m.group('two').swapcase()\n",
    ">>> pd.Series(['One Two Three', 'Foo Bar Baz']).str.replace(pat, repl)"
   ]
  },
  {
   "cell_type": "code",
   "execution_count": 58,
   "id": "0c48bc90-2fc3-4f82-bcfa-c6b0936390d3",
   "metadata": {
    "execution": {
     "iopub.execute_input": "2021-10-21T08:02:00.406330Z",
     "iopub.status.busy": "2021-10-21T08:02:00.405332Z",
     "iopub.status.idle": "2021-10-21T08:02:00.427274Z",
     "shell.execute_reply": "2021-10-21T08:02:00.426276Z",
     "shell.execute_reply.started": "2021-10-21T08:02:00.406330Z"
    }
   },
   "outputs": [
    {
     "data": {
      "text/plain": [
       "0    shanghai HP District Mid Fangbin Road No.249\n",
       "1           shanghai BS District Mishan Road No.5\n",
       "2           beijing CP District Beinong Road No.2\n",
       "dtype: object"
      ]
     },
     "execution_count": 58,
     "metadata": {},
     "output_type": "execute_result"
    }
   ],
   "source": [
    "pat = '(?P<市名>\\w+市)(?P<区名>\\w+区)(?P<路名>\\w+路)(?P<编号>\\d+号)'\n",
    "def my_func2(m):\n",
    "    str_city = city[m.group('市名')]\n",
    "    str_district = district[m.group('区名')]\n",
    "    str_road = road[m.group('路名')]\n",
    "    str_no = 'No.' + m.group('编号')[:-1]\n",
    "    return ' '.join([str_city, str_district, str_road, str_no])\n",
    "s.str.replace(pat, my_func2, regex=True)"
   ]
  },
  {
   "cell_type": "code",
   "execution_count": 57,
   "id": "139d3801-a4fc-4e56-958a-a7016aff6371",
   "metadata": {
    "execution": {
     "iopub.execute_input": "2021-10-21T07:59:54.238456Z",
     "iopub.status.busy": "2021-10-21T07:59:54.237459Z",
     "iopub.status.idle": "2021-10-21T07:59:54.252417Z",
     "shell.execute_reply": "2021-10-21T07:59:54.251420Z",
     "shell.execute_reply.started": "2021-10-21T07:59:54.238456Z"
    }
   },
   "outputs": [
    {
     "data": {
      "text/plain": [
       "0    foo\n",
       "1    bar\n",
       "2    NaN\n",
       "dtype: object"
      ]
     },
     "execution_count": 57,
     "metadata": {},
     "output_type": "execute_result"
    }
   ],
   "source": [
    ">>> import re\n",
    ">>> regex_pat = re.compile(r'FUZ', flags=re.IGNORECASE)\n",
    ">>> pd.Series(['foo', 'fuz', np.nan]).str.replace(regex_pat, 'bar')"
   ]
  },
  {
   "cell_type": "markdown",
   "id": "bdb4be8e-b328-44bb-83cd-6c8d75aba03a",
   "metadata": {},
   "source": [
    "### 5. <font color=red size=5>**字符串提取**</font> "
   ]
  },
  {
   "cell_type": "markdown",
   "id": "cd311a12-345e-45fb-9cd9-23d7d2d322de",
   "metadata": {
    "execution": {
     "iopub.execute_input": "2021-10-21T07:48:42.667368Z",
     "iopub.status.busy": "2021-10-21T07:48:42.666371Z",
     "iopub.status.idle": "2021-10-21T07:48:42.684322Z",
     "shell.execute_reply": "2021-10-21T07:48:42.683325Z",
     "shell.execute_reply.started": "2021-10-21T07:48:42.667368Z"
    }
   },
   "source": [
    "* **str.extract** ：返回具体元素，只匹配一次，没有搜索到的默认返回NA，参数expand默认为True，返回数据框，False时如果匹配到单个返回Series\n",
    "* **str.extract**\n",
    "* **str.extractall**：把所有符合条件的模式全部匹配出来，多级索引的形式保存\n",
    "* **str.findall**：功能类似extractall，区别在于以列表的形式保存匹配结果"
   ]
  },
  {
   "cell_type": "code",
   "execution_count": 14,
   "id": "bdaeabbe-9796-481e-aa93-1df145a96f8b",
   "metadata": {
    "execution": {
     "iopub.execute_input": "2021-10-22T08:45:57.237408Z",
     "iopub.status.busy": "2021-10-22T08:45:57.237408Z",
     "iopub.status.idle": "2021-10-22T08:45:57.266327Z",
     "shell.execute_reply": "2021-10-22T08:45:57.265367Z",
     "shell.execute_reply.started": "2021-10-22T08:45:57.237408Z"
    },
    "tags": []
   },
   "outputs": [
    {
     "data": {
      "text/html": [
       "<div>\n",
       "<style scoped>\n",
       "    .dataframe tbody tr th:only-of-type {\n",
       "        vertical-align: middle;\n",
       "    }\n",
       "\n",
       "    .dataframe tbody tr th {\n",
       "        vertical-align: top;\n",
       "    }\n",
       "\n",
       "    .dataframe thead th {\n",
       "        text-align: right;\n",
       "    }\n",
       "</style>\n",
       "<table border=\"1\" class=\"dataframe\">\n",
       "  <thead>\n",
       "    <tr style=\"text-align: right;\">\n",
       "      <th></th>\n",
       "      <th>letter</th>\n",
       "      <th>digit</th>\n",
       "    </tr>\n",
       "  </thead>\n",
       "  <tbody>\n",
       "    <tr>\n",
       "      <th>0</th>\n",
       "      <td>a</td>\n",
       "      <td>1</td>\n",
       "    </tr>\n",
       "    <tr>\n",
       "      <th>1</th>\n",
       "      <td>b</td>\n",
       "      <td>2</td>\n",
       "    </tr>\n",
       "    <tr>\n",
       "      <th>2</th>\n",
       "      <td>&lt;NA&gt;</td>\n",
       "      <td>&lt;NA&gt;</td>\n",
       "    </tr>\n",
       "  </tbody>\n",
       "</table>\n",
       "</div>"
      ],
      "text/plain": [
       "  letter digit\n",
       "0      a     1\n",
       "1      b     2\n",
       "2   <NA>  <NA>"
      ]
     },
     "execution_count": 14,
     "metadata": {},
     "output_type": "execute_result"
    }
   ],
   "source": [
    "pd.Series([\"a1\", \"b2\", \"c3\"], dtype=\"string\").str.extract(\n",
    "    r\"(?P<letter>[ab])(?P<digit>\\d)\", expand=False)"
   ]
  },
  {
   "cell_type": "code",
   "execution_count": 20,
   "id": "df92975f-7b6d-44d3-a5d1-e0a8ef159f51",
   "metadata": {
    "execution": {
     "iopub.execute_input": "2021-10-22T08:49:24.184494Z",
     "iopub.status.busy": "2021-10-22T08:49:24.184494Z",
     "iopub.status.idle": "2021-10-22T08:49:24.197458Z",
     "shell.execute_reply": "2021-10-22T08:49:24.196461Z",
     "shell.execute_reply.started": "2021-10-22T08:49:24.184494Z"
    },
    "tags": []
   },
   "outputs": [
    {
     "data": {
      "text/plain": [
       "0       a\n",
       "1    <NA>\n",
       "2    <NA>\n",
       "Name: letter, dtype: string"
      ]
     },
     "execution_count": 20,
     "metadata": {},
     "output_type": "execute_result"
    }
   ],
   "source": [
    "pd.Series([\"a1\", \"b2\", \"c3\"], dtype=\"string\").str.extract(\n",
    "    r\"(?P<letter>[ad])\", expand=False)"
   ]
  },
  {
   "cell_type": "code",
   "execution_count": 59,
   "id": "26eb7c1c-c6b1-44f1-891f-551279dae8a9",
   "metadata": {
    "execution": {
     "iopub.execute_input": "2021-10-21T08:03:17.512118Z",
     "iopub.status.busy": "2021-10-21T08:03:17.512118Z",
     "iopub.status.idle": "2021-10-21T08:03:17.539047Z",
     "shell.execute_reply": "2021-10-21T08:03:17.538050Z",
     "shell.execute_reply.started": "2021-10-21T08:03:17.512118Z"
    }
   },
   "outputs": [
    {
     "data": {
      "text/html": [
       "<div>\n",
       "<style scoped>\n",
       "    .dataframe tbody tr th:only-of-type {\n",
       "        vertical-align: middle;\n",
       "    }\n",
       "\n",
       "    .dataframe tbody tr th {\n",
       "        vertical-align: top;\n",
       "    }\n",
       "\n",
       "    .dataframe thead th {\n",
       "        text-align: right;\n",
       "    }\n",
       "</style>\n",
       "<table border=\"1\" class=\"dataframe\">\n",
       "  <thead>\n",
       "    <tr style=\"text-align: right;\">\n",
       "      <th></th>\n",
       "      <th>0</th>\n",
       "      <th>1</th>\n",
       "      <th>2</th>\n",
       "      <th>3</th>\n",
       "    </tr>\n",
       "  </thead>\n",
       "  <tbody>\n",
       "    <tr>\n",
       "      <th>0</th>\n",
       "      <td>上海市</td>\n",
       "      <td>黄浦区</td>\n",
       "      <td>方浜中路</td>\n",
       "      <td>249号</td>\n",
       "    </tr>\n",
       "    <tr>\n",
       "      <th>1</th>\n",
       "      <td>上海市</td>\n",
       "      <td>宝山区</td>\n",
       "      <td>密山路</td>\n",
       "      <td>5号</td>\n",
       "    </tr>\n",
       "    <tr>\n",
       "      <th>2</th>\n",
       "      <td>北京市</td>\n",
       "      <td>昌平区</td>\n",
       "      <td>北农路</td>\n",
       "      <td>2号</td>\n",
       "    </tr>\n",
       "  </tbody>\n",
       "</table>\n",
       "</div>"
      ],
      "text/plain": [
       "     0    1     2     3\n",
       "0  上海市  黄浦区  方浜中路  249号\n",
       "1  上海市  宝山区   密山路    5号\n",
       "2  北京市  昌平区   北农路    2号"
      ]
     },
     "execution_count": 59,
     "metadata": {},
     "output_type": "execute_result"
    }
   ],
   "source": [
    "pat = '(\\w+市)(\\w+区)(\\w+路)(\\d+号)'\n",
    "s.str.extract(pat)"
   ]
  },
  {
   "cell_type": "markdown",
   "id": "9d18c834-5f24-48ac-be4f-17b45893d078",
   "metadata": {},
   "source": [
    "通过子组的命名，可以直接对新生成 DataFrame 的列命名："
   ]
  },
  {
   "cell_type": "code",
   "execution_count": 61,
   "id": "81223971-d22b-45e7-b4e6-e35ebf62b024",
   "metadata": {
    "execution": {
     "iopub.execute_input": "2021-10-21T08:06:00.181807Z",
     "iopub.status.busy": "2021-10-21T08:06:00.181807Z",
     "iopub.status.idle": "2021-10-21T08:06:00.212722Z",
     "shell.execute_reply": "2021-10-21T08:06:00.211727Z",
     "shell.execute_reply.started": "2021-10-21T08:06:00.181807Z"
    },
    "tags": []
   },
   "outputs": [
    {
     "data": {
      "text/html": [
       "<div>\n",
       "<style scoped>\n",
       "    .dataframe tbody tr th:only-of-type {\n",
       "        vertical-align: middle;\n",
       "    }\n",
       "\n",
       "    .dataframe tbody tr th {\n",
       "        vertical-align: top;\n",
       "    }\n",
       "\n",
       "    .dataframe thead th {\n",
       "        text-align: right;\n",
       "    }\n",
       "</style>\n",
       "<table border=\"1\" class=\"dataframe\">\n",
       "  <thead>\n",
       "    <tr style=\"text-align: right;\">\n",
       "      <th></th>\n",
       "      <th>市名</th>\n",
       "      <th>区名</th>\n",
       "      <th>路名</th>\n",
       "      <th>编号</th>\n",
       "    </tr>\n",
       "  </thead>\n",
       "  <tbody>\n",
       "    <tr>\n",
       "      <th>0</th>\n",
       "      <td>上海市</td>\n",
       "      <td>黄浦区</td>\n",
       "      <td>方浜中路</td>\n",
       "      <td>249号</td>\n",
       "    </tr>\n",
       "    <tr>\n",
       "      <th>1</th>\n",
       "      <td>上海市</td>\n",
       "      <td>宝山区</td>\n",
       "      <td>密山路</td>\n",
       "      <td>5号</td>\n",
       "    </tr>\n",
       "    <tr>\n",
       "      <th>2</th>\n",
       "      <td>北京市</td>\n",
       "      <td>昌平区</td>\n",
       "      <td>北农路</td>\n",
       "      <td>2号</td>\n",
       "    </tr>\n",
       "  </tbody>\n",
       "</table>\n",
       "</div>"
      ],
      "text/plain": [
       "    市名   区名    路名    编号\n",
       "0  上海市  黄浦区  方浜中路  249号\n",
       "1  上海市  宝山区   密山路    5号\n",
       "2  北京市  昌平区   北农路    2号"
      ]
     },
     "execution_count": 61,
     "metadata": {},
     "output_type": "execute_result"
    }
   ],
   "source": [
    "pat = '(?P<市名>\\w+市)(?P<区名>\\w+区)(?P<路名>\\w+路)(?P<编号>\\d+号)'\n",
    "s.str.extract(pat)"
   ]
  },
  {
   "cell_type": "code",
   "execution_count": 63,
   "id": "84b55eb7-a504-46e3-8607-ddbc2219c154",
   "metadata": {
    "execution": {
     "iopub.execute_input": "2021-10-21T08:06:33.444716Z",
     "iopub.status.busy": "2021-10-21T08:06:33.444716Z",
     "iopub.status.idle": "2021-10-21T08:06:33.484807Z",
     "shell.execute_reply": "2021-10-21T08:06:33.481816Z",
     "shell.execute_reply.started": "2021-10-21T08:06:33.444716Z"
    },
    "tags": []
   },
   "outputs": [
    {
     "data": {
      "text/html": [
       "<div>\n",
       "<style scoped>\n",
       "    .dataframe tbody tr th:only-of-type {\n",
       "        vertical-align: middle;\n",
       "    }\n",
       "\n",
       "    .dataframe tbody tr th {\n",
       "        vertical-align: top;\n",
       "    }\n",
       "\n",
       "    .dataframe thead th {\n",
       "        text-align: right;\n",
       "    }\n",
       "</style>\n",
       "<table border=\"1\" class=\"dataframe\">\n",
       "  <thead>\n",
       "    <tr style=\"text-align: right;\">\n",
       "      <th></th>\n",
       "      <th></th>\n",
       "      <th>0</th>\n",
       "      <th>1</th>\n",
       "    </tr>\n",
       "    <tr>\n",
       "      <th></th>\n",
       "      <th>match</th>\n",
       "      <th></th>\n",
       "      <th></th>\n",
       "    </tr>\n",
       "  </thead>\n",
       "  <tbody>\n",
       "    <tr>\n",
       "      <th rowspan=\"2\" valign=\"top\">my_A</th>\n",
       "      <th>0</th>\n",
       "      <td>135</td>\n",
       "      <td>15</td>\n",
       "    </tr>\n",
       "    <tr>\n",
       "      <th>1</th>\n",
       "      <td>26</td>\n",
       "      <td>5</td>\n",
       "    </tr>\n",
       "    <tr>\n",
       "      <th rowspan=\"2\" valign=\"top\">my_B</th>\n",
       "      <th>0</th>\n",
       "      <td>674</td>\n",
       "      <td>2</td>\n",
       "    </tr>\n",
       "    <tr>\n",
       "      <th>1</th>\n",
       "      <td>25</td>\n",
       "      <td>6</td>\n",
       "    </tr>\n",
       "  </tbody>\n",
       "</table>\n",
       "</div>"
      ],
      "text/plain": [
       "              0   1\n",
       "     match         \n",
       "my_A 0      135  15\n",
       "     1       26   5\n",
       "my_B 0      674   2\n",
       "     1       25   6"
      ]
     },
     "execution_count": 63,
     "metadata": {},
     "output_type": "execute_result"
    }
   ],
   "source": [
    "s = pd.Series(['A135T15,A26S5','B674S2,B25T6'], index = ['my_A','my_B'])\n",
    "pat = '[A|B](\\d+)[T|S](\\d+)'\n",
    "s.str.extractall(pat)"
   ]
  },
  {
   "cell_type": "code",
   "execution_count": 65,
   "id": "a9c78010-b36d-4cce-af80-bfa6f839843c",
   "metadata": {
    "execution": {
     "iopub.execute_input": "2021-10-21T08:07:11.788874Z",
     "iopub.status.busy": "2021-10-21T08:07:11.787839Z",
     "iopub.status.idle": "2021-10-21T08:07:11.810778Z",
     "shell.execute_reply": "2021-10-21T08:07:11.809780Z",
     "shell.execute_reply.started": "2021-10-21T08:07:11.788874Z"
    },
    "tags": []
   },
   "outputs": [
    {
     "data": {
      "text/plain": [
       "my_A    [(135, 15), (26, 5)]\n",
       "my_B     [(674, 2), (25, 6)]\n",
       "dtype: object"
      ]
     },
     "execution_count": 65,
     "metadata": {},
     "output_type": "execute_result"
    }
   ],
   "source": [
    "s.str.findall(pat)"
   ]
  },
  {
   "cell_type": "code",
   "execution_count": null,
   "id": "e7021b9a-15e6-48bd-aa0c-5ee0eabfdeb1",
   "metadata": {},
   "outputs": [],
   "source": []
  }
 ],
 "metadata": {
  "kernelspec": {
   "display_name": "Python 3",
   "language": "python",
   "name": "python3"
  },
  "language_info": {
   "codemirror_mode": {
    "name": "ipython",
    "version": 3
   },
   "file_extension": ".py",
   "mimetype": "text/x-python",
   "name": "python",
   "nbconvert_exporter": "python",
   "pygments_lexer": "ipython3",
   "version": "3.8.8"
  }
 },
 "nbformat": 4,
 "nbformat_minor": 5
}
