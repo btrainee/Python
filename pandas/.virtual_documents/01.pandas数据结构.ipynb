import pandas as pd
import numpy as np


list = [2, 4, "name", "age"]
s1 = pd.Series(list)
s1


s2 = pd.Series(np.array(list), index=["a", "b", "c", "d"], name="数组数据")
s2


s3 = pd.Series({"a":2, "b":4, "c":"name", "d":"age"}, name="字典数据")
s3


# 属性: values，index，name，dtype，shape
s3.values
s3.index
s3.name
s3.shape


# 通过切片或者索引的方式进行访问
s3[3]
s3['c']


df1 = pd.DataFrame(data = [["li", "zhang", "liu"], [20, 30, 25], ["male", "male", "female"]], 
                  columns = ["姓名", "年龄", "性别"], 
                  index = ["row_%d"%i for i in range(3)],
#                  dtype = {'年龄': int}
                  )
df1


data = {"姓名":["li", "zhang", "liu"], "年龄":[20, 30, 25], "性别":["male", "male", "female"]}
df2 = pd.DataFrame(data)
df2


df3 = pd.DataFrame.from_dict(data)
df3


## 读取文件返回的为数据框格式
pd.read_csv()
pd.read_excel()
pd.read_json()
...


## 属性
df2.columns
df2.index
df2.dtypes
df2.values
df2.T



