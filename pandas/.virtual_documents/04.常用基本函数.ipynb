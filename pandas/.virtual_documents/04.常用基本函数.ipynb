import numpy as np
import pandas as pd
import os
get_ipython().run_line_magic("pwd", "")


os.getcwd()


df = pd.read_csv('./pd_data/learn_pandas.csv')


df.columns
df.index.tolist()
df.head(3)  # 默认5行
df.shape
df.tail()


#info, describe 分别返回表的信息概况和表中数值列对应的主要统计量 
df.info()
df.describe()


df.sum()
df.Weight.sum()
df.Weight.mean()
df.Weight.median()
df.Weight.var()
df.Weight.std()
df.Weight.max()
df.Weight.min()


df[['Weight','Height']].sum() #返回Series


df[['Weight','Height']].sum()['Weight']


df.Weight.quantile(0.75) # 分位数
df.Weight.count() # 非缺失值的个数
df.Weight.idxmax() # 最大值索引
df.Weight.idxmin() # 最小值索引


df.sum(axis=1).head() # axis=1 求行的和,默认是求列的和


df.Height.cumsum(0) # 累计求和


df_test = df[['Grade', 'Name', 'Weight', 'Height']].set_index(['Grade', 'Name'])
df_test.head()


df_test.sort_values('Weight').head()


df_test.sort_values('Height', ascending=False).head()


df_test.sort_values(['Weight','Height'], ascending=[True, False]).head()


# 索引排序
df_test.sort_index(level=['Name']).head()
df_test.sort_index(level=['Grade','Name'],ascending=[True,False]).head()


df.Gender.replace({'Female':0, 'Male':1}).head()


df.replace({'Female':0, 'Male':1}).head() ## 全dataframe内替换


df.replace('Female',0).head()


df.Gender.replace(['Female','Male'],[0,1]).head()


s = pd.Series(['a', 1, 'b', 2, 1, 1, 'a'])
s.replace([1,2], method='ffill',limit=1) # 第一个参数为被替换的列表,limit限制填充次数


s.replace([1,2], method='bfill')


s2 = pd.Series(['a',None,'b',None,None,'a'])
s2.replace(None,method='ffill')


s3 = pd.Series(['a',np.nan,'?','b','a'])
s3.replace(to_replace=r'\?', value='c', regex=True)
s3.replace(np.nan,'d')
s3.replace('a','000')


df.Weight.where(df.Weight<50).head()


df.Weight.mask(df.Weight>=50,1000).head()


s5 = pd.Series(['1.34','2.54','4.68','9.01','-1.02','-0.05'],dtype=float)
s5.round(1)


s5.abs()


s5.clip(2,-1) #lower=2,uper=-1,超过2的都为2，小于-1的都为-1


df.Grade.unique()


df.Grade.nunique()


df.Grade.value_counts()


#df_test.drop_duplicates(['Gender', 'Transfer'])
df_test2 = df[['Gender','Transfer','Grade','School','Name']]
df_test2.head()


df_test2.drop_duplicates(['Gender','Transfer'])


df_test2.drop_duplicates(['Gender','Transfer'],keep='last')
df_test2.drop_duplicates(['Gender','Transfer'],keep='first')


df_test2.drop_duplicates(['Gender','Name'],keep=False).head()


df['School'].drop_duplicates() # 在Series上也可以使用
