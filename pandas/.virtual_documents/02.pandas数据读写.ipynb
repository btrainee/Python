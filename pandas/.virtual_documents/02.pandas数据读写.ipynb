import pandas as pd
import numpy as np
get_ipython().run_line_magic("pwd", "")


import os


os.getcwd()
os.chdir(r'C:\Users\lenovo\Desktop\jupyter-test\Python\pandas')


df1 = pd.read_csv('./pd_data/beijing_tianqi_2017-2019.csv',
                dtype={'aqiLevel':int}, encoding='utf-8')
# 常用参数：sep;header;index_col;names...


df1.head()


df2 = pd.read_excel('./pd_data/student_excel.xlsx',sheet_name=0)
# 参数几乎与read_csv一样，需要指定sheet_name，默认为0，即第一个sheet


df2.head(5)


df3 = pd.read_json('./pd_data/input.json')


df3


df4 = pd.read_table('./pd_data/access_pvuv.txt', sep='\t',header=None, names=['pdate', 'pv', 'uv'])
df4.head()


import pymysql


conn = pymysql.connect(
        host='127.0.0.1',
        user='root',
        password='12345678',
        database='test',
        charset='utf8'
    )
mysql_page = pd.read_sql("select * from crazyant_pvuv", con=conn)


df1.to_csv('test.csv', sep='\t', index=False)
df2.to_excel('test.xlsx', index=False)
