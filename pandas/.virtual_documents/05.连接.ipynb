import numpy as np
import pandas as pd


df1 = pd.DataFrame({'Name':['San Zhang','Si Li'], 'Age':[20,30]})
df2 = pd.DataFrame({'Name':['Si Li','Wu Wang'], 'Gender':['F','M']})
df1.merge(df2, on='Name', how='left') #左连接


df1.merge(df2, on='Name', how='right') #右连接
df1.merge(df2, on='Name', how='inner') #内连接
df1.merge(df2, on='Name', how='outer') #右连接


# 如果两个表中想要连接的列不具备相同的列名，可以通过 left_on 和 right_on 指定
df1 = pd.DataFrame({'df1-Name':['San Zhang','Si Li'], 'Age':[20,30]})
df2 = pd.DataFrame({'df2-Name':['Si Li','Wu Wang'], 'Gender':['F','M']})
df1.merge(df2, left_on='df1-Name', right_on='df2-Name',how='outer') 


# 如果两个表中的列出现了重复的列名，那么可以通过 suffixes 参数指定
df1 = pd.DataFrame({'Name':['San Zhang'],'Grade':['80']})
df2 = pd.DataFrame({'Name':['Si Li'],'Grade':['90']})
df1.merge(df2, on='Name', suffixes=['shuxue','yingyu'], how='outer')


# 以多个列为键合并时，on指定列表
df1 = pd.DataFrame({'Name':['San Zhang', 'San Zhang'],'Age':[20, 21],'Class':['one', 'two']})
df2 = pd.DataFrame({'Name':['San Zhang', 'San Zhang'],'Gender':['F', 'M'],'Class':['two', 'one']})
df1.merge(df2, on=['Name','Class']) # how默认为inner


#validate 参数来检查连接的唯一性模式
#这里共有三种模式，即一对一连接 1:1 ，一对多连接 1:m ，多对一连接 m:1 连接
#第一个是指左右表的键都是唯一的，后面两个分别指左表键唯一和右表键唯一
df1 = pd.DataFrame({'Name':['San Zhang', 'Si Li'],'Age':[20, 21],'Class':['one', 'two']})
df2 = pd.DataFrame({'Name':['San Zhang', 'San Zhang'],'Gender':['F', 'M'],'Class':['one', 'one']})
df1.merge(df2,on=['Name','Class'],validate='1:m',how='outer')  #validate='1:1' 或者 'm:1'会报错


#df1 = pd.DataFrame({'Name':['San Zhang','Si Li'], 'Age':[20,30]},)
#df2 = pd.DataFrame({'Name':['Si Li','Wu Wang'], 'Gender':['F','M']})
df1 = pd.DataFrame({'Age':[20,30]},index=pd.Series(['San Zhang','Si Li'],name="Name"))
df2 = pd.DataFrame({'Gender':['F','M']},index=pd.Series(['Si Li','Wu Wang'],name='Name'))
df1.join(df2,how='outer') #how默认为left


# 重复列时指定后缀
df1 = pd.DataFrame({'Grade':[20,30]},index=pd.Series(['San Zhang','Si Li'],name="Name"))
df2 = pd.DataFrame({'Grade':[70,80]},index=pd.Series(['Si Li','Wu Wang'],name='Name'))
df1.join(df2, lsuffix='df1', rsuffix='df2',how='outer')


# 以多列为键时，join使用多级索引
df1 = pd.DataFrame({'Age':[20,21]},index=pd.MultiIndex.from_arrays([['zhangsan','zhangsan'],['one','two']],names=['name','class']))
df2 = pd.DataFrame({'Gender':['F','M']},index=pd.MultiIndex.from_arrays([['zhangsan','zhangsan'],['two','one']],names=['name','class']))
df1.join(df2)


## 纵向合并record,纵向拼接会根据列索引对其，默认状态下 join=outer ，表示保留所有的列，并将不存在的值设为缺失
df1 = pd.DataFrame({'Name':['San Zhang','Si Li'],'Age':[20,30]})
df2 = pd.DataFrame({'Name':['Wu Wang'], 'Gender':['M']})
pd.concat([df1, df2], ignore_index=True)


## 横向合并字段
df2 = pd.DataFrame({'Grade':[80, 90]})
df3 = pd.DataFrame({'Gender':['M', 'F']})
pd.concat([df1,df2,df3],axis=1)


#  keys 参数的使用场景在于多个表合并后，用户仍然想要知道新表中的数据来自于哪个原表，这时可以通过 keys 参数产生多级索引进行标记
pd.concat([df1, df2], keys=['df1', 'df2'])


# 如果原表是默认整数序列的索引，那么可以使用 ignore_index=True 对新序列对应的索引自动标号，否则必须对 Series 指定 name 属性
s = pd.Series(['Wu Wang', 21], index = df1.columns)
df1.append(s,ignore_index=True)


#一般通过 df['new_col'] = ... 的形式就可以等价地添加新列。
#区别在于使用[]会直接在原表上进行改动，而 assign 返回的是一个临时副本。
s2 = pd.Series([80, 90])
df1.assign(Grade=s2)


df1 = pd.DataFrame({'Name':['San Zhang', 'Si Li', 'Wu Wang'],'Age':[20, 21 ,21],'Class':['one', 'two', 'three']})
df2 = pd.DataFrame({'Name':['San Zhang', 'si Li', 'Wu Wang'],'Age':[20, 21 ,21],'Class':['One', 'two', 'three']})
df1.compare(df2)


df1.compare(df2,keep_shape=True)


# 选出对应索引位置较小的元素
def choose_min(s1, s2):
    s2 = s2.reindex_like(s1) # 两个索引的并集
    res = s1.where(s1<s2, s2)
    res = res.mask(s1.isna()) # isna表示是否为缺失值，返回布尔序列
    return res
df1 = pd.DataFrame({'A':[1,2], 'B':[3,4], 'C':[5,6]})
df2 = pd.DataFrame({'B':[5,6], 'C':[7,8], 'D':[9,10]}, index=[1,2])


df1.combine(df2, choose_min)


df1.combine(df2, choose_min, overwrite=False)


def choose_min(s1, s2):
    s2 = s2.reindex_like(s1) # 两个索引的并集
    res = s1.where(s1<s2, s2) 
    res = res.mask(s1.isna(),s2) # isna表示是否为缺失值，返回布尔序列
    res = res.mask(s2.isna(),s1) # s2为空时，返回s1
#    res = res.where(s1.isna(),s1) #s1不为空时，返回s1
    return res
df1 = pd.DataFrame({'A':[1,2], 'B':[3,4], 'C':[5,10]})
df2 = pd.DataFrame({'B':[5,6], 'C':[7,8], 'D':[9,10]}, index=[1,2])
df1.combine(df2, choose_min,overwrite=False)


df1 = pd.DataFrame({'A':[1,2], 'B':[3,np.nan]})
df2 = pd.DataFrame({'A':[5,6], 'B':[7,8]}, index=[1,2])
df1.combine_first(df2)



